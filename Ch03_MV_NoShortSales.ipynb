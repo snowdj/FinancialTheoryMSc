{
 "cells": [
  {
   "cell_type": "markdown",
   "metadata": {},
   "source": [
    "# Mean Variance Frontier w/w.o Short Sales Constraints"
   ]
  },
  {
   "cell_type": "markdown",
   "metadata": {},
   "source": [
    "This code below calculates mean variances frontiers (a) when there are no restrictions on the portfolio weights and (b) when we impose the restriction that no weights can be negative.\n",
    "\n",
    "The latter case requires a numerical minimization routine (the code uses quadprog), which comes from the packages MathProgBase and Ipopt."
   ]
  },
  {
   "cell_type": "markdown",
   "metadata": {},
   "source": [
    "# Load Packages"
   ]
  },
  {
   "cell_type": "code",
   "execution_count": 2,
   "metadata": {},
   "outputs": [
    {
     "data": {
      "text/plain": [
       "printlnPs (generic function with 2 methods)"
      ]
     },
     "execution_count": 2,
     "metadata": {},
     "output_type": "execute_result"
    }
   ],
   "source": [
    "using MathProgBase, Ipopt\n",
    "\n",
    "#using Dates            #Julia 0.7\n",
    "using Compat, Missings  #to use 0.7 syntax in 0.6\n",
    "\n",
    "include(\"printmat.jl\")    "
   ]
  },
  {
   "cell_type": "code",
   "execution_count": 3,
   "metadata": {},
   "outputs": [
    {
     "data": {
      "text/plain": [
       "Plots.GRBackend()"
      ]
     },
     "execution_count": 3,
     "metadata": {},
     "output_type": "execute_result"
    }
   ],
   "source": [
    "using Plots\n",
    "backend = \"gr\"              #\"gr\" (default), \"pyplot\" \n",
    "\n",
    "if backend == \"pyplot\"\n",
    "    pyplot(size=(600,400))\n",
    "else    \n",
    "    gr(size=(600,400))\n",
    "end"
   ]
  },
  {
   "cell_type": "markdown",
   "metadata": {},
   "source": [
    "# Traditional MV Calculations (no constraints)"
   ]
  },
  {
   "cell_type": "code",
   "execution_count": 4,
   "metadata": {},
   "outputs": [
    {
     "name": "stdout",
     "output_type": "stream",
     "text": [
      "μ, Σ and Rf: \n",
      "     0.115\n",
      "     0.095\n",
      "     0.060\n",
      "\n",
      "     0.017     0.003     0.006\n",
      "     0.003     0.006     0.000\n",
      "     0.006     0.000     0.010\n",
      "\n",
      "     0.030\n"
     ]
    }
   ],
   "source": [
    "μ = [0.115; 0.095; 0.06]    #expected returns\n",
    "Σ  = [166  34  58;          #covariance matrix\n",
    "       34  64   4;\n",
    "       58   4 100]/100^2                  \n",
    "Rf = 0.03\n",
    "\n",
    "println(\"μ, Σ and Rf: \")\n",
    "printmat(μ)\n",
    "printmat(Σ)\n",
    "printlnPs(Rf)"
   ]
  },
  {
   "cell_type": "markdown",
   "metadata": {},
   "source": [
    "## From Ch3 Notebook (MV Frontier without portfolio constraints)"
   ]
  },
  {
   "cell_type": "code",
   "execution_count": 5,
   "metadata": {},
   "outputs": [
    {
     "data": {
      "text/plain": [
       "MVCalc (generic function with 1 method)"
      ]
     },
     "execution_count": 5,
     "metadata": {},
     "output_type": "execute_result"
    }
   ],
   "source": [
    "function MVCalc(mustar,μ,Σ)           #calculates the std of a portfolio on MVF\n",
    "    n    = length(μ)\n",
    "    oneV = ones(n) \n",
    "    Σ_1  = inv(Σ)\n",
    "    A    = μ'Σ_1*μ\n",
    "    B    = μ'Σ_1*oneV\n",
    "    C    = oneV'Σ_1*oneV\n",
    "    λ    = (C*mustar - B)/(A*C-B^2)\n",
    "    δ    = (A-B*mustar)/(A*C-B^2)\n",
    "    w    = Σ_1 *(μ*λ + oneV*δ)\n",
    "    StdRp = sqrt(w'Σ*w)\n",
    "    return StdRp,w\n",
    "end"
   ]
  },
  {
   "cell_type": "code",
   "execution_count": 6,
   "metadata": {},
   "outputs": [],
   "source": [
    "mustar = Compat.range(0.04,stop=0.15,length=101)      #0.7 syntax\n",
    "L      = length(mustar)\n",
    "StdRp  = fill(NaN,L)\n",
    "for i = 1:L\n",
    "    StdRp[i] = MVCalc(mustar[i],μ,Σ)[1]\n",
    "end    "
   ]
  },
  {
   "cell_type": "code",
   "execution_count": 7,
   "metadata": {},
   "outputs": [
    {
     "data": {
      "image/svg+xml": [
       "<?xml version=\"1.0\" encoding=\"utf-8\"?>\n",
       "<svg xmlns=\"http://www.w3.org/2000/svg\" xmlns:xlink=\"http://www.w3.org/1999/xlink\" width=\"600\" height=\"400\" viewBox=\"0 0 600 400\">\n",
       "<defs>\n",
       "  <clipPath id=\"clip3500\">\n",
       "    <rect x=\"0\" y=\"0\" width=\"600\" height=\"400\"/>\n",
       "  </clipPath>\n",
       "</defs>\n",
       "<polygon clip-path=\"url(#clip3500)\" points=\"\n",
       "0,400 600,400 600,0 0,0 \n",
       "  \" fill=\"#ffffff\" fill-opacity=\"1\"/>\n",
       "<defs>\n",
       "  <clipPath id=\"clip3501\">\n",
       "    <rect x=\"120\" y=\"0\" width=\"421\" height=\"400\"/>\n",
       "  </clipPath>\n",
       "</defs>\n",
       "<polygon clip-path=\"url(#clip3500)\" points=\"\n",
       "52.7512,360.121 580.315,360.121 580.315,31.4961 52.7512,31.4961 \n",
       "  \" fill=\"#ffffff\" fill-opacity=\"1\"/>\n",
       "<defs>\n",
       "  <clipPath id=\"clip3502\">\n",
       "    <rect x=\"52\" y=\"31\" width=\"529\" height=\"330\"/>\n",
       "  </clipPath>\n",
       "</defs>\n",
       "<polyline clip-path=\"url(#clip3502)\" style=\"stroke:#000000; stroke-width:0.5; stroke-opacity:0.1; fill:none\" points=\"\n",
       "  52.7512,360.121 52.7512,31.4961 \n",
       "  \"/>\n",
       "<polyline clip-path=\"url(#clip3502)\" style=\"stroke:#000000; stroke-width:0.5; stroke-opacity:0.1; fill:none\" points=\"\n",
       "  228.606,360.121 228.606,31.4961 \n",
       "  \"/>\n",
       "<polyline clip-path=\"url(#clip3502)\" style=\"stroke:#000000; stroke-width:0.5; stroke-opacity:0.1; fill:none\" points=\"\n",
       "  404.46,360.121 404.46,31.4961 \n",
       "  \"/>\n",
       "<polyline clip-path=\"url(#clip3502)\" style=\"stroke:#000000; stroke-width:0.5; stroke-opacity:0.1; fill:none\" points=\"\n",
       "  580.315,360.121 580.315,31.4961 \n",
       "  \"/>\n",
       "<polyline clip-path=\"url(#clip3502)\" style=\"stroke:#000000; stroke-width:0.5; stroke-opacity:0.1; fill:none\" points=\"\n",
       "  52.7512,360.121 580.315,360.121 \n",
       "  \"/>\n",
       "<polyline clip-path=\"url(#clip3502)\" style=\"stroke:#000000; stroke-width:0.5; stroke-opacity:0.1; fill:none\" points=\"\n",
       "  52.7512,250.579 580.315,250.579 \n",
       "  \"/>\n",
       "<polyline clip-path=\"url(#clip3502)\" style=\"stroke:#000000; stroke-width:0.5; stroke-opacity:0.1; fill:none\" points=\"\n",
       "  52.7512,141.038 580.315,141.038 \n",
       "  \"/>\n",
       "<polyline clip-path=\"url(#clip3502)\" style=\"stroke:#000000; stroke-width:0.5; stroke-opacity:0.1; fill:none\" points=\"\n",
       "  52.7512,31.4961 580.315,31.4961 \n",
       "  \"/>\n",
       "<polyline clip-path=\"url(#clip3500)\" style=\"stroke:#000000; stroke-width:1; stroke-opacity:1; fill:none\" points=\"\n",
       "  52.7512,360.121 580.315,360.121 \n",
       "  \"/>\n",
       "<polyline clip-path=\"url(#clip3500)\" style=\"stroke:#000000; stroke-width:1; stroke-opacity:1; fill:none\" points=\"\n",
       "  52.7512,360.121 52.7512,31.4961 \n",
       "  \"/>\n",
       "<polyline clip-path=\"url(#clip3500)\" style=\"stroke:#000000; stroke-width:1; stroke-opacity:1; fill:none\" points=\"\n",
       "  52.7512,360.121 52.7512,355.191 \n",
       "  \"/>\n",
       "<polyline clip-path=\"url(#clip3500)\" style=\"stroke:#000000; stroke-width:1; stroke-opacity:1; fill:none\" points=\"\n",
       "  228.606,360.121 228.606,355.191 \n",
       "  \"/>\n",
       "<polyline clip-path=\"url(#clip3500)\" style=\"stroke:#000000; stroke-width:1; stroke-opacity:1; fill:none\" points=\"\n",
       "  404.46,360.121 404.46,355.191 \n",
       "  \"/>\n",
       "<polyline clip-path=\"url(#clip3500)\" style=\"stroke:#000000; stroke-width:1; stroke-opacity:1; fill:none\" points=\"\n",
       "  580.315,360.121 580.315,355.191 \n",
       "  \"/>\n",
       "<polyline clip-path=\"url(#clip3500)\" style=\"stroke:#000000; stroke-width:1; stroke-opacity:1; fill:none\" points=\"\n",
       "  52.7512,360.121 60.6647,360.121 \n",
       "  \"/>\n",
       "<polyline clip-path=\"url(#clip3500)\" style=\"stroke:#000000; stroke-width:1; stroke-opacity:1; fill:none\" points=\"\n",
       "  52.7512,250.579 60.6647,250.579 \n",
       "  \"/>\n",
       "<polyline clip-path=\"url(#clip3500)\" style=\"stroke:#000000; stroke-width:1; stroke-opacity:1; fill:none\" points=\"\n",
       "  52.7512,141.038 60.6647,141.038 \n",
       "  \"/>\n",
       "<polyline clip-path=\"url(#clip3500)\" style=\"stroke:#000000; stroke-width:1; stroke-opacity:1; fill:none\" points=\"\n",
       "  52.7512,31.4961 60.6647,31.4961 \n",
       "  \"/>\n",
       "<g clip-path=\"url(#clip3500)\">\n",
       "<text style=\"fill:#000000; fill-opacity:1; font-family:Arial,Helvetica Neue,Helvetica,sans-serif; font-size:12; text-anchor:middle;\" transform=\"rotate(0, 52.7512, 373.921)\" x=\"52.7512\" y=\"373.921\">0</text>\n",
       "</g>\n",
       "<g clip-path=\"url(#clip3500)\">\n",
       "<text style=\"fill:#000000; fill-opacity:1; font-family:Arial,Helvetica Neue,Helvetica,sans-serif; font-size:12; text-anchor:middle;\" transform=\"rotate(0, 228.606, 373.921)\" x=\"228.606\" y=\"373.921\">5</text>\n",
       "</g>\n",
       "<g clip-path=\"url(#clip3500)\">\n",
       "<text style=\"fill:#000000; fill-opacity:1; font-family:Arial,Helvetica Neue,Helvetica,sans-serif; font-size:12; text-anchor:middle;\" transform=\"rotate(0, 404.46, 373.921)\" x=\"404.46\" y=\"373.921\">10</text>\n",
       "</g>\n",
       "<g clip-path=\"url(#clip3500)\">\n",
       "<text style=\"fill:#000000; fill-opacity:1; font-family:Arial,Helvetica Neue,Helvetica,sans-serif; font-size:12; text-anchor:middle;\" transform=\"rotate(0, 580.315, 373.921)\" x=\"580.315\" y=\"373.921\">15</text>\n",
       "</g>\n",
       "<g clip-path=\"url(#clip3500)\">\n",
       "<text style=\"fill:#000000; fill-opacity:1; font-family:Arial,Helvetica Neue,Helvetica,sans-serif; font-size:12; text-anchor:end;\" transform=\"rotate(0, 46.7512, 364.621)\" x=\"46.7512\" y=\"364.621\">0</text>\n",
       "</g>\n",
       "<g clip-path=\"url(#clip3500)\">\n",
       "<text style=\"fill:#000000; fill-opacity:1; font-family:Arial,Helvetica Neue,Helvetica,sans-serif; font-size:12; text-anchor:end;\" transform=\"rotate(0, 46.7512, 255.079)\" x=\"46.7512\" y=\"255.079\">5</text>\n",
       "</g>\n",
       "<g clip-path=\"url(#clip3500)\">\n",
       "<text style=\"fill:#000000; fill-opacity:1; font-family:Arial,Helvetica Neue,Helvetica,sans-serif; font-size:12; text-anchor:end;\" transform=\"rotate(0, 46.7512, 145.538)\" x=\"46.7512\" y=\"145.538\">10</text>\n",
       "</g>\n",
       "<g clip-path=\"url(#clip3500)\">\n",
       "<text style=\"fill:#000000; fill-opacity:1; font-family:Arial,Helvetica Neue,Helvetica,sans-serif; font-size:12; text-anchor:end;\" transform=\"rotate(0, 46.7512, 35.9961)\" x=\"46.7512\" y=\"35.9961\">15</text>\n",
       "</g>\n",
       "<g clip-path=\"url(#clip3500)\">\n",
       "<text style=\"fill:#000000; fill-opacity:1; font-family:Arial,Helvetica Neue,Helvetica,sans-serif; font-size:21; text-anchor:middle;\" transform=\"rotate(0, 316.533, 18)\" x=\"316.533\" y=\"18\">Mean variance frontier (no portfolio constraints)</text>\n",
       "</g>\n",
       "<g clip-path=\"url(#clip3500)\">\n",
       "<text style=\"fill:#000000; fill-opacity:1; font-family:Arial,Helvetica Neue,Helvetica,sans-serif; font-size:16; text-anchor:middle;\" transform=\"rotate(0, 316.533, 397.6)\" x=\"316.533\" y=\"397.6\">Std(Rp), %</text>\n",
       "</g>\n",
       "<g clip-path=\"url(#clip3500)\">\n",
       "<text style=\"fill:#000000; fill-opacity:1; font-family:Arial,Helvetica Neue,Helvetica,sans-serif; font-size:16; text-anchor:middle;\" transform=\"rotate(-90, 14.4, 195.808)\" x=\"14.4\" y=\"195.808\">ERp, %</text>\n",
       "</g>\n",
       "<polyline clip-path=\"url(#clip3502)\" style=\"stroke:#ff0000; stroke-width:2; stroke-opacity:1; fill:none\" points=\"\n",
       "  439.451,272.487 432.577,270.078 425.771,267.668 419.034,265.258 412.372,262.848 405.788,260.438 399.287,258.028 392.873,255.618 386.552,253.208 380.329,250.798 \n",
       "  374.21,248.388 368.2,245.978 362.307,243.568 356.536,241.159 350.895,238.749 345.392,236.339 340.034,233.929 334.83,231.519 329.788,229.109 324.918,226.699 \n",
       "  320.228,224.289 315.728,221.879 311.429,219.469 307.341,217.059 303.473,214.649 299.836,212.24 296.441,209.83 293.298,207.42 290.416,205.01 287.805,202.6 \n",
       "  285.475,200.19 283.434,197.78 281.69,195.37 280.249,192.96 279.117,190.55 278.3,188.14 277.8,185.731 277.619,183.321 277.758,180.911 278.218,178.501 \n",
       "  278.995,176.091 280.086,173.681 281.487,171.271 283.193,168.861 285.196,166.451 287.49,164.041 290.065,161.631 292.912,159.221 296.022,156.812 299.386,154.402 \n",
       "  302.992,151.992 306.831,149.582 310.891,147.172 315.164,144.762 319.638,142.352 324.304,139.942 329.152,137.532 334.172,135.122 339.356,132.712 344.694,130.303 \n",
       "  350.179,127.893 355.803,125.483 361.557,123.073 367.435,120.663 373.431,118.253 379.536,115.843 385.746,113.433 392.055,111.023 398.457,108.613 404.947,106.203 \n",
       "  411.521,103.793 418.173,101.384 424.9,98.9736 431.698,96.5637 438.563,94.1538 445.491,91.7439 452.48,89.334 459.525,86.9241 466.625,84.5142 473.776,82.1042 \n",
       "  480.976,79.6943 488.222,77.2844 495.512,74.8745 502.845,72.4646 510.217,70.0547 517.627,67.6448 525.074,65.2349 532.555,62.8249 540.069,60.415 547.615,58.0051 \n",
       "  555.191,55.5952 562.795,53.1853 570.427,50.7754 578.086,48.3655 585.769,45.9555 593.476,43.5456 601.207,41.1357 608.959,38.7258 616.733,36.3159 624.527,33.906 \n",
       "  632.341,31.4961 \n",
       "  \"/>\n",
       "</svg>\n"
      ]
     },
     "execution_count": 7,
     "metadata": {},
     "output_type": "execute_result"
    }
   ],
   "source": [
    "plot(StdRp*100,mustar*100,color=:red,linewidth=2,legend=false)\n",
    "plot!(xlim=(0,15),ylim=(0,15))\n",
    "title!(\"Mean variance frontier (no portfolio constraints)\")\n",
    "xlabel!(\"Std(Rp), %\")\n",
    "ylabel!(\"ERp, %\")"
   ]
  },
  {
   "cell_type": "markdown",
   "metadata": {},
   "source": [
    "# MV Frontier when Short Sales are Not Allowed\n",
    "\n",
    "The code below solves (numerically) the following minimization problem \n",
    "\n",
    "$\\min \\text{Var}(R_p) \\: \\text{ s.t. } \\: \\text{E}R_p = \\mu^*$,\n",
    " \n",
    "and where we require $w_i\\ge 0$.\n",
    " \n",
    "The code below calls on\n",
    "```\n",
    "quadprog(zeros(N),Sigma,A,'=',b,zeros(N),ones(N),IpoptSolver(print_level=1))\n",
    "```\n",
    "\n",
    "This means that we minimize\n",
    "$0'w + w' \\Sigma w/2$ subject to the constraints $A w = b$ and $0 \\leq w \\leq 1$. The equality constraints ($A w = b$) are used to impose $1'w=1$ and $\\mu'w = \\mu^*$ (se the code below).\n",
    "    \n",
    "The ```quadprog()``` function is tailor made for linear-quadratic optimization problems with constraints. More general optimization functions would also work, but are likely to be slower."
   ]
  },
  {
   "cell_type": "code",
   "execution_count": 8,
   "metadata": {},
   "outputs": [
    {
     "data": {
      "text/plain": [
       "MeanVarNoSSPs (generic function with 1 method)"
      ]
     },
     "execution_count": 8,
     "metadata": {},
     "output_type": "execute_result"
    }
   ],
   "source": [
    "function MeanVarNoSSPs(mu,Sigma,mustar)   #MV with no short-sales, numerical minimization\n",
    "    (w_p,StdRp) = (NaN,NaN)               #default result (if no feasible solution)        \n",
    "    N = length(mu)\n",
    "    if minimum(mu) <= mustar <= maximum(mu)  #try only if feasible\n",
    "        A   = [ones(1,N);mu']                #1'w=1, mu'w = mustar\n",
    "        b   = [1;mustar]\n",
    "        Sol = quadprog(zeros(N),Sigma,A,'=',b,zeros(N),ones(N),IpoptSolver(print_level=1))\n",
    "        if Sol.status == :Optimal\n",
    "            w_p = Sol.sol\n",
    "            StdRp = sqrt(w_p'Sigma*w_p)\n",
    "        end    \n",
    "    end    \n",
    "    return StdRp,w_p\n",
    "end"
   ]
  },
  {
   "cell_type": "code",
   "execution_count": 9,
   "metadata": {},
   "outputs": [
    {
     "name": "stdout",
     "output_type": "stream",
     "text": [
      "\n",
      "******************************************************************************\n",
      "This program contains Ipopt, a library for large-scale nonlinear optimization.\n",
      " Ipopt is released as open source code under the Eclipse Public License (EPL).\n",
      "         For more information visit http://projects.coin-or.org/Ipopt\n",
      "******************************************************************************\n",
      "\n"
     ]
    }
   ],
   "source": [
    "Std_no_ss = fill(NaN,length(mustar))\n",
    "for i = 1:length(mustar)\n",
    "    Std_no_ss[i] = MeanVarNoSSPs(μ,Σ,mustar[i])[1]     #[1] to get first output\n",
    "end"
   ]
  },
  {
   "cell_type": "code",
   "execution_count": 10,
   "metadata": {},
   "outputs": [
    {
     "data": {
      "image/svg+xml": [
       "<?xml version=\"1.0\" encoding=\"utf-8\"?>\n",
       "<svg xmlns=\"http://www.w3.org/2000/svg\" xmlns:xlink=\"http://www.w3.org/1999/xlink\" width=\"600\" height=\"400\" viewBox=\"0 0 600 400\">\n",
       "<defs>\n",
       "  <clipPath id=\"clip3700\">\n",
       "    <rect x=\"0\" y=\"0\" width=\"600\" height=\"400\"/>\n",
       "  </clipPath>\n",
       "</defs>\n",
       "<polygon clip-path=\"url(#clip3700)\" points=\"\n",
       "0,400 600,400 600,0 0,0 \n",
       "  \" fill=\"#ffffff\" fill-opacity=\"1\"/>\n",
       "<defs>\n",
       "  <clipPath id=\"clip3701\">\n",
       "    <rect x=\"120\" y=\"0\" width=\"421\" height=\"400\"/>\n",
       "  </clipPath>\n",
       "</defs>\n",
       "<polygon clip-path=\"url(#clip3700)\" points=\"\n",
       "52.7512,360.121 580.315,360.121 580.315,31.4961 52.7512,31.4961 \n",
       "  \" fill=\"#ffffff\" fill-opacity=\"1\"/>\n",
       "<defs>\n",
       "  <clipPath id=\"clip3702\">\n",
       "    <rect x=\"52\" y=\"31\" width=\"529\" height=\"330\"/>\n",
       "  </clipPath>\n",
       "</defs>\n",
       "<polyline clip-path=\"url(#clip3702)\" style=\"stroke:#000000; stroke-width:0.5; stroke-opacity:0.1; fill:none\" points=\"\n",
       "  52.7512,360.121 52.7512,31.4961 \n",
       "  \"/>\n",
       "<polyline clip-path=\"url(#clip3702)\" style=\"stroke:#000000; stroke-width:0.5; stroke-opacity:0.1; fill:none\" points=\"\n",
       "  228.606,360.121 228.606,31.4961 \n",
       "  \"/>\n",
       "<polyline clip-path=\"url(#clip3702)\" style=\"stroke:#000000; stroke-width:0.5; stroke-opacity:0.1; fill:none\" points=\"\n",
       "  404.46,360.121 404.46,31.4961 \n",
       "  \"/>\n",
       "<polyline clip-path=\"url(#clip3702)\" style=\"stroke:#000000; stroke-width:0.5; stroke-opacity:0.1; fill:none\" points=\"\n",
       "  580.315,360.121 580.315,31.4961 \n",
       "  \"/>\n",
       "<polyline clip-path=\"url(#clip3702)\" style=\"stroke:#000000; stroke-width:0.5; stroke-opacity:0.1; fill:none\" points=\"\n",
       "  52.7512,360.121 580.315,360.121 \n",
       "  \"/>\n",
       "<polyline clip-path=\"url(#clip3702)\" style=\"stroke:#000000; stroke-width:0.5; stroke-opacity:0.1; fill:none\" points=\"\n",
       "  52.7512,250.579 580.315,250.579 \n",
       "  \"/>\n",
       "<polyline clip-path=\"url(#clip3702)\" style=\"stroke:#000000; stroke-width:0.5; stroke-opacity:0.1; fill:none\" points=\"\n",
       "  52.7512,141.038 580.315,141.038 \n",
       "  \"/>\n",
       "<polyline clip-path=\"url(#clip3702)\" style=\"stroke:#000000; stroke-width:0.5; stroke-opacity:0.1; fill:none\" points=\"\n",
       "  52.7512,31.4961 580.315,31.4961 \n",
       "  \"/>\n",
       "<polyline clip-path=\"url(#clip3700)\" style=\"stroke:#000000; stroke-width:1; stroke-opacity:1; fill:none\" points=\"\n",
       "  52.7512,360.121 580.315,360.121 \n",
       "  \"/>\n",
       "<polyline clip-path=\"url(#clip3700)\" style=\"stroke:#000000; stroke-width:1; stroke-opacity:1; fill:none\" points=\"\n",
       "  52.7512,360.121 52.7512,31.4961 \n",
       "  \"/>\n",
       "<polyline clip-path=\"url(#clip3700)\" style=\"stroke:#000000; stroke-width:1; stroke-opacity:1; fill:none\" points=\"\n",
       "  52.7512,360.121 52.7512,355.191 \n",
       "  \"/>\n",
       "<polyline clip-path=\"url(#clip3700)\" style=\"stroke:#000000; stroke-width:1; stroke-opacity:1; fill:none\" points=\"\n",
       "  228.606,360.121 228.606,355.191 \n",
       "  \"/>\n",
       "<polyline clip-path=\"url(#clip3700)\" style=\"stroke:#000000; stroke-width:1; stroke-opacity:1; fill:none\" points=\"\n",
       "  404.46,360.121 404.46,355.191 \n",
       "  \"/>\n",
       "<polyline clip-path=\"url(#clip3700)\" style=\"stroke:#000000; stroke-width:1; stroke-opacity:1; fill:none\" points=\"\n",
       "  580.315,360.121 580.315,355.191 \n",
       "  \"/>\n",
       "<polyline clip-path=\"url(#clip3700)\" style=\"stroke:#000000; stroke-width:1; stroke-opacity:1; fill:none\" points=\"\n",
       "  52.7512,360.121 60.6647,360.121 \n",
       "  \"/>\n",
       "<polyline clip-path=\"url(#clip3700)\" style=\"stroke:#000000; stroke-width:1; stroke-opacity:1; fill:none\" points=\"\n",
       "  52.7512,250.579 60.6647,250.579 \n",
       "  \"/>\n",
       "<polyline clip-path=\"url(#clip3700)\" style=\"stroke:#000000; stroke-width:1; stroke-opacity:1; fill:none\" points=\"\n",
       "  52.7512,141.038 60.6647,141.038 \n",
       "  \"/>\n",
       "<polyline clip-path=\"url(#clip3700)\" style=\"stroke:#000000; stroke-width:1; stroke-opacity:1; fill:none\" points=\"\n",
       "  52.7512,31.4961 60.6647,31.4961 \n",
       "  \"/>\n",
       "<g clip-path=\"url(#clip3700)\">\n",
       "<text style=\"fill:#000000; fill-opacity:1; font-family:Arial,Helvetica Neue,Helvetica,sans-serif; font-size:12; text-anchor:middle;\" transform=\"rotate(0, 52.7512, 373.921)\" x=\"52.7512\" y=\"373.921\">0</text>\n",
       "</g>\n",
       "<g clip-path=\"url(#clip3700)\">\n",
       "<text style=\"fill:#000000; fill-opacity:1; font-family:Arial,Helvetica Neue,Helvetica,sans-serif; font-size:12; text-anchor:middle;\" transform=\"rotate(0, 228.606, 373.921)\" x=\"228.606\" y=\"373.921\">5</text>\n",
       "</g>\n",
       "<g clip-path=\"url(#clip3700)\">\n",
       "<text style=\"fill:#000000; fill-opacity:1; font-family:Arial,Helvetica Neue,Helvetica,sans-serif; font-size:12; text-anchor:middle;\" transform=\"rotate(0, 404.46, 373.921)\" x=\"404.46\" y=\"373.921\">10</text>\n",
       "</g>\n",
       "<g clip-path=\"url(#clip3700)\">\n",
       "<text style=\"fill:#000000; fill-opacity:1; font-family:Arial,Helvetica Neue,Helvetica,sans-serif; font-size:12; text-anchor:middle;\" transform=\"rotate(0, 580.315, 373.921)\" x=\"580.315\" y=\"373.921\">15</text>\n",
       "</g>\n",
       "<g clip-path=\"url(#clip3700)\">\n",
       "<text style=\"fill:#000000; fill-opacity:1; font-family:Arial,Helvetica Neue,Helvetica,sans-serif; font-size:12; text-anchor:end;\" transform=\"rotate(0, 46.7512, 364.621)\" x=\"46.7512\" y=\"364.621\">0</text>\n",
       "</g>\n",
       "<g clip-path=\"url(#clip3700)\">\n",
       "<text style=\"fill:#000000; fill-opacity:1; font-family:Arial,Helvetica Neue,Helvetica,sans-serif; font-size:12; text-anchor:end;\" transform=\"rotate(0, 46.7512, 255.079)\" x=\"46.7512\" y=\"255.079\">5</text>\n",
       "</g>\n",
       "<g clip-path=\"url(#clip3700)\">\n",
       "<text style=\"fill:#000000; fill-opacity:1; font-family:Arial,Helvetica Neue,Helvetica,sans-serif; font-size:12; text-anchor:end;\" transform=\"rotate(0, 46.7512, 145.538)\" x=\"46.7512\" y=\"145.538\">10</text>\n",
       "</g>\n",
       "<g clip-path=\"url(#clip3700)\">\n",
       "<text style=\"fill:#000000; fill-opacity:1; font-family:Arial,Helvetica Neue,Helvetica,sans-serif; font-size:12; text-anchor:end;\" transform=\"rotate(0, 46.7512, 35.9961)\" x=\"46.7512\" y=\"35.9961\">15</text>\n",
       "</g>\n",
       "<g clip-path=\"url(#clip3700)\">\n",
       "<text style=\"fill:#000000; fill-opacity:1; font-family:Arial,Helvetica Neue,Helvetica,sans-serif; font-size:21; text-anchor:middle;\" transform=\"rotate(0, 316.533, 18)\" x=\"316.533\" y=\"18\">Mean variance frontier (with/without short sales constraints)</text>\n",
       "</g>\n",
       "<g clip-path=\"url(#clip3700)\">\n",
       "<text style=\"fill:#000000; fill-opacity:1; font-family:Arial,Helvetica Neue,Helvetica,sans-serif; font-size:16; text-anchor:middle;\" transform=\"rotate(0, 316.533, 397.6)\" x=\"316.533\" y=\"397.6\">Std(Rp), %</text>\n",
       "</g>\n",
       "<g clip-path=\"url(#clip3700)\">\n",
       "<text style=\"fill:#000000; fill-opacity:1; font-family:Arial,Helvetica Neue,Helvetica,sans-serif; font-size:16; text-anchor:middle;\" transform=\"rotate(-90, 14.4, 195.808)\" x=\"14.4\" y=\"195.808\">ERp, %</text>\n",
       "</g>\n",
       "<polyline clip-path=\"url(#clip3702)\" style=\"stroke:#ff0000; stroke-width:2; stroke-opacity:1; fill:none\" points=\"\n",
       "  439.451,272.487 432.577,270.078 425.771,267.668 419.034,265.258 412.372,262.848 405.788,260.438 399.287,258.028 392.873,255.618 386.552,253.208 380.329,250.798 \n",
       "  374.21,248.388 368.2,245.978 362.307,243.568 356.536,241.159 350.895,238.749 345.392,236.339 340.034,233.929 334.83,231.519 329.788,229.109 324.918,226.699 \n",
       "  320.228,224.289 315.728,221.879 311.429,219.469 307.341,217.059 303.473,214.649 299.836,212.24 296.441,209.83 293.298,207.42 290.416,205.01 287.805,202.6 \n",
       "  285.475,200.19 283.434,197.78 281.69,195.37 280.249,192.96 279.117,190.55 278.3,188.14 277.8,185.731 277.619,183.321 277.758,180.911 278.218,178.501 \n",
       "  278.995,176.091 280.086,173.681 281.487,171.271 283.193,168.861 285.196,166.451 287.49,164.041 290.065,161.631 292.912,159.221 296.022,156.812 299.386,154.402 \n",
       "  302.992,151.992 306.831,149.582 310.891,147.172 315.164,144.762 319.638,142.352 324.304,139.942 329.152,137.532 334.172,135.122 339.356,132.712 344.694,130.303 \n",
       "  350.179,127.893 355.803,125.483 361.557,123.073 367.435,120.663 373.431,118.253 379.536,115.843 385.746,113.433 392.055,111.023 398.457,108.613 404.947,106.203 \n",
       "  411.521,103.793 418.173,101.384 424.9,98.9736 431.698,96.5637 438.563,94.1538 445.491,91.7439 452.48,89.334 459.525,86.9241 466.625,84.5142 473.776,82.1042 \n",
       "  480.976,79.6943 488.222,77.2844 495.512,74.8745 502.845,72.4646 510.217,70.0547 517.627,67.6448 525.074,65.2349 532.555,62.8249 540.069,60.415 547.615,58.0051 \n",
       "  555.191,55.5952 562.795,53.1853 570.427,50.7754 578.086,48.3655 585.769,45.9555 593.476,43.5456 601.207,41.1357 608.959,38.7258 616.733,36.3159 624.527,33.906 \n",
       "  632.341,31.4961 \n",
       "  \"/>\n",
       "<polyline clip-path=\"url(#clip3702)\" style=\"stroke:#008000; stroke-width:2; stroke-opacity:1; fill:none\" stroke-dasharray=\"8, 5\" points=\"\n",
       "  395.854,226.699 385.554,224.289 375.516,221.879 365.765,219.469 356.329,217.059 347.238,214.649 338.525,212.24 330.226,209.83 322.379,207.42 315.024,205.01 \n",
       "  308.204,202.6 301.962,200.19 296.345,197.78 291.394,195.37 287.153,192.96 283.662,190.55 280.953,188.14 279.055,185.731 277.99,183.321 277.768,180.911 \n",
       "  278.218,178.501 278.995,176.091 280.086,173.681 281.487,171.271 283.193,168.861 285.196,166.451 287.49,164.041 290.065,161.631 292.912,159.221 296.022,156.812 \n",
       "  299.386,154.402 302.992,151.992 306.831,149.582 310.891,147.172 315.164,144.762 319.638,142.352 324.304,139.942 329.334,137.532 336.117,135.122 344.825,132.712 \n",
       "  355.291,130.303 367.339,127.893 380.797,125.483 395.496,123.073 411.285,120.663 428.027,118.253 445.599,115.843 463.894,113.433 482.822,111.023 502.301,108.613 \n",
       "  \n",
       "  \"/>\n",
       "<polygon clip-path=\"url(#clip3700)\" points=\"\n",
       "70.7512,97.7361 232.386,97.7361 232.386,52.3761 70.7512,52.3761 \n",
       "  \" fill=\"#ffffff\" fill-opacity=\"1\"/>\n",
       "<polyline clip-path=\"url(#clip3700)\" style=\"stroke:#000000; stroke-width:1; stroke-opacity:1; fill:none\" points=\"\n",
       "  70.7512,97.7361 232.386,97.7361 232.386,52.3761 70.7512,52.3761 70.7512,97.7361 \n",
       "  \"/>\n",
       "<polyline clip-path=\"url(#clip3700)\" style=\"stroke:#ff0000; stroke-width:2; stroke-opacity:1; fill:none\" points=\"\n",
       "  76.7512,67.4961 112.751,67.4961 \n",
       "  \"/>\n",
       "<g clip-path=\"url(#clip3700)\">\n",
       "<text style=\"fill:#000000; fill-opacity:1; font-family:Arial,Helvetica Neue,Helvetica,sans-serif; font-size:12; text-anchor:start;\" transform=\"rotate(0, 118.751, 71.9961)\" x=\"118.751\" y=\"71.9961\">Risky only</text>\n",
       "</g>\n",
       "<polyline clip-path=\"url(#clip3700)\" style=\"stroke:#008000; stroke-width:2; stroke-opacity:1; fill:none\" stroke-dasharray=\"8, 5\" points=\"\n",
       "  76.7512,82.6161 112.751,82.6161 \n",
       "  \"/>\n",
       "<g clip-path=\"url(#clip3700)\">\n",
       "<text style=\"fill:#000000; fill-opacity:1; font-family:Arial,Helvetica Neue,Helvetica,sans-serif; font-size:12; text-anchor:start;\" transform=\"rotate(0, 118.751, 87.1161)\" x=\"118.751\" y=\"87.1161\">Risky only (no ss)  </text>\n",
       "</g>\n",
       "</svg>\n"
      ]
     },
     "execution_count": 10,
     "metadata": {},
     "output_type": "execute_result"
    }
   ],
   "source": [
    "plot(StdRp*100,mustar*100,color=:red,linewidth=2,label=\"Risky only\")\n",
    "plot!(Std_no_ss*100,mustar*100,color=:green,line=(:dash,2),label=\"Risky only (no ss)  \")\n",
    "plot!(xlim=(0,15),ylim=(0,15),legend=:topleft)\n",
    "title!(\"Mean variance frontier (with/without short sales constraints)\")\n",
    "xlabel!(\"Std(Rp), %\")\n",
    "ylabel!(\"ERp, %\")"
   ]
  },
  {
   "cell_type": "code",
   "execution_count": null,
   "metadata": {},
   "outputs": [],
   "source": []
  }
 ],
 "metadata": {
  "anaconda-cloud": {},
  "kernelspec": {
   "display_name": "Julia 0.6.4",
   "language": "julia",
   "name": "julia-0.6"
  },
  "language_info": {
   "file_extension": ".jl",
   "mimetype": "application/julia",
   "name": "julia",
   "version": "0.6.4"
  }
 },
 "nbformat": 4,
 "nbformat_minor": 1
}
