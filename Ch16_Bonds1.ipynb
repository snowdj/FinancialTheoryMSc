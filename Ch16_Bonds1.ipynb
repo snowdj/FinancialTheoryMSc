{
 "cells": [
  {
   "cell_type": "markdown",
   "metadata": {},
   "source": [
    "## Load Packages"
   ]
  },
  {
   "cell_type": "code",
   "execution_count": 1,
   "metadata": {},
   "outputs": [
    {
     "data": {
      "text/plain": [
       "printmatDate (generic function with 8 methods)"
      ]
     },
     "execution_count": 1,
     "metadata": {},
     "output_type": "execute_result"
    }
   ],
   "source": [
    "using Roots\n",
    "\n",
    "#using Dates            #Julia 0.7\n",
    "using Compat, Missings  #to use 0.7 syntax in 0.6\n",
    "\n",
    "include(\"printmat.jl\")\n",
    "include(\"printTable.jl\")"
   ]
  },
  {
   "cell_type": "code",
   "execution_count": 2,
   "metadata": {},
   "outputs": [
    {
     "data": {
      "text/plain": [
       "Plots.GRBackend()"
      ]
     },
     "execution_count": 2,
     "metadata": {},
     "output_type": "execute_result"
    }
   ],
   "source": [
    "using Plots\n",
    "backend = \"gr\"              #\"gr\" (default), \"pyplot\" \n",
    "\n",
    "if backend == \"pyplot\"\n",
    "    pyplot(size=(600,400))\n",
    "else    \n",
    "    gr(size=(600,400))\n",
    "end"
   ]
  },
  {
   "cell_type": "markdown",
   "metadata": {},
   "source": [
    "# Interest Rate vs (Zero Coupon) Bond Price"
   ]
  },
  {
   "cell_type": "markdown",
   "metadata": {},
   "source": [
    "Recall: the bond price (for maturity $m$) and the the effective interest rate follow\n",
    "\n",
    "$B(m) = [1+Y(m)]^{-m}$\n",
    "\n",
    "and the inverse is $Y(m) = B(m)^{-1/m} - 1$.\n",
    "\n",
    "Instead, with a continuously compounded interest rate we have \n",
    "\n",
    "$B(m) = e^{-m y(m)}$\n",
    "\n",
    "and the inverse is $y(m) = -\\ln B(m)/m$."
   ]
  },
  {
   "cell_type": "code",
   "execution_count": 3,
   "metadata": {},
   "outputs": [
    {
     "data": {
      "text/plain": [
       "ContCompRate (generic function with 1 method)"
      ]
     },
     "execution_count": 3,
     "metadata": {},
     "output_type": "execute_result"
    }
   ],
   "source": [
    "function BillPrice(Y,m)     #B as fn of Y        \n",
    "    B = (1+Y)^(-m)\n",
    "    return B\n",
    "end\n",
    "function EffRate(B,m)       #Y as fn of B      \n",
    "    Y  = B^(-1/m) - 1       #effective interest rate\n",
    "    return Y\n",
    "end\n",
    "\n",
    "function BillPrice2(y,m)    #B as fn of y         \n",
    "    B = exp(-m*y)\n",
    "    return B\n",
    "end\n",
    "function ContCompRate(B,m)  #y as fn of B      \n",
    "    y  = -log(B)/m          #continuously compounded interest rate\n",
    "    return y\n",
    "end"
   ]
  },
  {
   "cell_type": "code",
   "execution_count": 4,
   "metadata": {},
   "outputs": [
    {
     "name": "stdout",
     "output_type": "stream",
     "text": [
      "let's plot it\n"
     ]
    }
   ],
   "source": [
    "Ym  = 0:0.01:0.07             #consider different interest rates\n",
    "B1  = BillPrice.(Ym,1)        #1-year zero coupon bond \n",
    "B10 = BillPrice.(Ym,10)       #10-year\n",
    "\n",
    "println(\"let's plot it\")"
   ]
  },
  {
   "cell_type": "code",
   "execution_count": 5,
   "metadata": {},
   "outputs": [
    {
     "data": {
      "image/svg+xml": [
       "<?xml version=\"1.0\" encoding=\"utf-8\"?>\n",
       "<svg xmlns=\"http://www.w3.org/2000/svg\" xmlns:xlink=\"http://www.w3.org/1999/xlink\" width=\"600\" height=\"400\" viewBox=\"0 0 600 400\">\n",
       "<defs>\n",
       "  <clipPath id=\"clip7500\">\n",
       "    <rect x=\"0\" y=\"0\" width=\"600\" height=\"400\"/>\n",
       "  </clipPath>\n",
       "</defs>\n",
       "<polygon clip-path=\"url(#clip7500)\" points=\"\n",
       "0,400 600,400 600,0 0,0 \n",
       "  \" fill=\"#ffffff\" fill-opacity=\"1\"/>\n",
       "<defs>\n",
       "  <clipPath id=\"clip7501\">\n",
       "    <rect x=\"120\" y=\"0\" width=\"421\" height=\"400\"/>\n",
       "  </clipPath>\n",
       "</defs>\n",
       "<polygon clip-path=\"url(#clip7500)\" points=\"\n",
       "48.2225,360.121 580.315,360.121 580.315,31.4961 48.2225,31.4961 \n",
       "  \" fill=\"#ffffff\" fill-opacity=\"1\"/>\n",
       "<defs>\n",
       "  <clipPath id=\"clip7502\">\n",
       "    <rect x=\"48\" y=\"31\" width=\"533\" height=\"330\"/>\n",
       "  </clipPath>\n",
       "</defs>\n",
       "<polyline clip-path=\"url(#clip7502)\" style=\"stroke:#000000; stroke-width:0.5; stroke-opacity:0.1; fill:none\" points=\"\n",
       "  48.2225,360.121 48.2225,31.4961 \n",
       "  \"/>\n",
       "<polyline clip-path=\"url(#clip7502)\" style=\"stroke:#000000; stroke-width:0.5; stroke-opacity:0.1; fill:none\" points=\"\n",
       "  124.236,360.121 124.236,31.4961 \n",
       "  \"/>\n",
       "<polyline clip-path=\"url(#clip7502)\" style=\"stroke:#000000; stroke-width:0.5; stroke-opacity:0.1; fill:none\" points=\"\n",
       "  200.249,360.121 200.249,31.4961 \n",
       "  \"/>\n",
       "<polyline clip-path=\"url(#clip7502)\" style=\"stroke:#000000; stroke-width:0.5; stroke-opacity:0.1; fill:none\" points=\"\n",
       "  276.262,360.121 276.262,31.4961 \n",
       "  \"/>\n",
       "<polyline clip-path=\"url(#clip7502)\" style=\"stroke:#000000; stroke-width:0.5; stroke-opacity:0.1; fill:none\" points=\"\n",
       "  352.275,360.121 352.275,31.4961 \n",
       "  \"/>\n",
       "<polyline clip-path=\"url(#clip7502)\" style=\"stroke:#000000; stroke-width:0.5; stroke-opacity:0.1; fill:none\" points=\"\n",
       "  428.289,360.121 428.289,31.4961 \n",
       "  \"/>\n",
       "<polyline clip-path=\"url(#clip7502)\" style=\"stroke:#000000; stroke-width:0.5; stroke-opacity:0.1; fill:none\" points=\"\n",
       "  504.302,360.121 504.302,31.4961 \n",
       "  \"/>\n",
       "<polyline clip-path=\"url(#clip7502)\" style=\"stroke:#000000; stroke-width:0.5; stroke-opacity:0.1; fill:none\" points=\"\n",
       "  580.315,360.121 580.315,31.4961 \n",
       "  \"/>\n",
       "<polyline clip-path=\"url(#clip7502)\" style=\"stroke:#000000; stroke-width:0.5; stroke-opacity:0.1; fill:none\" points=\"\n",
       "  48.2225,298.86 580.315,298.86 \n",
       "  \"/>\n",
       "<polyline clip-path=\"url(#clip7502)\" style=\"stroke:#000000; stroke-width:0.5; stroke-opacity:0.1; fill:none\" points=\"\n",
       "  48.2225,232.019 580.315,232.019 \n",
       "  \"/>\n",
       "<polyline clip-path=\"url(#clip7502)\" style=\"stroke:#000000; stroke-width:0.5; stroke-opacity:0.1; fill:none\" points=\"\n",
       "  48.2225,165.178 580.315,165.178 \n",
       "  \"/>\n",
       "<polyline clip-path=\"url(#clip7502)\" style=\"stroke:#000000; stroke-width:0.5; stroke-opacity:0.1; fill:none\" points=\"\n",
       "  48.2225,98.3371 580.315,98.3371 \n",
       "  \"/>\n",
       "<polyline clip-path=\"url(#clip7502)\" style=\"stroke:#000000; stroke-width:0.5; stroke-opacity:0.1; fill:none\" points=\"\n",
       "  48.2225,31.4961 580.315,31.4961 \n",
       "  \"/>\n",
       "<polyline clip-path=\"url(#clip7500)\" style=\"stroke:#000000; stroke-width:1; stroke-opacity:1; fill:none\" points=\"\n",
       "  48.2225,360.121 580.315,360.121 \n",
       "  \"/>\n",
       "<polyline clip-path=\"url(#clip7500)\" style=\"stroke:#000000; stroke-width:1; stroke-opacity:1; fill:none\" points=\"\n",
       "  48.2225,360.121 48.2225,31.4961 \n",
       "  \"/>\n",
       "<polyline clip-path=\"url(#clip7500)\" style=\"stroke:#000000; stroke-width:1; stroke-opacity:1; fill:none\" points=\"\n",
       "  48.2225,360.121 48.2225,355.191 \n",
       "  \"/>\n",
       "<polyline clip-path=\"url(#clip7500)\" style=\"stroke:#000000; stroke-width:1; stroke-opacity:1; fill:none\" points=\"\n",
       "  124.236,360.121 124.236,355.191 \n",
       "  \"/>\n",
       "<polyline clip-path=\"url(#clip7500)\" style=\"stroke:#000000; stroke-width:1; stroke-opacity:1; fill:none\" points=\"\n",
       "  200.249,360.121 200.249,355.191 \n",
       "  \"/>\n",
       "<polyline clip-path=\"url(#clip7500)\" style=\"stroke:#000000; stroke-width:1; stroke-opacity:1; fill:none\" points=\"\n",
       "  276.262,360.121 276.262,355.191 \n",
       "  \"/>\n",
       "<polyline clip-path=\"url(#clip7500)\" style=\"stroke:#000000; stroke-width:1; stroke-opacity:1; fill:none\" points=\"\n",
       "  352.275,360.121 352.275,355.191 \n",
       "  \"/>\n",
       "<polyline clip-path=\"url(#clip7500)\" style=\"stroke:#000000; stroke-width:1; stroke-opacity:1; fill:none\" points=\"\n",
       "  428.289,360.121 428.289,355.191 \n",
       "  \"/>\n",
       "<polyline clip-path=\"url(#clip7500)\" style=\"stroke:#000000; stroke-width:1; stroke-opacity:1; fill:none\" points=\"\n",
       "  504.302,360.121 504.302,355.191 \n",
       "  \"/>\n",
       "<polyline clip-path=\"url(#clip7500)\" style=\"stroke:#000000; stroke-width:1; stroke-opacity:1; fill:none\" points=\"\n",
       "  580.315,360.121 580.315,355.191 \n",
       "  \"/>\n",
       "<polyline clip-path=\"url(#clip7500)\" style=\"stroke:#000000; stroke-width:1; stroke-opacity:1; fill:none\" points=\"\n",
       "  48.2225,298.86 56.2039,298.86 \n",
       "  \"/>\n",
       "<polyline clip-path=\"url(#clip7500)\" style=\"stroke:#000000; stroke-width:1; stroke-opacity:1; fill:none\" points=\"\n",
       "  48.2225,232.019 56.2039,232.019 \n",
       "  \"/>\n",
       "<polyline clip-path=\"url(#clip7500)\" style=\"stroke:#000000; stroke-width:1; stroke-opacity:1; fill:none\" points=\"\n",
       "  48.2225,165.178 56.2039,165.178 \n",
       "  \"/>\n",
       "<polyline clip-path=\"url(#clip7500)\" style=\"stroke:#000000; stroke-width:1; stroke-opacity:1; fill:none\" points=\"\n",
       "  48.2225,98.3371 56.2039,98.3371 \n",
       "  \"/>\n",
       "<polyline clip-path=\"url(#clip7500)\" style=\"stroke:#000000; stroke-width:1; stroke-opacity:1; fill:none\" points=\"\n",
       "  48.2225,31.4961 56.2039,31.4961 \n",
       "  \"/>\n",
       "<g clip-path=\"url(#clip7500)\">\n",
       "<text style=\"fill:#000000; fill-opacity:1; font-family:Arial,Helvetica Neue,Helvetica,sans-serif; font-size:12; text-anchor:middle;\" transform=\"rotate(0, 48.2225, 373.921)\" x=\"48.2225\" y=\"373.921\">0.00</text>\n",
       "</g>\n",
       "<g clip-path=\"url(#clip7500)\">\n",
       "<text style=\"fill:#000000; fill-opacity:1; font-family:Arial,Helvetica Neue,Helvetica,sans-serif; font-size:12; text-anchor:middle;\" transform=\"rotate(0, 124.236, 373.921)\" x=\"124.236\" y=\"373.921\">0.01</text>\n",
       "</g>\n",
       "<g clip-path=\"url(#clip7500)\">\n",
       "<text style=\"fill:#000000; fill-opacity:1; font-family:Arial,Helvetica Neue,Helvetica,sans-serif; font-size:12; text-anchor:middle;\" transform=\"rotate(0, 200.249, 373.921)\" x=\"200.249\" y=\"373.921\">0.02</text>\n",
       "</g>\n",
       "<g clip-path=\"url(#clip7500)\">\n",
       "<text style=\"fill:#000000; fill-opacity:1; font-family:Arial,Helvetica Neue,Helvetica,sans-serif; font-size:12; text-anchor:middle;\" transform=\"rotate(0, 276.262, 373.921)\" x=\"276.262\" y=\"373.921\">0.03</text>\n",
       "</g>\n",
       "<g clip-path=\"url(#clip7500)\">\n",
       "<text style=\"fill:#000000; fill-opacity:1; font-family:Arial,Helvetica Neue,Helvetica,sans-serif; font-size:12; text-anchor:middle;\" transform=\"rotate(0, 352.275, 373.921)\" x=\"352.275\" y=\"373.921\">0.04</text>\n",
       "</g>\n",
       "<g clip-path=\"url(#clip7500)\">\n",
       "<text style=\"fill:#000000; fill-opacity:1; font-family:Arial,Helvetica Neue,Helvetica,sans-serif; font-size:12; text-anchor:middle;\" transform=\"rotate(0, 428.289, 373.921)\" x=\"428.289\" y=\"373.921\">0.05</text>\n",
       "</g>\n",
       "<g clip-path=\"url(#clip7500)\">\n",
       "<text style=\"fill:#000000; fill-opacity:1; font-family:Arial,Helvetica Neue,Helvetica,sans-serif; font-size:12; text-anchor:middle;\" transform=\"rotate(0, 504.302, 373.921)\" x=\"504.302\" y=\"373.921\">0.06</text>\n",
       "</g>\n",
       "<g clip-path=\"url(#clip7500)\">\n",
       "<text style=\"fill:#000000; fill-opacity:1; font-family:Arial,Helvetica Neue,Helvetica,sans-serif; font-size:12; text-anchor:middle;\" transform=\"rotate(0, 580.315, 373.921)\" x=\"580.315\" y=\"373.921\">0.07</text>\n",
       "</g>\n",
       "<g clip-path=\"url(#clip7500)\">\n",
       "<text style=\"fill:#000000; fill-opacity:1; font-family:Arial,Helvetica Neue,Helvetica,sans-serif; font-size:12; text-anchor:end;\" transform=\"rotate(0, 42.2225, 303.36)\" x=\"42.2225\" y=\"303.36\">0.6</text>\n",
       "</g>\n",
       "<g clip-path=\"url(#clip7500)\">\n",
       "<text style=\"fill:#000000; fill-opacity:1; font-family:Arial,Helvetica Neue,Helvetica,sans-serif; font-size:12; text-anchor:end;\" transform=\"rotate(0, 42.2225, 236.519)\" x=\"42.2225\" y=\"236.519\">0.7</text>\n",
       "</g>\n",
       "<g clip-path=\"url(#clip7500)\">\n",
       "<text style=\"fill:#000000; fill-opacity:1; font-family:Arial,Helvetica Neue,Helvetica,sans-serif; font-size:12; text-anchor:end;\" transform=\"rotate(0, 42.2225, 169.678)\" x=\"42.2225\" y=\"169.678\">0.8</text>\n",
       "</g>\n",
       "<g clip-path=\"url(#clip7500)\">\n",
       "<text style=\"fill:#000000; fill-opacity:1; font-family:Arial,Helvetica Neue,Helvetica,sans-serif; font-size:12; text-anchor:end;\" transform=\"rotate(0, 42.2225, 102.837)\" x=\"42.2225\" y=\"102.837\">0.9</text>\n",
       "</g>\n",
       "<g clip-path=\"url(#clip7500)\">\n",
       "<text style=\"fill:#000000; fill-opacity:1; font-family:Arial,Helvetica Neue,Helvetica,sans-serif; font-size:12; text-anchor:end;\" transform=\"rotate(0, 42.2225, 35.9961)\" x=\"42.2225\" y=\"35.9961\">1.0</text>\n",
       "</g>\n",
       "<g clip-path=\"url(#clip7500)\">\n",
       "<text style=\"fill:#000000; fill-opacity:1; font-family:Arial,Helvetica Neue,Helvetica,sans-serif; font-size:21; text-anchor:middle;\" transform=\"rotate(0, 314.269, 18)\" x=\"314.269\" y=\"18\">Bond prices and rates</text>\n",
       "</g>\n",
       "<g clip-path=\"url(#clip7500)\">\n",
       "<text style=\"fill:#000000; fill-opacity:1; font-family:Arial,Helvetica Neue,Helvetica,sans-serif; font-size:16; text-anchor:middle;\" transform=\"rotate(0, 314.269, 397.6)\" x=\"314.269\" y=\"397.6\">Interest rate</text>\n",
       "</g>\n",
       "<g clip-path=\"url(#clip7500)\">\n",
       "<text style=\"fill:#000000; fill-opacity:1; font-family:Arial,Helvetica Neue,Helvetica,sans-serif; font-size:16; text-anchor:middle;\" transform=\"rotate(-90, 14.4, 195.808)\" x=\"14.4\" y=\"195.808\">Bond price</text>\n",
       "</g>\n",
       "<polyline clip-path=\"url(#clip7502)\" style=\"stroke:#ff0000; stroke-width:2; stroke-opacity:1; fill:none\" points=\"\n",
       "  48.2225,31.4961 124.236,38.114 200.249,44.6022 276.262,50.9643 352.275,57.2042 428.289,63.3251 504.302,69.3306 580.315,75.2239 \n",
       "  \"/>\n",
       "<polyline clip-path=\"url(#clip7502)\" style=\"stroke:#008000; stroke-width:2; stroke-opacity:1; fill:none\" stroke-dasharray=\"8, 5\" points=\"\n",
       "  48.2225,31.4961 124.236,94.8033 200.249,151.577 276.262,202.546 352.275,248.352 428.289,289.561 504.302,326.67 580.315,360.121 \n",
       "  \"/>\n",
       "<polygon clip-path=\"url(#clip7500)\" points=\"\n",
       "482.917,97.7361 562.315,97.7361 562.315,52.3761 482.917,52.3761 \n",
       "  \" fill=\"#ffffff\" fill-opacity=\"1\"/>\n",
       "<polyline clip-path=\"url(#clip7500)\" style=\"stroke:#000000; stroke-width:1; stroke-opacity:1; fill:none\" points=\"\n",
       "  482.917,97.7361 562.315,97.7361 562.315,52.3761 482.917,52.3761 482.917,97.7361 \n",
       "  \"/>\n",
       "<polyline clip-path=\"url(#clip7500)\" style=\"stroke:#ff0000; stroke-width:2; stroke-opacity:1; fill:none\" points=\"\n",
       "  488.917,67.4961 524.917,67.4961 \n",
       "  \"/>\n",
       "<g clip-path=\"url(#clip7500)\">\n",
       "<text style=\"fill:#000000; fill-opacity:1; font-family:Arial,Helvetica Neue,Helvetica,sans-serif; font-size:12; text-anchor:start;\" transform=\"rotate(0, 530.917, 71.9961)\" x=\"530.917\" y=\"71.9961\">1y</text>\n",
       "</g>\n",
       "<polyline clip-path=\"url(#clip7500)\" style=\"stroke:#008000; stroke-width:2; stroke-opacity:1; fill:none\" stroke-dasharray=\"8, 5\" points=\"\n",
       "  488.917,82.6161 524.917,82.6161 \n",
       "  \"/>\n",
       "<g clip-path=\"url(#clip7500)\">\n",
       "<text style=\"fill:#000000; fill-opacity:1; font-family:Arial,Helvetica Neue,Helvetica,sans-serif; font-size:12; text-anchor:start;\" transform=\"rotate(0, 530.917, 87.1161)\" x=\"530.917\" y=\"87.1161\">10y</text>\n",
       "</g>\n",
       "</svg>\n"
      ]
     },
     "execution_count": 5,
     "metadata": {},
     "output_type": "execute_result"
    }
   ],
   "source": [
    "plot(Ym,B1,color=:red,linewidth=2,label=\"1y\")\n",
    "plot!(Ym,B10,color=:green,line=(:dash,2),label=\"10y\")\n",
    "title!(\"Bond prices and rates\")\n",
    "xlabel!(\"Interest rate\")\n",
    "ylabel!(\"Bond price\")"
   ]
  },
  {
   "cell_type": "code",
   "execution_count": 6,
   "metadata": {},
   "outputs": [
    {
     "name": "stdout",
     "output_type": "stream",
     "text": [
      "Interest rates (0.5-year bond with price 0.95)\n",
      "Effective and continuously compounded:      0.108     0.103\n"
     ]
    }
   ],
   "source": [
    "m  = 0.5                              #maturity\n",
    "B  = 0.95                             #bond price\n",
    "\n",
    "Y = EffRate(B,m)                      #effective interest rate \n",
    "y = ContCompRate(B,m)                 #continuously compounded interest rate\n",
    "\n",
    "printlnPs(\"Interest rates ($m-year bond with price $B)\")\n",
    "printlnPs(\"Effective and continuously compounded: \",[Y y])"
   ]
  },
  {
   "cell_type": "markdown",
   "metadata": {},
   "source": [
    "# Bond Returns (Zero Coupon Bonds)"
   ]
  },
  {
   "cell_type": "markdown",
   "metadata": {},
   "source": [
    "Let $B_0$ denote the price of a bond in period $0$ and $B_1$ the price of the same bond one period later. (For simplicity, we skip the notation for maturity.)\n",
    "\n",
    "The *log* return of holding this bond is $\\ln (B_1/B_0)$\n",
    "\n",
    "The cell below works with continuously compounded interest rates."
   ]
  },
  {
   "cell_type": "code",
   "execution_count": 7,
   "metadata": {},
   "outputs": [
    {
     "name": "stdout",
     "output_type": "stream",
     "text": [
      "Analysis of two bonds: 1y and 10y maturity\n",
      "                            1y            10y\n",
      "Rate, t=0                0.005          0.005\n",
      "Bond price, t=0          0.995          0.951\n",
      "Rate, t=1                0.015          0.015\n",
      "Bond price, t=1          0.985          0.861\n",
      "Return                  -0.010         -0.100\n",
      "\n"
     ]
    }
   ],
   "source": [
    "y₀ = 0.005                      #(continuously compounded) interest rate before\n",
    "y₁ = 0.015                      #interest rate after  \n",
    "\n",
    "B₀ = BillPrice2.(y₀,[1 10])     #bond prices (1-year and 10 year) before\n",
    "B₁ = BillPrice2.(y₁,[1 10])     #bond prices (1-year and 10 year) after\n",
    "\n",
    "R₁ = log.(B₁./B₀)                #return\n",
    "\n",
    "\n",
    "xy       = vcat([y₀ y₀],B₀,[y₁ y₁],B₁,R₁)               #to table      \n",
    "rowNames = [\"Rate, t=0\";\"Bond price, t=0\";\"Rate, t=1\";\"Bond price, t=1\";\"Return\"]\n",
    "println(\"Analysis of two bonds: 1y and 10y maturity\")\n",
    "printTable(xy,[\"1y\";\"10y\"],rowNames,15)"
   ]
  },
  {
   "cell_type": "markdown",
   "metadata": {},
   "source": [
    "# Forward Rates"
   ]
  },
  {
   "cell_type": "markdown",
   "metadata": {},
   "source": [
    "From the forward-spot parity, the forward price of a bond (delivered in $m$ and maturing in $n$) is\n",
    "\n",
    "$F=\\left[  1+Y(m)\\right]  ^{m}B(n)=B(n)/B(m)$.\n",
    "\n",
    "A foward interest rate can then be defined as \n",
    "\n",
    "$\\Gamma(m,n)  =F^{-1/(n-m)}-1$"
   ]
  },
  {
   "cell_type": "code",
   "execution_count": 8,
   "metadata": {},
   "outputs": [
    {
     "data": {
      "text/plain": [
       "ForwardRate (generic function with 1 method)"
      ]
     },
     "execution_count": 8,
     "metadata": {},
     "output_type": "execute_result"
    }
   ],
   "source": [
    "function ForwardRate(Ym,m,Yn,n)           #forward rate, assuming n > m\n",
    "    Bm = (1+Ym)^(-m) \n",
    "    Bn = (1+Yn)^(-n)\n",
    "    F  = Bn/Bm\n",
    "    Γ  = F^(-1/(n-m)) - 1\n",
    "    return Γ\n",
    "end"
   ]
  },
  {
   "cell_type": "code",
   "execution_count": 9,
   "metadata": {},
   "outputs": [
    {
     "name": "stdout",
     "output_type": "stream",
     "text": [
      "\n",
      "Implied forward rate (from 0.5 to 0.75 years ahead):      0.070\n"
     ]
    }
   ],
   "source": [
    "m  = 0.5\n",
    "n  = 0.75\n",
    "Ym = 0.04\n",
    "Yn = 0.05\n",
    "\n",
    "Γ = ForwardRate(Ym,m,Yn,n)\n",
    "printlnPs(\"\\nImplied forward rate (from $m to $n years ahead): \",Γ)"
   ]
  },
  {
   "cell_type": "markdown",
   "metadata": {},
   "source": [
    "# Coupon Bond Prices"
   ]
  },
  {
   "cell_type": "markdown",
   "metadata": {},
   "source": [
    "Recall, the coupon bond price $P$ is the portfolio value of \n",
    "\n",
    "$P = \\sum_{k=1}^{K} B(m_k)cf_k$,\n",
    "\n",
    "where $cf_k$ is the cash flow in $m_k$ and $B(m_k)$ is the price of a zero-coupon bond maturing in $m_k$."
   ]
  },
  {
   "cell_type": "code",
   "execution_count": 10,
   "metadata": {},
   "outputs": [
    {
     "name": "stdout",
     "output_type": "stream",
     "text": [
      "2y bond with 0.06 coupon, zero-coupon prices are      0.950     0.900\n",
      "Coupon bond price      1.011\n"
     ]
    }
   ],
   "source": [
    "B  = [0.95,0.9]             #B(1),B(2)\n",
    "c  = 0.06\n",
    "cf = [c,1+c]            #cash flows in m=1 and 2\n",
    "\n",
    "P = sum(B.*cf)\n",
    "\n",
    "printlnPs(\"2y bond with $c coupon, zero-coupon prices are \",B')\n",
    "printlnPs(\"Coupon bond price \",P)"
   ]
  },
  {
   "cell_type": "markdown",
   "metadata": {},
   "source": [
    "The bond price can also be written\n",
    "\n",
    "$P = \\sum_{k=1}^{K} \\frac{cf_{k}}{\\left[  1+Y(m_{k})\\right]  ^{m_{k}}}$\n",
    "\n",
    "The ```BondPrice3(Y,cf,m)``` function below can handle both the case when $Y$ is a vector with different values for different maturities and when Y is a scalar (same interest rate for all maturities)."
   ]
  },
  {
   "cell_type": "code",
   "execution_count": 11,
   "metadata": {},
   "outputs": [
    {
     "data": {
      "text/plain": [
       "BondPrice3"
      ]
     },
     "execution_count": 11,
     "metadata": {},
     "output_type": "execute_result"
    }
   ],
   "source": [
    "\"\"\"\n",
    "Y:  scalar or K vector of interest rates\n",
    "cf: scalar or K vector of cash flows\n",
    "m: K vector of times for the cash flows\n",
    "\"\"\"\n",
    "function BondPrice3(Y,cf,m)              #cf is a vector of all cash flows at times m\n",
    "    cdisc = cf./((Y.+1).^m)                #c/(1+y1)^m1, c/(1+y2)^m2 + ...\n",
    "    P     = sum(cdisc)                     #price\n",
    "    return P\n",
    "end"
   ]
  },
  {
   "cell_type": "code",
   "execution_count": 12,
   "metadata": {},
   "outputs": [
    {
     "name": "stdout",
     "output_type": "stream",
     "text": [
      "\n",
      "2y bond with 0.06 coupon, spot rates are      0.053     0.054\n",
      "Coupon bond price:      1.011\n",
      "\n",
      "2y bond with 0.09 coupon, spot rates are      0.060     0.091\n",
      "Coupon bond price:      1.001\n"
     ]
    }
   ],
   "source": [
    "Y = [0.053;0.054]\n",
    "c = 0.06\n",
    "P =  BondPrice3(Y,[c;c+1],[1;2])\n",
    "printlnPs(\"\\n2y bond with $c coupon, spot rates are \",Y)\n",
    "printlnPs(\"Coupon bond price: \",P)\n",
    "\n",
    "Y = [0.06;0.091]\n",
    "c = 0.09\n",
    "P =  BondPrice3(Y,[c;c+1],[1;2])\n",
    "printlnPs(\"\\n2y bond with $c coupon, spot rates are \",Y)\n",
    "printlnPs(\"Coupon bond price: \",P)"
   ]
  },
  {
   "cell_type": "markdown",
   "metadata": {
    "collapsed": true
   },
   "source": [
    "# Yield to Maturity"
   ]
  },
  {
   "cell_type": "markdown",
   "metadata": {},
   "source": [
    "The yield to maturity is the $\\theta$ that solves\n",
    "\n",
    "$P = \\sum_{k=1}^{K} \\frac{cf_{k}}{(1+\\theta)  ^{m_{k}}}$\n",
    "\n",
    "We typically have to find $\\theta$ by a numerical method."
   ]
  },
  {
   "cell_type": "code",
   "execution_count": 13,
   "metadata": {},
   "outputs": [
    {
     "name": "stdout",
     "output_type": "stream",
     "text": [
      "Price of 2-year 0.04 coupon bond when all spot rates are 0.03:      1.019\n",
      "ytm:      0.030\n"
     ]
    }
   ],
   "source": [
    "c = 0.04                   #simple case  \n",
    "Y = 0.03                   #all spot rates are 3%    \n",
    "\n",
    "P = BondPrice3(Y,[c;c+1],[1;2])\n",
    "ytm = find_zero(y->BondPrice3(y,[c;c+1],[1;2])-P,(-0.1,0.1))   #solving for ytm\n",
    "\n",
    "printlnPs(\"Price of 2-year $c coupon bond when all spot rates are $Y: \",P)\n",
    "printlnPs(\"ytm: \",ytm)"
   ]
  },
  {
   "cell_type": "code",
   "execution_count": 14,
   "metadata": {},
   "outputs": [
    {
     "name": "stdout",
     "output_type": "stream",
     "text": [
      "ytm:      0.091\n"
     ]
    }
   ],
   "source": [
    "m  = [1;3]                #more advanced case, cash flow in year 1 and 3\n",
    "Y  = [0.07;0.10]          #spot interest rates differ across maturities\n",
    "cf = [1;1]       \n",
    "\n",
    "P  = BondPrice3(Y,c,m)\n",
    "ytm = find_zero(y->BondPrice3(y,c,m)-P,(-0.2,0.2))\n",
    "\n",
    "printlnPs(\"ytm: \",ytm)"
   ]
  },
  {
   "cell_type": "markdown",
   "metadata": {},
   "source": [
    "# Bootstrapping (extra)"
   ]
  },
  {
   "cell_type": "markdown",
   "metadata": {},
   "source": [
    "Recall: with information about coupons $c(k)$ and coupon bond price $P(m)$, we solve for the implied zero coupon bond prices $B(s)$ from\n",
    "\n",
    "$\n",
    "\\begin{bmatrix}\n",
    "P(1)\\\\\n",
    "P(2)\n",
    "\\end{bmatrix} =\n",
    "\\begin{bmatrix}\n",
    "c(1)+1 & 0 \\\\\n",
    "c(2) & c(2)+1\n",
    "\\end{bmatrix}\n",
    "\\begin{bmatrix}\n",
    "B(1)\\\\\n",
    "B(2)\n",
    "\\end{bmatrix}\n",
    "$"
   ]
  },
  {
   "cell_type": "code",
   "execution_count": 15,
   "metadata": {},
   "outputs": [
    {
     "name": "stdout",
     "output_type": "stream",
     "text": [
      "The cash flow matrix\n",
      "            mk=1      mk=2\n",
      "Bond 1     1.000     0.000\n",
      "Bond 2     0.060     1.060\n",
      "\n",
      "B from solving P = cfMat*B (implied zero-coupon bond prices):\n",
      "     0.950\n",
      "     0.899\n",
      "\n",
      "Implied spot interest rates:\n",
      "     0.053\n",
      "     0.055\n",
      "\n"
     ]
    }
   ],
   "source": [
    "c     = [0;0.06]\n",
    "P     = [0.95;1.01]                 #coupon bond prices\n",
    "m     = [1;2]                       #time of coupon payments\n",
    "cfMat = [1    0   ;                 #cash flow matrix\n",
    "         c[2] 1+c[2]]\n",
    "\n",
    "println(\"The cash flow matrix\")\n",
    "printTable(cfMat,[\"mk=1\";\"mk=2\"],[\"Bond 1\";\"Bond 2\"])\n",
    "\n",
    "println(\"B from solving P = cfMat*B (implied zero-coupon bond prices):\")\n",
    "B = cfMat\\P\n",
    "printmat(B)\n",
    "\n",
    "Y = EffRate.(B,m)            #solve for the implied spot rates \n",
    "println(\"Implied spot interest rates:\")\n",
    "printmat(Y)"
   ]
  },
  {
   "cell_type": "markdown",
   "metadata": {},
   "source": [
    "# Estimating Yield Curve with Regression Analysis (extra)"
   ]
  },
  {
   "cell_type": "markdown",
   "metadata": {},
   "source": [
    "Recall: with a quadratic discount function\n",
    "\n",
    "$B(m)=a_{0}+a_{1}m+a_{2}m^{2}$,\n",
    "\n",
    "we can write the coupon bond price \n",
    "\n",
    "$P(m_{K})   =\\sum_{k=1}^{K}B(m_{k})c+B(m_{K})$\n",
    "as \n",
    "\n",
    "$P(m_{K})   =\\sum_{k=1}^{K}(a_{0}+a_{1}m_{k}+a_{2}m_{k}^{2})c + \n",
    "(a_{0}+a_{1}m_{K}+a_{2}m_{K}^{2})$\n",
    "\n",
    "Collect terms as \n",
    "\n",
    "$\n",
    "P(m_{K})  =a_{0} (Kc+1) +\n",
    "a_{1}(c \\sum_{k=1}^{K} m_{k}+m_{K}) +\n",
    "a_{2}(c \\sum_{k=1}^{K} m_{k}^{2}+m_{K}^{2})$\n",
    "\n",
    "We estimate $(a_0,a_1,a_2)$ by using the terms (within parentheses) as regressors."
   ]
  },
  {
   "cell_type": "code",
   "execution_count": 16,
   "metadata": {},
   "outputs": [
    {
     "name": "stdout",
     "output_type": "stream",
     "text": [
      "regressors:\n",
      "          term 0    term 1    term 2\n",
      "Bond 1     1.000     1.000     1.000\n",
      "Bond 2     1.120     2.180     4.300\n",
      "\n",
      "regression coefficients\n",
      "     0.693\n",
      "     0.411\n",
      "    -0.154\n",
      "\n",
      "maturities    fitted B\n",
      "     1.000     0.950\n",
      "     2.000     0.899\n",
      "     3.000     0.540\n",
      "     4.000    -0.126\n",
      "     5.000    -1.101\n",
      "\n",
      "maturities    fitted Y\n",
      "     1.000     0.053\n",
      "     2.000     0.055\n",
      "\n",
      "Btw. do B[4:5] make sense? If not, what does that teach us?\n"
     ]
    }
   ],
   "source": [
    "n = length(P)\n",
    "x = zeros(n,3)                      #create regressors for quadratic model: 3 columns\n",
    "for i = 1:n                         #x[i,j] is for bond i, regressor j\n",
    "    x[i,1] = m[i]*c[i] + 1\n",
    "    x[i,2] = c[i]*sum(m[1]:m[i]) + m[i]\n",
    "    x[i,3] = c[i]*sum((m[1]:m[i]).^2) + m[i]^2\n",
    "end    \n",
    "\n",
    "println(\"regressors:\")\n",
    "printTable(x,[\"term 0\";\"term 1\";\"term 2\"],[\"Bond 1\";\"Bond 2\"])\n",
    "\n",
    "a = x\\P                             #regress P on x\n",
    "println(\"regression coefficients\")\n",
    "printmat(a)\n",
    "\n",
    "m = 1:5\n",
    "B = a[1] .+ a[2]*m + a[3]*m.^2      #fitted discount function\n",
    "\n",
    "println(\"maturities    fitted B\")\n",
    "printmat([m B])\n",
    "\n",
    "Y = EffRate.(B[1:2],m[1:2])         #solve for the implied spot rates \n",
    "println(\"maturities    fitted Y\")\n",
    "printmat([m[1:2] Y])\n",
    "\n",
    "println(\"Btw. do B[4:5] make sense? If not, what does that teach us?\")"
   ]
  },
  {
   "cell_type": "code",
   "execution_count": null,
   "metadata": {},
   "outputs": [],
   "source": []
  }
 ],
 "metadata": {
  "anaconda-cloud": {},
  "kernelspec": {
   "display_name": "Julia 0.6.3",
   "language": "julia",
   "name": "julia-0.6"
  },
  "language_info": {
   "file_extension": ".jl",
   "mimetype": "application/julia",
   "name": "julia",
   "version": "0.6.3"
  }
 },
 "nbformat": 4,
 "nbformat_minor": 1
}
