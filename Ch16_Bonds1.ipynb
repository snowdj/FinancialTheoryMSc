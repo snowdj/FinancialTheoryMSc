{
 "cells": [
  {
   "cell_type": "markdown",
   "metadata": {},
   "source": [
    "## Load Packages"
   ]
  },
  {
   "cell_type": "code",
   "execution_count": 1,
   "metadata": {},
   "outputs": [
    {
     "data": {
      "text/plain": [
       "println4Ps (generic function with 2 methods)"
      ]
     },
     "execution_count": 1,
     "metadata": {},
     "output_type": "execute_result"
    }
   ],
   "source": [
    "using Dates, Roots\n",
    "\n",
    "include(\"jlFiles/printmat.jl\")\n",
    "include(\"jlFiles/printTable.jl\")"
   ]
  },
  {
   "cell_type": "code",
   "execution_count": 2,
   "metadata": {},
   "outputs": [],
   "source": [
    "using Plots\n",
    "backend = \"gr\"              #\"gr\" (default), \"pyplot\" \n",
    "\n",
    "if backend == \"pyplot\"\n",
    "    pyplot(size=(600,400))\n",
    "else    \n",
    "    gr(size=(480,320))\n",
    "    default(fmt = :svg)\n",
    "end"
   ]
  },
  {
   "cell_type": "markdown",
   "metadata": {},
   "source": [
    "# Interest Rate vs (Zero Coupon) Bond Price"
   ]
  },
  {
   "cell_type": "markdown",
   "metadata": {},
   "source": [
    "Recall: the bond price (for maturity $m$) is a function of the effective interest rate\n",
    "\n",
    "$B(m) = [1+Y(m)]^{-m}$\n",
    "\n",
    "and the inverse is $Y(m) = B(m)^{-1/m} - 1$.\n",
    "\n",
    "Instead, with a continuously compounded interest rate we have \n",
    "\n",
    "$B(m) = e^{-m y(m)}$\n",
    "\n",
    "and the inverse is $y(m) = -\\ln B(m)/m$."
   ]
  },
  {
   "cell_type": "code",
   "execution_count": 3,
   "metadata": {},
   "outputs": [
    {
     "data": {
      "text/plain": [
       "ContCompRate (generic function with 1 method)"
      ]
     },
     "execution_count": 3,
     "metadata": {},
     "output_type": "execute_result"
    }
   ],
   "source": [
    "function BillPrice(Y,m)     #B as fn of Y        \n",
    "    B = (1+Y)^(-m)\n",
    "    return B\n",
    "end\n",
    "function EffRate(B,m)       #Y as fn of B      \n",
    "    Y  = B^(-1/m) - 1       #effective interest rate\n",
    "    return Y\n",
    "end\n",
    "\n",
    "function BillPrice2(y,m)    #B as fn of y         \n",
    "    B = exp(-m*y)\n",
    "    return B\n",
    "end\n",
    "function ContCompRate(B,m)  #y as fn of B      \n",
    "    y  = -log(B)/m          #continuously compounded interest rate\n",
    "    return y\n",
    "end"
   ]
  },
  {
   "cell_type": "code",
   "execution_count": 4,
   "metadata": {},
   "outputs": [
    {
     "name": "stdout",
     "output_type": "stream",
     "text": [
      "let's plot it\n"
     ]
    }
   ],
   "source": [
    "Y_range = 0:0.01:0.07             #consider different interest rates\n",
    "B1      = BillPrice.(Y_range,1)        #1-year zero coupon bond \n",
    "B10     = BillPrice.(Y_range,10)       #10-year\n",
    "\n",
    "println(\"let's plot it\")"
   ]
  },
  {
   "cell_type": "code",
   "execution_count": 5,
   "metadata": {},
   "outputs": [
    {
     "data": {
      "image/svg+xml": [
       "<?xml version=\"1.0\" encoding=\"utf-8\"?>\n",
       "<svg xmlns=\"http://www.w3.org/2000/svg\" xmlns:xlink=\"http://www.w3.org/1999/xlink\" width=\"480\" height=\"320\" viewBox=\"0 0 1920 1280\">\n",
       "<defs>\n",
       "  <clipPath id=\"clip9400\">\n",
       "    <rect x=\"0\" y=\"0\" width=\"2000\" height=\"2000\"/>\n",
       "  </clipPath>\n",
       "</defs>\n",
       "<defs>\n",
       "  <clipPath id=\"clip9401\">\n",
       "    <rect x=\"0\" y=\"0\" width=\"1920\" height=\"1280\"/>\n",
       "  </clipPath>\n",
       "</defs>\n",
       "<polygon clip-path=\"url(#clip9401)\" points=\"\n",
       "0,1280 1920,1280 1920,0 0,0 \n",
       "  \" fill=\"#ffffff\" fill-opacity=\"1\"/>\n",
       "<defs>\n",
       "  <clipPath id=\"clip9402\">\n",
       "    <rect x=\"384\" y=\"0\" width=\"1345\" height=\"1280\"/>\n",
       "  </clipPath>\n",
       "</defs>\n",
       "<polygon clip-path=\"url(#clip9401)\" points=\"\n",
       "224.386,1120.48 1841.26,1120.48 1841.26,125.984 224.386,125.984 \n",
       "  \" fill=\"#ffffff\" fill-opacity=\"1\"/>\n",
       "<defs>\n",
       "  <clipPath id=\"clip9403\">\n",
       "    <rect x=\"224\" y=\"125\" width=\"1618\" height=\"995\"/>\n",
       "  </clipPath>\n",
       "</defs>\n",
       "<polyline clip-path=\"url(#clip9403)\" style=\"stroke:#000000; stroke-width:2; stroke-opacity:0.1; fill:none\" points=\"\n",
       "  270.147,1120.48 270.147,125.984 \n",
       "  \"/>\n",
       "<polyline clip-path=\"url(#clip9403)\" style=\"stroke:#000000; stroke-width:2; stroke-opacity:0.1; fill:none\" points=\"\n",
       "  705.962,1120.48 705.962,125.984 \n",
       "  \"/>\n",
       "<polyline clip-path=\"url(#clip9403)\" style=\"stroke:#000000; stroke-width:2; stroke-opacity:0.1; fill:none\" points=\"\n",
       "  1141.78,1120.48 1141.78,125.984 \n",
       "  \"/>\n",
       "<polyline clip-path=\"url(#clip9403)\" style=\"stroke:#000000; stroke-width:2; stroke-opacity:0.1; fill:none\" points=\"\n",
       "  1577.59,1120.48 1577.59,125.984 \n",
       "  \"/>\n",
       "<polyline clip-path=\"url(#clip9403)\" style=\"stroke:#000000; stroke-width:2; stroke-opacity:0.1; fill:none\" points=\"\n",
       "  224.386,1108.27 1841.26,1108.27 \n",
       "  \"/>\n",
       "<polyline clip-path=\"url(#clip9403)\" style=\"stroke:#000000; stroke-width:2; stroke-opacity:0.1; fill:none\" points=\"\n",
       "  224.386,917.441 1841.26,917.441 \n",
       "  \"/>\n",
       "<polyline clip-path=\"url(#clip9403)\" style=\"stroke:#000000; stroke-width:2; stroke-opacity:0.1; fill:none\" points=\"\n",
       "  224.386,726.614 1841.26,726.614 \n",
       "  \"/>\n",
       "<polyline clip-path=\"url(#clip9403)\" style=\"stroke:#000000; stroke-width:2; stroke-opacity:0.1; fill:none\" points=\"\n",
       "  224.386,535.786 1841.26,535.786 \n",
       "  \"/>\n",
       "<polyline clip-path=\"url(#clip9403)\" style=\"stroke:#000000; stroke-width:2; stroke-opacity:0.1; fill:none\" points=\"\n",
       "  224.386,344.958 1841.26,344.958 \n",
       "  \"/>\n",
       "<polyline clip-path=\"url(#clip9403)\" style=\"stroke:#000000; stroke-width:2; stroke-opacity:0.1; fill:none\" points=\"\n",
       "  224.386,154.13 1841.26,154.13 \n",
       "  \"/>\n",
       "<polyline clip-path=\"url(#clip9401)\" style=\"stroke:#000000; stroke-width:4; stroke-opacity:1; fill:none\" points=\"\n",
       "  224.386,1120.48 1841.26,1120.48 \n",
       "  \"/>\n",
       "<polyline clip-path=\"url(#clip9401)\" style=\"stroke:#000000; stroke-width:4; stroke-opacity:1; fill:none\" points=\"\n",
       "  224.386,1120.48 224.386,125.984 \n",
       "  \"/>\n",
       "<polyline clip-path=\"url(#clip9401)\" style=\"stroke:#000000; stroke-width:4; stroke-opacity:1; fill:none\" points=\"\n",
       "  270.147,1120.48 270.147,1105.57 \n",
       "  \"/>\n",
       "<polyline clip-path=\"url(#clip9401)\" style=\"stroke:#000000; stroke-width:4; stroke-opacity:1; fill:none\" points=\"\n",
       "  705.962,1120.48 705.962,1105.57 \n",
       "  \"/>\n",
       "<polyline clip-path=\"url(#clip9401)\" style=\"stroke:#000000; stroke-width:4; stroke-opacity:1; fill:none\" points=\"\n",
       "  1141.78,1120.48 1141.78,1105.57 \n",
       "  \"/>\n",
       "<polyline clip-path=\"url(#clip9401)\" style=\"stroke:#000000; stroke-width:4; stroke-opacity:1; fill:none\" points=\"\n",
       "  1577.59,1120.48 1577.59,1105.57 \n",
       "  \"/>\n",
       "<polyline clip-path=\"url(#clip9401)\" style=\"stroke:#000000; stroke-width:4; stroke-opacity:1; fill:none\" points=\"\n",
       "  224.386,1108.27 248.639,1108.27 \n",
       "  \"/>\n",
       "<polyline clip-path=\"url(#clip9401)\" style=\"stroke:#000000; stroke-width:4; stroke-opacity:1; fill:none\" points=\"\n",
       "  224.386,917.441 248.639,917.441 \n",
       "  \"/>\n",
       "<polyline clip-path=\"url(#clip9401)\" style=\"stroke:#000000; stroke-width:4; stroke-opacity:1; fill:none\" points=\"\n",
       "  224.386,726.614 248.639,726.614 \n",
       "  \"/>\n",
       "<polyline clip-path=\"url(#clip9401)\" style=\"stroke:#000000; stroke-width:4; stroke-opacity:1; fill:none\" points=\"\n",
       "  224.386,535.786 248.639,535.786 \n",
       "  \"/>\n",
       "<polyline clip-path=\"url(#clip9401)\" style=\"stroke:#000000; stroke-width:4; stroke-opacity:1; fill:none\" points=\"\n",
       "  224.386,344.958 248.639,344.958 \n",
       "  \"/>\n",
       "<polyline clip-path=\"url(#clip9401)\" style=\"stroke:#000000; stroke-width:4; stroke-opacity:1; fill:none\" points=\"\n",
       "  224.386,154.13 248.639,154.13 \n",
       "  \"/>\n",
       "<g clip-path=\"url(#clip9401)\">\n",
       "<text style=\"fill:#000000; fill-opacity:1; font-family:Arial,Helvetica Neue,Helvetica,sans-serif; font-size:48px; text-anchor:middle;\" transform=\"rotate(0, 270.147, 1172.08)\" x=\"270.147\" y=\"1172.08\">0.00</text>\n",
       "</g>\n",
       "<g clip-path=\"url(#clip9401)\">\n",
       "<text style=\"fill:#000000; fill-opacity:1; font-family:Arial,Helvetica Neue,Helvetica,sans-serif; font-size:48px; text-anchor:middle;\" transform=\"rotate(0, 705.962, 1172.08)\" x=\"705.962\" y=\"1172.08\">0.02</text>\n",
       "</g>\n",
       "<g clip-path=\"url(#clip9401)\">\n",
       "<text style=\"fill:#000000; fill-opacity:1; font-family:Arial,Helvetica Neue,Helvetica,sans-serif; font-size:48px; text-anchor:middle;\" transform=\"rotate(0, 1141.78, 1172.08)\" x=\"1141.78\" y=\"1172.08\">0.04</text>\n",
       "</g>\n",
       "<g clip-path=\"url(#clip9401)\">\n",
       "<text style=\"fill:#000000; fill-opacity:1; font-family:Arial,Helvetica Neue,Helvetica,sans-serif; font-size:48px; text-anchor:middle;\" transform=\"rotate(0, 1577.59, 1172.08)\" x=\"1577.59\" y=\"1172.08\">0.06</text>\n",
       "</g>\n",
       "<g clip-path=\"url(#clip9401)\">\n",
       "<text style=\"fill:#000000; fill-opacity:1; font-family:Arial,Helvetica Neue,Helvetica,sans-serif; font-size:48px; text-anchor:end;\" transform=\"rotate(0, 205.186, 1125.77)\" x=\"205.186\" y=\"1125.77\">0.5</text>\n",
       "</g>\n",
       "<g clip-path=\"url(#clip9401)\">\n",
       "<text style=\"fill:#000000; fill-opacity:1; font-family:Arial,Helvetica Neue,Helvetica,sans-serif; font-size:48px; text-anchor:end;\" transform=\"rotate(0, 205.186, 934.941)\" x=\"205.186\" y=\"934.941\">0.6</text>\n",
       "</g>\n",
       "<g clip-path=\"url(#clip9401)\">\n",
       "<text style=\"fill:#000000; fill-opacity:1; font-family:Arial,Helvetica Neue,Helvetica,sans-serif; font-size:48px; text-anchor:end;\" transform=\"rotate(0, 205.186, 744.114)\" x=\"205.186\" y=\"744.114\">0.7</text>\n",
       "</g>\n",
       "<g clip-path=\"url(#clip9401)\">\n",
       "<text style=\"fill:#000000; fill-opacity:1; font-family:Arial,Helvetica Neue,Helvetica,sans-serif; font-size:48px; text-anchor:end;\" transform=\"rotate(0, 205.186, 553.286)\" x=\"205.186\" y=\"553.286\">0.8</text>\n",
       "</g>\n",
       "<g clip-path=\"url(#clip9401)\">\n",
       "<text style=\"fill:#000000; fill-opacity:1; font-family:Arial,Helvetica Neue,Helvetica,sans-serif; font-size:48px; text-anchor:end;\" transform=\"rotate(0, 205.186, 362.458)\" x=\"205.186\" y=\"362.458\">0.9</text>\n",
       "</g>\n",
       "<g clip-path=\"url(#clip9401)\">\n",
       "<text style=\"fill:#000000; fill-opacity:1; font-family:Arial,Helvetica Neue,Helvetica,sans-serif; font-size:48px; text-anchor:end;\" transform=\"rotate(0, 205.186, 171.63)\" x=\"205.186\" y=\"171.63\">1.0</text>\n",
       "</g>\n",
       "<g clip-path=\"url(#clip9401)\">\n",
       "<text style=\"fill:#000000; fill-opacity:1; font-family:Arial,Helvetica Neue,Helvetica,sans-serif; font-size:84px; text-anchor:middle;\" transform=\"rotate(0, 1032.82, 73.2)\" x=\"1032.82\" y=\"73.2\">Bond prices and rates</text>\n",
       "</g>\n",
       "<g clip-path=\"url(#clip9401)\">\n",
       "<text style=\"fill:#000000; fill-opacity:1; font-family:Arial,Helvetica Neue,Helvetica,sans-serif; font-size:66px; text-anchor:middle;\" transform=\"rotate(0, 1032.82, 1270.4)\" x=\"1032.82\" y=\"1270.4\">Interest rate</text>\n",
       "</g>\n",
       "<g clip-path=\"url(#clip9401)\">\n",
       "<text style=\"fill:#000000; fill-opacity:1; font-family:Arial,Helvetica Neue,Helvetica,sans-serif; font-size:66px; text-anchor:middle;\" transform=\"rotate(-90, 57.6, 623.233)\" x=\"57.6\" y=\"623.233\">Bond price</text>\n",
       "</g>\n",
       "<polyline clip-path=\"url(#clip9403)\" style=\"stroke:#ff0000; stroke-width:8; stroke-opacity:1; fill:none\" points=\"\n",
       "  270.147,154.13 488.054,173.024 705.962,191.548 923.869,209.711 1141.78,227.526 1359.68,245.001 1577.59,262.146 1795.5,278.971 \n",
       "  \"/>\n",
       "<polyline clip-path=\"url(#clip9403)\" style=\"stroke:#008000; stroke-width:8; stroke-opacity:1; fill:none\" stroke-dasharray=\"32, 20\" points=\"\n",
       "  270.147,154.13 488.054,334.869 705.962,496.956 923.869,642.47 1141.78,773.244 1359.68,890.891 1577.59,996.836 1795.5,1092.34 \n",
       "  \"/>\n",
       "<polygon clip-path=\"url(#clip9401)\" points=\"\n",
       "1514.07,843.231 1783.66,843.231 1783.66,661.791 1514.07,661.791 \n",
       "  \" fill=\"#ffffff\" fill-opacity=\"1\"/>\n",
       "<polyline clip-path=\"url(#clip9401)\" style=\"stroke:#000000; stroke-width:4; stroke-opacity:1; fill:none\" points=\"\n",
       "  1514.07,843.231 1783.66,843.231 1783.66,661.791 1514.07,661.791 1514.07,843.231 \n",
       "  \"/>\n",
       "<polyline clip-path=\"url(#clip9401)\" style=\"stroke:#ff0000; stroke-width:8; stroke-opacity:1; fill:none\" points=\"\n",
       "  1533.27,722.271 1648.47,722.271 \n",
       "  \"/>\n",
       "<g clip-path=\"url(#clip9401)\">\n",
       "<text style=\"fill:#000000; fill-opacity:1; font-family:Arial,Helvetica Neue,Helvetica,sans-serif; font-size:48px; text-anchor:start;\" transform=\"rotate(0, 1667.67, 739.771)\" x=\"1667.67\" y=\"739.771\">1y</text>\n",
       "</g>\n",
       "<polyline clip-path=\"url(#clip9401)\" style=\"stroke:#008000; stroke-width:8; stroke-opacity:1; fill:none\" stroke-dasharray=\"32, 20\" points=\"\n",
       "  1533.27,782.751 1648.47,782.751 \n",
       "  \"/>\n",
       "<g clip-path=\"url(#clip9401)\">\n",
       "<text style=\"fill:#000000; fill-opacity:1; font-family:Arial,Helvetica Neue,Helvetica,sans-serif; font-size:48px; text-anchor:start;\" transform=\"rotate(0, 1667.67, 800.251)\" x=\"1667.67\" y=\"800.251\">10y</text>\n",
       "</g>\n",
       "</svg>\n"
      ]
     },
     "execution_count": 5,
     "metadata": {},
     "output_type": "execute_result"
    }
   ],
   "source": [
    "p1 = plot(Y_range,B1,color=:red,linewidth=2,label=\"1y\")\n",
    "plot!(Y_range,B10,color=:green,line=(:dash,2),label=\"10y\",legend=:right)\n",
    "title!(\"Bond prices and rates\")\n",
    "xlabel!(\"Interest rate\")\n",
    "ylabel!(\"Bond price\")"
   ]
  },
  {
   "cell_type": "code",
   "execution_count": 6,
   "metadata": {},
   "outputs": [
    {
     "name": "stdout",
     "output_type": "stream",
     "text": [
      "Interest rates (0.5-year bond with price 0.95)\n",
      "Effective and continuously compounded:      0.108     0.103\n"
     ]
    }
   ],
   "source": [
    "m  = 0.5                              #maturity\n",
    "B  = 0.95                             #bond price\n",
    "\n",
    "Y = EffRate(B,m)                      #effective interest rate \n",
    "y = ContCompRate(B,m)                 #continuously compounded interest rate\n",
    "\n",
    "printlnPs(\"Interest rates ($m-year bond with price $B)\")\n",
    "printlnPs(\"Effective and continuously compounded: \",[Y y])"
   ]
  },
  {
   "cell_type": "markdown",
   "metadata": {},
   "source": [
    "# Bond Returns (Zero Coupon Bonds)"
   ]
  },
  {
   "cell_type": "markdown",
   "metadata": {},
   "source": [
    "Let $B_0$ denote the price of a bond in period $0$ and $B_1$ the price of the same bond one period later. (For simplicity, we skip the notation for maturity.)\n",
    "\n",
    "The *log* return of holding this bond is $\\ln (B_1/B_0)$\n",
    "\n",
    "The cell below works with continuously compounded interest rates."
   ]
  },
  {
   "cell_type": "code",
   "execution_count": 7,
   "metadata": {},
   "outputs": [
    {
     "name": "stdout",
     "output_type": "stream",
     "text": [
      "Analysis of two bonds: 1y and 10y maturity\n",
      "                            1y            10y\n",
      "Rate, t=0                0.005          0.005\n",
      "Bond price, t=0          0.995          0.951\n",
      "Rate, t=1                0.015          0.015\n",
      "Bond price, t=1          0.985          0.861\n",
      "Return                  -0.010         -0.100\n",
      "\n"
     ]
    }
   ],
   "source": [
    "y₀ = 0.005                      #(continuously compounded) interest rate before\n",
    "y₁ = 0.015                      #interest rate after  \n",
    "\n",
    "B₀ = BillPrice2.(y₀,[1 10])     #bond prices (1-year and 10 year) before\n",
    "B₁ = BillPrice2.(y₁,[1 10])     #bond prices (1-year and 10 year) after\n",
    "\n",
    "R₁ = log.(B₁./B₀)                #return\n",
    "\n",
    "\n",
    "xy       = vcat([y₀ y₀],B₀,[y₁ y₁],B₁,R₁)               #to table      \n",
    "rowNames = [\"Rate, t=0\";\"Bond price, t=0\";\"Rate, t=1\";\"Bond price, t=1\";\"Return\"]\n",
    "println(\"Analysis of two bonds: 1y and 10y maturity\")\n",
    "printTable(xy,[\"1y\";\"10y\"],rowNames,15)"
   ]
  },
  {
   "cell_type": "markdown",
   "metadata": {},
   "source": [
    "# Forward Rates"
   ]
  },
  {
   "cell_type": "markdown",
   "metadata": {},
   "source": [
    "From the forward-spot parity, the forward price of a bond (delivered in $m$ and maturing in $n$) is\n",
    "\n",
    "$F=\\left[  1+Y(m)\\right]  ^{m}B(n)=B(n)/B(m)$.\n",
    "\n",
    "A foward interest rate can then be defined as \n",
    "\n",
    "$\\Gamma(m,n)  =F^{-1/(n-m)}-1$"
   ]
  },
  {
   "cell_type": "code",
   "execution_count": 8,
   "metadata": {},
   "outputs": [
    {
     "data": {
      "text/plain": [
       "ForwardRate (generic function with 1 method)"
      ]
     },
     "execution_count": 8,
     "metadata": {},
     "output_type": "execute_result"
    }
   ],
   "source": [
    "function ForwardRate(Ym,m,Yn,n)           #forward rate, assuming n > m\n",
    "    Bm = (1+Ym)^(-m) \n",
    "    Bn = (1+Yn)^(-n)\n",
    "    F  = Bn/Bm\n",
    "    Γ  = F^(-1/(n-m)) - 1\n",
    "    return Γ\n",
    "end"
   ]
  },
  {
   "cell_type": "code",
   "execution_count": 9,
   "metadata": {},
   "outputs": [
    {
     "name": "stdout",
     "output_type": "stream",
     "text": [
      "\n",
      "Implied forward rate (from 0.5 to 0.75 years ahead):      0.070\n"
     ]
    }
   ],
   "source": [
    "m  = 0.5\n",
    "n  = 0.75\n",
    "Ym = 0.04\n",
    "Yn = 0.05\n",
    "\n",
    "Γ = ForwardRate(Ym,m,Yn,n)\n",
    "printlnPs(\"\\nImplied forward rate (from $m to $n years ahead): \",Γ)"
   ]
  },
  {
   "cell_type": "markdown",
   "metadata": {},
   "source": [
    "# Coupon Bond Prices"
   ]
  },
  {
   "cell_type": "markdown",
   "metadata": {},
   "source": [
    "Recall, the coupon bond price $P$ is the portfolio value of \n",
    "\n",
    "$P = \\sum_{k=1}^{K} B(m_k)cf_k$,\n",
    "\n",
    "where $cf_k$ is the cash flow in $m_k$ and $B(m_k)$ is the price of a zero-coupon bond maturing in $m_k$."
   ]
  },
  {
   "cell_type": "code",
   "execution_count": 10,
   "metadata": {},
   "outputs": [
    {
     "name": "stdout",
     "output_type": "stream",
     "text": [
      "2y bond with 0.06 coupon, zero-coupon prices are      0.950     0.900\n",
      "Coupon bond price      1.011\n"
     ]
    }
   ],
   "source": [
    "B  = [0.95,0.9]             #B(1),B(2)\n",
    "c  = 0.06\n",
    "cf = [c,1+c]            #cash flows in m=1 and 2\n",
    "\n",
    "P = sum(B.*cf)\n",
    "\n",
    "printlnPs(\"2y bond with $c coupon, zero-coupon prices are \",B')\n",
    "printlnPs(\"Coupon bond price \",P)"
   ]
  },
  {
   "cell_type": "markdown",
   "metadata": {},
   "source": [
    "The bond price can also be written\n",
    "\n",
    "$P = \\sum_{k=1}^{K} \\frac{cf_{k}}{\\left[  1+Y(m_{k})\\right]  ^{m_{k}}}$\n",
    "\n",
    "The ```BondPrice3(Y,cf,m)``` function below can handle both the case when $Y$ is a vector with different values for different maturities and when Y is a scalar (same interest rate for all maturities)."
   ]
  },
  {
   "cell_type": "code",
   "execution_count": 11,
   "metadata": {},
   "outputs": [
    {
     "data": {
      "text/plain": [
       "BondPrice3"
      ]
     },
     "execution_count": 11,
     "metadata": {},
     "output_type": "execute_result"
    }
   ],
   "source": [
    "\"\"\"\n",
    "Y:  scalar or K vector of interest rates\n",
    "cf: scalar or K vector of cash flows\n",
    "m: K vector of times for the cash flows\n",
    "\"\"\"\n",
    "function BondPrice3(Y,cf,m)              #cf is a vector of all cash flows at times m\n",
    "    cdisc = cf./((Y.+1).^m)                #c/(1+y1)^m1, c/(1+y2)^m2 + ...\n",
    "    P     = sum(cdisc)                     #price\n",
    "    return P\n",
    "end"
   ]
  },
  {
   "cell_type": "code",
   "execution_count": 12,
   "metadata": {},
   "outputs": [
    {
     "name": "stdout",
     "output_type": "stream",
     "text": [
      "\n",
      "2y bond with 0.06 coupon, spot rates are      0.053     0.054\n",
      "Coupon bond price:      1.011\n",
      "\n",
      "2y bond with 0.09 coupon, spot rates are      0.060     0.091\n",
      "Coupon bond price:      1.001\n"
     ]
    }
   ],
   "source": [
    "Y = [0.053;0.054]\n",
    "c = 0.06\n",
    "P =  BondPrice3(Y,[c;c+1],[1;2])\n",
    "printlnPs(\"\\n2y bond with $c coupon, spot rates are \",Y)\n",
    "printlnPs(\"Coupon bond price: \",P)\n",
    "\n",
    "Y = [0.06;0.091]\n",
    "c = 0.09\n",
    "P =  BondPrice3(Y,[c;c+1],[1;2])\n",
    "printlnPs(\"\\n2y bond with $c coupon, spot rates are \",Y)\n",
    "printlnPs(\"Coupon bond price: \",P)"
   ]
  },
  {
   "cell_type": "markdown",
   "metadata": {
    "collapsed": true
   },
   "source": [
    "# Yield to Maturity"
   ]
  },
  {
   "cell_type": "markdown",
   "metadata": {},
   "source": [
    "The yield to maturity is the $\\theta$ that solves\n",
    "\n",
    "$P = \\sum_{k=1}^{K} \\frac{cf_{k}}{(1+\\theta)  ^{m_{k}}}$\n",
    "\n",
    "We typically have to find $\\theta$ by a numerical method."
   ]
  },
  {
   "cell_type": "code",
   "execution_count": 13,
   "metadata": {},
   "outputs": [
    {
     "name": "stdout",
     "output_type": "stream",
     "text": [
      "Price of 2-year 0.04 coupon bond when all spot rates are 0.03:      1.019\n",
      "     ytm:      0.030\n"
     ]
    }
   ],
   "source": [
    "c = 0.04                   #simple case  \n",
    "Y = 0.03                   #all spot rates are 3%    \n",
    "\n",
    "P = BondPrice3(Y,[c;c+1],[1;2])\n",
    "ytm = find_zero(y->BondPrice3(y,[c;c+1],[1;2])-P,(-0.1,0.1))   #solving for ytm\n",
    "\n",
    "printlnPs(\"Price of 2-year $c coupon bond when all spot rates are $Y: \",P)\n",
    "printlnPs(\"ytm: \",ytm)"
   ]
  },
  {
   "cell_type": "code",
   "execution_count": 14,
   "metadata": {},
   "outputs": [
    {
     "name": "stdout",
     "output_type": "stream",
     "text": [
      "     ytm:      0.091\n"
     ]
    }
   ],
   "source": [
    "m  = [1;3]                #more advanced case, cash flow in year 1 and 3\n",
    "Y  = [0.07;0.10]          #spot interest rates differ across maturities\n",
    "cf = [1;1]       \n",
    "\n",
    "P  = BondPrice3(Y,c,m)\n",
    "ytm = find_zero(y->BondPrice3(y,c,m)-P,(-0.2,0.2))\n",
    "\n",
    "printlnPs(\"ytm: \",ytm)"
   ]
  },
  {
   "cell_type": "markdown",
   "metadata": {},
   "source": [
    "# Bootstrapping (extra)"
   ]
  },
  {
   "cell_type": "markdown",
   "metadata": {},
   "source": [
    "Recall: with information about coupons $c(k)$ and coupon bond price $P(m)$, we solve for the implied zero coupon bond prices $B(s)$ from\n",
    "\n",
    "$\n",
    "\\begin{bmatrix}\n",
    "P(1)\\\\\n",
    "P(2)\n",
    "\\end{bmatrix} =\n",
    "\\begin{bmatrix}\n",
    "c(1)+1 & 0 \\\\\n",
    "c(2) & c(2)+1\n",
    "\\end{bmatrix}\n",
    "\\begin{bmatrix}\n",
    "B(1)\\\\\n",
    "B(2)\n",
    "\\end{bmatrix}\n",
    "$"
   ]
  },
  {
   "cell_type": "code",
   "execution_count": 15,
   "metadata": {},
   "outputs": [
    {
     "name": "stdout",
     "output_type": "stream",
     "text": [
      "The cash flow matrix\n",
      "            mk=1      mk=2\n",
      "Bond 1     1.000     0.000\n",
      "Bond 2     0.060     1.060\n",
      "\n",
      "B from solving P = cfMat*B (implied zero-coupon bond prices):\n",
      "     0.950\n",
      "     0.899\n",
      "\n",
      "Implied spot interest rates:\n",
      "     0.053\n",
      "     0.055\n",
      "\n"
     ]
    }
   ],
   "source": [
    "c     = [0;0.06]\n",
    "P     = [0.95;1.01]                 #coupon bond prices\n",
    "m     = [1;2]                       #time of coupon payments\n",
    "cfMat = [1    0   ;                 #cash flow matrix\n",
    "         c[2] 1+c[2]]\n",
    "\n",
    "println(\"The cash flow matrix\")\n",
    "printTable(cfMat,[\"mk=1\";\"mk=2\"],[\"Bond 1\";\"Bond 2\"])\n",
    "\n",
    "println(\"B from solving P = cfMat*B (implied zero-coupon bond prices):\")\n",
    "B = cfMat\\P\n",
    "printmat(B)\n",
    "\n",
    "Y = EffRate.(B,m)            #solve for the implied spot rates \n",
    "println(\"Implied spot interest rates:\")\n",
    "printmat(Y)"
   ]
  },
  {
   "cell_type": "markdown",
   "metadata": {},
   "source": [
    "# Estimating Yield Curve with Regression Analysis (extra)"
   ]
  },
  {
   "cell_type": "markdown",
   "metadata": {},
   "source": [
    "Recall: with a quadratic discount function\n",
    "\n",
    "$B(m)=a_{0}+a_{1}m+a_{2}m^{2}$,\n",
    "\n",
    "we can write the coupon bond price \n",
    "\n",
    "$P(m_{K})   =\\sum_{k=1}^{K}B(m_{k})c+B(m_{K})$\n",
    "as \n",
    "\n",
    "$P(m_{K})   =\\sum_{k=1}^{K}(a_{0}+a_{1}m_{k}+a_{2}m_{k}^{2})c + \n",
    "(a_{0}+a_{1}m_{K}+a_{2}m_{K}^{2})$\n",
    "\n",
    "Collect terms as \n",
    "\n",
    "$\n",
    "P(m_{K})  =a_{0} (Kc+1) +\n",
    "a_{1}(c \\sum_{k=1}^{K} m_{k}+m_{K}) +\n",
    "a_{2}(c \\sum_{k=1}^{K} m_{k}^{2}+m_{K}^{2})$\n",
    "\n",
    "We estimate $(a_0,a_1,a_2)$ by using the terms (within parentheses) as regressors."
   ]
  },
  {
   "cell_type": "code",
   "execution_count": 16,
   "metadata": {},
   "outputs": [
    {
     "name": "stdout",
     "output_type": "stream",
     "text": [
      "regressors:\n",
      "          term 0    term 1    term 2\n",
      "Bond 1     1.000     1.000     1.000\n",
      "Bond 2     1.120     2.180     4.300\n",
      "\n",
      "regression coefficients\n",
      "     0.693\n",
      "     0.411\n",
      "    -0.154\n",
      "\n",
      "maturities    fitted B\n",
      "     1.000     0.950\n",
      "     2.000     0.899\n",
      "     3.000     0.540\n",
      "     4.000    -0.126\n",
      "     5.000    -1.101\n",
      "\n",
      "maturities    fitted Y\n",
      "     1.000     0.053\n",
      "     2.000     0.055\n",
      "\n",
      "Btw. do B[4:5] make sense? If not, what does that teach us?\n"
     ]
    }
   ],
   "source": [
    "n = length(P)\n",
    "x = zeros(n,3)                      #create regressors for quadratic model: 3 columns\n",
    "for i = 1:n                         #x[i,j] is for bond i, regressor j\n",
    "    x[i,1] = m[i]*c[i] + 1\n",
    "    x[i,2] = c[i]*sum(m[1]:m[i]) + m[i]\n",
    "    x[i,3] = c[i]*sum((m[1]:m[i]).^2) + m[i]^2\n",
    "end    \n",
    "\n",
    "println(\"regressors:\")\n",
    "printTable(x,[\"term 0\";\"term 1\";\"term 2\"],[\"Bond 1\";\"Bond 2\"])\n",
    "\n",
    "a = x\\P                             #regress P on x\n",
    "println(\"regression coefficients\")\n",
    "printmat(a)\n",
    "\n",
    "m = 1:5\n",
    "B = a[1] .+ a[2]*m + a[3]*m.^2      #fitted discount function\n",
    "\n",
    "println(\"maturities    fitted B\")\n",
    "printmat([m B])\n",
    "\n",
    "Y = EffRate.(B[1:2],m[1:2])         #solve for the implied spot rates \n",
    "println(\"maturities    fitted Y\")\n",
    "printmat([m[1:2] Y])\n",
    "\n",
    "println(\"Btw. do B[4:5] make sense? If not, what does that teach us?\")"
   ]
  },
  {
   "cell_type": "code",
   "execution_count": null,
   "metadata": {},
   "outputs": [],
   "source": []
  }
 ],
 "metadata": {
  "anaconda-cloud": {},
  "kernelspec": {
   "display_name": "Julia 1.0.1",
   "language": "julia",
   "name": "julia-1.0"
  },
  "language_info": {
   "file_extension": ".jl",
   "mimetype": "application/julia",
   "name": "julia",
   "version": "1.0.1"
  }
 },
 "nbformat": 4,
 "nbformat_minor": 1
}
