{
 "cells": [
  {
   "cell_type": "markdown",
   "metadata": {},
   "source": [
    "# Options 4: Hedging Options"
   ]
  },
  {
   "cell_type": "markdown",
   "metadata": {},
   "source": [
    "## Load Packages"
   ]
  },
  {
   "cell_type": "code",
   "execution_count": 1,
   "metadata": {},
   "outputs": [
    {
     "data": {
      "text/plain": [
       "println4Ps (generic function with 2 methods)"
      ]
     },
     "execution_count": 1,
     "metadata": {},
     "output_type": "execute_result"
    }
   ],
   "source": [
    "using Dates, Distributions\n",
    "\n",
    "include(\"jlFiles/printmat.jl\")\n",
    "include(\"jlFiles/printTable.jl\")"
   ]
  },
  {
   "cell_type": "code",
   "execution_count": 2,
   "metadata": {},
   "outputs": [],
   "source": [
    "using Plots\n",
    "backend = \"gr\"              #\"gr\" (default), \"pyplot\" \n",
    "\n",
    "if backend == \"pyplot\"\n",
    "    pyplot(size=(600,400))\n",
    "else    \n",
    "    gr(size=(480,320))\n",
    "    default(fmt = :svg)\n",
    "end"
   ]
  },
  {
   "cell_type": "markdown",
   "metadata": {},
   "source": [
    "# Delta of an Option: A First-Order Approximation of a Change"
   ]
  },
  {
   "cell_type": "markdown",
   "metadata": {},
   "source": [
    "\"Delta hedging\" is based on the idea that we can approximate the change in the option price by \n",
    "\n",
    "$C_{t+h}-C_{t}\\approx\\frac{\\partial C_{t}}{\\partial S}\\left(  S_{t+h}-S_{t}\\right)$\n",
    "\n",
    "\n",
    "In the Black-Scholes model, the Delta of a call option is\n",
    "\n",
    "$\\Delta=\\frac{\\partial C}{\\partial S}=e^{-\\delta m}\\Phi\\left(  d_{1}\\right),$ \n",
    "\n",
    "where $d_1$ is the usual term im Black-Scholes. \n",
    "\n",
    "Similarly, the Delta of a put option is \n",
    "\n",
    "$\\frac{\\partial P}{\\partial S}=e^{-\\delta m}[\\Phi\\left(  d_{1}\\right)-1]$.\n",
    "\n",
    "The file included in the next cell contains the functions `Φ()` and `OptionBlackSPs()` from the chapter on the Black-Scholes model. \n",
    "\n",
    "The subsequent cell defines a function for the $\\Delta$ of the Black-Scholes model."
   ]
  },
  {
   "cell_type": "code",
   "execution_count": 3,
   "metadata": {},
   "outputs": [
    {
     "data": {
      "text/plain": [
       "OptionBlackSPs"
      ]
     },
     "execution_count": 3,
     "metadata": {},
     "output_type": "execute_result"
    }
   ],
   "source": [
    "include(\"jlFiles/OptionsCalculations.jl\")"
   ]
  },
  {
   "cell_type": "code",
   "execution_count": 4,
   "metadata": {},
   "outputs": [
    {
     "data": {
      "text/plain": [
       "OptionDelta"
      ]
     },
     "execution_count": 4,
     "metadata": {},
     "output_type": "execute_result"
    }
   ],
   "source": [
    "\"\"\"\n",
    "Calculate the Black-Scholes delta\n",
    "\"\"\"\n",
    "function OptionDelta(S,K,m,y,σ,δ=0,PutIt=false)\n",
    "    d1 = ( log(S/K) + (y-δ+0.5*σ^2)*m ) / (σ*sqrt(m))\n",
    "    d2 = d1 - σ*sqrt(m)\n",
    "    if PutIt \n",
    "        Δ = exp(-δ*m)*(Φ(d1)-1)\n",
    "    else     \n",
    "        Δ = exp(-δ*m)*Φ(d1)              \n",
    "    end    \n",
    "    return Δ\n",
    "end"
   ]
  },
  {
   "cell_type": "code",
   "execution_count": 5,
   "metadata": {},
   "outputs": [
    {
     "name": "stdout",
     "output_type": "stream",
     "text": [
      "Δ of call and put and the difference:      0.598    -0.402     1.000\n"
     ]
    }
   ],
   "source": [
    "(S,K,m,y,σ) = (42,42,0.5,0.05,0.2)\n",
    "\n",
    "Δc = OptionDelta(S,K,m,y,σ)               #call\n",
    "Δp = OptionDelta(S,K,m,y,σ,0,true)        #put\n",
    "printlnPs(\"Δ of call and put and the difference: \",[Δc Δp (Δc-Δp)])"
   ]
  },
  {
   "cell_type": "code",
   "execution_count": 6,
   "metadata": {},
   "outputs": [
    {
     "data": {
      "image/svg+xml": [
       "<?xml version=\"1.0\" encoding=\"utf-8\"?>\n",
       "<svg xmlns=\"http://www.w3.org/2000/svg\" xmlns:xlink=\"http://www.w3.org/1999/xlink\" width=\"480\" height=\"320\" viewBox=\"0 0 1920 1280\">\n",
       "<defs>\n",
       "  <clipPath id=\"clip7300\">\n",
       "    <rect x=\"0\" y=\"0\" width=\"2000\" height=\"2000\"/>\n",
       "  </clipPath>\n",
       "</defs>\n",
       "<defs>\n",
       "  <clipPath id=\"clip7301\">\n",
       "    <rect x=\"0\" y=\"0\" width=\"1920\" height=\"1280\"/>\n",
       "  </clipPath>\n",
       "</defs>\n",
       "<polygon clip-path=\"url(#clip7301)\" points=\"\n",
       "0,1280 1920,1280 1920,0 0,0 \n",
       "  \" fill=\"#ffffff\" fill-rule=\"evenodd\" fill-opacity=\"1\"/>\n",
       "<defs>\n",
       "  <clipPath id=\"clip7302\">\n",
       "    <rect x=\"384\" y=\"0\" width=\"1345\" height=\"1280\"/>\n",
       "  </clipPath>\n",
       "</defs>\n",
       "<polygon clip-path=\"url(#clip7301)\" points=\"\n",
       "251.149,1120.48 1841.26,1120.48 1841.26,125.984 251.149,125.984 \n",
       "  \" fill=\"#ffffff\" fill-rule=\"evenodd\" fill-opacity=\"1\"/>\n",
       "<defs>\n",
       "  <clipPath id=\"clip7303\">\n",
       "    <rect x=\"251\" y=\"125\" width=\"1591\" height=\"995\"/>\n",
       "  </clipPath>\n",
       "</defs>\n",
       "<polyline clip-path=\"url(#clip7303)\" style=\"stroke:#000000; stroke-width:2; stroke-opacity:0.1; fill:none\" points=\"\n",
       "  296.152,1120.48 296.152,125.984 \n",
       "  \"/>\n",
       "<polyline clip-path=\"url(#clip7303)\" style=\"stroke:#000000; stroke-width:2; stroke-opacity:0.1; fill:none\" points=\"\n",
       "  796.187,1120.48 796.187,125.984 \n",
       "  \"/>\n",
       "<polyline clip-path=\"url(#clip7303)\" style=\"stroke:#000000; stroke-width:2; stroke-opacity:0.1; fill:none\" points=\"\n",
       "  1296.22,1120.48 1296.22,125.984 \n",
       "  \"/>\n",
       "<polyline clip-path=\"url(#clip7303)\" style=\"stroke:#000000; stroke-width:2; stroke-opacity:0.1; fill:none\" points=\"\n",
       "  1796.26,1120.48 1796.26,125.984 \n",
       "  \"/>\n",
       "<polyline clip-path=\"url(#clip7303)\" style=\"stroke:#000000; stroke-width:2; stroke-opacity:0.1; fill:none\" points=\"\n",
       "  251.149,1108.14 1841.26,1108.14 \n",
       "  \"/>\n",
       "<polyline clip-path=\"url(#clip7303)\" style=\"stroke:#000000; stroke-width:2; stroke-opacity:0.1; fill:none\" points=\"\n",
       "  251.149,868.963 1841.26,868.963 \n",
       "  \"/>\n",
       "<polyline clip-path=\"url(#clip7303)\" style=\"stroke:#000000; stroke-width:2; stroke-opacity:0.1; fill:none\" points=\"\n",
       "  251.149,629.791 1841.26,629.791 \n",
       "  \"/>\n",
       "<polyline clip-path=\"url(#clip7303)\" style=\"stroke:#000000; stroke-width:2; stroke-opacity:0.1; fill:none\" points=\"\n",
       "  251.149,390.618 1841.26,390.618 \n",
       "  \"/>\n",
       "<polyline clip-path=\"url(#clip7303)\" style=\"stroke:#000000; stroke-width:2; stroke-opacity:0.1; fill:none\" points=\"\n",
       "  251.149,151.445 1841.26,151.445 \n",
       "  \"/>\n",
       "<polyline clip-path=\"url(#clip7301)\" style=\"stroke:#000000; stroke-width:4; stroke-opacity:1; fill:none\" points=\"\n",
       "  251.149,1120.48 1841.26,1120.48 \n",
       "  \"/>\n",
       "<polyline clip-path=\"url(#clip7301)\" style=\"stroke:#000000; stroke-width:4; stroke-opacity:1; fill:none\" points=\"\n",
       "  251.149,1120.48 251.149,125.984 \n",
       "  \"/>\n",
       "<polyline clip-path=\"url(#clip7301)\" style=\"stroke:#000000; stroke-width:4; stroke-opacity:1; fill:none\" points=\"\n",
       "  296.152,1120.48 296.152,1105.57 \n",
       "  \"/>\n",
       "<polyline clip-path=\"url(#clip7301)\" style=\"stroke:#000000; stroke-width:4; stroke-opacity:1; fill:none\" points=\"\n",
       "  796.187,1120.48 796.187,1105.57 \n",
       "  \"/>\n",
       "<polyline clip-path=\"url(#clip7301)\" style=\"stroke:#000000; stroke-width:4; stroke-opacity:1; fill:none\" points=\"\n",
       "  1296.22,1120.48 1296.22,1105.57 \n",
       "  \"/>\n",
       "<polyline clip-path=\"url(#clip7301)\" style=\"stroke:#000000; stroke-width:4; stroke-opacity:1; fill:none\" points=\"\n",
       "  1796.26,1120.48 1796.26,1105.57 \n",
       "  \"/>\n",
       "<polyline clip-path=\"url(#clip7301)\" style=\"stroke:#000000; stroke-width:4; stroke-opacity:1; fill:none\" points=\"\n",
       "  251.149,1108.14 275,1108.14 \n",
       "  \"/>\n",
       "<polyline clip-path=\"url(#clip7301)\" style=\"stroke:#000000; stroke-width:4; stroke-opacity:1; fill:none\" points=\"\n",
       "  251.149,868.963 275,868.963 \n",
       "  \"/>\n",
       "<polyline clip-path=\"url(#clip7301)\" style=\"stroke:#000000; stroke-width:4; stroke-opacity:1; fill:none\" points=\"\n",
       "  251.149,629.791 275,629.791 \n",
       "  \"/>\n",
       "<polyline clip-path=\"url(#clip7301)\" style=\"stroke:#000000; stroke-width:4; stroke-opacity:1; fill:none\" points=\"\n",
       "  251.149,390.618 275,390.618 \n",
       "  \"/>\n",
       "<polyline clip-path=\"url(#clip7301)\" style=\"stroke:#000000; stroke-width:4; stroke-opacity:1; fill:none\" points=\"\n",
       "  251.149,151.445 275,151.445 \n",
       "  \"/>\n",
       "<g clip-path=\"url(#clip7301)\">\n",
       "<text style=\"fill:#000000; fill-opacity:1; font-family:Arial,Helvetica Neue,Helvetica,sans-serif; font-size:48px; text-anchor:middle;\" transform=\"rotate(0, 296.152, 1172.08)\" x=\"296.152\" y=\"1172.08\">30</text>\n",
       "</g>\n",
       "<g clip-path=\"url(#clip7301)\">\n",
       "<text style=\"fill:#000000; fill-opacity:1; font-family:Arial,Helvetica Neue,Helvetica,sans-serif; font-size:48px; text-anchor:middle;\" transform=\"rotate(0, 796.187, 1172.08)\" x=\"796.187\" y=\"1172.08\">40</text>\n",
       "</g>\n",
       "<g clip-path=\"url(#clip7301)\">\n",
       "<text style=\"fill:#000000; fill-opacity:1; font-family:Arial,Helvetica Neue,Helvetica,sans-serif; font-size:48px; text-anchor:middle;\" transform=\"rotate(0, 1296.22, 1172.08)\" x=\"1296.22\" y=\"1172.08\">50</text>\n",
       "</g>\n",
       "<g clip-path=\"url(#clip7301)\">\n",
       "<text style=\"fill:#000000; fill-opacity:1; font-family:Arial,Helvetica Neue,Helvetica,sans-serif; font-size:48px; text-anchor:middle;\" transform=\"rotate(0, 1796.26, 1172.08)\" x=\"1796.26\" y=\"1172.08\">60</text>\n",
       "</g>\n",
       "<g clip-path=\"url(#clip7301)\">\n",
       "<text style=\"fill:#000000; fill-opacity:1; font-family:Arial,Helvetica Neue,Helvetica,sans-serif; font-size:48px; text-anchor:end;\" transform=\"rotate(0, 231.949, 1125.64)\" x=\"231.949\" y=\"1125.64\">0.00</text>\n",
       "</g>\n",
       "<g clip-path=\"url(#clip7301)\">\n",
       "<text style=\"fill:#000000; fill-opacity:1; font-family:Arial,Helvetica Neue,Helvetica,sans-serif; font-size:48px; text-anchor:end;\" transform=\"rotate(0, 231.949, 886.463)\" x=\"231.949\" y=\"886.463\">0.25</text>\n",
       "</g>\n",
       "<g clip-path=\"url(#clip7301)\">\n",
       "<text style=\"fill:#000000; fill-opacity:1; font-family:Arial,Helvetica Neue,Helvetica,sans-serif; font-size:48px; text-anchor:end;\" transform=\"rotate(0, 231.949, 647.291)\" x=\"231.949\" y=\"647.291\">0.50</text>\n",
       "</g>\n",
       "<g clip-path=\"url(#clip7301)\">\n",
       "<text style=\"fill:#000000; fill-opacity:1; font-family:Arial,Helvetica Neue,Helvetica,sans-serif; font-size:48px; text-anchor:end;\" transform=\"rotate(0, 231.949, 408.118)\" x=\"231.949\" y=\"408.118\">0.75</text>\n",
       "</g>\n",
       "<g clip-path=\"url(#clip7301)\">\n",
       "<text style=\"fill:#000000; fill-opacity:1; font-family:Arial,Helvetica Neue,Helvetica,sans-serif; font-size:48px; text-anchor:end;\" transform=\"rotate(0, 231.949, 168.945)\" x=\"231.949\" y=\"168.945\">1.00</text>\n",
       "</g>\n",
       "<g clip-path=\"url(#clip7301)\">\n",
       "<text style=\"fill:#000000; fill-opacity:1; font-family:Arial,Helvetica Neue,Helvetica,sans-serif; font-size:84px; text-anchor:middle;\" transform=\"rotate(0, 1046.2, 73.2)\" x=\"1046.2\" y=\"73.2\">Black-Scholes call option delta</text>\n",
       "</g>\n",
       "<g clip-path=\"url(#clip7301)\">\n",
       "<text style=\"fill:#000000; fill-opacity:1; font-family:Arial,Helvetica Neue,Helvetica,sans-serif; font-size:66px; text-anchor:middle;\" transform=\"rotate(0, 1046.2, 1270.4)\" x=\"1046.2\" y=\"1270.4\">current asset price</text>\n",
       "</g>\n",
       "<g clip-path=\"url(#clip7301)\">\n",
       "<text style=\"fill:#000000; fill-opacity:1; font-family:Arial,Helvetica Neue,Helvetica,sans-serif; font-size:66px; text-anchor:middle;\" transform=\"rotate(-90, 57.6, 623.233)\" x=\"57.6\" y=\"623.233\">option price</text>\n",
       "</g>\n",
       "<polyline clip-path=\"url(#clip7303)\" style=\"stroke:#ff0000; stroke-width:4; stroke-opacity:1; fill:none\" points=\"\n",
       "  296.152,1092.34 346.155,1080.65 396.159,1063.24 446.162,1038.82 496.166,1006.48 546.169,965.808 596.173,917.039 646.176,861.08 696.18,799.428 746.183,734.004 \n",
       "  796.187,666.948 846.19,600.396 896.194,536.289 946.197,476.226 996.201,421.386 1046.2,372.504 1096.21,329.897 1146.21,293.528 1196.21,263.082 1246.22,238.055 \n",
       "  1296.22,217.83 1346.23,201.744 1396.23,189.14 1446.23,179.4 1496.24,171.973 1546.24,166.378 1596.24,162.211 1646.25,159.142 1696.25,156.904 1746.25,155.288 \n",
       "  1796.26,154.13 \n",
       "  \"/>\n",
       "</svg>\n"
      ]
     },
     "execution_count": 6,
     "metadata": {},
     "output_type": "execute_result"
    }
   ],
   "source": [
    "S_range    = 30:60                        #different spot prices      \n",
    "Δc_S_range = OptionDelta.(S_range,K,m,y,σ)          \n",
    "\n",
    "p1 = plot(S_range,Δc_S_range,color=:red,legend=false)\n",
    "title!(\"Black-Scholes call option delta\")\n",
    "xlabel!(\"current asset price\")\n",
    "ylabel!(\"option price\")"
   ]
  },
  {
   "cell_type": "markdown",
   "metadata": {},
   "source": [
    "# Hedging an Option\n",
    "\n",
    "The example below shows how a delta hedging works for a European call option when the price of the underlying changes (from 42 on day 0 to 43 on day 1). For simplicity, we assume that the Black-Scholes model is a good description of how the option price is set."
   ]
  },
  {
   "cell_type": "code",
   "execution_count": 7,
   "metadata": {},
   "outputs": [
    {
     "name": "stdout",
     "output_type": "stream",
     "text": [
      "            \n",
      "S₀    42.000\n",
      "Δ₀     0.598\n",
      "C₀     2.893\n",
      "M₀   -22.212\n",
      "S₁    43.000\n",
      "C₁     3.509\n",
      "dC     0.616\n",
      "dV    -0.018\n",
      "\n",
      "\n",
      "\u001b[34mV changes much less in value than the option (abs(dV) < abs(dC)): \u001b[39m\n",
      "\u001b[34mthe hedge helps\u001b[39m"
     ]
    }
   ],
   "source": [
    "(S₀,S₁,K,m,y,σ) = (42,43,42,0.5,0.05,0.2)\n",
    "\n",
    "C₀ = OptionBlackSPs(S₀,K,m,y,σ)   #option price at S₀\n",
    "Δ₀ = OptionDelta(S₀,K,m,y,σ)      #Delta at S₀\n",
    "M₀ = C₀ - Δ₀*S₀                    #on money market account\n",
    "\n",
    "C₁ = OptionBlackSPs(S₁,K,m-1/252,y,σ)   #option price at S₁ (it's one day later) \n",
    "dC = C₁ - C₀                      #change of option value         \n",
    "dV = Δ₀*(S₁-S₀) - (C₁-C₀)           #change of hedge portfolio value\n",
    "\n",
    "xy = [S₀,Δ₀,C₀,M₀,S₁,C₁,dC,dV]\n",
    "printTable(xy,[\" \"],[\"S₀\",\"Δ₀\",\"C₀\",\"M₀\",\"S₁\",\"C₁\",\"dC\",\"dV\"])\n",
    "\n",
    "\n",
    "printstyled(\"\\nV changes much less in value than the option (abs(dV) < abs(dC)): \n",
    "the hedge helps\",color=:blue)"
   ]
  },
  {
   "cell_type": "code",
   "execution_count": null,
   "metadata": {},
   "outputs": [],
   "source": []
  }
 ],
 "metadata": {
  "anaconda-cloud": {},
  "kernelspec": {
   "display_name": "Julia 1.0.3",
   "language": "julia",
   "name": "julia-1.0"
  },
  "language_info": {
   "file_extension": ".jl",
   "mimetype": "application/julia",
   "name": "julia",
   "version": "1.0.3"
  }
 },
 "nbformat": 4,
 "nbformat_minor": 1
}
