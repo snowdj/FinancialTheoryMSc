{
 "cells": [
  {
   "cell_type": "markdown",
   "metadata": {},
   "source": [
    "## Load Packages"
   ]
  },
  {
   "cell_type": "code",
   "execution_count": 1,
   "metadata": {},
   "outputs": [
    {
     "data": {
      "text/plain": [
       "printlnPs (generic function with 2 methods)"
      ]
     },
     "execution_count": 1,
     "metadata": {},
     "output_type": "execute_result"
    }
   ],
   "source": [
    "#using Dates, DelimitedFiles  #in Julia 0.7\n",
    "using Compat, Missings        #to use 0.7 syntax in 0.6\n",
    "\n",
    "include(\"printmat.jl\")"
   ]
  },
  {
   "cell_type": "code",
   "execution_count": 2,
   "metadata": {},
   "outputs": [
    {
     "data": {
      "text/plain": [
       "Plots.GRBackend()"
      ]
     },
     "execution_count": 2,
     "metadata": {},
     "output_type": "execute_result"
    }
   ],
   "source": [
    "using Plots\n",
    "backend = \"gr\"              #\"gr\" (default), \"pyplot\" \n",
    "\n",
    "if backend == \"pyplot\"\n",
    "    pyplot(size=(600,400))\n",
    "else    \n",
    "    gr(size=(600,400))\n",
    "end"
   ]
  },
  {
   "cell_type": "markdown",
   "metadata": {},
   "source": [
    "# Portfolio Choice with Background Risk"
   ]
  },
  {
   "cell_type": "markdown",
   "metadata": {},
   "source": [
    "Recall: the investor maximizes\n",
    "$\\text{E}R_{p}-\\frac{k}{2}\\text{Var}(R_{p})$, where \n",
    "\n",
    "$R_{p}=v^{\\prime}R+\\phi R_{H}+(1-\\mathbf{1}^{\\prime}v-\\phi)R_{f}$\n",
    "\n",
    "Also, $\\text{Var}(R_{p}) = u'\\Sigma u$, where $u = [v;\\phi]$\n",
    "\n",
    "Notice that with $\\sigma_{1H}=0$, the choice of $v$ is not affected by $\\phi$ (in spite of the fact that the background risk affects utility)."
   ]
  },
  {
   "cell_type": "code",
   "execution_count": 3,
   "metadata": {},
   "outputs": [
    {
     "data": {
      "text/plain": [
       "EU (generic function with 2 methods)"
      ]
     },
     "execution_count": 3,
     "metadata": {},
     "output_type": "execute_result"
    }
   ],
   "source": [
    "function EU(v,ϕ,k,μe,Σ,μeH=0)  #expected utility for the case with background risk\n",
    "    u     = [v;ϕ]              #portfolio weight vector, all risky assets. Background risk last.       \n",
    "    ERp   = u'*[μe;μeH]        #μeH defaults to zero\n",
    "    VarRp = u'Σ*u\n",
    "    EUtil = ERp - k/2*VarRp\n",
    "    return EUtil\n",
    "end"
   ]
  },
  {
   "cell_type": "code",
   "execution_count": 4,
   "metadata": {},
   "outputs": [],
   "source": [
    "Σ_A = [0.04 0;                 #covariance with H is zero\n",
    "       0    0.01]              #σHH does not matter for the choice, just set it to 0.01  \n",
    "Σ_C = [0.04 0.01;              #alternative covariance matrix: covariance with H is positive\n",
    "       0.01 0.01]       \n",
    "\n",
    "v = Compat.range(0.4,stop=1,length=51)\n",
    "L = length(v)\n",
    "\n",
    "EUM = fill(NaN,(L,3))                   #try different v values (weight on risky investable asset)\n",
    "for i = 1:L\n",
    "    EUM[i,1] = EU(v[i],0.0,3,0.08,Σ_A)\n",
    "    EUM[i,2] = EU(v[i],0.5,3,0.08,Σ_A)    \n",
    "    EUM[i,3] = EU(v[i],0.5,3,0.08,Σ_C)\n",
    "end    "
   ]
  },
  {
   "cell_type": "code",
   "execution_count": 5,
   "metadata": {},
   "outputs": [
    {
     "name": "stdout",
     "output_type": "stream",
     "text": [
      "Notice: with σ1H=0, the choice of v is not affected by ϕ\n"
     ]
    },
    {
     "data": {
      "image/svg+xml": [
       "<?xml version=\"1.0\" encoding=\"utf-8\"?>\n",
       "<svg xmlns=\"http://www.w3.org/2000/svg\" xmlns:xlink=\"http://www.w3.org/1999/xlink\" width=\"600\" height=\"400\" viewBox=\"0 0 600 400\">\n",
       "<defs>\n",
       "  <clipPath id=\"clip4900\">\n",
       "    <rect x=\"0\" y=\"0\" width=\"600\" height=\"400\"/>\n",
       "  </clipPath>\n",
       "</defs>\n",
       "<polygon clip-path=\"url(#clip4900)\" points=\"\n",
       "0,400 600,400 600,0 0,0 \n",
       "  \" fill=\"#ffffff\" fill-opacity=\"1\"/>\n",
       "<defs>\n",
       "  <clipPath id=\"clip4901\">\n",
       "    <rect x=\"120\" y=\"0\" width=\"421\" height=\"400\"/>\n",
       "  </clipPath>\n",
       "</defs>\n",
       "<polygon clip-path=\"url(#clip4900)\" points=\"\n",
       "53.7297,360.121 580.315,360.121 580.315,31.4961 53.7297,31.4961 \n",
       "  \" fill=\"#ffffff\" fill-opacity=\"1\"/>\n",
       "<defs>\n",
       "  <clipPath id=\"clip4902\">\n",
       "    <rect x=\"53\" y=\"31\" width=\"528\" height=\"330\"/>\n",
       "  </clipPath>\n",
       "</defs>\n",
       "<polyline clip-path=\"url(#clip4902)\" style=\"stroke:#000000; stroke-width:0.5; stroke-opacity:0.1; fill:none\" points=\"\n",
       "  68.633,360.121 68.633,31.4961 \n",
       "  \"/>\n",
       "<polyline clip-path=\"url(#clip4902)\" style=\"stroke:#000000; stroke-width:0.5; stroke-opacity:0.1; fill:none\" points=\"\n",
       "  151.429,360.121 151.429,31.4961 \n",
       "  \"/>\n",
       "<polyline clip-path=\"url(#clip4902)\" style=\"stroke:#000000; stroke-width:0.5; stroke-opacity:0.1; fill:none\" points=\"\n",
       "  234.226,360.121 234.226,31.4961 \n",
       "  \"/>\n",
       "<polyline clip-path=\"url(#clip4902)\" style=\"stroke:#000000; stroke-width:0.5; stroke-opacity:0.1; fill:none\" points=\"\n",
       "  317.022,360.121 317.022,31.4961 \n",
       "  \"/>\n",
       "<polyline clip-path=\"url(#clip4902)\" style=\"stroke:#000000; stroke-width:0.5; stroke-opacity:0.1; fill:none\" points=\"\n",
       "  399.819,360.121 399.819,31.4961 \n",
       "  \"/>\n",
       "<polyline clip-path=\"url(#clip4902)\" style=\"stroke:#000000; stroke-width:0.5; stroke-opacity:0.1; fill:none\" points=\"\n",
       "  482.615,360.121 482.615,31.4961 \n",
       "  \"/>\n",
       "<polyline clip-path=\"url(#clip4902)\" style=\"stroke:#000000; stroke-width:0.5; stroke-opacity:0.1; fill:none\" points=\"\n",
       "  565.412,360.121 565.412,31.4961 \n",
       "  \"/>\n",
       "<polyline clip-path=\"url(#clip4902)\" style=\"stroke:#000000; stroke-width:0.5; stroke-opacity:0.1; fill:none\" points=\"\n",
       "  53.7297,305.078 580.315,305.078 \n",
       "  \"/>\n",
       "<polyline clip-path=\"url(#clip4902)\" style=\"stroke:#000000; stroke-width:0.5; stroke-opacity:0.1; fill:none\" points=\"\n",
       "  53.7297,244.089 580.315,244.089 \n",
       "  \"/>\n",
       "<polyline clip-path=\"url(#clip4902)\" style=\"stroke:#000000; stroke-width:0.5; stroke-opacity:0.1; fill:none\" points=\"\n",
       "  53.7297,183.1 580.315,183.1 \n",
       "  \"/>\n",
       "<polyline clip-path=\"url(#clip4902)\" style=\"stroke:#000000; stroke-width:0.5; stroke-opacity:0.1; fill:none\" points=\"\n",
       "  53.7297,122.11 580.315,122.11 \n",
       "  \"/>\n",
       "<polyline clip-path=\"url(#clip4902)\" style=\"stroke:#000000; stroke-width:0.5; stroke-opacity:0.1; fill:none\" points=\"\n",
       "  53.7297,61.1213 580.315,61.1213 \n",
       "  \"/>\n",
       "<polyline clip-path=\"url(#clip4900)\" style=\"stroke:#000000; stroke-width:1; stroke-opacity:1; fill:none\" points=\"\n",
       "  53.7297,360.121 580.315,360.121 \n",
       "  \"/>\n",
       "<polyline clip-path=\"url(#clip4900)\" style=\"stroke:#000000; stroke-width:1; stroke-opacity:1; fill:none\" points=\"\n",
       "  53.7297,360.121 53.7297,31.4961 \n",
       "  \"/>\n",
       "<polyline clip-path=\"url(#clip4900)\" style=\"stroke:#000000; stroke-width:1; stroke-opacity:1; fill:none\" points=\"\n",
       "  68.633,360.121 68.633,355.191 \n",
       "  \"/>\n",
       "<polyline clip-path=\"url(#clip4900)\" style=\"stroke:#000000; stroke-width:1; stroke-opacity:1; fill:none\" points=\"\n",
       "  151.429,360.121 151.429,355.191 \n",
       "  \"/>\n",
       "<polyline clip-path=\"url(#clip4900)\" style=\"stroke:#000000; stroke-width:1; stroke-opacity:1; fill:none\" points=\"\n",
       "  234.226,360.121 234.226,355.191 \n",
       "  \"/>\n",
       "<polyline clip-path=\"url(#clip4900)\" style=\"stroke:#000000; stroke-width:1; stroke-opacity:1; fill:none\" points=\"\n",
       "  317.022,360.121 317.022,355.191 \n",
       "  \"/>\n",
       "<polyline clip-path=\"url(#clip4900)\" style=\"stroke:#000000; stroke-width:1; stroke-opacity:1; fill:none\" points=\"\n",
       "  399.819,360.121 399.819,355.191 \n",
       "  \"/>\n",
       "<polyline clip-path=\"url(#clip4900)\" style=\"stroke:#000000; stroke-width:1; stroke-opacity:1; fill:none\" points=\"\n",
       "  482.615,360.121 482.615,355.191 \n",
       "  \"/>\n",
       "<polyline clip-path=\"url(#clip4900)\" style=\"stroke:#000000; stroke-width:1; stroke-opacity:1; fill:none\" points=\"\n",
       "  565.412,360.121 565.412,355.191 \n",
       "  \"/>\n",
       "<polyline clip-path=\"url(#clip4900)\" style=\"stroke:#000000; stroke-width:1; stroke-opacity:1; fill:none\" points=\"\n",
       "  53.7297,305.078 61.6285,305.078 \n",
       "  \"/>\n",
       "<polyline clip-path=\"url(#clip4900)\" style=\"stroke:#000000; stroke-width:1; stroke-opacity:1; fill:none\" points=\"\n",
       "  53.7297,244.089 61.6285,244.089 \n",
       "  \"/>\n",
       "<polyline clip-path=\"url(#clip4900)\" style=\"stroke:#000000; stroke-width:1; stroke-opacity:1; fill:none\" points=\"\n",
       "  53.7297,183.1 61.6285,183.1 \n",
       "  \"/>\n",
       "<polyline clip-path=\"url(#clip4900)\" style=\"stroke:#000000; stroke-width:1; stroke-opacity:1; fill:none\" points=\"\n",
       "  53.7297,122.11 61.6285,122.11 \n",
       "  \"/>\n",
       "<polyline clip-path=\"url(#clip4900)\" style=\"stroke:#000000; stroke-width:1; stroke-opacity:1; fill:none\" points=\"\n",
       "  53.7297,61.1213 61.6285,61.1213 \n",
       "  \"/>\n",
       "<g clip-path=\"url(#clip4900)\">\n",
       "<text style=\"fill:#000000; fill-opacity:1; font-family:Arial,Helvetica Neue,Helvetica,sans-serif; font-size:12; text-anchor:middle;\" transform=\"rotate(0, 68.633, 373.921)\" x=\"68.633\" y=\"373.921\">0.4</text>\n",
       "</g>\n",
       "<g clip-path=\"url(#clip4900)\">\n",
       "<text style=\"fill:#000000; fill-opacity:1; font-family:Arial,Helvetica Neue,Helvetica,sans-serif; font-size:12; text-anchor:middle;\" transform=\"rotate(0, 151.429, 373.921)\" x=\"151.429\" y=\"373.921\">0.5</text>\n",
       "</g>\n",
       "<g clip-path=\"url(#clip4900)\">\n",
       "<text style=\"fill:#000000; fill-opacity:1; font-family:Arial,Helvetica Neue,Helvetica,sans-serif; font-size:12; text-anchor:middle;\" transform=\"rotate(0, 234.226, 373.921)\" x=\"234.226\" y=\"373.921\">0.6</text>\n",
       "</g>\n",
       "<g clip-path=\"url(#clip4900)\">\n",
       "<text style=\"fill:#000000; fill-opacity:1; font-family:Arial,Helvetica Neue,Helvetica,sans-serif; font-size:12; text-anchor:middle;\" transform=\"rotate(0, 317.022, 373.921)\" x=\"317.022\" y=\"373.921\">0.7</text>\n",
       "</g>\n",
       "<g clip-path=\"url(#clip4900)\">\n",
       "<text style=\"fill:#000000; fill-opacity:1; font-family:Arial,Helvetica Neue,Helvetica,sans-serif; font-size:12; text-anchor:middle;\" transform=\"rotate(0, 399.819, 373.921)\" x=\"399.819\" y=\"373.921\">0.8</text>\n",
       "</g>\n",
       "<g clip-path=\"url(#clip4900)\">\n",
       "<text style=\"fill:#000000; fill-opacity:1; font-family:Arial,Helvetica Neue,Helvetica,sans-serif; font-size:12; text-anchor:middle;\" transform=\"rotate(0, 482.615, 373.921)\" x=\"482.615\" y=\"373.921\">0.9</text>\n",
       "</g>\n",
       "<g clip-path=\"url(#clip4900)\">\n",
       "<text style=\"fill:#000000; fill-opacity:1; font-family:Arial,Helvetica Neue,Helvetica,sans-serif; font-size:12; text-anchor:middle;\" transform=\"rotate(0, 565.412, 373.921)\" x=\"565.412\" y=\"373.921\">1.0</text>\n",
       "</g>\n",
       "<g clip-path=\"url(#clip4900)\">\n",
       "<text style=\"fill:#000000; fill-opacity:1; font-family:Arial,Helvetica Neue,Helvetica,sans-serif; font-size:12; text-anchor:end;\" transform=\"rotate(0, 47.7297, 309.578)\" x=\"47.7297\" y=\"309.578\">0.005</text>\n",
       "</g>\n",
       "<g clip-path=\"url(#clip4900)\">\n",
       "<text style=\"fill:#000000; fill-opacity:1; font-family:Arial,Helvetica Neue,Helvetica,sans-serif; font-size:12; text-anchor:end;\" transform=\"rotate(0, 47.7297, 248.589)\" x=\"47.7297\" y=\"248.589\">0.010</text>\n",
       "</g>\n",
       "<g clip-path=\"url(#clip4900)\">\n",
       "<text style=\"fill:#000000; fill-opacity:1; font-family:Arial,Helvetica Neue,Helvetica,sans-serif; font-size:12; text-anchor:end;\" transform=\"rotate(0, 47.7297, 187.6)\" x=\"47.7297\" y=\"187.6\">0.015</text>\n",
       "</g>\n",
       "<g clip-path=\"url(#clip4900)\">\n",
       "<text style=\"fill:#000000; fill-opacity:1; font-family:Arial,Helvetica Neue,Helvetica,sans-serif; font-size:12; text-anchor:end;\" transform=\"rotate(0, 47.7297, 126.61)\" x=\"47.7297\" y=\"126.61\">0.020</text>\n",
       "</g>\n",
       "<g clip-path=\"url(#clip4900)\">\n",
       "<text style=\"fill:#000000; fill-opacity:1; font-family:Arial,Helvetica Neue,Helvetica,sans-serif; font-size:12; text-anchor:end;\" transform=\"rotate(0, 47.7297, 65.6213)\" x=\"47.7297\" y=\"65.6213\">0.025</text>\n",
       "</g>\n",
       "<g clip-path=\"url(#clip4900)\">\n",
       "<text style=\"fill:#000000; fill-opacity:1; font-family:Arial,Helvetica Neue,Helvetica,sans-serif; font-size:21; text-anchor:middle;\" transform=\"rotate(0, 317.022, 18)\" x=\"317.022\" y=\"18\">Expected utility</text>\n",
       "</g>\n",
       "<g clip-path=\"url(#clip4900)\">\n",
       "<text style=\"fill:#000000; fill-opacity:1; font-family:Arial,Helvetica Neue,Helvetica,sans-serif; font-size:16; text-anchor:middle;\" transform=\"rotate(0, 317.022, 397.6)\" x=\"317.022\" y=\"397.6\">v, weight on risky asset</text>\n",
       "</g>\n",
       "<polyline clip-path=\"url(#clip4902)\" style=\"stroke:#ff0000; stroke-width:2; stroke-opacity:1; fill:none\" points=\"\n",
       "  68.633,92.8357 78.5686,88.2571 88.5042,83.8893 98.4398,79.7323 108.375,75.786 118.311,72.0505 128.246,68.5259 138.182,65.212 148.118,62.1088 158.053,59.2165 \n",
       "  167.989,56.5349 177.924,54.0641 187.86,51.8041 197.795,49.7549 207.731,47.9164 217.667,46.2887 227.602,44.8718 237.538,43.6657 247.473,42.6703 257.409,41.8858 \n",
       "  267.344,41.312 277.28,40.949 287.216,40.7968 297.151,40.8553 307.087,41.1246 317.022,41.6047 326.958,42.2956 336.893,43.1973 346.829,44.3097 356.765,45.633 \n",
       "  366.7,47.167 376.636,48.9117 386.571,50.8673 396.507,53.0336 406.442,55.4107 416.378,57.9986 426.314,60.7973 436.249,63.8068 446.185,67.027 456.12,70.458 \n",
       "  466.056,74.0998 475.991,77.9524 485.927,82.0157 495.863,86.2898 505.798,90.7747 515.734,95.4704 525.669,100.377 535.605,105.494 545.54,110.822 555.476,116.361 \n",
       "  565.412,122.11 \n",
       "  \"/>\n",
       "<polyline clip-path=\"url(#clip4902)\" style=\"stroke:#0000ff; stroke-width:2; stroke-opacity:1; fill:none\" points=\"\n",
       "  68.633,138.578 78.5686,133.999 88.5042,129.631 98.4398,125.474 108.375,121.528 118.311,117.792 128.246,114.268 138.182,110.954 148.118,107.851 158.053,104.958 \n",
       "  167.989,102.277 177.924,99.806 187.86,97.546 197.795,95.4967 207.731,93.6583 217.667,92.0306 227.602,90.6137 237.538,89.4076 247.473,88.4122 257.409,87.6277 \n",
       "  267.344,87.0539 277.28,86.6909 287.216,86.5387 297.151,86.5972 307.087,86.8665 317.022,87.3466 326.958,88.0375 336.893,88.9392 346.829,90.0516 356.765,91.3749 \n",
       "  366.7,92.9089 376.636,94.6536 386.571,96.6092 396.507,98.7755 406.442,101.153 416.378,103.741 426.314,106.539 436.249,109.549 446.185,112.769 456.12,116.2 \n",
       "  466.056,119.842 475.991,123.694 485.927,127.758 495.863,132.032 505.798,136.517 515.734,141.212 525.669,146.119 535.605,151.236 545.54,156.564 555.476,162.103 \n",
       "  565.412,167.852 \n",
       "  \"/>\n",
       "<polyline clip-path=\"url(#clip4902)\" style=\"stroke:#008000; stroke-width:2; stroke-opacity:1; fill:none\" points=\"\n",
       "  68.633,211.765 78.5686,209.382 88.5042,207.209 98.4398,205.248 108.375,203.497 118.311,201.958 128.246,200.628 138.182,199.51 148.118,198.603 158.053,197.906 \n",
       "  167.989,197.42 177.924,197.145 187.86,197.08 197.795,197.227 207.731,197.584 217.667,198.152 227.602,198.931 237.538,199.92 247.473,201.12 257.409,202.531 \n",
       "  267.344,204.153 277.28,205.986 287.216,208.029 297.151,210.283 307.087,212.748 317.022,215.424 326.958,218.31 336.893,221.408 346.829,224.716 356.765,228.235 \n",
       "  366.7,231.964 376.636,235.905 386.571,240.056 396.507,244.418 406.442,248.99 416.378,253.774 426.314,258.768 436.249,263.973 446.185,269.389 456.12,275.016 \n",
       "  466.056,280.853 475.991,286.901 485.927,293.16 495.863,299.63 505.798,306.311 515.734,313.202 525.669,320.304 535.605,327.617 545.54,335.14 555.476,342.875 \n",
       "  565.412,350.82 \n",
       "  \"/>\n",
       "<polygon clip-path=\"url(#clip4900)\" points=\"\n",
       "71.7297,324.121 269.524,324.121 269.524,263.641 71.7297,263.641 \n",
       "  \" fill=\"#ffffff\" fill-opacity=\"1\"/>\n",
       "<polyline clip-path=\"url(#clip4900)\" style=\"stroke:#000000; stroke-width:1; stroke-opacity:1; fill:none\" points=\"\n",
       "  71.7297,324.121 269.524,324.121 269.524,263.641 71.7297,263.641 71.7297,324.121 \n",
       "  \"/>\n",
       "<polyline clip-path=\"url(#clip4900)\" style=\"stroke:#ff0000; stroke-width:2; stroke-opacity:1; fill:none\" points=\"\n",
       "  77.7297,278.761 113.73,278.761 \n",
       "  \"/>\n",
       "<g clip-path=\"url(#clip4900)\">\n",
       "<text style=\"fill:#000000; fill-opacity:1; font-family:Arial,Helvetica Neue,Helvetica,sans-serif; font-size:12; text-anchor:start;\" transform=\"rotate(0, 119.73, 283.261)\" x=\"119.73\" y=\"283.261\">phi=0</text>\n",
       "</g>\n",
       "<polyline clip-path=\"url(#clip4900)\" style=\"stroke:#0000ff; stroke-width:2; stroke-opacity:1; fill:none\" points=\"\n",
       "  77.7297,293.881 113.73,293.881 \n",
       "  \"/>\n",
       "<g clip-path=\"url(#clip4900)\">\n",
       "<text style=\"fill:#000000; fill-opacity:1; font-family:Arial,Helvetica Neue,Helvetica,sans-serif; font-size:12; text-anchor:start;\" transform=\"rotate(0, 119.73, 298.381)\" x=\"119.73\" y=\"298.381\">phi=0.5, sigma1H=0 </text>\n",
       "</g>\n",
       "<polyline clip-path=\"url(#clip4900)\" style=\"stroke:#008000; stroke-width:2; stroke-opacity:1; fill:none\" points=\"\n",
       "  77.7297,309.001 113.73,309.001 \n",
       "  \"/>\n",
       "<g clip-path=\"url(#clip4900)\">\n",
       "<text style=\"fill:#000000; fill-opacity:1; font-family:Arial,Helvetica Neue,Helvetica,sans-serif; font-size:12; text-anchor:start;\" transform=\"rotate(0, 119.73, 313.501)\" x=\"119.73\" y=\"313.501\">phi=0.5, sigma1H=0.01    </text>\n",
       "</g>\n",
       "</svg>\n"
      ]
     },
     "execution_count": 5,
     "metadata": {},
     "output_type": "execute_result"
    }
   ],
   "source": [
    "println(\"Notice: with σ1H=0, the choice of v is not affected by ϕ\")\n",
    "\n",
    "plot(v,EUM[:,1],color=:red,linewidth=2,label=\"phi=0\")\n",
    "plot!(v,EUM[:,2],color=:blue,linewidth=2,label=\"phi=0.5, sigma1H=0 \")\n",
    "plot!(v,EUM[:,3],color=:green,linewidth=2,label=\"phi=0.5, sigma1H=0.01    \")\n",
    "plot!(legend=:bottomleft)\n",
    "title!(\"Expected utility\")\n",
    "xlabel!(\"v, weight on risky asset\")"
   ]
  },
  {
   "cell_type": "markdown",
   "metadata": {},
   "source": [
    "# Asset Pricing Implications of Background Risk I: CAPM"
   ]
  },
  {
   "cell_type": "markdown",
   "metadata": {},
   "source": [
    "Recall:\n",
    "\n",
    "beta from CAPM regression: $R_{i}^{e}=\\alpha_{i}+\\beta_{i}R_{m}^{e}+\\varepsilon_{i}$ is \n",
    "\n",
    "$\\beta_{i}=\\frac{\\sigma_{im}}{\\sigma_{mm}}$\n",
    "\n",
    "Correct pricing expression:\n",
    "\n",
    "$\\mu_{i}^{e} =\\tilde{\\beta}_{i}\\mu_{m}^{e}$, where \n",
    "$\\tilde{\\beta}_{i}  =\\frac{\\sigma_{im}+\\phi\\left(  \\sigma_{iH}-\\sigma_{im}\\right)  }{\\sigma_{mm}+\\phi\\left(\\sigma_{mH}-\\sigma_{mm}\\right)  }$\n",
    "\n",
    "The $\\alpha_{i}$ in the CAPM regression can be shown to be\n",
    "$\\alpha_{i}=(\\tilde{\\beta}_{i}-\\beta_{i})\\mu_{m}^{e}$"
   ]
  },
  {
   "cell_type": "code",
   "execution_count": 6,
   "metadata": {},
   "outputs": [
    {
     "data": {
      "text/plain": [
       "βtilde (generic function with 1 method)"
      ]
     },
     "execution_count": 6,
     "metadata": {},
     "output_type": "execute_result"
    }
   ],
   "source": [
    "βtilde(σim,ϕ,σiH,σmm,σmH) = (σim + ϕ*(σiH-σim))/(σmm + ϕ*(σmH-σmm))     #a function giving βtilde as above"
   ]
  },
  {
   "cell_type": "code",
   "execution_count": 7,
   "metadata": {
    "scrolled": true
   },
   "outputs": [
    {
     "name": "stdout",
     "output_type": "stream",
     "text": [
      "betas: CAPM and the ones to use in finding μᵢ\n",
      "     0.800     0.800     0.482\n",
      "\n",
      "Expected excess return according to βtilde (μᵉ)\n",
      "     0.064     0.039\n",
      "\n",
      "alphas in CAPM regressions: no background risk, background risk case A, case B\n",
      "     0.000     0.000    -0.025\n",
      "\n"
     ]
    }
   ],
   "source": [
    "σim = 0.8                                             #parameter values for the calculations below\n",
    "σmm = 1\n",
    "σiH = -0.5\n",
    "σmH = 0.5\n",
    "μem = 0.08\n",
    "\n",
    "β = σim/σmm\n",
    "βtildeA = βtilde(σim,0,σiH,σmm,σmH)                   #case A, βtilde when ϕ=0\n",
    "βtildeB = βtilde(σim,0.3,σiH,σmm,σmH)                 #case B, βtilde when ϕ=0.3, otherwise the same \n",
    "\n",
    "println(\"betas: CAPM and the ones to use in finding μᵢ\")\n",
    "printmat([β βtildeA βtildeB])\n",
    "\n",
    "println(\"Expected excess return according to βtilde (μᵉ)\")\n",
    "printmat([βtildeA*μem βtildeB*μem])  \n",
    "\n",
    "println(\"alphas in CAPM regressions: no background risk, background risk case A, case B\")\n",
    "αA = (βtildeA - β)*μem\n",
    "αB = (βtildeB - β)*μem\n",
    "printmat([0 αA αB])"
   ]
  },
  {
   "cell_type": "markdown",
   "metadata": {},
   "source": [
    "# Asset Pricing Implications of Background Risk II: Multi-Factor Model (extra)"
   ]
  },
  {
   "cell_type": "code",
   "execution_count": 8,
   "metadata": {},
   "outputs": [
    {
     "name": "stdout",
     "output_type": "stream",
     "text": [
      "The multiple regression coefficients:      1.057    -0.514\n",
      "\n",
      "μᵉ according to 2-factor model (cf. previous results)      0.039\n"
     ]
    }
   ],
   "source": [
    "σHH = 2\n",
    "μeH = 0.089\n",
    "\n",
    "Σ = [σmm σmH;                   #covariance matrix of [Rm,RH]\n",
    "     σmH σHH]\n",
    "SH = [σim;σiH]                  #Cov(Ri,Rm) and Cov(Ri,RH)\n",
    "\n",
    "βmult = inv(Σ)*SH               #coeffs in Ri = βmult'[Rm;RH]\n",
    "printlnPs(\"The multiple regression coefficients: \",βmult)\n",
    "\n",
    "μei = βmult'*[μem;μeH]\n",
    "printlnPs(\"\\nμᵉ according to 2-factor model (cf. previous results) \",μei)"
   ]
  },
  {
   "cell_type": "markdown",
   "metadata": {},
   "source": [
    "# Empirical Test of a 3-Factor Model: Loading Data"
   ]
  },
  {
   "cell_type": "code",
   "execution_count": 9,
   "metadata": {},
   "outputs": [
    {
     "data": {
      "text/plain": [
       "(388, 5)"
      ]
     },
     "execution_count": 9,
     "metadata": {},
     "output_type": "execute_result"
    }
   ],
   "source": [
    "x    = readdlm(\"Data/FFmFactorsPs.csv\",',',skipstart=1)\n",
    "Rme  = x[:,2]                #market excess return\n",
    "RSMB = x[:,3]                #small minus big firms\n",
    "RHML = x[:,4]                #high minus low book-to-market ratio\n",
    "Rf   = x[:,5]                #interest rate\n",
    "\n",
    "\n",
    "x  = readdlm(\"Data/FF25Ps.csv\",',') #no header line: x is matrix\n",
    "R  = x[:,2:end]                     #returns for 25 FF portfolios\n",
    "Re = R .- Rf                        #excess returns for the 25 FF portfolios\n",
    "Re = Re[:,[1;7;13;19;25]]           #use just 5 assets to make the printing easier \n",
    "\n",
    "(T,n) = size(Re)                 #no. obs and  no. test assets"
   ]
  },
  {
   "cell_type": "markdown",
   "metadata": {},
   "source": [
    "## OLS Estimation and Testing α = 0"
   ]
  },
  {
   "cell_type": "markdown",
   "metadata": {},
   "source": [
    "Recall: estimate $(\\alpha_{i},b_{i})$ in the factor model\n",
    "\n",
    "$R_{it}^{e}  =\\alpha_{i}+b_{i}'f_{t} + \\varepsilon_{it}$\n",
    "\n",
    "Test if $\\alpha_{i}=0$\n",
    "\n",
    "Under the Gauss-Markov assumptions, $\\textrm{Cov}([\\alpha_{i},b_{i}]) = (X'X)^{-1}\\textrm{Var}(\\varepsilon_{it})$,\n",
    "where row $t$ of $X$ contains $[1, f_{t}]$. Use element [1,1] of the covariance matrix as the variance of the $\\alpha_i$ estimate"
   ]
  },
  {
   "cell_type": "code",
   "execution_count": 10,
   "metadata": {},
   "outputs": [
    {
     "name": "stdout",
     "output_type": "stream",
     "text": [
      "\n",
      "OLS intercepts and t-stats, regressing Re on constant and 3 factors\n",
      "    -0.513    -2.306\n",
      "    -0.006    -0.066\n",
      "     0.030     0.328\n",
      "    -0.020    -0.206\n",
      "    -0.015    -0.133\n",
      "\n"
     ]
    }
   ],
   "source": [
    "x   = [ones(T) Rme RSMB RHML]         #regressors\n",
    "Σ_1 = inv(x'x)\n",
    "\n",
    "α     = fill(NaN,n)\n",
    "tstat = fill(NaN,n)\n",
    "for i = 1:n                              #loop over the different test assets\n",
    "    local b_i, residual, Covb\n",
    "    b_i       = x\\Re[:,i]                #OLS\n",
    "    residual  = Re[:,i] - x*b_i\n",
    "    α[i]      = b_i[1]\n",
    "    Covb      = Σ_1*var(residual)   \n",
    "    tstat[i] = (α[i]-0)/sqrt(Covb[1,1])\n",
    "end    \n",
    "println(\"\\nOLS intercepts and t-stats, regressing Re on constant and 3 factors\")\n",
    "printmat([α tstat])"
   ]
  },
  {
   "cell_type": "code",
   "execution_count": null,
   "metadata": {},
   "outputs": [],
   "source": []
  }
 ],
 "metadata": {
  "anaconda-cloud": {},
  "kernelspec": {
   "display_name": "Julia 0.6.4",
   "language": "julia",
   "name": "julia-0.6"
  },
  "language_info": {
   "file_extension": ".jl",
   "mimetype": "application/julia",
   "name": "julia",
   "version": "0.6.4"
  }
 },
 "nbformat": 4,
 "nbformat_minor": 1
}
