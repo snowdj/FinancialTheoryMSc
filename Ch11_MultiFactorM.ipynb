{
 "cells": [
  {
   "cell_type": "markdown",
   "metadata": {},
   "source": [
    "## Load Packages"
   ]
  },
  {
   "cell_type": "code",
   "execution_count": 1,
   "metadata": {},
   "outputs": [
    {
     "data": {
      "text/plain": [
       "printlnPs (generic function with 2 methods)"
      ]
     },
     "execution_count": 1,
     "metadata": {},
     "output_type": "execute_result"
    }
   ],
   "source": [
    "using Dates, DelimitedFiles, Statistics\n",
    "\n",
    "include(\"jlFiles/printmat.jl\")"
   ]
  },
  {
   "cell_type": "code",
   "execution_count": 2,
   "metadata": {},
   "outputs": [],
   "source": [
    "using Plots\n",
    "backend = \"gr\"              #\"gr\" (default), \"pyplot\" \n",
    "\n",
    "if backend == \"pyplot\"\n",
    "    pyplot(size=(600,400))\n",
    "else    \n",
    "    gr(size=(480,320))\n",
    "    default(fmt = :svg)\n",
    "end"
   ]
  },
  {
   "cell_type": "markdown",
   "metadata": {},
   "source": [
    "# Portfolio Choice with Background Risk"
   ]
  },
  {
   "cell_type": "markdown",
   "metadata": {},
   "source": [
    "Recall: the investor maximizes\n",
    "$\\text{E}R_{p}-\\frac{k}{2}\\text{Var}(R_{p})$, where \n",
    "\n",
    "$R_{p}=v^{\\prime}R+\\phi R_{H}+(1-\\mathbf{1}^{\\prime}v-\\phi)R_{f}$\n",
    "\n",
    "Notice that $\\text{E}R_{p} = u'[\\mu^e;\\mu_H^e]$, where $u = [v;\\phi]$ and where $\\mu^e$ is the vector of excess returns on the risky assets and $\\mu_H^e$ is the excess return on the background risk. \n",
    "\n",
    "Also, $\\text{Var}(R_{p}) = u'\\Omega u$ where \n",
    "\n",
    "$\n",
    "\\Omega=\\begin{bmatrix}\n",
    "\\Sigma & S_{H}\\\\\n",
    "S_{H}^{\\prime} & \\sigma_{HH}\n",
    "\\end{bmatrix}\n",
    "$,\n",
    "\n",
    "where $S_{H}$ is a vector of covariances of the risky assets with the background risk,\n",
    "and $\\sigma_{HH}$ is the variance of the background risk."
   ]
  },
  {
   "cell_type": "code",
   "execution_count": 3,
   "metadata": {},
   "outputs": [
    {
     "data": {
      "text/plain": [
       "PortFOpt (generic function with 1 method)"
      ]
     },
     "execution_count": 3,
     "metadata": {},
     "output_type": "execute_result"
    }
   ],
   "source": [
    "function EU(v,ϕ,k,μe,Σ,SH,σHH=0.01,μeH=0.02)  #expected utility for the case with background risk\n",
    "    Rf    = 0\n",
    "    u     = [v;ϕ]    \n",
    "    μeAll = [μe;μeH]\n",
    "    ERp   = u'μeAll + Rf\n",
    "    Ω     = [[Σ SH];[SH' σHH]]\n",
    "    VarRp = u'Ω*u\n",
    "    EUtil = ERp - k/2*VarRp\n",
    "    return EUtil\n",
    "end\n",
    "\n",
    "function PortFOpt(ϕ,k,μe,Σ,SH)  #optimal weight on risky asset, ϕ in background, 1-v-ϕ in Rf\n",
    "    vopt  = inv(Σ)*(μe/k-ϕ*SH)  \n",
    "    wopt  = vopt/(1-ϕ)\n",
    "    return vopt, wopt\n",
    "end"
   ]
  },
  {
   "cell_type": "code",
   "execution_count": 4,
   "metadata": {},
   "outputs": [
    {
     "name": "stdout",
     "output_type": "stream",
     "text": [
      "\n",
      "Optimal portfolio choice in the three cases\n",
      "    v           w\n",
      "     0.667     0.667\n",
      "     0.667     1.333\n",
      "     0.542     1.083\n",
      "\n"
     ]
    }
   ],
   "source": [
    "Σ    = 0.04                   #covariance matrix risky assets\n",
    "SH_A = 0                      #covariance(s) of risky with background, case A  \n",
    "SH_C = 0.01                   #case C\n",
    "(μe,k)    = (0.08,3)\n",
    "\n",
    "v = range(0.25,stop=1,length=51)\n",
    "L = length(v)\n",
    "\n",
    "EUM = fill(NaN,(L,3))                   #try different v values (weight on risky investable asset)\n",
    "for i = 1:L\n",
    "    EUM[i,1] = EU(v[i],0,k,μe,Σ,SH_A)\n",
    "    EUM[i,2] = EU(v[i],0.5,k,μe,Σ,SH_A)\n",
    "    EUM[i,3] = EU(v[i],0.5,k,μe,Σ,SH_C)\n",
    "end\n",
    "\n",
    "\n",
    "(vA,wA) = PortFOpt(0,k,μe,Σ,SH_A)\n",
    "(vB,wB) = PortFOpt(0.5,k,μe,Σ,SH_A)\n",
    "(vC,wC) = PortFOpt(0.5,k,μe,Σ,SH_C)\n",
    "println(\"\\nOptimal portfolio choice in the three cases\")\n",
    "\n",
    "println(\"    v           w\")\n",
    "printmat([vA wA;vB wB;vC wC])"
   ]
  },
  {
   "cell_type": "code",
   "execution_count": 5,
   "metadata": {
    "scrolled": true
   },
   "outputs": [
    {
     "name": "stdout",
     "output_type": "stream",
     "text": [
      "Notice: with σ1H=0, the choice of v is not affected by ϕ\n"
     ]
    },
    {
     "data": {
      "image/svg+xml": [
       "<?xml version=\"1.0\" encoding=\"utf-8\"?>\n",
       "<svg xmlns=\"http://www.w3.org/2000/svg\" xmlns:xlink=\"http://www.w3.org/1999/xlink\" width=\"480\" height=\"320\" viewBox=\"0 0 1920 1280\">\n",
       "<defs>\n",
       "  <clipPath id=\"clip1300\">\n",
       "    <rect x=\"0\" y=\"0\" width=\"2000\" height=\"2000\"/>\n",
       "  </clipPath>\n",
       "</defs>\n",
       "<defs>\n",
       "  <clipPath id=\"clip1301\">\n",
       "    <rect x=\"0\" y=\"0\" width=\"1920\" height=\"1280\"/>\n",
       "  </clipPath>\n",
       "</defs>\n",
       "<polygon clip-path=\"url(#clip1301)\" points=\"\n",
       "0,1280 1920,1280 1920,0 0,0 \n",
       "  \" fill=\"#ffffff\" fill-opacity=\"1\"/>\n",
       "<defs>\n",
       "  <clipPath id=\"clip1302\">\n",
       "    <rect x=\"384\" y=\"0\" width=\"1345\" height=\"1280\"/>\n",
       "  </clipPath>\n",
       "</defs>\n",
       "<polygon clip-path=\"url(#clip1301)\" points=\"\n",
       "214.919,1120.48 1841.26,1120.48 1841.26,125.984 214.919,125.984 \n",
       "  \" fill=\"#ffffff\" fill-opacity=\"1\"/>\n",
       "<defs>\n",
       "  <clipPath id=\"clip1303\">\n",
       "    <rect x=\"214\" y=\"125\" width=\"1627\" height=\"995\"/>\n",
       "  </clipPath>\n",
       "</defs>\n",
       "<polyline clip-path=\"url(#clip1303)\" style=\"stroke:#000000; stroke-width:2; stroke-opacity:0.1; fill:none\" points=\"\n",
       "  567.804,1120.48 567.804,125.984 \n",
       "  \"/>\n",
       "<polyline clip-path=\"url(#clip1303)\" style=\"stroke:#000000; stroke-width:2; stroke-opacity:0.1; fill:none\" points=\"\n",
       "  976.946,1120.48 976.946,125.984 \n",
       "  \"/>\n",
       "<polyline clip-path=\"url(#clip1303)\" style=\"stroke:#000000; stroke-width:2; stroke-opacity:0.1; fill:none\" points=\"\n",
       "  1386.09,1120.48 1386.09,125.984 \n",
       "  \"/>\n",
       "<polyline clip-path=\"url(#clip1303)\" style=\"stroke:#000000; stroke-width:2; stroke-opacity:0.1; fill:none\" points=\"\n",
       "  1795.23,1120.48 1795.23,125.984 \n",
       "  \"/>\n",
       "<polyline clip-path=\"url(#clip1303)\" style=\"stroke:#000000; stroke-width:2; stroke-opacity:0.1; fill:none\" points=\"\n",
       "  214.919,929.95 1841.26,929.95 \n",
       "  \"/>\n",
       "<polyline clip-path=\"url(#clip1303)\" style=\"stroke:#000000; stroke-width:2; stroke-opacity:0.1; fill:none\" points=\"\n",
       "  214.919,713.434 1841.26,713.434 \n",
       "  \"/>\n",
       "<polyline clip-path=\"url(#clip1303)\" style=\"stroke:#000000; stroke-width:2; stroke-opacity:0.1; fill:none\" points=\"\n",
       "  214.919,496.918 1841.26,496.918 \n",
       "  \"/>\n",
       "<polyline clip-path=\"url(#clip1303)\" style=\"stroke:#000000; stroke-width:2; stroke-opacity:0.1; fill:none\" points=\"\n",
       "  214.919,280.402 1841.26,280.402 \n",
       "  \"/>\n",
       "<polyline clip-path=\"url(#clip1301)\" style=\"stroke:#000000; stroke-width:4; stroke-opacity:1; fill:none\" points=\"\n",
       "  214.919,1120.48 1841.26,1120.48 \n",
       "  \"/>\n",
       "<polyline clip-path=\"url(#clip1301)\" style=\"stroke:#000000; stroke-width:4; stroke-opacity:1; fill:none\" points=\"\n",
       "  214.919,1120.48 214.919,125.984 \n",
       "  \"/>\n",
       "<polyline clip-path=\"url(#clip1301)\" style=\"stroke:#000000; stroke-width:4; stroke-opacity:1; fill:none\" points=\"\n",
       "  567.804,1120.48 567.804,1105.57 \n",
       "  \"/>\n",
       "<polyline clip-path=\"url(#clip1301)\" style=\"stroke:#000000; stroke-width:4; stroke-opacity:1; fill:none\" points=\"\n",
       "  976.946,1120.48 976.946,1105.57 \n",
       "  \"/>\n",
       "<polyline clip-path=\"url(#clip1301)\" style=\"stroke:#000000; stroke-width:4; stroke-opacity:1; fill:none\" points=\"\n",
       "  1386.09,1120.48 1386.09,1105.57 \n",
       "  \"/>\n",
       "<polyline clip-path=\"url(#clip1301)\" style=\"stroke:#000000; stroke-width:4; stroke-opacity:1; fill:none\" points=\"\n",
       "  1795.23,1120.48 1795.23,1105.57 \n",
       "  \"/>\n",
       "<polyline clip-path=\"url(#clip1301)\" style=\"stroke:#000000; stroke-width:4; stroke-opacity:1; fill:none\" points=\"\n",
       "  214.919,929.95 239.314,929.95 \n",
       "  \"/>\n",
       "<polyline clip-path=\"url(#clip1301)\" style=\"stroke:#000000; stroke-width:4; stroke-opacity:1; fill:none\" points=\"\n",
       "  214.919,713.434 239.314,713.434 \n",
       "  \"/>\n",
       "<polyline clip-path=\"url(#clip1301)\" style=\"stroke:#000000; stroke-width:4; stroke-opacity:1; fill:none\" points=\"\n",
       "  214.919,496.918 239.314,496.918 \n",
       "  \"/>\n",
       "<polyline clip-path=\"url(#clip1301)\" style=\"stroke:#000000; stroke-width:4; stroke-opacity:1; fill:none\" points=\"\n",
       "  214.919,280.402 239.314,280.402 \n",
       "  \"/>\n",
       "<g clip-path=\"url(#clip1301)\">\n",
       "<text style=\"fill:#000000; fill-opacity:1; font-family:Arial,Helvetica Neue,Helvetica,sans-serif; font-size:48px; text-anchor:middle;\" transform=\"rotate(0, 567.804, 1172.08)\" x=\"567.804\" y=\"1172.08\">0.4</text>\n",
       "</g>\n",
       "<g clip-path=\"url(#clip1301)\">\n",
       "<text style=\"fill:#000000; fill-opacity:1; font-family:Arial,Helvetica Neue,Helvetica,sans-serif; font-size:48px; text-anchor:middle;\" transform=\"rotate(0, 976.946, 1172.08)\" x=\"976.946\" y=\"1172.08\">0.6</text>\n",
       "</g>\n",
       "<g clip-path=\"url(#clip1301)\">\n",
       "<text style=\"fill:#000000; fill-opacity:1; font-family:Arial,Helvetica Neue,Helvetica,sans-serif; font-size:48px; text-anchor:middle;\" transform=\"rotate(0, 1386.09, 1172.08)\" x=\"1386.09\" y=\"1172.08\">0.8</text>\n",
       "</g>\n",
       "<g clip-path=\"url(#clip1301)\">\n",
       "<text style=\"fill:#000000; fill-opacity:1; font-family:Arial,Helvetica Neue,Helvetica,sans-serif; font-size:48px; text-anchor:middle;\" transform=\"rotate(0, 1795.23, 1172.08)\" x=\"1795.23\" y=\"1172.08\">1.0</text>\n",
       "</g>\n",
       "<g clip-path=\"url(#clip1301)\">\n",
       "<text style=\"fill:#000000; fill-opacity:1; font-family:Arial,Helvetica Neue,Helvetica,sans-serif; font-size:48px; text-anchor:end;\" transform=\"rotate(0, 195.719, 947.45)\" x=\"195.719\" y=\"947.45\">0.015</text>\n",
       "</g>\n",
       "<g clip-path=\"url(#clip1301)\">\n",
       "<text style=\"fill:#000000; fill-opacity:1; font-family:Arial,Helvetica Neue,Helvetica,sans-serif; font-size:48px; text-anchor:end;\" transform=\"rotate(0, 195.719, 730.934)\" x=\"195.719\" y=\"730.934\">0.020</text>\n",
       "</g>\n",
       "<g clip-path=\"url(#clip1301)\">\n",
       "<text style=\"fill:#000000; fill-opacity:1; font-family:Arial,Helvetica Neue,Helvetica,sans-serif; font-size:48px; text-anchor:end;\" transform=\"rotate(0, 195.719, 514.418)\" x=\"195.719\" y=\"514.418\">0.025</text>\n",
       "</g>\n",
       "<g clip-path=\"url(#clip1301)\">\n",
       "<text style=\"fill:#000000; fill-opacity:1; font-family:Arial,Helvetica Neue,Helvetica,sans-serif; font-size:48px; text-anchor:end;\" transform=\"rotate(0, 195.719, 297.902)\" x=\"195.719\" y=\"297.902\">0.030</text>\n",
       "</g>\n",
       "<g clip-path=\"url(#clip1301)\">\n",
       "<text style=\"fill:#000000; fill-opacity:1; font-family:Arial,Helvetica Neue,Helvetica,sans-serif; font-size:84px; text-anchor:middle;\" transform=\"rotate(0, 1028.09, 73.2)\" x=\"1028.09\" y=\"73.2\">Expected utility</text>\n",
       "</g>\n",
       "<g clip-path=\"url(#clip1301)\">\n",
       "<text style=\"fill:#000000; fill-opacity:1; font-family:Arial,Helvetica Neue,Helvetica,sans-serif; font-size:66px; text-anchor:middle;\" transform=\"rotate(0, 1028.09, 1270.4)\" x=\"1028.09\" y=\"1270.4\">v, weight on risky asset</text>\n",
       "</g>\n",
       "<polyline clip-path=\"url(#clip1303)\" style=\"stroke:#ff0000; stroke-width:4; stroke-opacity:1; fill:none\" points=\"\n",
       "  260.947,875.821 291.633,843.928 322.319,813.204 353.004,783.65 383.69,755.265 414.376,728.049 445.061,702.002 475.747,677.124 506.433,653.416 537.118,630.876 \n",
       "  567.804,609.506 598.49,589.305 629.175,570.274 659.861,552.411 690.547,535.718 721.232,520.194 751.918,505.839 782.604,492.653 813.29,480.636 843.975,469.789 \n",
       "  874.661,460.11 905.347,451.601 936.032,444.262 966.718,438.091 997.404,433.089 1028.09,429.257 1058.77,426.594 1089.46,425.1 1120.15,424.775 1150.83,425.62 \n",
       "  1181.52,427.633 1212.2,430.816 1242.89,435.168 1273.57,440.689 1304.26,447.379 1334.95,455.239 1365.63,464.268 1396.32,474.465 1427,485.833 1457.69,498.369 \n",
       "  1488.37,512.074 1519.06,526.949 1549.75,542.993 1580.43,560.206 1611.12,578.588 1641.8,598.139 1672.49,618.86 1703.17,640.75 1733.86,663.808 1764.55,688.037 \n",
       "  1795.23,713.434 \n",
       "  \"/>\n",
       "<polyline clip-path=\"url(#clip1303)\" style=\"stroke:#0000ff; stroke-width:4; stroke-opacity:1; fill:none\" stroke-dasharray=\"16, 10\" points=\"\n",
       "  260.947,605.176 291.633,573.283 322.319,542.56 353.004,513.005 383.69,484.62 414.376,457.404 445.061,431.357 475.747,406.48 506.433,382.771 537.118,360.232 \n",
       "  567.804,338.862 598.49,318.661 629.175,299.629 659.861,281.766 690.547,265.073 721.232,249.549 751.918,235.194 782.604,222.008 813.29,209.991 843.975,199.144 \n",
       "  874.661,189.466 905.347,180.957 936.032,173.617 966.718,167.446 997.404,162.445 1028.09,158.612 1058.77,155.949 1089.46,154.455 1120.15,154.13 1150.83,154.975 \n",
       "  1181.52,156.988 1212.2,160.171 1242.89,164.523 1273.57,170.044 1304.26,176.735 1334.95,184.594 1365.63,193.623 1396.32,203.821 1427,215.188 1457.69,227.724 \n",
       "  1488.37,241.43 1519.06,256.304 1549.75,272.348 1580.43,289.561 1611.12,307.943 1641.8,327.495 1672.49,348.215 1703.17,370.105 1733.86,393.164 1764.55,417.392 \n",
       "  1795.23,442.789 \n",
       "  \"/>\n",
       "<polyline clip-path=\"url(#clip1303)\" style=\"stroke:#008000; stroke-width:8; stroke-opacity:1; fill:none\" stroke-dasharray=\"4, 8\" points=\"\n",
       "  260.947,767.563 291.633,745.413 322.319,724.433 353.004,704.622 383.69,685.98 414.376,668.507 445.061,652.203 475.747,637.069 506.433,623.104 537.118,610.307 \n",
       "  567.804,598.681 598.49,588.223 629.175,578.934 659.861,570.815 690.547,563.865 721.232,558.084 751.918,553.472 782.604,550.029 813.29,547.756 843.975,546.652 \n",
       "  874.661,546.717 905.347,547.951 936.032,550.354 966.718,553.927 997.404,558.668 1028.09,564.579 1058.77,571.659 1089.46,579.909 1120.15,589.327 1150.83,599.915 \n",
       "  1181.52,611.671 1212.2,624.597 1242.89,638.693 1273.57,653.957 1304.26,670.391 1334.95,687.993 1365.63,706.765 1396.32,726.706 1427,747.817 1457.69,770.096 \n",
       "  1488.37,793.545 1519.06,818.163 1549.75,843.95 1580.43,870.906 1611.12,899.031 1641.8,928.326 1672.49,958.79 1703.17,990.422 1733.86,1023.22 1764.55,1057.2 \n",
       "  1795.23,1092.34 \n",
       "  \"/>\n",
       "<polygon clip-path=\"url(#clip1301)\" points=\"\n",
       "487.543,1005.28 1177.2,1005.28 1177.2,763.363 487.543,763.363 \n",
       "  \" fill=\"#ffffff\" fill-opacity=\"1\"/>\n",
       "<polyline clip-path=\"url(#clip1301)\" style=\"stroke:#000000; stroke-width:4; stroke-opacity:1; fill:none\" points=\"\n",
       "  487.543,1005.28 1177.2,1005.28 1177.2,763.363 487.543,763.363 487.543,1005.28 \n",
       "  \"/>\n",
       "<polyline clip-path=\"url(#clip1301)\" style=\"stroke:#ff0000; stroke-width:4; stroke-opacity:1; fill:none\" points=\"\n",
       "  506.743,823.843 621.943,823.843 \n",
       "  \"/>\n",
       "<g clip-path=\"url(#clip1301)\">\n",
       "<text style=\"fill:#000000; fill-opacity:1; font-family:Arial,Helvetica Neue,Helvetica,sans-serif; font-size:48px; text-anchor:start;\" transform=\"rotate(0, 641.143, 841.343)\" x=\"641.143\" y=\"841.343\">phi=0</text>\n",
       "</g>\n",
       "<polyline clip-path=\"url(#clip1301)\" style=\"stroke:#0000ff; stroke-width:4; stroke-opacity:1; fill:none\" stroke-dasharray=\"16, 10\" points=\"\n",
       "  506.743,884.323 621.943,884.323 \n",
       "  \"/>\n",
       "<g clip-path=\"url(#clip1301)\">\n",
       "<text style=\"fill:#000000; fill-opacity:1; font-family:Arial,Helvetica Neue,Helvetica,sans-serif; font-size:48px; text-anchor:start;\" transform=\"rotate(0, 641.143, 901.823)\" x=\"641.143\" y=\"901.823\">phi=0.5, sigma1H=0 </text>\n",
       "</g>\n",
       "<polyline clip-path=\"url(#clip1301)\" style=\"stroke:#008000; stroke-width:8; stroke-opacity:1; fill:none\" stroke-dasharray=\"4, 8\" points=\"\n",
       "  506.743,944.803 621.943,944.803 \n",
       "  \"/>\n",
       "<g clip-path=\"url(#clip1301)\">\n",
       "<text style=\"fill:#000000; fill-opacity:1; font-family:Arial,Helvetica Neue,Helvetica,sans-serif; font-size:48px; text-anchor:start;\" transform=\"rotate(0, 641.143, 962.303)\" x=\"641.143\" y=\"962.303\">phi=0.5, sigma1H=0.01</text>\n",
       "</g>\n",
       "</svg>\n"
      ]
     },
     "execution_count": 5,
     "metadata": {},
     "output_type": "execute_result"
    }
   ],
   "source": [
    "println(\"Notice: with σ1H=0, the choice of v is not affected by ϕ\")\n",
    "\n",
    "p1 = plot(v,EUM[:,1],color=:red,label=\"phi=0\")\n",
    "plot!(v,EUM[:,2],line=:dash,color=:blue,label=\"phi=0.5, sigma1H=0 \")\n",
    "plot!(v,EUM[:,3],line=:dot,color=:green,linewidth=2,label=\"phi=0.5, sigma1H=0.01\")\n",
    "plot!(legend=:bottom)\n",
    "title!(\"Expected utility\")\n",
    "xlabel!(\"v, weight on risky asset\")"
   ]
  },
  {
   "cell_type": "markdown",
   "metadata": {},
   "source": [
    "# Asset Pricing Implications of Background Risk: Multi-Factor Model"
   ]
  },
  {
   "cell_type": "code",
   "execution_count": 6,
   "metadata": {},
   "outputs": [
    {
     "name": "stdout",
     "output_type": "stream",
     "text": [
      "The multiple regression coefficients: \n",
      "     1.057\n",
      "    -0.514\n",
      "\n",
      "μᵉ according to 2-factor model:\n",
      "     0.039\n",
      "\n"
     ]
    }
   ],
   "source": [
    "μe = [0.08,0.089]             #avg. excess returns of factors\n",
    "\n",
    "Ψ = [1 0.5;                   #covariance matrix of [Rm,RH]\n",
    "     0.5 2]\n",
    "SH = [0.8;-0.5]                  #Cov(Ri,Rm) and Cov(Ri,RH)\n",
    "\n",
    "βmult = inv(Ψ)*SH               #coeffs in Ri = βmult'[Rm;RH]\n",
    "printlnPs(\"The multiple regression coefficients: \")\n",
    "printmat(βmult)\n",
    "\n",
    "μei = βmult'μe\n",
    "printlnPs(\"μᵉ according to 2-factor model:\")\n",
    "printmat(μei)"
   ]
  },
  {
   "cell_type": "markdown",
   "metadata": {},
   "source": [
    "# Empirical Test of a 3-Factor Model: Loading Data"
   ]
  },
  {
   "cell_type": "code",
   "execution_count": 7,
   "metadata": {},
   "outputs": [
    {
     "data": {
      "text/plain": [
       "(388, 5)"
      ]
     },
     "execution_count": 7,
     "metadata": {},
     "output_type": "execute_result"
    }
   ],
   "source": [
    "x    = readdlm(\"Data/FFmFactorsPs.csv\",',',skipstart=1)\n",
    "Rme  = x[:,2]                #market excess return\n",
    "RSMB = x[:,3]                #small minus big firms\n",
    "RHML = x[:,4]                #high minus low book-to-market ratio\n",
    "Rf   = x[:,5]                #interest rate\n",
    "\n",
    "\n",
    "x  = readdlm(\"Data/FF25Ps.csv\",',') #no header line: x is matrix\n",
    "R  = x[:,2:end]                     #returns for 25 FF portfolios\n",
    "Re = R .- Rf                        #excess returns for the 25 FF portfolios\n",
    "Re = Re[:,[1,7,13,19,25]]           #use just 5 assets to make the printing easier \n",
    "\n",
    "(T,n) = size(Re)                 #no. obs and  no. test assets"
   ]
  },
  {
   "cell_type": "markdown",
   "metadata": {},
   "source": [
    "## OLS Estimation and Testing α = 0"
   ]
  },
  {
   "cell_type": "markdown",
   "metadata": {},
   "source": [
    "Recall: estimate $(\\alpha_{i},b_{i})$ in the factor model\n",
    "\n",
    "$R_{it}^{e}  =\\alpha_{i}+b_{i}'f_{t} + \\varepsilon_{it}$\n",
    "\n",
    "Test if $\\alpha_{i}=0$\n",
    "\n",
    "Under the Gauss-Markov assumptions, $\\textrm{Cov}([\\alpha_{i},b_{i}]) = (X'X)^{-1}\\textrm{Var}(\\varepsilon_{it})$,\n",
    "where row $t$ of $X$ contains $[1, f_{t}]$. Use element [1,1] of the covariance matrix as the variance of the $\\alpha_i$ estimate"
   ]
  },
  {
   "cell_type": "code",
   "execution_count": 8,
   "metadata": {},
   "outputs": [
    {
     "name": "stdout",
     "output_type": "stream",
     "text": [
      "\n",
      "OLS intercepts and t-stats, regressing Re on constant and 3 factors\n",
      "    -0.513    -2.306\n",
      "    -0.006    -0.066\n",
      "     0.030     0.328\n",
      "    -0.020    -0.206\n",
      "    -0.015    -0.133\n",
      "\n"
     ]
    }
   ],
   "source": [
    "x   = [ones(T) Rme RSMB RHML]         #regressors\n",
    "Σ_1 = inv(x'x)\n",
    "\n",
    "α     = fill(NaN,n)\n",
    "tstat = fill(NaN,n)\n",
    "for i = 1:n                              #loop over the different test assets\n",
    "    local b_i, residual, Covb\n",
    "    b_i       = x\\Re[:,i]                #OLS\n",
    "    residual  = Re[:,i] - x*b_i\n",
    "    α[i]      = b_i[1]\n",
    "    Covb      = Σ_1*var(residual)   \n",
    "    tstat[i] = (α[i]-0)/sqrt(Covb[1,1])\n",
    "end    \n",
    "println(\"\\nOLS intercepts and t-stats, regressing Re on constant and 3 factors\")\n",
    "printmat([α tstat])"
   ]
  },
  {
   "cell_type": "code",
   "execution_count": null,
   "metadata": {},
   "outputs": [],
   "source": []
  }
 ],
 "metadata": {
  "anaconda-cloud": {},
  "kernelspec": {
   "display_name": "Julia 1.0.2",
   "language": "julia",
   "name": "julia-1.0"
  },
  "language_info": {
   "file_extension": ".jl",
   "mimetype": "application/julia",
   "name": "julia",
   "version": "1.0.2"
  }
 },
 "nbformat": 4,
 "nbformat_minor": 1
}
