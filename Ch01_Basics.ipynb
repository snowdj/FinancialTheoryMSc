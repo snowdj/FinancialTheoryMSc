{
 "cells": [
  {
   "cell_type": "markdown",
   "metadata": {},
   "source": [
    "## Load Routines for Printing Matrices"
   ]
  },
  {
   "cell_type": "code",
   "execution_count": 1,
   "metadata": {},
   "outputs": [
    {
     "data": {
      "text/plain": [
       "printlnPs (generic function with 2 methods)"
      ]
     },
     "execution_count": 1,
     "metadata": {},
     "output_type": "execute_result"
    }
   ],
   "source": [
    "using Dates            \n",
    "\n",
    "include(\"printmat.jl\")"
   ]
  },
  {
   "cell_type": "markdown",
   "metadata": {},
   "source": [
    "# Return Calculations\n",
    "\n",
    "The return of holding the asset between $t-1$ and $t$ is\n",
    "\n",
    "$\n",
    "R_t = (P_t+D_t)/P_{t-1} - 1\n",
    "$,\n",
    "\n",
    "where $P_t$ is the price (measured after dividends) and $D_t$ is the dividend."
   ]
  },
  {
   "cell_type": "code",
   "execution_count": 2,
   "metadata": {},
   "outputs": [
    {
     "name": "stdout",
     "output_type": "stream",
     "text": [
      "period and returns in %\n",
      "     2.000    10.000\n",
      "     3.000     0.926\n",
      "\n"
     ]
    }
   ],
   "source": [
    "P = [100;108;109]           #price series, after dividends\n",
    "D = [0;2;0]     \n",
    "t = 1:length(P)\n",
    "\n",
    "R = (P[2:end] + D[2:end])./P[1:end-1] .- 1        #notice: .-\n",
    "println(\"period and returns in %\")\n",
    "printmat([t[2:end] R*100])"
   ]
  },
  {
   "cell_type": "markdown",
   "metadata": {},
   "source": [
    "# Cumulating Returns\n",
    "\n",
    "Net returns can be cumulated into a portfolio value as \n",
    "\n",
    "$\n",
    "V_t = V_{t-1}(1+R_t)\n",
    "$\n",
    "\n",
    "where we need a starting value (initial investment) for the portfolio (a common choice is to normalise to $V_0=1$).\n",
    "\n",
    "With log returns, $r_t=\\log(1+R)$, we instead do \n",
    "\n",
    "$\n",
    "\\ln V_t = \\ln V_{t-1} + r_t\n",
    "$\n"
   ]
  },
  {
   "cell_type": "code",
   "execution_count": 3,
   "metadata": {},
   "outputs": [
    {
     "name": "stdout",
     "output_type": "stream",
     "text": [
      "returns, portfolio value, log portfolio value (assuming initial value of 1)\n",
      "     0.200     1.200     0.182\n",
      "    -0.350     0.780    -0.248\n",
      "     0.250     0.975    -0.025\n",
      "\n"
     ]
    }
   ],
   "source": [
    "R   = [20;-35;25]/100                #returns for t=1,2,3\n",
    "V   = cumprod(1 .+ R)                #V(t) = V(t-1)*(1+R(t)) \n",
    "lnV = cumsum(log.(1 .+ R))           #lnV(t) = lnV(t-1) + r(t) \n",
    "\n",
    "println(\"returns, portfolio value, log portfolio value (assuming initial value of 1)\")\n",
    "printmat([R V lnV])"
   ]
  },
  {
   "cell_type": "markdown",
   "metadata": {},
   "source": [
    "# Portfolio Return: Definition, Expected Value and Variance"
   ]
  },
  {
   "cell_type": "markdown",
   "metadata": {},
   "source": [
    "With portfolio weights in the vector $w$, the portfolio return, the expected portfolio return and the portfolio variance can be computed as\n",
    "\n",
    "$R_p = w'R$, \n",
    "\n",
    "$\\text{E}R_p = w'\\mu$ and \n",
    "\n",
    "$\\text{Var}(R_p) = w'\\Sigma w$"
   ]
  },
  {
   "cell_type": "code",
   "execution_count": 4,
   "metadata": {},
   "outputs": [
    {
     "name": "stdout",
     "output_type": "stream",
     "text": [
      "portfolio weights: \n",
      "     0.800\n",
      "     0.200\n",
      "\n",
      "Returns of assets: \n",
      "     0.100\n",
      "     0.050\n",
      "\n",
      "Portfolio return:      0.090\n"
     ]
    }
   ],
   "source": [
    "w = [0.8;0.2]\n",
    "R = [10;5]/100          #returns of asset 1 and 2\n",
    "Rp = w'R\n",
    "println(\"portfolio weights: \")\n",
    "printmat(w)\n",
    "println(\"Returns of assets: \")\n",
    "printmat(R)\n",
    "printlnPs(\"Portfolio return: \",Rp)"
   ]
  },
  {
   "cell_type": "code",
   "execution_count": 5,
   "metadata": {},
   "outputs": [
    {
     "name": "stdout",
     "output_type": "stream",
     "text": [
      "expected returns*100: \n",
      "     9.000\n",
      "     6.000\n",
      "\n",
      "covariance matrix*100^2:\n",
      "   256.000    96.000\n",
      "    96.000   144.000\n",
      "\n"
     ]
    }
   ],
   "source": [
    "μ = [9;6]/100                    #\\mu and tab to get this\n",
    "Σ = [256 96;\n",
    "     96 144]/100^2\n",
    "\n",
    "println(\"expected returns*100: \")\n",
    "printmat(μ*100)\n",
    "\n",
    "println(\"covariance matrix*100^2:\")\n",
    "printmat(Σ*100^2)"
   ]
  },
  {
   "cell_type": "code",
   "execution_count": 6,
   "metadata": {},
   "outputs": [
    {
     "name": "stdout",
     "output_type": "stream",
     "text": [
      "expected portfolio return, variance and std of portfolio return: \n",
      "     0.084     0.020     0.142\n",
      "\n"
     ]
    }
   ],
   "source": [
    "ERp = w'μ\n",
    "VarRp = w'Σ*w\n",
    "\n",
    "println(\"expected portfolio return, variance and std of portfolio return: \")\n",
    "printmat([ERp VarRp sqrt(VarRp)])"
   ]
  },
  {
   "cell_type": "code",
   "execution_count": 7,
   "metadata": {},
   "outputs": [
    {
     "name": "stdout",
     "output_type": "stream",
     "text": [
      "portfolio std if the assets were negatively correlated:      0.118\n"
     ]
    }
   ],
   "source": [
    "Σb = [256 -96;\n",
    "      -96 144]/100^2\n",
    "                                        \n",
    "printlnPs(\"portfolio std if the assets were negatively correlated: \",sqrt(w'Σb*w))"
   ]
  },
  {
   "cell_type": "markdown",
   "metadata": {},
   "source": [
    "# Matrix Appendix\n",
    "\n",
    "with Julia (and text book mathematical notation)"
   ]
  },
  {
   "cell_type": "markdown",
   "metadata": {},
   "source": [
    "With a matrix $A$ and a scalar $c$, do\n",
    "\n",
    "1. `A*c` ($Ac$) to multiply each element of $A$ by $c$\n",
    "\n",
    "2. `A .+ c` ($A+cJ$, where $J$ is a matrix of ones) to add $c$ to each element of $A$ "
   ]
  },
  {
   "cell_type": "code",
   "execution_count": 8,
   "metadata": {},
   "outputs": [
    {
     "name": "stdout",
     "output_type": "stream",
     "text": [
      "A:\n",
      "         1         3\n",
      "         3         4\n",
      "\n",
      "c:\n",
      "        10\n",
      "\n",
      "A*c:\n",
      "        10        30\n",
      "        30        40\n",
      "\n",
      "A .+ c:\n",
      "        11        13\n",
      "        13        14\n",
      "\n"
     ]
    }
   ],
   "source": [
    "A = [1 3;3 4]                                    \n",
    "c = 10\n",
    "\n",
    "println(\"A:\")\n",
    "printmat(A)\n",
    "println(\"c:\")\n",
    "printmat(c)\n",
    "\n",
    "println(\"A*c:\")\n",
    "printmat(A*c)\n",
    "\n",
    "println(\"A .+ c:\")\n",
    "printmat(A .+ c)"
   ]
  },
  {
   "cell_type": "markdown",
   "metadata": {},
   "source": [
    "With two matrices of the same dimensions ($A$ and $B$), do\n",
    "\n",
    "`A+B` ($A+B$) to add them (element by element)"
   ]
  },
  {
   "cell_type": "code",
   "execution_count": 9,
   "metadata": {},
   "outputs": [
    {
     "name": "stdout",
     "output_type": "stream",
     "text": [
      "A:\n",
      "        10\n",
      "        11\n",
      "\n",
      "B:\n",
      "         2\n",
      "         5\n",
      "\n",
      "A-B:\n",
      "         8\n",
      "         6\n",
      "\n"
     ]
    }
   ],
   "source": [
    "A = [10;11]                 #A and B are 2x1 matrices\n",
    "B = [2;5]\n",
    "\n",
    "println(\"A:\")\n",
    "printmat(A)\n",
    "println(\"B:\")\n",
    "printmat(B)\n",
    "\n",
    "println(\"A-B:\")\n",
    "printmat(A-B)"
   ]
  },
  {
   "cell_type": "code",
   "execution_count": 10,
   "metadata": {},
   "outputs": [
    {
     "name": "stdout",
     "output_type": "stream",
     "text": [
      "A:\n",
      "         1         3\n",
      "         3         4\n",
      "\n",
      "B:\n",
      "         1         2\n",
      "         3        -2\n",
      "\n",
      "A+B:\n",
      "         2         5\n",
      "         6         2\n",
      "\n"
     ]
    }
   ],
   "source": [
    "A = [1 3;3 4]               #A and B are 2x2 matrices\n",
    "B = [1 2;3 -2]\n",
    "println(\"A:\")\n",
    "printmat(A)\n",
    "println(\"B:\")\n",
    "printmat(B)\n",
    "\n",
    "println(\"A+B:\")\n",
    "printmat(A+B)"
   ]
  },
  {
   "cell_type": "markdown",
   "metadata": {},
   "source": [
    "Transpose a matrix by  `A'` ($A'$)"
   ]
  },
  {
   "cell_type": "code",
   "execution_count": 11,
   "metadata": {},
   "outputs": [
    {
     "name": "stdout",
     "output_type": "stream",
     "text": [
      "A: \n",
      "        10\n",
      "        11\n",
      "\n",
      "A': \n",
      "        10        11\n",
      "\n",
      "B: \n",
      "         1         2         3\n",
      "         4         5         6\n",
      "\n",
      "B': \n",
      "         1         4\n",
      "         2         5\n",
      "         3         6\n",
      "\n"
     ]
    }
   ],
   "source": [
    "A = [10;11]\n",
    "println(\"A: \")\n",
    "printmat(A)\n",
    "println(\"A': \")\n",
    "printmat(A')\n",
    "\n",
    "B = [1 2 3;4 5 6]\n",
    "println(\"B: \")\n",
    "printmat(B)\n",
    "println(\"B': \")\n",
    "printmat(B')"
   ]
  },
  {
   "cell_type": "markdown",
   "metadata": {},
   "source": [
    "Multiplying matrices ($A$ and $B$) of conformable dimensions\n",
    "\n",
    "`A*B` ($AB$)"
   ]
  },
  {
   "cell_type": "code",
   "execution_count": 12,
   "metadata": {},
   "outputs": [
    {
     "name": "stdout",
     "output_type": "stream",
     "text": [
      "A:\n",
      "         1         3\n",
      "         3         4\n",
      "\n",
      "B:\n",
      "         1         2\n",
      "         3        -2\n",
      "\n",
      "A*B:\n",
      "        10        -4\n",
      "        15        -2\n",
      "\n"
     ]
    }
   ],
   "source": [
    "A = [1 3;3 4]           #A and B are 2x2 matrices\n",
    "B = [1 2;3 -2]\n",
    "println(\"A:\")\n",
    "printmat(A)\n",
    "println(\"B:\")\n",
    "printmat(B)\n",
    "\n",
    "println(\"A*B:\")\n",
    "printmat(A*B)"
   ]
  },
  {
   "cell_type": "code",
   "execution_count": 13,
   "metadata": {},
   "outputs": [
    {
     "name": "stdout",
     "output_type": "stream",
     "text": [
      "A:\n",
      "         1         3\n",
      "         3         4\n",
      "\n",
      "B:\n",
      "         2\n",
      "         5\n",
      "\n",
      "A*B:\n",
      "        17\n",
      "        26\n",
      "\n"
     ]
    }
   ],
   "source": [
    "A = [1 3;3 4]           #A is 2x2, B is a vector with 2 elements\n",
    "B = [2;5]\n",
    "println(\"A:\")\n",
    "printmat(A)\n",
    "println(\"B:\")\n",
    "printmat(B)\n",
    "\n",
    "println(\"A*B:\")\n",
    "printmat(A*B)"
   ]
  },
  {
   "cell_type": "markdown",
   "metadata": {},
   "source": [
    "Inner and outer products of (column) vectors with $k$ elements:\n",
    "\n",
    "`x'z` ($x'z$) to get a scalar and `x*z'` ($xz'$) to get a $k\\times k$ matrix  "
   ]
  },
  {
   "cell_type": "code",
   "execution_count": 14,
   "metadata": {},
   "outputs": [
    {
     "name": "stdout",
     "output_type": "stream",
     "text": [
      "x and z\n",
      "        10         2\n",
      "        11         5\n",
      "\n",
      "x'z:         75\n",
      "x*z':\n",
      "        20        50\n",
      "        22        55\n",
      "\n"
     ]
    }
   ],
   "source": [
    "x = [10;11]\n",
    "z = [2;5]\n",
    "println(\"x and z\")\n",
    "printmat([x z])\n",
    "\n",
    "printlnPs(\"x'z: \",x'z)\n",
    "\n",
    "println(\"x*z':\")\n",
    "printmat(x*z')"
   ]
  },
  {
   "cell_type": "markdown",
   "metadata": {},
   "source": [
    "A quadratic form ($A$ is an $n \\times n$ matrix and x is an $n$ vector)\n",
    "\n",
    "`x'A*x` ($x'Ax$) to get a scalar"
   ]
  },
  {
   "cell_type": "code",
   "execution_count": 15,
   "metadata": {},
   "outputs": [
    {
     "name": "stdout",
     "output_type": "stream",
     "text": [
      "x:\n",
      "        10\n",
      "        11\n",
      "\n",
      "A:\n",
      "         1         3\n",
      "         3         4\n",
      "\n",
      "x'A*x:       1244\n"
     ]
    }
   ],
   "source": [
    "A = [1 3;3 4]\n",
    "\n",
    "println(\"x:\")\n",
    "printmat(x)\n",
    "println(\"A:\")\n",
    "printmat(A)\n",
    "\n",
    "printlnPs(\"x'A*x: \",x'A*x)"
   ]
  },
  {
   "cell_type": "markdown",
   "metadata": {},
   "source": [
    "A matrix inverse of an $nxn$ matrix $A$:\n",
    "\n",
    "`inv(A)` or `A^(-1)` ($A^{-1}$)\n",
    "\n",
    "The inverse is such that $AA^{-1}=I$ and $A^{-1}A=I$"
   ]
  },
  {
   "cell_type": "code",
   "execution_count": 16,
   "metadata": {},
   "outputs": [
    {
     "name": "stdout",
     "output_type": "stream",
     "text": [
      "A:\n",
      "         1         3\n",
      "         3         4\n",
      "\n",
      "inv(A):\n",
      "    -0.800     0.600\n",
      "     0.600    -0.200\n",
      "\n",
      "inv(A)*A:\n",
      "     1.000    -0.000\n",
      "     0.000     1.000\n",
      "\n"
     ]
    }
   ],
   "source": [
    "println(\"A:\")\n",
    "printmat(A)\n",
    "\n",
    "println(\"inv(A):\")\n",
    "printmat(inv(A))\n",
    "\n",
    "println(\"inv(A)*A:\")\n",
    "printmat(inv(A)*A)"
   ]
  },
  {
   "cell_type": "code",
   "execution_count": null,
   "metadata": {},
   "outputs": [],
   "source": []
  }
 ],
 "metadata": {
  "anaconda-cloud": {},
  "kernelspec": {
   "display_name": "Julia 1.0.0",
   "language": "julia",
   "name": "julia-1.0"
  },
  "language_info": {
   "file_extension": ".jl",
   "mimetype": "application/julia",
   "name": "julia",
   "version": "1.0.0"
  }
 },
 "nbformat": 4,
 "nbformat_minor": 1
}
