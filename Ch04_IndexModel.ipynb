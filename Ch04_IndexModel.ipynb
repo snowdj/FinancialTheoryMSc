{
 "cells": [
  {
   "cell_type": "markdown",
   "metadata": {},
   "source": [
    "## Load Routines for Printing Matrices"
   ]
  },
  {
   "cell_type": "code",
   "execution_count": 1,
   "metadata": {},
   "outputs": [
    {
     "data": {
      "text/plain": [
       "printlnPs (generic function with 2 methods)"
      ]
     },
     "execution_count": 1,
     "metadata": {},
     "output_type": "execute_result"
    }
   ],
   "source": [
    "using Dates, LinearAlgebra, Statistics, DelimitedFiles\n",
    "\n",
    "include(\"jlFiles/printmat.jl\")"
   ]
  },
  {
   "cell_type": "markdown",
   "metadata": {},
   "source": [
    "# The Theory: A Covariance Matrix from Betas"
   ]
  },
  {
   "cell_type": "markdown",
   "metadata": {},
   "source": [
    "The single index model implies that \n",
    "\n",
    "$\\text{Cov}(R_{t})=\\beta\\beta^{\\prime}\\text{Var}\n",
    "(R_{mt})+\\Sigma$,\n",
    "\n",
    "where $\\beta$ is an $n\\times 1$ vector of betas for $n$ assets. Element $i$ of this vector is typically estimated by OLS of \n",
    "\n",
    "$R_{it} = \\alpha_i + \\beta_i R_{mt} + \\varepsilon_{it}$\n",
    "\n",
    "We can also write element $i,j$ of $\\text{Cov}(R_{t})$ as\n",
    "\n",
    "$\\sigma_{ij} = b_i b_j \\text{Var}(R_{mt}) + \\text{Cov}(\\varepsilon_{it},\\varepsilon_{jt}),$\n",
    "but where $\\text{Cov}(\\varepsilon_{it},\\varepsilon_{jt}) = 0 \\ \\text{ if } \\ i \\neq j$\n",
    "\n",
    "The next section gives a simple example."
   ]
  },
  {
   "cell_type": "code",
   "execution_count": 2,
   "metadata": {},
   "outputs": [
    {
     "name": "stdout",
     "output_type": "stream",
     "text": [
      "β:\n",
      "     0.900\n",
      "     1.100\n",
      "\n",
      "VarRm*100^2: \n",
      "   225.000\n",
      "\n",
      "Σ*100^2: \n",
      "\n",
      "   100.000     0.000\n",
      "     0.000    25.000\n",
      "\n",
      "Covariance matrix*100^2 calculated from betas: \n",
      "   282.250   222.750\n",
      "   222.750   297.250\n",
      "\n"
     ]
    }
   ],
   "source": [
    "β      = [0.9;1.1]\n",
    "StdRes = [10;5]/100\n",
    "VarRm  = 0.15^2\n",
    "Σ      = diagm(0 => (StdRes.^2))     #diagonal covariance matrix of residuals\n",
    "\n",
    "println(\"β:\")\n",
    "printmat(β)\n",
    "println(\"VarRm*100^2: \")\n",
    "printmat(VarRm*100^2)\n",
    "println(\"Σ*100^2: \\n\")\n",
    "printmat(Σ*100^2)\n",
    "\n",
    "CovR = β*β'*VarRm + Σ\n",
    "println(\"Covariance matrix*100^2 calculated from betas: \")\n",
    "printmat(CovR*100^2)"
   ]
  },
  {
   "cell_type": "markdown",
   "metadata": {},
   "source": [
    "# Estimating a Single-Index Model on Data"
   ]
  },
  {
   "cell_type": "markdown",
   "metadata": {},
   "source": [
    "The next section applies the single index model on 5 of the (25) FF portfolios."
   ]
  },
  {
   "cell_type": "markdown",
   "metadata": {},
   "source": [
    "## Loading Data"
   ]
  },
  {
   "cell_type": "code",
   "execution_count": 3,
   "metadata": {},
   "outputs": [
    {
     "data": {
      "text/plain": [
       "(388, 5)"
      ]
     },
     "execution_count": 3,
     "metadata": {},
     "output_type": "execute_result"
    }
   ],
   "source": [
    "x    = readdlm(\"Data/FFmFactorsPs.csv\",',',skipstart=1)\n",
    "Rme  = x[:,2]                #market excess return\n",
    "RSMB = x[:,3]                #small minus big firms\n",
    "RHML = x[:,4]                #high minus low book-to-market ratio\n",
    "Rf   = x[:,5]                #interest rate\n",
    "\n",
    "\n",
    "x  = readdlm(\"Data/FF25Ps.csv\",',') #no header line: x is matrix\n",
    "R  = x[:,2:end]                     #returns for 25 FF portfolios\n",
    "Re = R .- Rf                        #excess returns for the 25 FF portfolios\n",
    "Re = Re[:,[1,7,13,19,25]]           #use just 5 assets to make the printing easier \n",
    "\n",
    "(T,n) = size(Re)                    #no. obs and  no. test assets"
   ]
  },
  {
   "cell_type": "markdown",
   "metadata": {},
   "source": [
    "## Regressions"
   ]
  },
  {
   "cell_type": "code",
   "execution_count": 4,
   "metadata": {},
   "outputs": [
    {
     "name": "stdout",
     "output_type": "stream",
     "text": [
      "\n",
      "β coefficients for 5 assets, from OLS of Re on constant and Rme\n",
      "     1.341\n",
      "     1.169\n",
      "     0.994\n",
      "     0.943\n",
      "     0.849\n",
      "\n"
     ]
    }
   ],
   "source": [
    "x      = [ones(T) Rme]                   #regressors\n",
    "β      = fill(NaN,n)\n",
    "VarRes = fill(NaN,n)\n",
    "for i = 1:n\n",
    "    local b_i, residual\n",
    "    b_i       = x\\Re[:,i]                #OLS\n",
    "    residual  = Re[:,i] - x*b_i\n",
    "    β[i]      = b_i[2]\n",
    "    VarRes[i] = var(residual)\n",
    "end    \n",
    "println(\"\\nβ coefficients for $n assets, from OLS of Re on constant and Rme\")\n",
    "printmat(β)"
   ]
  },
  {
   "cell_type": "markdown",
   "metadata": {},
   "source": [
    "## Using OLS Estimates to Calculate the Covariance Matrix"
   ]
  },
  {
   "cell_type": "code",
   "execution_count": 5,
   "metadata": {},
   "outputs": [
    {
     "name": "stdout",
     "output_type": "stream",
     "text": [
      "\n",
      "Covariance matrix calculated from betas: \n",
      "    73.475    33.232    28.269    26.797    24.146\n",
      "    33.232    37.371    24.644    23.361    21.049\n",
      "    28.269    24.644    26.796    19.872    17.906\n",
      "    26.797    23.361    19.872    25.200    16.973\n",
      "    24.146    21.049    17.906    16.973    25.335\n",
      "\n",
      "Covariance matrix calculated from data: \n",
      "    73.475    43.024    29.472    25.013    20.188\n",
      "    43.024    37.371    29.072    25.136    21.407\n",
      "    29.472    29.072    26.796    23.632    20.981\n",
      "    25.013    25.136    23.632    25.200    21.533\n",
      "    20.188    21.407    20.981    21.533    25.335\n",
      "\n",
      "Difference between the two: \n",
      "    -0.000    -9.791    -1.202     1.784     3.958\n",
      "    -9.791    -0.000    -4.428    -1.775    -0.357\n",
      "    -1.202    -4.428     0.000    -3.760    -3.075\n",
      "     1.784    -1.775    -3.760     0.000    -4.560\n",
      "     3.958    -0.357    -3.075    -4.560     0.000\n",
      "\n"
     ]
    }
   ],
   "source": [
    "Σ      = diagm(0 => VarRes)       #creates a diagonal covariance matrix from vector\n",
    "VarRm = var(Rme)\n",
    "CovR  = β*β'*VarRm + Σ\n",
    "\n",
    "println(\"\\nCovariance matrix calculated from betas: \")\n",
    "printmat(CovR)\n",
    "\n",
    "println(\"Covariance matrix calculated from data: \")\n",
    "printmat(cov(Re))\n",
    "\n",
    "println(\"Difference between the two: \")\n",
    "printmat(CovR-cov(Re))"
   ]
  },
  {
   "cell_type": "markdown",
   "metadata": {},
   "source": [
    "# A Multi-Index Model"
   ]
  },
  {
   "cell_type": "markdown",
   "metadata": {},
   "source": [
    "A multi-index model is based on \n",
    "\n",
    "$R_{it} =a_{i}+b_{i}^{\\prime}I_{t}+\\varepsilon_{it}$,\n",
    "\n",
    "where $b_{i}$ is a $K\\times 1$ vector of slope coefficients.\n",
    "\n",
    "If $\\Omega$ is the covariance matrix of the indices $I_t$, then the covariance of\n",
    "assets $i$ and $j$ is\n",
    "\n",
    "$\\sigma_{ij}=b_{i}^{\\prime}\\Omega b_{j}  + \\text{Cov}(\\varepsilon_{it},\\varepsilon_{jt}),$\n",
    "but where $\\text{Cov}(\\varepsilon_{it},\\varepsilon_{jt}) = 0 \\ \\text{ if } \\ i \\neq j$\n",
    "\n",
    "\n",
    "The code below first estimates $b_i$ for $n$ ssets, and then loops over $i=1:n$ and $j=1:n$ to create the entire variance-covariance matrix of the $n$ assets."
   ]
  },
  {
   "cell_type": "code",
   "execution_count": 6,
   "metadata": {},
   "outputs": [
    {
     "name": "stdout",
     "output_type": "stream",
     "text": [
      "\n",
      "OLS slope coefficients of [Rme, RSMB, RHML]\n",
      "     1.070     1.080     1.035     1.056     1.041\n",
      "     1.264     0.768     0.437     0.153    -0.088\n",
      "    -0.278     0.160     0.487     0.603     0.770\n",
      "\n"
     ]
    }
   ],
   "source": [
    "x      = [ones(T) Rme RSMB RHML]               #regressors\n",
    "K      = size(x,2) - 1 \n",
    "b      = fill(NaN,(K,n))\n",
    "VarRes = fill(NaN,n)\n",
    "for i = 1:n\n",
    "    local b_i, residual\n",
    "    b_i       = x\\Re[:,i]                #OLS\n",
    "    residual  = Re[:,i] - x*b_i\n",
    "    b[:,i]    = b_i[2:end]\n",
    "    VarRes[i] = var(residual)\n",
    "end    \n",
    "\n",
    "println(\"\\nOLS slope coefficients of [Rme, RSMB, RHML]\")\n",
    "printmat(b)"
   ]
  },
  {
   "cell_type": "code",
   "execution_count": 7,
   "metadata": {},
   "outputs": [
    {
     "name": "stdout",
     "output_type": "stream",
     "text": [
      "\n",
      "Covariance matrix calculated from betas: \n",
      "    73.475    41.847    31.050    25.449    18.940\n",
      "    41.847    37.371    27.384    24.141    20.145\n",
      "    31.050    27.384    26.796    22.239    20.109\n",
      "    25.449    24.141    22.239    25.200    20.717\n",
      "    18.940    20.145    20.109    20.717    25.335\n",
      "\n",
      "\n",
      "Covariance matrix calculated from data: \n",
      "    73.475    43.024    29.472    25.013    20.188\n",
      "    43.024    37.371    29.072    25.136    21.407\n",
      "    29.472    29.072    26.796    23.632    20.981\n",
      "    25.013    25.136    23.632    25.200    21.533\n",
      "    20.188    21.407    20.981    21.533    25.335\n",
      "\n",
      "Difference between the two: \n",
      "    -0.000    -1.176     1.578     0.436    -1.248\n",
      "    -1.176    -0.000    -1.688    -0.995    -1.261\n",
      "     1.578    -1.688     0.000    -1.393    -0.873\n",
      "     0.436    -0.995    -1.393     0.000    -0.816\n",
      "    -1.248    -1.261    -0.873    -0.816     0.000\n",
      "\n",
      "\n",
      "\u001b[31mIs the multi-index model better than the single-index model?\u001b[39m"
     ]
    }
   ],
   "source": [
    "Omega = cov(x[:,2:end])      #covariance matrix of factors\n",
    "CovR = fill(NaN,(n,n))\n",
    "for i = 1:n, j = 1:n         #loop over both i and j\n",
    "    CovR[i,j] = b[:,i]'Omega*b[:,j]\n",
    "    if i == j\n",
    "        CovR[i,i] = CovR[i,i] + VarRes[i]\n",
    "    end\n",
    "end\n",
    "\n",
    "println(\"\\nCovariance matrix calculated from betas: \")\n",
    "printmat(CovR)\n",
    "\n",
    "println(\"\\nCovariance matrix calculated from data: \")\n",
    "printmat(cov(Re))\n",
    "\n",
    "println(\"Difference between the two: \")\n",
    "printmat(CovR-cov(Re))\n",
    "\n",
    "printstyled(\"\\nIs the multi-index model better than the single-index model?\",color=:red)"
   ]
  },
  {
   "cell_type": "code",
   "execution_count": null,
   "metadata": {},
   "outputs": [],
   "source": []
  }
 ],
 "metadata": {
  "anaconda-cloud": {},
  "kernelspec": {
   "display_name": "Julia 1.0.3",
   "language": "julia",
   "name": "julia-1.0"
  },
  "language_info": {
   "file_extension": ".jl",
   "mimetype": "application/julia",
   "name": "julia",
   "version": "1.0.3"
  }
 },
 "nbformat": 4,
 "nbformat_minor": 1
}
