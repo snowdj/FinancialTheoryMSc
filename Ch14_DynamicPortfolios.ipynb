{
 "cells": [
  {
   "cell_type": "markdown",
   "metadata": {},
   "source": [
    "## Load Packages"
   ]
  },
  {
   "cell_type": "code",
   "execution_count": 1,
   "metadata": {},
   "outputs": [
    {
     "data": {
      "text/plain": [
       "printlnPs (generic function with 2 methods)"
      ]
     },
     "execution_count": 1,
     "metadata": {},
     "output_type": "execute_result"
    }
   ],
   "source": [
    "using Dates, LinearAlgebra, Distributions\n",
    "\n",
    "include(\"jlFiles/printmat.jl\")"
   ]
  },
  {
   "cell_type": "markdown",
   "metadata": {},
   "source": [
    "# Log Utility"
   ]
  },
  {
   "cell_type": "markdown",
   "metadata": {},
   "source": [
    "## Log Utility and One Risky Asset (and a riskfree)"
   ]
  },
  {
   "cell_type": "code",
   "execution_count": 2,
   "metadata": {},
   "outputs": [
    {
     "name": "stdout",
     "output_type": "stream",
     "text": [
      "Weight on risky asset and riskfree in the two states\n",
      "     1.500     1.000\n",
      "    -0.500     0.000\n",
      "\n"
     ]
    }
   ],
   "source": [
    "rf   = 0.03                       \n",
    "σ²   = 100/10000\n",
    "μe1A = 1/100         #mean excess returns, state A\n",
    "μe1B = 0.5/100       #mean excess returns, state B\n",
    "\n",
    "vA = (μe1A + σ²/2)/σ²\n",
    "vB = (μe1B + σ²/2)/σ²\n",
    "\n",
    "println(\"Weight on risky asset and riskfree in the two states\")\n",
    "printmat([vA vB;1-sum(vA) 1-sum(vB)])"
   ]
  },
  {
   "cell_type": "markdown",
   "metadata": {},
   "source": [
    "## Log Utility and Many Assets (3 risky and one riskfree)"
   ]
  },
  {
   "cell_type": "code",
   "execution_count": 3,
   "metadata": {},
   "outputs": [
    {
     "data": {
      "text/plain": [
       "OptPortLogUtil (generic function with 1 method)"
      ]
     },
     "execution_count": 3,
     "metadata": {},
     "output_type": "execute_result"
    }
   ],
   "source": [
    "function OptPortLogUtil(Σ,μe,rf)     #Campbell&Viceira, log return is N(μe+rf,Σ)\n",
    "  v     = inv(Σ)*(μe+diag(Σ)/2)      #warning: (μe,Σ) are for logs\n",
    "  Erp   = rf + v'μe + v'diag(Σ)/2 - v'Σ*v/2\n",
    "  Varrp = v'Σ*v\n",
    "  return v, Erp, Varrp\n",
    "end"
   ]
  },
  {
   "cell_type": "code",
   "execution_count": 4,
   "metadata": {},
   "outputs": [
    {
     "name": "stdout",
     "output_type": "stream",
     "text": [
      "\n"
     ]
    }
   ],
   "source": [
    "Σ  = [166  34  58;\n",
    "       34  64   4;\n",
    "       58   4 100]/10000\n",
    "μeA = [2.0, 1.0, 0.5]/100       #mean excess returns, state A\n",
    "μeB = [2.0, 0.0, 0.5]/100       #mean excess returns, state B\n",
    "\n",
    "println()"
   ]
  },
  {
   "cell_type": "code",
   "execution_count": 5,
   "metadata": {},
   "outputs": [
    {
     "name": "stdout",
     "output_type": "stream",
     "text": [
      "weights on risky and riskfree assets in state A and B\n",
      "     1.384     1.810\n",
      "     1.318    -0.460\n",
      "     0.144    -0.031\n",
      "    -1.847    -0.319\n",
      "\n"
     ]
    }
   ],
   "source": [
    "vA, = OptPortLogUtil(Σ,μeA,rf)\n",
    "vB, = OptPortLogUtil(Σ,μeB,rf)\n",
    "\n",
    "println(\"weights on risky and riskfree assets in state A and B\")\n",
    "printmat([vA vB;1-sum(vA) 1-sum(vB)])"
   ]
  },
  {
   "cell_type": "markdown",
   "metadata": {},
   "source": [
    "# CRRA Utility"
   ]
  },
  {
   "cell_type": "code",
   "execution_count": 6,
   "metadata": {},
   "outputs": [
    {
     "name": "stdout",
     "output_type": "stream",
     "text": [
      "Weight on risky asset and riskfree in the two states\n",
      "     0.500     0.333\n",
      "     0.500     0.667\n",
      "\n"
     ]
    }
   ],
   "source": [
    "γ = 3\n",
    "\n",
    "vA = (μe1A + σ²/2)/(σ²*γ)\n",
    "vB = (μe1B + σ²/2)/(σ²*γ)\n",
    "\n",
    "println(\"Weight on risky asset and riskfree in the two states\")\n",
    "printmat([vA vB;1-sum(vA) 1-sum(vB)])"
   ]
  },
  {
   "cell_type": "code",
   "execution_count": 7,
   "metadata": {},
   "outputs": [
    {
     "data": {
      "text/plain": [
       "OptPortCRRA (generic function with 1 method)"
      ]
     },
     "execution_count": 7,
     "metadata": {},
     "output_type": "execute_result"
    }
   ],
   "source": [
    "function OptPortCRRA(Σ,μe,rf,γ)         #Campbell&Viceira, log return is N(μe+rf,Σ)\n",
    "  v     = inv(Σ)*(μe+diag(Σ)/2)/γ      #warning: (μe,Σ) are for logs\n",
    "  Erp   = rf + v'μe + v'diag(Σ)/2 - v'Σ*v/2\n",
    "  Varrp = v'Σ*v\n",
    "  return v, Erp, Varrp\n",
    "end"
   ]
  },
  {
   "cell_type": "code",
   "execution_count": 8,
   "metadata": {},
   "outputs": [
    {
     "name": "stdout",
     "output_type": "stream",
     "text": [
      "weights on risky and riskfree assets in state A and B\n",
      "     0.461     0.603\n",
      "     0.439    -0.153\n",
      "     0.048    -0.010\n",
      "     0.051     0.560\n",
      "\n"
     ]
    }
   ],
   "source": [
    "γ = 3\n",
    "\n",
    "vA, = OptPortCRRA(Σ,μeA,rf,γ)\n",
    "vB, = OptPortCRRA(Σ,μeB,rf,γ)\n",
    "\n",
    "println(\"weights on risky and riskfree assets in state A and B\")\n",
    "printmat([vA vB;1-sum(vA) 1-sum(vB)])"
   ]
  },
  {
   "cell_type": "markdown",
   "metadata": {},
   "source": [
    "# Intertemporal Hedging"
   ]
  },
  {
   "cell_type": "markdown",
   "metadata": {},
   "source": [
    "## A Single Risky Asset \n",
    "\n",
    "and a riskfree"
   ]
  },
  {
   "cell_type": "code",
   "execution_count": 9,
   "metadata": {},
   "outputs": [
    {
     "data": {
      "text/plain": [
       "CRRAPortOpt1 (generic function with 1 method)"
      ]
     },
     "execution_count": 9,
     "metadata": {},
     "output_type": "execute_result"
    }
   ],
   "source": [
    "#for a single risky asset\n",
    "function CRRAPortOpt1(Σ_u,Σ_η,Σ_uη,a,ϕ,γ,z)\n",
    "  v_myop  = inv(Σ_u)*(a + z + Σ_u/2)/γ\n",
    "  Σ       = 2*Σ_u + Σ_η + 2*Σ_uη\n",
    "  v_noreb = inv(Σ)*(2*a + (I+ϕ)*z + Σ/2)/γ\n",
    "  Ev1     = inv(Σ_u)*(a + ϕ*z + Σ_u/2)/γ\n",
    "  v_rebal = inv(Σ_u)*(a + z + Σ_u/2 + (1-γ)*Σ_uη*Ev1)/γ\n",
    "  return v_myop, v_noreb, v_rebal\n",
    "end"
   ]
  },
  {
   "cell_type": "code",
   "execution_count": 10,
   "metadata": {},
   "outputs": [
    {
     "name": "stdout",
     "output_type": "stream",
     "text": [
      "Portfolio weight of risk asset: myopic and 2-period (rebalancing)\n",
      "\n",
      "corr(u,η)=-0.5\n",
      "     0.417     0.537\n",
      "\n",
      "corr(u,η)= 0.5\n",
      "     0.417     0.296\n",
      "\n"
     ]
    }
   ],
   "source": [
    "(γ,Σ_u,Σ_η,a,ϕ) = (3,100/10000,75/10000,0.75/100,0.9)     #parameters in example with 1 risky asset\n",
    "\n",
    "Σ_uηL  = -0.5*sqrt(Σ_u*Σ_η)     #corr(u,η)=-0.5\n",
    "Σ_uηH  =  0.5*sqrt(Σ_u*Σ_η)     #corr(u,η)=0.5\n",
    "\n",
    "(v_myopL,v_norebL,v_rebalL) = CRRAPortOpt1(Σ_u,Σ_η,Σ_uηL,a,ϕ,γ,0)\n",
    "(v_myopH,v_norebH,v_rebalH) = CRRAPortOpt1(Σ_u,Σ_η,Σ_uηH,a,ϕ,γ,0)\n",
    "\n",
    "println(\"Portfolio weight of risk asset: myopic and 2-period (rebalancing)\\n\")\n",
    "println(\"corr(u,η)=-0.5\")\n",
    "printmat([v_myopL v_rebalL])\n",
    "println(\"corr(u,η)= 0.5\")\n",
    "printmat([v_myopH v_rebalH])"
   ]
  },
  {
   "cell_type": "markdown",
   "metadata": {},
   "source": [
    "## Three Risky Assets\n",
    "\n",
    "and a riskfree"
   ]
  },
  {
   "cell_type": "code",
   "execution_count": 11,
   "metadata": {},
   "outputs": [
    {
     "data": {
      "text/plain": [
       "CRRAPortOpt (generic function with 1 method)"
      ]
     },
     "execution_count": 11,
     "metadata": {},
     "output_type": "execute_result"
    }
   ],
   "source": [
    "function CRRAPortOpt(Σ_u,Σ_η,Σ_uη,a,ϕ,γ,z)\n",
    "  v_myop  = inv(Σ_u)*(a + z + diag(Σ_u)/2)/γ\n",
    "  Σ       = 2*Σ_u + Σ_η + 2*Σ_uη\n",
    "  v_noreb = inv(Σ)*(2*a + (I+ϕ)*z + diag(Σ)/2)/γ\n",
    "  Ev1     = inv(Σ_u)*(a + ϕ*z + diag(Σ_u)/2)/γ\n",
    "  v_rebal = inv(Σ_u)*(a + z + diag(Σ_u)/2 + (1-γ)*Σ_uη*Ev1)/γ\n",
    "  return v_myop, v_noreb, v_rebal\n",
    "end"
   ]
  },
  {
   "cell_type": "code",
   "execution_count": 12,
   "metadata": {},
   "outputs": [
    {
     "name": "stdout",
     "output_type": "stream",
     "text": [
      "Σ_u*10000\n",
      "   166.000    34.000    58.000\n",
      "    34.000    64.000     4.000\n",
      "    58.000     4.000   100.000\n",
      "\n",
      "Σ_η*10000\n",
      "     0.000     0.000     0.000\n",
      "     0.000   100.000     0.000\n",
      "     0.000     0.000     0.000\n",
      "\n",
      "a*100\n",
      "     2.000\n",
      "     0.500\n",
      "     0.500\n",
      "\n",
      "\n",
      "Two cases: negative and positive Cov(u,η) for asset 2\n",
      "     0.000     0.000     0.000\n",
      "     0.000   -40.000     0.000\n",
      "     0.000     0.000     0.000\n",
      "\n",
      "     0.000     0.000     0.000\n",
      "     0.000    40.000     0.000\n",
      "     0.000     0.000     0.000\n",
      "\n"
     ]
    }
   ],
   "source": [
    "γ = 3\n",
    "\n",
    "Σ_u    = [166  34  58;\n",
    "           34  64   4;\n",
    "           58   4 100]/10000\n",
    "Σ_η    = [0  0   0;\n",
    "          0  100 0;\n",
    "          0  0   0]/10000       #only asset 2 has dynamics in expected returns\n",
    "a      = [2,0.5,0.5]/100\n",
    "ϕ      = [0  0   0;             #doesn't matter for 2-period problem when z_t=0\n",
    "          0  0.9 0;\n",
    "          0  0   0]\n",
    "\n",
    "Σ_uηL =  [0  0   0;            #Cov(u,η)<0 for asset 2\n",
    "          0  -40  0;\n",
    "          0  0    0]/10000       \n",
    "Σ_uηH =  [0  0   0;            #Cov(u,η)>0 for asset 2\n",
    "          0  40   0;\n",
    "          0  0    0]/10000       \n",
    "\n",
    "\n",
    "println(\"Σ_u*10000\")\n",
    "printmat(Σ_u*10000)\n",
    "\n",
    "println(\"Σ_η*10000\")\n",
    "printmat(Σ_η*10000)\n",
    "\n",
    "println(\"a*100\")\n",
    "printmat(a*100)\n",
    "\n",
    "\n",
    "println(\"\\nTwo cases: negative and positive Cov(u,η) for asset 2\")\n",
    "printmat(Σ_uηL*10000)\n",
    "printmat(Σ_uηH*10000)"
   ]
  },
  {
   "cell_type": "code",
   "execution_count": 13,
   "metadata": {},
   "outputs": [
    {
     "name": "stdout",
     "output_type": "stream",
     "text": [
      "Portfolio weights of 3 risky asset: myopic and 2-period (rebalancing)\n",
      "\n",
      "cov(u,η) < 0\n",
      "     0.532     0.516\n",
      "     0.143     0.211\n",
      "     0.019     0.026\n",
      "\n",
      "corr(u,η) > 0\n",
      "     0.532     0.549\n",
      "     0.143     0.075\n",
      "     0.019     0.012\n",
      "\n"
     ]
    }
   ],
   "source": [
    "(v_myopL,v_norebL,v_rebalL) = CRRAPortOpt(Σ_u,Σ_η,Σ_uηL,a,ϕ,γ,zeros(3))     #different Cov(u,η)\n",
    "(v_myopH,v_norebH,v_rebalH) = CRRAPortOpt(Σ_u,Σ_η,Σ_uηH,a,ϕ,γ,zeros(3))\n",
    "\n",
    "println(\"Portfolio weights of 3 risky asset: myopic and 2-period (rebalancing)\\n\")\n",
    "println(\"cov(u,η) < 0\")\n",
    "printmat([v_myopL v_rebalL])\n",
    "println(\"corr(u,η) > 0\")\n",
    "printmat([v_myopH v_rebalH])"
   ]
  },
  {
   "cell_type": "code",
   "execution_count": null,
   "metadata": {},
   "outputs": [],
   "source": []
  }
 ],
 "metadata": {
  "anaconda-cloud": {},
  "kernelspec": {
   "display_name": "Julia 1.0.2",
   "language": "julia",
   "name": "julia-1.0"
  },
  "language_info": {
   "file_extension": ".jl",
   "mimetype": "application/julia",
   "name": "julia",
   "version": "1.0.2"
  }
 },
 "nbformat": 4,
 "nbformat_minor": 1
}
