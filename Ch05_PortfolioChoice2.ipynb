{
 "cells": [
  {
   "cell_type": "markdown",
   "metadata": {},
   "source": [
    "## Load Packages"
   ]
  },
  {
   "cell_type": "code",
   "execution_count": 1,
   "metadata": {},
   "outputs": [
    {
     "data": {
      "text/plain": [
       "printlnPs (generic function with 2 methods)"
      ]
     },
     "execution_count": 1,
     "metadata": {},
     "output_type": "execute_result"
    }
   ],
   "source": [
    "#using Dates            #Julia 0.7\n",
    "using Compat, Missings  #to use 0.7 syntax in 0.6\n",
    "\n",
    "include(\"printmat.jl\")"
   ]
  },
  {
   "cell_type": "markdown",
   "metadata": {},
   "source": [
    "# From Chapter on Mean-Variance Analysis"
   ]
  },
  {
   "cell_type": "code",
   "execution_count": 2,
   "metadata": {},
   "outputs": [
    {
     "data": {
      "text/plain": [
       "MVTangencyP (generic function with 1 method)"
      ]
     },
     "execution_count": 2,
     "metadata": {},
     "output_type": "execute_result"
    }
   ],
   "source": [
    "function MVTangencyP(μ,Σ,Rf)           #calculates the tangency portfolio\n",
    "    n     = length(μ)\n",
    "    oneV  = ones(n)  \n",
    "    μe    = μ .- Rf                    #excess returns            \n",
    "    Σ_1   = inv(Σ)\n",
    "    w     = Σ_1 * μe/(oneV'Σ_1*μe)\n",
    "    muT   = w'μ + (1-sum(w))*Rf\n",
    "    StdT  = sqrt(w'Σ*w)\n",
    "    return w,muT,StdT\n",
    "end"
   ]
  },
  {
   "cell_type": "markdown",
   "metadata": {},
   "source": [
    "# Several Risky Assets and one Riskfree Asset"
   ]
  },
  {
   "cell_type": "markdown",
   "metadata": {},
   "source": [
    "An investor who maximizes\n",
    "\n",
    "$\\text{E}U(R_{p})   =\\text{E}R_{p}-\\frac{k}{2} \\text{Var}(R_{p})$,\n",
    "\n",
    "subject to \n",
    "\n",
    "$R_{p} = v'R^e + R_f$\n",
    "\n",
    "will pick the portfolio weights (on the risky assets)\n",
    "\n",
    "$v  =\\frac{1}{k}\\Sigma^{-1}\\mu^{e}$\n",
    "\n",
    "The portfolio weight on the riskfree asset is $1-\\mathbf{1}'v$"
   ]
  },
  {
   "cell_type": "code",
   "execution_count": 3,
   "metadata": {},
   "outputs": [
    {
     "name": "stdout",
     "output_type": "stream",
     "text": [
      "expected returns: \n",
      "     0.085\n",
      "     0.065\n",
      "\n",
      "covariance matrix:\n",
      "     0.017     0.003\n",
      "     0.003     0.006\n",
      "\n"
     ]
    }
   ],
   "source": [
    "μ = [0.085; 0.065]                     #means\n",
    "Σ = [ 166  34;                         #covariance matrix \n",
    "      34    64]/100^2\n",
    "Rf = 0.03\n",
    "println(\"expected returns: \")\n",
    "printmat(μ)\n",
    "println(\"covariance matrix:\")\n",
    "printmat(Σ)"
   ]
  },
  {
   "cell_type": "code",
   "execution_count": 4,
   "metadata": {},
   "outputs": [
    {
     "data": {
      "text/plain": [
       "OptimalPortfolio (generic function with 1 method)"
      ]
     },
     "execution_count": 4,
     "metadata": {},
     "output_type": "execute_result"
    }
   ],
   "source": [
    "function OptimalPortfolio(μ,Σ,Rf,k)           #calculates optimal portfolio weights etc\n",
    "    n   = length(μ)\n",
    "    μe  = μ .- Rf                             #expected excess returns            \n",
    "    Σ_1 = inv(Σ)\n",
    "    v   = Σ_1 * μe/k                          #optimal weights risky assets, 1-1'v in riskfree   \n",
    "    mup   = v'μ + (1-sum(v))*Rf               #expected return and std of optimal portfolio\n",
    "    StdRp = sqrt(v'Σ*v)\n",
    "    return v, mup, StdRp\n",
    "end    "
   ]
  },
  {
   "cell_type": "code",
   "execution_count": 5,
   "metadata": {},
   "outputs": [
    {
     "name": "stdout",
     "output_type": "stream",
     "text": [
      "optimal portfolio weights on risky assets and riskfree when k = 9: \n",
      "     0.273\n",
      "     0.462\n",
      "     0.264\n",
      "\n",
      "optimal portfolio weights on risky assets/their sum: \n",
      "     0.372\n",
      "     0.628\n",
      "\n",
      "Tangency portfolio: \n",
      "     0.372\n",
      "     0.628\n",
      "\n",
      "ERp and Std(Rp) for optimal portfolio when k = 9, %: \n",
      "     6.122     5.890\n",
      "\n"
     ]
    }
   ],
   "source": [
    "k = 9\n",
    "(vOpt,muOpt,StdOpt) = OptimalPortfolio(μ,Σ,Rf,k)         #find optimal portfolio\n",
    "\n",
    "println(\"optimal portfolio weights on risky assets and riskfree when k = $k: \")\n",
    "printmat([vOpt;(1-sum(vOpt))])\n",
    "println(\"optimal portfolio weights on risky assets/their sum: \")\n",
    "printmat(vOpt/sum(vOpt))\n",
    "\n",
    "(wT,muT,StdRT) = MVTangencyP(μ,Σ,Rf)\n",
    "println(\"Tangency portfolio: \")\n",
    "printmat(wT)\n",
    "\n",
    "println(\"ERp and Std(Rp) for optimal portfolio when k = $k, %: \")\n",
    "printmat([muOpt StdOpt]*100)"
   ]
  },
  {
   "cell_type": "code",
   "execution_count": null,
   "metadata": {},
   "outputs": [],
   "source": []
  }
 ],
 "metadata": {
  "anaconda-cloud": {},
  "kernelspec": {
   "display_name": "Julia 0.6.3",
   "language": "julia",
   "name": "julia-0.6"
  },
  "language_info": {
   "file_extension": ".jl",
   "mimetype": "application/julia",
   "name": "julia",
   "version": "0.6.3"
  }
 },
 "nbformat": 4,
 "nbformat_minor": 1
}
