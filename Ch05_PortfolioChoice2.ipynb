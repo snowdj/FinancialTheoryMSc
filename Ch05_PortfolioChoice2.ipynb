{
 "cells": [
  {
   "cell_type": "markdown",
   "metadata": {},
   "source": [
    "# Portfolio Choice 2"
   ]
  },
  {
   "cell_type": "markdown",
   "metadata": {},
   "source": [
    "## Load Packages"
   ]
  },
  {
   "cell_type": "code",
   "execution_count": 1,
   "metadata": {},
   "outputs": [
    {
     "data": {
      "text/plain": [
       "println4Ps (generic function with 2 methods)"
      ]
     },
     "execution_count": 1,
     "metadata": {},
     "output_type": "execute_result"
    }
   ],
   "source": [
    "using Dates, LinearAlgebra           \n",
    "\n",
    "include(\"jlFiles/printmat.jl\")\n",
    "include(\"jlFiles/printTable.jl\")"
   ]
  },
  {
   "cell_type": "code",
   "execution_count": 2,
   "metadata": {},
   "outputs": [],
   "source": [
    "using Plots\n",
    "backend = \"gr\"              #\"gr\" (default), \"pyplot\" \n",
    "\n",
    "if backend == \"pyplot\"\n",
    "    pyplot(size=(600,400))\n",
    "else    \n",
    "    gr(size=(480,320))\n",
    "    default(fmt = :svg) \n",
    "end"
   ]
  },
  {
   "cell_type": "markdown",
   "metadata": {},
   "source": [
    "# From Chapter on Mean-Variance Analysis\n",
    "\n",
    "The file included below contains the functions `MVCalc()`, `MVCalcRf()` and `MVTangencyP()` from the chapter on MV analysis."
   ]
  },
  {
   "cell_type": "code",
   "execution_count": 3,
   "metadata": {},
   "outputs": [
    {
     "data": {
      "text/plain": [
       "MVTangencyP"
      ]
     },
     "execution_count": 3,
     "metadata": {},
     "output_type": "execute_result"
    }
   ],
   "source": [
    "include(\"jlFiles/MvCalculations.jl\")"
   ]
  },
  {
   "cell_type": "markdown",
   "metadata": {},
   "source": [
    "# Optimal Portfolio Choice"
   ]
  },
  {
   "cell_type": "markdown",
   "metadata": {},
   "source": [
    "An investor who maximizes\n",
    "\n",
    "$\\text{E}U(R_{p})   =\\text{E}R_{p}-\\frac{k}{2} \\text{Var}(R_{p})$,\n",
    "\n",
    "subject to \n",
    "\n",
    "$R_{p} = v'R^e + R_f$\n",
    "\n",
    "will pick the portfolio weights (on the risky assets)\n",
    "\n",
    "$v  =\\frac{1}{k}\\Sigma^{-1}\\mu^{e}$\n",
    "\n",
    "The portfolio weight on the riskfree asset is $1-\\mathbf{1}'v$"
   ]
  },
  {
   "cell_type": "code",
   "execution_count": 4,
   "metadata": {},
   "outputs": [
    {
     "data": {
      "text/plain": [
       "OptimalPortfolio (generic function with 1 method)"
      ]
     },
     "execution_count": 4,
     "metadata": {},
     "output_type": "execute_result"
    }
   ],
   "source": [
    "function OptimalPortfolio(μ,Σ,Rf,k)           #calculates optimal portfolio weights etc\n",
    "    n   = length(μ)\n",
    "    μe  = μ .- Rf                             #expected excess returns            \n",
    "    Σ_1 = inv(Σ)\n",
    "    v   = Σ_1 * μe/k                          #optimal weights risky assets, 1-1'v in riskfree   \n",
    "    mup   = v'μ + (1-sum(v))*Rf               #expected return and std of optimal portfolio\n",
    "    StdRp = sqrt(v'Σ*v)\n",
    "    return v, mup, StdRp\n",
    "end    "
   ]
  },
  {
   "cell_type": "markdown",
   "metadata": {},
   "source": [
    "## An Example with 2 Risky Assets (and a Riskfree)"
   ]
  },
  {
   "cell_type": "code",
   "execution_count": 5,
   "metadata": {},
   "outputs": [
    {
     "data": {
      "text/plain": [
       "0.03"
      ]
     },
     "execution_count": 5,
     "metadata": {},
     "output_type": "execute_result"
    }
   ],
   "source": [
    "μ = [8.5; 6.5]/100                     #means\n",
    "Σ = [ 166  34;                         #covariance matrix \n",
    "      34    64]/100^2\n",
    "Rf = 0.03"
   ]
  },
  {
   "cell_type": "code",
   "execution_count": 6,
   "metadata": {},
   "outputs": [
    {
     "name": "stdout",
     "output_type": "stream",
     "text": [
      "optimal portfolio weights on risky assets and riskfree when k = 9: \n",
      "                  \n",
      "Asset 1      0.273\n",
      "Asset 2      0.462\n",
      "Riskfree     0.264\n",
      "\n",
      "optimal portfolio weights on risky assets/their sum: \n",
      "                 \n",
      "Asset 1     0.372\n",
      "Asset 2     0.628\n",
      "\n",
      "Tangency portfolio: \n",
      "                 \n",
      "Asset 1     0.372\n",
      "Asset 2     0.628\n",
      "\n"
     ]
    }
   ],
   "source": [
    "k = 9\n",
    "vOpt, = OptimalPortfolio(μ,Σ,Rf,k)         #find optimal portfolio\n",
    "\n",
    "println(\"optimal portfolio weights on risky assets and riskfree when k = $k: \")\n",
    "printTable([vOpt;(1-sum(vOpt))],[\"\"],[\"Asset 1\",\"Asset 2\",\"Riskfree\"])\n",
    "\n",
    "println(\"optimal portfolio weights on risky assets/their sum: \")\n",
    "printTable(vOpt/sum(vOpt),[\"\"],[\"Asset 1\",\"Asset 2\"])\n",
    "\n",
    "wT, = MVTangencyP(μ,Σ,Rf)\n",
    "println(\"Tangency portfolio: \")\n",
    "printTable(wT,[\"\"],[\"Asset 1\",\"Asset 2\"])"
   ]
  },
  {
   "cell_type": "markdown",
   "metadata": {},
   "source": [
    "## An Example with 3 Risky Assets  (and a Riskfree)"
   ]
  },
  {
   "cell_type": "code",
   "execution_count": 7,
   "metadata": {},
   "outputs": [
    {
     "data": {
      "text/plain": [
       "0.03"
      ]
     },
     "execution_count": 7,
     "metadata": {},
     "output_type": "execute_result"
    }
   ],
   "source": [
    "μ = [11.5; 9.5; 6]/100          #expected returns\n",
    "Σ  = [166  34  58;              #covariance matrix\n",
    "       34  64   4;\n",
    "       58   4 100]/100^2                  \n",
    "Rf = 0.03"
   ]
  },
  {
   "cell_type": "code",
   "execution_count": 8,
   "metadata": {},
   "outputs": [
    {
     "name": "stdout",
     "output_type": "stream",
     "text": [
      "optimal portfolio weights\n",
      "                 D         E\n",
      "Asset 1      0.110     0.350\n",
      "Asset 2      0.302     0.962\n",
      "Asset 3      0.031     0.099\n",
      "Riskfree     0.556    -0.411\n",
      "\n",
      "optimal weights/tangency portfolio\n",
      "                 D         E\n",
      "Asset 1      0.444     1.411\n",
      "Asset 2      0.444     1.411\n",
      "Asset 3      0.444     1.411\n",
      "\n"
     ]
    }
   ],
   "source": [
    "(vD,muD,StdD) = OptimalPortfolio(μ,Σ,Rf,28)        #high risk aversion\n",
    "(vE,muE,StdE) = OptimalPortfolio(μ,Σ,Rf,8.8)       #low risk aversion\n",
    "\n",
    "(wT,muT,StdT) = MVTangencyP(μ,Σ,Rf)                #tangency portfolio\n",
    "\n",
    "println(\"optimal portfolio weights\")\n",
    "xx = hcat([vD;(1-sum(vD))],[vE;(1-sum(vE))])\n",
    "printTable(xx,[\"D\",\"E\"],[\"Asset 1\",\"Asset 2\",\"Asset 3\",\"Riskfree\"])\n",
    "\n",
    "println(\"optimal weights/tangency portfolio\")\n",
    "xx = [vD vE]./wT\n",
    "printTable(xx,[\"D\",\"E\"],[\"Asset 1\",\"Asset 2\",\"Asset 3\",\"Riskfree\"])"
   ]
  },
  {
   "cell_type": "code",
   "execution_count": 9,
   "metadata": {},
   "outputs": [],
   "source": [
    "mustar = range(Rf,stop=0.15,length=101)\n",
    "L      = length(mustar)\n",
    "\n",
    "StdRp = fill(NaN,(L,2))                 #loop over required average returns (mustar)\n",
    "for i = 1:L\n",
    "    StdRp[i,1] = MVCalc(mustar[i],μ,Σ)[1]           #risky only\n",
    "    StdRp[i,2] = MVCalcRf(mustar[i],μ,Σ,Rf)[1]      #risky and riskfree\n",
    "end"
   ]
  },
  {
   "cell_type": "code",
   "execution_count": 10,
   "metadata": {},
   "outputs": [
    {
     "data": {
      "image/svg+xml": [
       "<?xml version=\"1.0\" encoding=\"utf-8\"?>\n",
       "<svg xmlns=\"http://www.w3.org/2000/svg\" xmlns:xlink=\"http://www.w3.org/1999/xlink\" width=\"480\" height=\"320\" viewBox=\"0 0 1920 1280\">\n",
       "<defs>\n",
       "  <clipPath id=\"clip9200\">\n",
       "    <rect x=\"0\" y=\"0\" width=\"2000\" height=\"2000\"/>\n",
       "  </clipPath>\n",
       "</defs>\n",
       "<defs>\n",
       "  <clipPath id=\"clip9201\">\n",
       "    <rect x=\"0\" y=\"0\" width=\"1920\" height=\"1280\"/>\n",
       "  </clipPath>\n",
       "</defs>\n",
       "<polygon clip-path=\"url(#clip9201)\" points=\"\n",
       "0,1280 1920,1280 1920,0 0,0 \n",
       "  \" fill=\"#ffffff\" fill-rule=\"evenodd\" fill-opacity=\"1\"/>\n",
       "<defs>\n",
       "  <clipPath id=\"clip9202\">\n",
       "    <rect x=\"384\" y=\"0\" width=\"1345\" height=\"1280\"/>\n",
       "  </clipPath>\n",
       "</defs>\n",
       "<polygon clip-path=\"url(#clip9201)\" points=\"\n",
       "211.005,1120.48 1841.26,1120.48 1841.26,125.984 211.005,125.984 \n",
       "  \" fill=\"#ffffff\" fill-rule=\"evenodd\" fill-opacity=\"1\"/>\n",
       "<defs>\n",
       "  <clipPath id=\"clip9203\">\n",
       "    <rect x=\"211\" y=\"125\" width=\"1631\" height=\"995\"/>\n",
       "  </clipPath>\n",
       "</defs>\n",
       "<polyline clip-path=\"url(#clip9203)\" style=\"stroke:#000000; stroke-width:2; stroke-opacity:0.1; fill:none\" points=\"\n",
       "  211.005,1120.48 211.005,125.984 \n",
       "  \"/>\n",
       "<polyline clip-path=\"url(#clip9203)\" style=\"stroke:#000000; stroke-width:2; stroke-opacity:0.1; fill:none\" points=\"\n",
       "  754.423,1120.48 754.423,125.984 \n",
       "  \"/>\n",
       "<polyline clip-path=\"url(#clip9203)\" style=\"stroke:#000000; stroke-width:2; stroke-opacity:0.1; fill:none\" points=\"\n",
       "  1297.84,1120.48 1297.84,125.984 \n",
       "  \"/>\n",
       "<polyline clip-path=\"url(#clip9203)\" style=\"stroke:#000000; stroke-width:2; stroke-opacity:0.1; fill:none\" points=\"\n",
       "  1841.26,1120.48 1841.26,125.984 \n",
       "  \"/>\n",
       "<polyline clip-path=\"url(#clip9203)\" style=\"stroke:#000000; stroke-width:2; stroke-opacity:0.1; fill:none\" points=\"\n",
       "  211.005,1120.48 1841.26,1120.48 \n",
       "  \"/>\n",
       "<polyline clip-path=\"url(#clip9203)\" style=\"stroke:#000000; stroke-width:2; stroke-opacity:0.1; fill:none\" points=\"\n",
       "  211.005,788.983 1841.26,788.983 \n",
       "  \"/>\n",
       "<polyline clip-path=\"url(#clip9203)\" style=\"stroke:#000000; stroke-width:2; stroke-opacity:0.1; fill:none\" points=\"\n",
       "  211.005,457.484 1841.26,457.484 \n",
       "  \"/>\n",
       "<polyline clip-path=\"url(#clip9203)\" style=\"stroke:#000000; stroke-width:2; stroke-opacity:0.1; fill:none\" points=\"\n",
       "  211.005,125.984 1841.26,125.984 \n",
       "  \"/>\n",
       "<polyline clip-path=\"url(#clip9201)\" style=\"stroke:#000000; stroke-width:4; stroke-opacity:1; fill:none\" points=\"\n",
       "  211.005,1120.48 1841.26,1120.48 \n",
       "  \"/>\n",
       "<polyline clip-path=\"url(#clip9201)\" style=\"stroke:#000000; stroke-width:4; stroke-opacity:1; fill:none\" points=\"\n",
       "  211.005,1120.48 211.005,125.984 \n",
       "  \"/>\n",
       "<polyline clip-path=\"url(#clip9201)\" style=\"stroke:#000000; stroke-width:4; stroke-opacity:1; fill:none\" points=\"\n",
       "  211.005,1120.48 211.005,1105.57 \n",
       "  \"/>\n",
       "<polyline clip-path=\"url(#clip9201)\" style=\"stroke:#000000; stroke-width:4; stroke-opacity:1; fill:none\" points=\"\n",
       "  754.423,1120.48 754.423,1105.57 \n",
       "  \"/>\n",
       "<polyline clip-path=\"url(#clip9201)\" style=\"stroke:#000000; stroke-width:4; stroke-opacity:1; fill:none\" points=\"\n",
       "  1297.84,1120.48 1297.84,1105.57 \n",
       "  \"/>\n",
       "<polyline clip-path=\"url(#clip9201)\" style=\"stroke:#000000; stroke-width:4; stroke-opacity:1; fill:none\" points=\"\n",
       "  1841.26,1120.48 1841.26,1105.57 \n",
       "  \"/>\n",
       "<polyline clip-path=\"url(#clip9201)\" style=\"stroke:#000000; stroke-width:4; stroke-opacity:1; fill:none\" points=\"\n",
       "  211.005,1120.48 235.459,1120.48 \n",
       "  \"/>\n",
       "<polyline clip-path=\"url(#clip9201)\" style=\"stroke:#000000; stroke-width:4; stroke-opacity:1; fill:none\" points=\"\n",
       "  211.005,788.983 235.459,788.983 \n",
       "  \"/>\n",
       "<polyline clip-path=\"url(#clip9201)\" style=\"stroke:#000000; stroke-width:4; stroke-opacity:1; fill:none\" points=\"\n",
       "  211.005,457.484 235.459,457.484 \n",
       "  \"/>\n",
       "<polyline clip-path=\"url(#clip9201)\" style=\"stroke:#000000; stroke-width:4; stroke-opacity:1; fill:none\" points=\"\n",
       "  211.005,125.984 235.459,125.984 \n",
       "  \"/>\n",
       "<g clip-path=\"url(#clip9201)\">\n",
       "<text style=\"fill:#000000; fill-opacity:1; font-family:Arial,Helvetica Neue,Helvetica,sans-serif; font-size:48px; text-anchor:middle;\" transform=\"rotate(0, 211.005, 1172.08)\" x=\"211.005\" y=\"1172.08\">0</text>\n",
       "</g>\n",
       "<g clip-path=\"url(#clip9201)\">\n",
       "<text style=\"fill:#000000; fill-opacity:1; font-family:Arial,Helvetica Neue,Helvetica,sans-serif; font-size:48px; text-anchor:middle;\" transform=\"rotate(0, 754.423, 1172.08)\" x=\"754.423\" y=\"1172.08\">5</text>\n",
       "</g>\n",
       "<g clip-path=\"url(#clip9201)\">\n",
       "<text style=\"fill:#000000; fill-opacity:1; font-family:Arial,Helvetica Neue,Helvetica,sans-serif; font-size:48px; text-anchor:middle;\" transform=\"rotate(0, 1297.84, 1172.08)\" x=\"1297.84\" y=\"1172.08\">10</text>\n",
       "</g>\n",
       "<g clip-path=\"url(#clip9201)\">\n",
       "<text style=\"fill:#000000; fill-opacity:1; font-family:Arial,Helvetica Neue,Helvetica,sans-serif; font-size:48px; text-anchor:middle;\" transform=\"rotate(0, 1841.26, 1172.08)\" x=\"1841.26\" y=\"1172.08\">15</text>\n",
       "</g>\n",
       "<g clip-path=\"url(#clip9201)\">\n",
       "<text style=\"fill:#000000; fill-opacity:1; font-family:Arial,Helvetica Neue,Helvetica,sans-serif; font-size:48px; text-anchor:end;\" transform=\"rotate(0, 191.805, 1137.98)\" x=\"191.805\" y=\"1137.98\">0</text>\n",
       "</g>\n",
       "<g clip-path=\"url(#clip9201)\">\n",
       "<text style=\"fill:#000000; fill-opacity:1; font-family:Arial,Helvetica Neue,Helvetica,sans-serif; font-size:48px; text-anchor:end;\" transform=\"rotate(0, 191.805, 806.483)\" x=\"191.805\" y=\"806.483\">5</text>\n",
       "</g>\n",
       "<g clip-path=\"url(#clip9201)\">\n",
       "<text style=\"fill:#000000; fill-opacity:1; font-family:Arial,Helvetica Neue,Helvetica,sans-serif; font-size:48px; text-anchor:end;\" transform=\"rotate(0, 191.805, 474.984)\" x=\"191.805\" y=\"474.984\">10</text>\n",
       "</g>\n",
       "<g clip-path=\"url(#clip9201)\">\n",
       "<text style=\"fill:#000000; fill-opacity:1; font-family:Arial,Helvetica Neue,Helvetica,sans-serif; font-size:48px; text-anchor:end;\" transform=\"rotate(0, 191.805, 143.484)\" x=\"191.805\" y=\"143.484\">15</text>\n",
       "</g>\n",
       "<g clip-path=\"url(#clip9201)\">\n",
       "<text style=\"fill:#000000; fill-opacity:1; font-family:Arial,Helvetica Neue,Helvetica,sans-serif; font-size:84px; text-anchor:middle;\" transform=\"rotate(0, 1026.13, 73.2)\" x=\"1026.13\" y=\"73.2\">Mean vs standard deviation</text>\n",
       "</g>\n",
       "<g clip-path=\"url(#clip9201)\">\n",
       "<text style=\"fill:#000000; fill-opacity:1; font-family:Arial,Helvetica Neue,Helvetica,sans-serif; font-size:66px; text-anchor:middle;\" transform=\"rotate(0, 1026.13, 1270.4)\" x=\"1026.13\" y=\"1270.4\">Std(Rp), %</text>\n",
       "</g>\n",
       "<g clip-path=\"url(#clip9201)\">\n",
       "<text style=\"fill:#000000; fill-opacity:1; font-family:Arial,Helvetica Neue,Helvetica,sans-serif; font-size:66px; text-anchor:middle;\" transform=\"rotate(-90, 57.6, 623.233)\" x=\"57.6\" y=\"623.233\">ERp, %</text>\n",
       "</g>\n",
       "<polyline clip-path=\"url(#clip9203)\" style=\"stroke:#ff0000; stroke-width:4; stroke-opacity:1; fill:none\" points=\"\n",
       "  1606.86,921.583 1582.11,913.627 1557.53,905.671 1533.1,897.715 1508.84,889.759 1484.77,881.803 1460.89,873.847 1437.21,865.891 1413.74,857.935 1390.5,849.979 \n",
       "  1367.5,842.023 1344.76,834.067 1322.29,826.111 1300.11,818.155 1278.23,810.199 1256.68,802.243 1235.47,794.287 1214.64,786.331 1194.19,778.375 1174.16,770.419 \n",
       "  1154.57,762.463 1135.46,754.507 1116.84,746.551 1098.75,738.595 1081.23,730.639 1064.32,722.683 1048.03,714.727 1032.42,706.771 1017.53,698.815 1003.39,690.859 \n",
       "  990.04,682.903 977.529,674.947 965.895,666.991 955.181,659.035 945.426,651.079 936.668,643.123 928.945,635.167 922.29,627.211 916.733,619.255 912.3,611.299 \n",
       "  909.013,603.343 906.888,595.387 905.936,587.431 906.161,579.475 907.562,571.52 910.132,563.564 913.859,555.608 918.725,547.652 924.704,539.696 931.772,531.74 \n",
       "  939.894,523.784 949.037,515.828 959.164,507.872 970.234,499.916 982.208,491.96 995.043,484.004 1008.7,476.048 1023.13,468.092 1038.31,460.136 1054.18,452.18 \n",
       "  1070.71,444.224 1087.86,436.268 1105.6,428.312 1123.89,420.356 1142.7,412.4 1162,404.444 1181.76,396.488 1201.95,388.532 1222.55,380.576 1243.53,372.62 \n",
       "  1264.87,364.664 1286.55,356.708 1308.55,348.752 1330.84,340.796 1353.42,332.84 1376.26,324.884 1399.35,316.928 1422.68,308.972 1446.23,301.016 1469.99,293.06 \n",
       "  1493.95,285.104 1518.09,277.148 1542.41,269.192 1566.9,261.236 1591.55,253.28 1616.35,245.324 1641.29,237.368 1666.36,229.412 1691.57,221.456 1716.89,213.5 \n",
       "  1742.34,205.544 1767.89,197.588 1793.55,189.632 1819.3,181.676 1845.15,173.72 1871.1,165.764 1897.12,157.808 1923.24,149.852 1949.43,141.896 1975.69,133.94 \n",
       "  2002.03,125.984 \n",
       "  \"/>\n",
       "<polyline clip-path=\"url(#clip9203)\" style=\"stroke:#0000ff; stroke-width:4; stroke-opacity:1; fill:none\" points=\"\n",
       "  211.005,921.583 225.249,913.627 239.493,905.671 253.737,897.715 267.981,889.759 282.226,881.803 296.47,873.847 310.714,865.891 324.958,857.935 339.202,849.979 \n",
       "  353.446,842.023 367.69,834.067 381.934,826.111 396.178,818.155 410.422,810.199 424.667,802.243 438.911,794.287 453.155,786.331 467.399,778.375 481.643,770.419 \n",
       "  495.887,762.463 510.131,754.507 524.375,746.551 538.619,738.595 552.863,730.639 567.108,722.683 581.352,714.727 595.596,706.771 609.84,698.815 624.084,690.859 \n",
       "  638.328,682.903 652.572,674.947 666.816,666.991 681.06,659.035 695.304,651.079 709.549,643.123 723.793,635.167 738.037,627.211 752.281,619.255 766.525,611.299 \n",
       "  780.769,603.343 795.013,595.387 809.257,587.431 823.501,579.475 837.745,571.52 851.99,563.564 866.234,555.608 880.478,547.652 894.722,539.696 908.966,531.74 \n",
       "  923.21,523.784 937.454,515.828 951.698,507.872 965.942,499.916 980.187,491.96 994.431,484.004 1008.67,476.048 1022.92,468.092 1037.16,460.136 1051.41,452.18 \n",
       "  1065.65,444.224 1079.9,436.268 1094.14,428.312 1108.38,420.356 1122.63,412.4 1136.87,404.444 1151.12,396.488 1165.36,388.532 1179.6,380.576 1193.85,372.62 \n",
       "  1208.09,364.664 1222.34,356.708 1236.58,348.752 1250.82,340.796 1265.07,332.84 1279.31,324.884 1293.56,316.928 1307.8,308.972 1322.04,301.016 1336.29,293.06 \n",
       "  1350.53,285.104 1364.78,277.148 1379.02,269.192 1393.27,261.236 1407.51,253.28 1421.75,245.324 1436,237.368 1450.24,229.412 1464.49,221.456 1478.73,213.5 \n",
       "  1492.97,205.544 1507.22,197.588 1521.46,189.632 1535.71,181.676 1549.95,173.72 1564.19,165.764 1578.44,157.808 1592.68,149.852 1606.93,141.896 1621.17,133.94 \n",
       "  1635.42,125.984 \n",
       "  \"/>\n",
       "<circle clip-path=\"url(#clip9203)\" style=\"fill:#000000; stroke:none; fill-opacity:1\" cx=\"1611.3\" cy=\"358.034\" r=\"18\"/>\n",
       "<circle clip-path=\"url(#clip9203)\" style=\"fill:#ff0000; stroke:none; fill-opacity:1\" cx=\"1611.3\" cy=\"358.034\" r=\"14\"/>\n",
       "<circle clip-path=\"url(#clip9203)\" style=\"fill:#000000; stroke:none; fill-opacity:1\" cx=\"1080.47\" cy=\"490.634\" r=\"18\"/>\n",
       "<circle clip-path=\"url(#clip9203)\" style=\"fill:#ff0000; stroke:none; fill-opacity:1\" cx=\"1080.47\" cy=\"490.634\" r=\"14\"/>\n",
       "<circle clip-path=\"url(#clip9203)\" style=\"fill:#000000; stroke:none; fill-opacity:1\" cx=\"1297.84\" cy=\"722.683\" r=\"18\"/>\n",
       "<circle clip-path=\"url(#clip9203)\" style=\"fill:#ff0000; stroke:none; fill-opacity:1\" cx=\"1297.84\" cy=\"722.683\" r=\"14\"/>\n",
       "<polygon clip-path=\"url(#clip9203)\" style=\"fill:#000000; fill-opacity:1\" points=\"\n",
       "  566.404,703.076 561.704,716.596 547.384,716.896 558.804,725.556 554.644,739.256 566.404,731.076 578.164,739.256 574.004,725.556 585.424,716.896 571.104,716.596 \n",
       "  566.404,703.076 \n",
       "  \"/>\n",
       "<polygon clip-path=\"url(#clip9203)\" style=\"fill:#000000; fill-opacity:1\" points=\"\n",
       "  566.404,707.076 562.644,717.892 551.188,718.132 560.324,725.06 556.996,736.02 566.404,729.476 575.812,736.02 572.484,725.06 581.62,718.132 570.164,717.892 \n",
       "  566.404,707.076 \n",
       "  \"/>\n",
       "<polygon clip-path=\"url(#clip9203)\" style=\"fill:#000000; fill-opacity:1\" points=\"\n",
       "  1341.82,269.97 1337.12,283.49 1322.8,283.79 1334.22,292.45 1330.06,306.15 1341.82,297.97 1353.58,306.15 1349.42,292.45 1360.84,283.79 1346.52,283.49 \n",
       "  1341.82,269.97 \n",
       "  \"/>\n",
       "<polygon clip-path=\"url(#clip9203)\" style=\"fill:#000000; fill-opacity:1\" points=\"\n",
       "  1341.82,273.97 1338.06,284.786 1326.61,285.026 1335.74,291.954 1332.41,302.914 1341.82,296.37 1351.23,302.914 1347.9,291.954 1357.04,285.026 1345.58,284.786 \n",
       "  1341.82,273.97 \n",
       "  \"/>\n",
       "<polygon clip-path=\"url(#clip9203)\" style=\"fill:#000000; fill-opacity:1\" points=\"\n",
       "  1012.21,454.072 992.213,494.072 1032.21,494.072 1012.21,454.072 \n",
       "  \"/>\n",
       "<polygon clip-path=\"url(#clip9203)\" style=\"fill:#0000ff; fill-opacity:1\" points=\"\n",
       "  1012.21,458.072 996.213,490.072 1028.21,490.072 1012.21,458.072 \n",
       "  \"/>\n",
       "<polygon clip-path=\"url(#clip9201)\" points=\"\n",
       "268.605,362.144 655.932,362.144 655.932,180.704 268.605,180.704 \n",
       "  \" fill=\"#ffffff\" fill-rule=\"evenodd\" fill-opacity=\"1\"/>\n",
       "<polyline clip-path=\"url(#clip9201)\" style=\"stroke:#000000; stroke-width:4; stroke-opacity:1; fill:none\" points=\"\n",
       "  268.605,362.144 655.932,362.144 655.932,180.704 268.605,180.704 268.605,362.144 \n",
       "  \"/>\n",
       "<polygon clip-path=\"url(#clip9201)\" style=\"fill:#000000; fill-opacity:1\" points=\"\n",
       "  355.005,213.184 348.425,232.112 328.377,232.532 344.365,244.656 338.541,263.836 355.005,252.384 371.469,263.836 365.645,244.656 381.633,232.532 361.585,232.112 \n",
       "  355.005,213.184 \n",
       "  \"/>\n",
       "<polygon clip-path=\"url(#clip9201)\" style=\"fill:#000000; fill-opacity:1\" points=\"\n",
       "  355.005,217.184 349.365,233.408 332.181,233.768 345.885,244.16 340.893,260.6 355.005,250.784 369.117,260.6 364.125,244.16 377.829,233.768 360.645,233.408 \n",
       "  355.005,217.184 \n",
       "  \"/>\n",
       "<g clip-path=\"url(#clip9201)\">\n",
       "<text style=\"fill:#000000; fill-opacity:1; font-family:Arial,Helvetica Neue,Helvetica,sans-serif; font-size:48px; text-anchor:start;\" transform=\"rotate(0, 422.205, 258.684)\" x=\"422.205\" y=\"258.684\">optimal</text>\n",
       "</g>\n",
       "<polygon clip-path=\"url(#clip9201)\" style=\"fill:#000000; fill-opacity:1\" points=\"\n",
       "  355.005,273.664 327.005,329.664 383.005,329.664 355.005,273.664 \n",
       "  \"/>\n",
       "<polygon clip-path=\"url(#clip9201)\" style=\"fill:#0000ff; fill-opacity:1\" points=\"\n",
       "  355.005,277.664 331.005,325.664 379.005,325.664 355.005,277.664 \n",
       "  \"/>\n",
       "<g clip-path=\"url(#clip9201)\">\n",
       "<text style=\"fill:#000000; fill-opacity:1; font-family:Arial,Helvetica Neue,Helvetica,sans-serif; font-size:48px; text-anchor:start;\" transform=\"rotate(0, 422.205, 319.164)\" x=\"422.205\" y=\"319.164\">tangency</text>\n",
       "</g>\n",
       "</svg>\n"
      ]
     },
     "execution_count": 10,
     "metadata": {},
     "output_type": "execute_result"
    }
   ],
   "source": [
    "p1 = plot(StdRp[:,1]*100,mustar*100,label=\"\",color=:red,xlim=(0,15),ylim=(0,15))\n",
    "plot!(StdRp[:,2]*100,mustar*100,label=\"\",color=:blue)\n",
    "scatter!(sqrt.(diag(Σ))*100,μ*100,color=:red,label=\"\")\n",
    "scatter!([StdD,StdE]*100,[muD,muE]*100,color=:black,marker=:star,label=\"optimal\")\n",
    "scatter!([StdT]*100,[muT]*100,color=:blue,marker=:utriangle,label=\"tangency\",legend=:topleft)\n",
    "title!(\"Mean vs standard deviation\")\n",
    "xlabel!(\"Std(Rp), %\")\n",
    "ylabel!(\"ERp, %\")"
   ]
  },
  {
   "cell_type": "markdown",
   "metadata": {},
   "source": [
    "# Maximising the Sharpe Ratio (extra)\n",
    "\n",
    "The following cell defines the Sharpe ratio on a portfolio where the portfolio weights on the $n$ risky assets sum to one. The optimization is over the $n-1$ first weights.\n",
    "\n",
    "The ```Optim``` package is used for the optimisation."
   ]
  },
  {
   "cell_type": "code",
   "execution_count": 11,
   "metadata": {},
   "outputs": [],
   "source": [
    "using Optim"
   ]
  },
  {
   "cell_type": "code",
   "execution_count": 12,
   "metadata": {},
   "outputs": [
    {
     "data": {
      "text/plain": [
       "SRFn (generic function with 1 method)"
      ]
     },
     "execution_count": 12,
     "metadata": {},
     "output_type": "execute_result"
    }
   ],
   "source": [
    "function SRFn(w,μ,Σ,Rf)\n",
    "    v     = [w;1-sum(w)]\n",
    "    μe    = μ .- Rf                             #expected excess returns            \n",
    "    muep  = v'μe\n",
    "    StdRp = sqrt(v'Σ*v)\n",
    "    SRp   = muep/StdRp\n",
    "    return SRp  \n",
    "end    "
   ]
  },
  {
   "cell_type": "code",
   "execution_count": 13,
   "metadata": {},
   "outputs": [
    {
     "name": "stdout",
     "output_type": "stream",
     "text": [
      "Tangency and Optimal\n",
      "     0.248     0.248\n",
      "     0.682     0.682\n",
      "     0.070     0.070\n",
      "\n"
     ]
    }
   ],
   "source": [
    "Sol = optimize(w -> -SRFn(w,μ,Σ,Rf),zeros(2))     #minimise -SR\n",
    "\n",
    "v = Optim.minimizer(Sol)\n",
    "v = [v;1-sum(v)]\n",
    "\n",
    "println(\"Tangency and Optimal\")\n",
    "printmat([wT v])"
   ]
  },
  {
   "cell_type": "code",
   "execution_count": null,
   "metadata": {},
   "outputs": [],
   "source": []
  }
 ],
 "metadata": {
  "anaconda-cloud": {},
  "kernelspec": {
   "display_name": "Julia 1.0.2",
   "language": "julia",
   "name": "julia-1.0"
  },
  "language_info": {
   "file_extension": ".jl",
   "mimetype": "application/julia",
   "name": "julia",
   "version": "1.0.2"
  }
 },
 "nbformat": 4,
 "nbformat_minor": 1
}
