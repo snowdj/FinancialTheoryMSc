{
 "cells": [
  {
   "cell_type": "markdown",
   "metadata": {},
   "source": [
    "# Load Packages"
   ]
  },
  {
   "cell_type": "code",
   "execution_count": 1,
   "metadata": {},
   "outputs": [
    {
     "data": {
      "text/plain": [
       "printlnPs (generic function with 2 methods)"
      ]
     },
     "execution_count": 1,
     "metadata": {},
     "output_type": "execute_result"
    }
   ],
   "source": [
    "using Dates, Roots, Optim\n",
    "\n",
    "include(\"jlFiles/printmat.jl\")"
   ]
  },
  {
   "cell_type": "code",
   "execution_count": 2,
   "metadata": {},
   "outputs": [],
   "source": [
    "using Plots\n",
    "backend = \"gr\"              #\"gr\" (default), \"pyplot\" \n",
    "\n",
    "if backend == \"pyplot\"\n",
    "    pyplot(size=(600,400))\n",
    "else    \n",
    "    gr(size=(480,320))\n",
    "    default(fmt = :svg)\n",
    "end"
   ]
  },
  {
   "cell_type": "markdown",
   "metadata": {},
   "source": [
    "# Utility Function"
   ]
  },
  {
   "cell_type": "markdown",
   "metadata": {},
   "source": [
    "Recall: the CRRA utility function is $U(x) = \\frac{x^{1-\\gamma}}{1-\\gamma}$"
   ]
  },
  {
   "cell_type": "code",
   "execution_count": 3,
   "metadata": {},
   "outputs": [
    {
     "data": {
      "text/plain": [
       "U (generic function with 1 method)"
      ]
     },
     "execution_count": 3,
     "metadata": {},
     "output_type": "execute_result"
    }
   ],
   "source": [
    "U(x,γ) =  x^(1-γ)/(1-γ)    #CRRA utility function, γ is the risk aversion"
   ]
  },
  {
   "cell_type": "code",
   "execution_count": 4,
   "metadata": {},
   "outputs": [
    {
     "data": {
      "image/svg+xml": [
       "<?xml version=\"1.0\" encoding=\"utf-8\"?>\n",
       "<svg xmlns=\"http://www.w3.org/2000/svg\" xmlns:xlink=\"http://www.w3.org/1999/xlink\" width=\"480\" height=\"320\" viewBox=\"0 0 1920 1280\">\n",
       "<defs>\n",
       "  <clipPath id=\"clip7300\">\n",
       "    <rect x=\"0\" y=\"0\" width=\"2000\" height=\"2000\"/>\n",
       "  </clipPath>\n",
       "</defs>\n",
       "<defs>\n",
       "  <clipPath id=\"clip7301\">\n",
       "    <rect x=\"0\" y=\"0\" width=\"1920\" height=\"1280\"/>\n",
       "  </clipPath>\n",
       "</defs>\n",
       "<polygon clip-path=\"url(#clip7301)\" points=\"\n",
       "0,1280 1920,1280 1920,0 0,0 \n",
       "  \" fill=\"#ffffff\" fill-rule=\"evenodd\" fill-opacity=\"1\"/>\n",
       "<defs>\n",
       "  <clipPath id=\"clip7302\">\n",
       "    <rect x=\"384\" y=\"0\" width=\"1345\" height=\"1280\"/>\n",
       "  </clipPath>\n",
       "</defs>\n",
       "<polygon clip-path=\"url(#clip7301)\" points=\"\n",
       "189.504,1120.48 1841.26,1120.48 1841.26,125.984 189.504,125.984 \n",
       "  \" fill=\"#ffffff\" fill-rule=\"evenodd\" fill-opacity=\"1\"/>\n",
       "<defs>\n",
       "  <clipPath id=\"clip7303\">\n",
       "    <rect x=\"189\" y=\"125\" width=\"1653\" height=\"995\"/>\n",
       "  </clipPath>\n",
       "</defs>\n",
       "<polyline clip-path=\"url(#clip7303)\" style=\"stroke:#000000; stroke-width:2; stroke-opacity:0.1; fill:none\" points=\"\n",
       "  236.252,1120.48 236.252,125.984 \n",
       "  \"/>\n",
       "<polyline clip-path=\"url(#clip7303)\" style=\"stroke:#000000; stroke-width:2; stroke-opacity:0.1; fill:none\" points=\"\n",
       "  625.817,1120.48 625.817,125.984 \n",
       "  \"/>\n",
       "<polyline clip-path=\"url(#clip7303)\" style=\"stroke:#000000; stroke-width:2; stroke-opacity:0.1; fill:none\" points=\"\n",
       "  1015.38,1120.48 1015.38,125.984 \n",
       "  \"/>\n",
       "<polyline clip-path=\"url(#clip7303)\" style=\"stroke:#000000; stroke-width:2; stroke-opacity:0.1; fill:none\" points=\"\n",
       "  1404.95,1120.48 1404.95,125.984 \n",
       "  \"/>\n",
       "<polyline clip-path=\"url(#clip7303)\" style=\"stroke:#000000; stroke-width:2; stroke-opacity:0.1; fill:none\" points=\"\n",
       "  1794.51,1120.48 1794.51,125.984 \n",
       "  \"/>\n",
       "<polyline clip-path=\"url(#clip7303)\" style=\"stroke:#000000; stroke-width:2; stroke-opacity:0.1; fill:none\" points=\"\n",
       "  189.504,979.752 1841.26,979.752 \n",
       "  \"/>\n",
       "<polyline clip-path=\"url(#clip7303)\" style=\"stroke:#000000; stroke-width:2; stroke-opacity:0.1; fill:none\" points=\"\n",
       "  189.504,754.582 1841.26,754.582 \n",
       "  \"/>\n",
       "<polyline clip-path=\"url(#clip7303)\" style=\"stroke:#000000; stroke-width:2; stroke-opacity:0.1; fill:none\" points=\"\n",
       "  189.504,529.413 1841.26,529.413 \n",
       "  \"/>\n",
       "<polyline clip-path=\"url(#clip7303)\" style=\"stroke:#000000; stroke-width:2; stroke-opacity:0.1; fill:none\" points=\"\n",
       "  189.504,304.243 1841.26,304.243 \n",
       "  \"/>\n",
       "<polyline clip-path=\"url(#clip7301)\" style=\"stroke:#000000; stroke-width:4; stroke-opacity:1; fill:none\" points=\"\n",
       "  189.504,1120.48 1841.26,1120.48 \n",
       "  \"/>\n",
       "<polyline clip-path=\"url(#clip7301)\" style=\"stroke:#000000; stroke-width:4; stroke-opacity:1; fill:none\" points=\"\n",
       "  189.504,1120.48 189.504,125.984 \n",
       "  \"/>\n",
       "<polyline clip-path=\"url(#clip7301)\" style=\"stroke:#000000; stroke-width:4; stroke-opacity:1; fill:none\" points=\"\n",
       "  236.252,1120.48 236.252,1105.57 \n",
       "  \"/>\n",
       "<polyline clip-path=\"url(#clip7301)\" style=\"stroke:#000000; stroke-width:4; stroke-opacity:1; fill:none\" points=\"\n",
       "  625.817,1120.48 625.817,1105.57 \n",
       "  \"/>\n",
       "<polyline clip-path=\"url(#clip7301)\" style=\"stroke:#000000; stroke-width:4; stroke-opacity:1; fill:none\" points=\"\n",
       "  1015.38,1120.48 1015.38,1105.57 \n",
       "  \"/>\n",
       "<polyline clip-path=\"url(#clip7301)\" style=\"stroke:#000000; stroke-width:4; stroke-opacity:1; fill:none\" points=\"\n",
       "  1404.95,1120.48 1404.95,1105.57 \n",
       "  \"/>\n",
       "<polyline clip-path=\"url(#clip7301)\" style=\"stroke:#000000; stroke-width:4; stroke-opacity:1; fill:none\" points=\"\n",
       "  1794.51,1120.48 1794.51,1105.57 \n",
       "  \"/>\n",
       "<polyline clip-path=\"url(#clip7301)\" style=\"stroke:#000000; stroke-width:4; stroke-opacity:1; fill:none\" points=\"\n",
       "  189.504,979.752 214.28,979.752 \n",
       "  \"/>\n",
       "<polyline clip-path=\"url(#clip7301)\" style=\"stroke:#000000; stroke-width:4; stroke-opacity:1; fill:none\" points=\"\n",
       "  189.504,754.582 214.28,754.582 \n",
       "  \"/>\n",
       "<polyline clip-path=\"url(#clip7301)\" style=\"stroke:#000000; stroke-width:4; stroke-opacity:1; fill:none\" points=\"\n",
       "  189.504,529.413 214.28,529.413 \n",
       "  \"/>\n",
       "<polyline clip-path=\"url(#clip7301)\" style=\"stroke:#000000; stroke-width:4; stroke-opacity:1; fill:none\" points=\"\n",
       "  189.504,304.243 214.28,304.243 \n",
       "  \"/>\n",
       "<g clip-path=\"url(#clip7301)\">\n",
       "<text style=\"fill:#000000; fill-opacity:1; font-family:Arial,Helvetica Neue,Helvetica,sans-serif; font-size:48px; text-anchor:middle;\" transform=\"rotate(0, 236.252, 1172.08)\" x=\"236.252\" y=\"1172.08\">0.8</text>\n",
       "</g>\n",
       "<g clip-path=\"url(#clip7301)\">\n",
       "<text style=\"fill:#000000; fill-opacity:1; font-family:Arial,Helvetica Neue,Helvetica,sans-serif; font-size:48px; text-anchor:middle;\" transform=\"rotate(0, 625.817, 1172.08)\" x=\"625.817\" y=\"1172.08\">0.9</text>\n",
       "</g>\n",
       "<g clip-path=\"url(#clip7301)\">\n",
       "<text style=\"fill:#000000; fill-opacity:1; font-family:Arial,Helvetica Neue,Helvetica,sans-serif; font-size:48px; text-anchor:middle;\" transform=\"rotate(0, 1015.38, 1172.08)\" x=\"1015.38\" y=\"1172.08\">1.0</text>\n",
       "</g>\n",
       "<g clip-path=\"url(#clip7301)\">\n",
       "<text style=\"fill:#000000; fill-opacity:1; font-family:Arial,Helvetica Neue,Helvetica,sans-serif; font-size:48px; text-anchor:middle;\" transform=\"rotate(0, 1404.95, 1172.08)\" x=\"1404.95\" y=\"1172.08\">1.1</text>\n",
       "</g>\n",
       "<g clip-path=\"url(#clip7301)\">\n",
       "<text style=\"fill:#000000; fill-opacity:1; font-family:Arial,Helvetica Neue,Helvetica,sans-serif; font-size:48px; text-anchor:middle;\" transform=\"rotate(0, 1794.51, 1172.08)\" x=\"1794.51\" y=\"1172.08\">1.2</text>\n",
       "</g>\n",
       "<g clip-path=\"url(#clip7301)\">\n",
       "<text style=\"fill:#000000; fill-opacity:1; font-family:Arial,Helvetica Neue,Helvetica,sans-serif; font-size:48px; text-anchor:end;\" transform=\"rotate(0, 170.304, 997.252)\" x=\"170.304\" y=\"997.252\">-1.2</text>\n",
       "</g>\n",
       "<g clip-path=\"url(#clip7301)\">\n",
       "<text style=\"fill:#000000; fill-opacity:1; font-family:Arial,Helvetica Neue,Helvetica,sans-serif; font-size:48px; text-anchor:end;\" transform=\"rotate(0, 170.304, 772.082)\" x=\"170.304\" y=\"772.082\">-1.1</text>\n",
       "</g>\n",
       "<g clip-path=\"url(#clip7301)\">\n",
       "<text style=\"fill:#000000; fill-opacity:1; font-family:Arial,Helvetica Neue,Helvetica,sans-serif; font-size:48px; text-anchor:end;\" transform=\"rotate(0, 170.304, 546.913)\" x=\"170.304\" y=\"546.913\">-1.0</text>\n",
       "</g>\n",
       "<g clip-path=\"url(#clip7301)\">\n",
       "<text style=\"fill:#000000; fill-opacity:1; font-family:Arial,Helvetica Neue,Helvetica,sans-serif; font-size:48px; text-anchor:end;\" transform=\"rotate(0, 170.304, 321.743)\" x=\"170.304\" y=\"321.743\">-0.9</text>\n",
       "</g>\n",
       "<g clip-path=\"url(#clip7301)\">\n",
       "<text style=\"fill:#000000; fill-opacity:1; font-family:Arial,Helvetica Neue,Helvetica,sans-serif; font-size:84px; text-anchor:middle;\" transform=\"rotate(0, 1015.38, 73.2)\" x=\"1015.38\" y=\"73.2\">Utility function, CRRA</text>\n",
       "</g>\n",
       "<g clip-path=\"url(#clip7301)\">\n",
       "<text style=\"fill:#000000; fill-opacity:1; font-family:Arial,Helvetica Neue,Helvetica,sans-serif; font-size:66px; text-anchor:middle;\" transform=\"rotate(0, 1015.38, 1270.4)\" x=\"1015.38\" y=\"1270.4\">x</text>\n",
       "</g>\n",
       "<polyline clip-path=\"url(#clip7303)\" style=\"stroke:#ff0000; stroke-width:8; stroke-opacity:1; fill:none\" points=\"\n",
       "  236.252,1092.34 301.179,1034.9 366.107,979.752 431.034,926.771 495.962,875.827 560.889,826.806 625.817,779.601 690.744,734.112 755.672,690.248 820.599,647.923 \n",
       "  885.527,607.057 950.454,567.577 1015.38,529.413 1080.31,492.5 1145.24,456.778 1210.16,422.189 1275.09,388.682 1340.02,356.206 1404.95,324.713 1469.87,294.161 \n",
       "  1534.8,264.508 1599.73,235.714 1664.66,207.742 1729.58,180.559 1794.51,154.13 \n",
       "  \"/>\n",
       "</svg>\n"
      ]
     },
     "execution_count": 4,
     "metadata": {},
     "output_type": "execute_result"
    }
   ],
   "source": [
    "x = range(0.8,stop=1.2,length=25)\n",
    "\n",
    "p1 = plot(x,U.(x,2),color=:red,linewidth=2,legend=false)\n",
    "title!(\"Utility function, CRRA\")\n",
    "xlabel!(\"x\")"
   ]
  },
  {
   "cell_type": "markdown",
   "metadata": {},
   "source": [
    "# Expected Utility"
   ]
  },
  {
   "cell_type": "markdown",
   "metadata": {},
   "source": [
    "Recall: if $\\pi_s$ is the probability of outcome $x_s$ and there are $S$ possible outcomes, then\n",
    "\n",
    "$\\text{E}U(x) = \\sum\\nolimits_{s=1}^{S} \\pi_{s}U(x_s)$"
   ]
  },
  {
   "cell_type": "code",
   "execution_count": 5,
   "metadata": {},
   "outputs": [
    {
     "data": {
      "text/plain": [
       "EU (generic function with 1 method)"
      ]
     },
     "execution_count": 5,
     "metadata": {},
     "output_type": "execute_result"
    }
   ],
   "source": [
    "EU(x,π,γ) = sum(π.*U.(x,γ))               #expected utility"
   ]
  },
  {
   "cell_type": "code",
   "execution_count": 6,
   "metadata": {},
   "outputs": [
    {
     "name": "stdout",
     "output_type": "stream",
     "text": [
      "Possible wealth levels (first row) and the corresponding utility (2nd)\n",
      "     0.850     1.150\n",
      "    -1.176    -0.870\n",
      "\n",
      "Expected wealth is:      1.000\n",
      "Expected utility:     -1.023\n"
     ]
    }
   ],
   "source": [
    "x₁ = 0.85               #possible outcomes\n",
    "x₂ = 1.15\n",
    "π₁ = 0.5                #probabilities of outcomes \n",
    "π₂ = 1 - π₁\n",
    "\n",
    "xx = [x₁      x₂     ;\n",
    "      U(x₁,2) U(x₂,2)]\n",
    "println(\"Possible wealth levels (first row) and the corresponding utility (2nd)\")\n",
    "printmat(xx)\n",
    "\n",
    "Ex = sum([π₁ π₂].*[x₁ x₂])\n",
    "printlnPs(\"Expected wealth is: \",Ex)\n",
    "\n",
    "ExpUtil = EU([x₁ x₂],[π₁ π₂],2)\n",
    "printlnPs(\"Expected utility: \",ExpUtil)"
   ]
  },
  {
   "cell_type": "code",
   "execution_count": 7,
   "metadata": {},
   "outputs": [
    {
     "data": {
      "image/svg+xml": [
       "<?xml version=\"1.0\" encoding=\"utf-8\"?>\n",
       "<svg xmlns=\"http://www.w3.org/2000/svg\" xmlns:xlink=\"http://www.w3.org/1999/xlink\" width=\"480\" height=\"320\" viewBox=\"0 0 1920 1280\">\n",
       "<defs>\n",
       "  <clipPath id=\"clip7500\">\n",
       "    <rect x=\"0\" y=\"0\" width=\"2000\" height=\"2000\"/>\n",
       "  </clipPath>\n",
       "</defs>\n",
       "<defs>\n",
       "  <clipPath id=\"clip7501\">\n",
       "    <rect x=\"0\" y=\"0\" width=\"1920\" height=\"1280\"/>\n",
       "  </clipPath>\n",
       "</defs>\n",
       "<polygon clip-path=\"url(#clip7501)\" points=\"\n",
       "0,1280 1920,1280 1920,0 0,0 \n",
       "  \" fill=\"#ffffff\" fill-rule=\"evenodd\" fill-opacity=\"1\"/>\n",
       "<defs>\n",
       "  <clipPath id=\"clip7502\">\n",
       "    <rect x=\"384\" y=\"0\" width=\"1345\" height=\"1280\"/>\n",
       "  </clipPath>\n",
       "</defs>\n",
       "<polygon clip-path=\"url(#clip7501)\" points=\"\n",
       "189.504,1120.48 1841.26,1120.48 1841.26,125.984 189.504,125.984 \n",
       "  \" fill=\"#ffffff\" fill-rule=\"evenodd\" fill-opacity=\"1\"/>\n",
       "<defs>\n",
       "  <clipPath id=\"clip7503\">\n",
       "    <rect x=\"189\" y=\"125\" width=\"1653\" height=\"995\"/>\n",
       "  </clipPath>\n",
       "</defs>\n",
       "<polyline clip-path=\"url(#clip7503)\" style=\"stroke:#000000; stroke-width:2; stroke-opacity:0.1; fill:none\" points=\"\n",
       "  189.504,1120.48 189.504,125.984 \n",
       "  \"/>\n",
       "<polyline clip-path=\"url(#clip7503)\" style=\"stroke:#000000; stroke-width:2; stroke-opacity:0.1; fill:none\" points=\"\n",
       "  602.443,1120.48 602.443,125.984 \n",
       "  \"/>\n",
       "<polyline clip-path=\"url(#clip7503)\" style=\"stroke:#000000; stroke-width:2; stroke-opacity:0.1; fill:none\" points=\"\n",
       "  1015.38,1120.48 1015.38,125.984 \n",
       "  \"/>\n",
       "<polyline clip-path=\"url(#clip7503)\" style=\"stroke:#000000; stroke-width:2; stroke-opacity:0.1; fill:none\" points=\"\n",
       "  1428.32,1120.48 1428.32,125.984 \n",
       "  \"/>\n",
       "<polyline clip-path=\"url(#clip7503)\" style=\"stroke:#000000; stroke-width:2; stroke-opacity:0.1; fill:none\" points=\"\n",
       "  189.504,1120.48 1841.26,1120.48 \n",
       "  \"/>\n",
       "<polyline clip-path=\"url(#clip7503)\" style=\"stroke:#000000; stroke-width:2; stroke-opacity:0.1; fill:none\" points=\"\n",
       "  189.504,954.733 1841.26,954.733 \n",
       "  \"/>\n",
       "<polyline clip-path=\"url(#clip7503)\" style=\"stroke:#000000; stroke-width:2; stroke-opacity:0.1; fill:none\" points=\"\n",
       "  189.504,788.983 1841.26,788.983 \n",
       "  \"/>\n",
       "<polyline clip-path=\"url(#clip7503)\" style=\"stroke:#000000; stroke-width:2; stroke-opacity:0.1; fill:none\" points=\"\n",
       "  189.504,623.233 1841.26,623.233 \n",
       "  \"/>\n",
       "<polyline clip-path=\"url(#clip7503)\" style=\"stroke:#000000; stroke-width:2; stroke-opacity:0.1; fill:none\" points=\"\n",
       "  189.504,457.484 1841.26,457.484 \n",
       "  \"/>\n",
       "<polyline clip-path=\"url(#clip7503)\" style=\"stroke:#000000; stroke-width:2; stroke-opacity:0.1; fill:none\" points=\"\n",
       "  189.504,291.734 1841.26,291.734 \n",
       "  \"/>\n",
       "<polyline clip-path=\"url(#clip7503)\" style=\"stroke:#000000; stroke-width:2; stroke-opacity:0.1; fill:none\" points=\"\n",
       "  189.504,125.984 1841.26,125.984 \n",
       "  \"/>\n",
       "<polyline clip-path=\"url(#clip7501)\" style=\"stroke:#000000; stroke-width:4; stroke-opacity:1; fill:none\" points=\"\n",
       "  189.504,1120.48 1841.26,1120.48 \n",
       "  \"/>\n",
       "<polyline clip-path=\"url(#clip7501)\" style=\"stroke:#000000; stroke-width:4; stroke-opacity:1; fill:none\" points=\"\n",
       "  189.504,1120.48 189.504,125.984 \n",
       "  \"/>\n",
       "<polyline clip-path=\"url(#clip7501)\" style=\"stroke:#000000; stroke-width:4; stroke-opacity:1; fill:none\" points=\"\n",
       "  189.504,1120.48 189.504,1105.57 \n",
       "  \"/>\n",
       "<polyline clip-path=\"url(#clip7501)\" style=\"stroke:#000000; stroke-width:4; stroke-opacity:1; fill:none\" points=\"\n",
       "  602.443,1120.48 602.443,1105.57 \n",
       "  \"/>\n",
       "<polyline clip-path=\"url(#clip7501)\" style=\"stroke:#000000; stroke-width:4; stroke-opacity:1; fill:none\" points=\"\n",
       "  1015.38,1120.48 1015.38,1105.57 \n",
       "  \"/>\n",
       "<polyline clip-path=\"url(#clip7501)\" style=\"stroke:#000000; stroke-width:4; stroke-opacity:1; fill:none\" points=\"\n",
       "  1428.32,1120.48 1428.32,1105.57 \n",
       "  \"/>\n",
       "<polyline clip-path=\"url(#clip7501)\" style=\"stroke:#000000; stroke-width:4; stroke-opacity:1; fill:none\" points=\"\n",
       "  189.504,1120.48 214.28,1120.48 \n",
       "  \"/>\n",
       "<polyline clip-path=\"url(#clip7501)\" style=\"stroke:#000000; stroke-width:4; stroke-opacity:1; fill:none\" points=\"\n",
       "  189.504,954.733 214.28,954.733 \n",
       "  \"/>\n",
       "<polyline clip-path=\"url(#clip7501)\" style=\"stroke:#000000; stroke-width:4; stroke-opacity:1; fill:none\" points=\"\n",
       "  189.504,788.983 214.28,788.983 \n",
       "  \"/>\n",
       "<polyline clip-path=\"url(#clip7501)\" style=\"stroke:#000000; stroke-width:4; stroke-opacity:1; fill:none\" points=\"\n",
       "  189.504,623.233 214.28,623.233 \n",
       "  \"/>\n",
       "<polyline clip-path=\"url(#clip7501)\" style=\"stroke:#000000; stroke-width:4; stroke-opacity:1; fill:none\" points=\"\n",
       "  189.504,457.484 214.28,457.484 \n",
       "  \"/>\n",
       "<polyline clip-path=\"url(#clip7501)\" style=\"stroke:#000000; stroke-width:4; stroke-opacity:1; fill:none\" points=\"\n",
       "  189.504,291.734 214.28,291.734 \n",
       "  \"/>\n",
       "<polyline clip-path=\"url(#clip7501)\" style=\"stroke:#000000; stroke-width:4; stroke-opacity:1; fill:none\" points=\"\n",
       "  189.504,125.984 214.28,125.984 \n",
       "  \"/>\n",
       "<g clip-path=\"url(#clip7501)\">\n",
       "<text style=\"fill:#000000; fill-opacity:1; font-family:Arial,Helvetica Neue,Helvetica,sans-serif; font-size:48px; text-anchor:middle;\" transform=\"rotate(0, 189.504, 1172.08)\" x=\"189.504\" y=\"1172.08\">0.8</text>\n",
       "</g>\n",
       "<g clip-path=\"url(#clip7501)\">\n",
       "<text style=\"fill:#000000; fill-opacity:1; font-family:Arial,Helvetica Neue,Helvetica,sans-serif; font-size:48px; text-anchor:middle;\" transform=\"rotate(0, 602.443, 1172.08)\" x=\"602.443\" y=\"1172.08\">0.9</text>\n",
       "</g>\n",
       "<g clip-path=\"url(#clip7501)\">\n",
       "<text style=\"fill:#000000; fill-opacity:1; font-family:Arial,Helvetica Neue,Helvetica,sans-serif; font-size:48px; text-anchor:middle;\" transform=\"rotate(0, 1015.38, 1172.08)\" x=\"1015.38\" y=\"1172.08\">1.0</text>\n",
       "</g>\n",
       "<g clip-path=\"url(#clip7501)\">\n",
       "<text style=\"fill:#000000; fill-opacity:1; font-family:Arial,Helvetica Neue,Helvetica,sans-serif; font-size:48px; text-anchor:middle;\" transform=\"rotate(0, 1428.32, 1172.08)\" x=\"1428.32\" y=\"1172.08\">1.1</text>\n",
       "</g>\n",
       "<g clip-path=\"url(#clip7501)\">\n",
       "<text style=\"fill:#000000; fill-opacity:1; font-family:Arial,Helvetica Neue,Helvetica,sans-serif; font-size:48px; text-anchor:end;\" transform=\"rotate(0, 170.304, 1137.98)\" x=\"170.304\" y=\"1137.98\">-1.3</text>\n",
       "</g>\n",
       "<g clip-path=\"url(#clip7501)\">\n",
       "<text style=\"fill:#000000; fill-opacity:1; font-family:Arial,Helvetica Neue,Helvetica,sans-serif; font-size:48px; text-anchor:end;\" transform=\"rotate(0, 170.304, 972.233)\" x=\"170.304\" y=\"972.233\">-1.2</text>\n",
       "</g>\n",
       "<g clip-path=\"url(#clip7501)\">\n",
       "<text style=\"fill:#000000; fill-opacity:1; font-family:Arial,Helvetica Neue,Helvetica,sans-serif; font-size:48px; text-anchor:end;\" transform=\"rotate(0, 170.304, 806.483)\" x=\"170.304\" y=\"806.483\">-1.1</text>\n",
       "</g>\n",
       "<g clip-path=\"url(#clip7501)\">\n",
       "<text style=\"fill:#000000; fill-opacity:1; font-family:Arial,Helvetica Neue,Helvetica,sans-serif; font-size:48px; text-anchor:end;\" transform=\"rotate(0, 170.304, 640.733)\" x=\"170.304\" y=\"640.733\">-1.0</text>\n",
       "</g>\n",
       "<g clip-path=\"url(#clip7501)\">\n",
       "<text style=\"fill:#000000; fill-opacity:1; font-family:Arial,Helvetica Neue,Helvetica,sans-serif; font-size:48px; text-anchor:end;\" transform=\"rotate(0, 170.304, 474.984)\" x=\"170.304\" y=\"474.984\">-0.9</text>\n",
       "</g>\n",
       "<g clip-path=\"url(#clip7501)\">\n",
       "<text style=\"fill:#000000; fill-opacity:1; font-family:Arial,Helvetica Neue,Helvetica,sans-serif; font-size:48px; text-anchor:end;\" transform=\"rotate(0, 170.304, 309.234)\" x=\"170.304\" y=\"309.234\">-0.8</text>\n",
       "</g>\n",
       "<g clip-path=\"url(#clip7501)\">\n",
       "<text style=\"fill:#000000; fill-opacity:1; font-family:Arial,Helvetica Neue,Helvetica,sans-serif; font-size:48px; text-anchor:end;\" transform=\"rotate(0, 170.304, 143.484)\" x=\"170.304\" y=\"143.484\">-0.7</text>\n",
       "</g>\n",
       "<g clip-path=\"url(#clip7501)\">\n",
       "<text style=\"fill:#000000; fill-opacity:1; font-family:Arial,Helvetica Neue,Helvetica,sans-serif; font-size:84px; text-anchor:middle;\" transform=\"rotate(0, 1015.38, 73.2)\" x=\"1015.38\" y=\"73.2\">Utility function, CRRA</text>\n",
       "</g>\n",
       "<g clip-path=\"url(#clip7501)\">\n",
       "<text style=\"fill:#000000; fill-opacity:1; font-family:Arial,Helvetica Neue,Helvetica,sans-serif; font-size:66px; text-anchor:middle;\" transform=\"rotate(0, 1015.38, 1270.4)\" x=\"1015.38\" y=\"1270.4\">x</text>\n",
       "</g>\n",
       "<polyline clip-path=\"url(#clip7503)\" style=\"stroke:#ff0000; stroke-width:8; stroke-opacity:1; fill:none\" points=\"\n",
       "  189.504,1037.61 258.327,995.325 327.15,954.733 395.974,915.733 464.797,878.233 533.62,842.148 602.443,807.4 671.266,773.915 740.089,741.626 808.913,710.47 \n",
       "  877.736,680.389 946.559,651.327 1015.38,623.233 1084.21,596.061 1153.03,569.766 1221.85,544.305 1290.67,519.64 1359.5,495.734 1428.32,472.552 1497.14,450.062 \n",
       "  1565.97,428.234 1634.79,407.038 1703.61,386.448 1772.44,366.438 1841.26,346.984 \n",
       "  \"/>\n",
       "<circle clip-path=\"url(#clip7503)\" style=\"fill:#000000; stroke:none; fill-opacity:1\" cx=\"395.974\" cy=\"915.733\" r=\"18\"/>\n",
       "<circle clip-path=\"url(#clip7503)\" style=\"fill:#008000; stroke:none; fill-opacity:1\" cx=\"395.974\" cy=\"915.733\" r=\"14\"/>\n",
       "<circle clip-path=\"url(#clip7503)\" style=\"fill:#000000; stroke:none; fill-opacity:1\" cx=\"1634.79\" cy=\"407.038\" r=\"18\"/>\n",
       "<circle clip-path=\"url(#clip7503)\" style=\"fill:#008000; stroke:none; fill-opacity:1\" cx=\"1634.79\" cy=\"407.038\" r=\"14\"/>\n",
       "<polygon clip-path=\"url(#clip7503)\" style=\"fill:#000000; fill-opacity:1\" points=\"\n",
       "  995.382,641.386 995.382,681.386 1035.38,681.386 1035.38,641.386 995.382,641.386 \n",
       "  \"/>\n",
       "<polygon clip-path=\"url(#clip7503)\" style=\"fill:#0000ff; fill-opacity:1\" points=\"\n",
       "  999.382,645.386 999.382,677.386 1031.38,677.386 1031.38,645.386 999.382,645.386 \n",
       "  \"/>\n",
       "<polygon clip-path=\"url(#clip7501)\" points=\"\n",
       "247.104,422.624 864.462,422.624 864.462,180.704 247.104,180.704 \n",
       "  \" fill=\"#ffffff\" fill-rule=\"evenodd\" fill-opacity=\"1\"/>\n",
       "<polyline clip-path=\"url(#clip7501)\" style=\"stroke:#000000; stroke-width:4; stroke-opacity:1; fill:none\" points=\"\n",
       "  247.104,422.624 864.462,422.624 864.462,180.704 247.104,180.704 247.104,422.624 \n",
       "  \"/>\n",
       "<polyline clip-path=\"url(#clip7501)\" style=\"stroke:#ff0000; stroke-width:8; stroke-opacity:1; fill:none\" points=\"\n",
       "  266.304,241.184 381.504,241.184 \n",
       "  \"/>\n",
       "<g clip-path=\"url(#clip7501)\">\n",
       "<text style=\"fill:#000000; fill-opacity:1; font-family:Arial,Helvetica Neue,Helvetica,sans-serif; font-size:48px; text-anchor:start;\" transform=\"rotate(0, 400.704, 258.684)\" x=\"400.704\" y=\"258.684\">Utility fn</text>\n",
       "</g>\n",
       "<circle clip-path=\"url(#clip7501)\" style=\"fill:#000000; stroke:none; fill-opacity:1\" cx=\"333.504\" cy=\"301.664\" r=\"25\"/>\n",
       "<circle clip-path=\"url(#clip7501)\" style=\"fill:#008000; stroke:none; fill-opacity:1\" cx=\"333.504\" cy=\"301.664\" r=\"21\"/>\n",
       "<g clip-path=\"url(#clip7501)\">\n",
       "<text style=\"fill:#000000; fill-opacity:1; font-family:Arial,Helvetica Neue,Helvetica,sans-serif; font-size:48px; text-anchor:start;\" transform=\"rotate(0, 400.704, 319.164)\" x=\"400.704\" y=\"319.164\">possible outcomes  </text>\n",
       "</g>\n",
       "<polygon clip-path=\"url(#clip7501)\" style=\"fill:#000000; fill-opacity:1\" points=\"\n",
       "  305.504,334.144 305.504,390.144 361.504,390.144 361.504,334.144 305.504,334.144 \n",
       "  \"/>\n",
       "<polygon clip-path=\"url(#clip7501)\" style=\"fill:#0000ff; fill-opacity:1\" points=\"\n",
       "  309.504,338.144 309.504,386.144 357.504,386.144 357.504,338.144 309.504,338.144 \n",
       "  \"/>\n",
       "<g clip-path=\"url(#clip7501)\">\n",
       "<text style=\"fill:#000000; fill-opacity:1; font-family:Arial,Helvetica Neue,Helvetica,sans-serif; font-size:48px; text-anchor:start;\" transform=\"rotate(0, 400.704, 379.644)\" x=\"400.704\" y=\"379.644\">Expected utility </text>\n",
       "</g>\n",
       "</svg>\n"
      ]
     },
     "execution_count": 7,
     "metadata": {},
     "output_type": "execute_result"
    }
   ],
   "source": [
    "p1 = plot(x,U.(x,2),color=:red,linewidth=2,label=\"Utility fn\")\n",
    "scatter!([x₁;x₂],U.([x₁;x₂],2),color=:green,label=\"possible outcomes  \")\n",
    "scatter!([Ex],[ExpUtil],color=:blue,marker=:rect,label=\"Expected utility \")\n",
    "plot!(xlim=extrema(x),ylim=(-1.3,-0.7),legend=:topleft)\n",
    "title!(\"Utility function, CRRA\")\n",
    "xlabel!(\"x\")\n",
    "ylabel!(\"\")"
   ]
  },
  {
   "cell_type": "markdown",
   "metadata": {},
   "source": [
    "# Certainty Equivalent"
   ]
  },
  {
   "cell_type": "markdown",
   "metadata": {},
   "source": [
    "Recall: the certainty equivalent (here denoted $P$) is the sure (non-stochastic) value that solves \n",
    "\n",
    "$U(P) = \\text{E}U(x)$\n",
    "\n",
    "The code below solves for $P$ by a numerial search (actually, we could do it analytically in this case). This is applied to different values of risk aversion.\n",
    "\n",
    "Notice that the expected wealth level in this example is 1."
   ]
  },
  {
   "cell_type": "code",
   "execution_count": 8,
   "metadata": {},
   "outputs": [
    {
     "name": "stdout",
     "output_type": "stream",
     "text": [
      "risk aversion and certainly equivalent (cf. Ex = 1.0)\n",
      "     0.000     1.000\n",
      "     2.000     0.978\n",
      "     5.000     0.947\n",
      "    10.000     0.912\n",
      "    25.000     0.875\n"
     ]
    }
   ],
   "source": [
    "println(\"risk aversion and certainly equivalent (cf. Ex = $Ex)\")\n",
    "γM = [0.0001;2;5;10;25]\n",
    "for γ in γM\n",
    "    local ceq\n",
    "    ceq = find_zero(P->EU([x₁ x₂],[π₁ π₂],γ) - U(P,γ),(0.5,1.5))\n",
    "    printlnPs([γ ceq])\n",
    "end"
   ]
  },
  {
   "cell_type": "markdown",
   "metadata": {},
   "source": [
    "# Portfolio Choice with One Risky Asset"
   ]
  },
  {
   "cell_type": "markdown",
   "metadata": {},
   "source": [
    "Recall: the investor maximizes $\\text{E}\\ln (1+R_{p})\\text{, with }R_{p}=vR_{1} + (1-v)R_{f}$ by choosing $v$.\n",
    "\n",
    "In the example below, there are two possible outcomes for $R_{1}$ (-0.2 and 0.5) with equal probabilities.\n",
    "\n",
    "This particular problem can be solved by pen and paper, but it becomes very difficult when the number of states increase - and even worse when there are many assets. We therefore apply a numerical optimization algorithm."
   ]
  },
  {
   "cell_type": "code",
   "execution_count": 9,
   "metadata": {},
   "outputs": [
    {
     "data": {
      "text/plain": [
       "EUc"
      ]
     },
     "execution_count": 9,
     "metadata": {},
     "output_type": "execute_result"
    }
   ],
   "source": [
    "\"\"\"\n",
    "    EUc\n",
    "\n",
    "Calculate expected utility (log(Rp+1)) from investing into one risky and one riskfree asset\n",
    "\n",
    "v: scalar\n",
    "π: S vector (S possible \"states\")\n",
    "R: S vector, return of the risky asset in different states\n",
    "Rf: scalar, riskfree rate\n",
    "\"\"\"\n",
    "function EUc(v,π,Re,Rf)             #expected utility, utility fn is logarithmic\n",
    "    R  = Re .+ Rf                   \n",
    "    Rp = v*R .+ (1-v)*Rf            #portfolio return\n",
    "    EU = sum(π .* log.(1.0.+Rp))    #expected utility\n",
    "    return EU\n",
    "end"
   ]
  },
  {
   "cell_type": "code",
   "execution_count": 10,
   "metadata": {},
   "outputs": [
    {
     "data": {
      "image/svg+xml": [
       "<?xml version=\"1.0\" encoding=\"utf-8\"?>\n",
       "<svg xmlns=\"http://www.w3.org/2000/svg\" xmlns:xlink=\"http://www.w3.org/1999/xlink\" width=\"480\" height=\"320\" viewBox=\"0 0 1920 1280\">\n",
       "<defs>\n",
       "  <clipPath id=\"clip7700\">\n",
       "    <rect x=\"0\" y=\"0\" width=\"2000\" height=\"2000\"/>\n",
       "  </clipPath>\n",
       "</defs>\n",
       "<defs>\n",
       "  <clipPath id=\"clip7701\">\n",
       "    <rect x=\"0\" y=\"0\" width=\"1920\" height=\"1280\"/>\n",
       "  </clipPath>\n",
       "</defs>\n",
       "<polygon clip-path=\"url(#clip7701)\" points=\"\n",
       "0,1280 1920,1280 1920,0 0,0 \n",
       "  \" fill=\"#ffffff\" fill-rule=\"evenodd\" fill-opacity=\"1\"/>\n",
       "<defs>\n",
       "  <clipPath id=\"clip7702\">\n",
       "    <rect x=\"384\" y=\"0\" width=\"1345\" height=\"1280\"/>\n",
       "  </clipPath>\n",
       "</defs>\n",
       "<polygon clip-path=\"url(#clip7701)\" points=\"\n",
       "214.919,1120.48 1841.26,1120.48 1841.26,125.984 214.919,125.984 \n",
       "  \" fill=\"#ffffff\" fill-rule=\"evenodd\" fill-opacity=\"1\"/>\n",
       "<defs>\n",
       "  <clipPath id=\"clip7703\">\n",
       "    <rect x=\"214\" y=\"125\" width=\"1627\" height=\"995\"/>\n",
       "  </clipPath>\n",
       "</defs>\n",
       "<polyline clip-path=\"url(#clip7703)\" style=\"stroke:#000000; stroke-width:2; stroke-opacity:0.1; fill:none\" points=\"\n",
       "  260.947,1120.48 260.947,125.984 \n",
       "  \"/>\n",
       "<polyline clip-path=\"url(#clip7703)\" style=\"stroke:#000000; stroke-width:2; stroke-opacity:0.1; fill:none\" points=\"\n",
       "  644.518,1120.48 644.518,125.984 \n",
       "  \"/>\n",
       "<polyline clip-path=\"url(#clip7703)\" style=\"stroke:#000000; stroke-width:2; stroke-opacity:0.1; fill:none\" points=\"\n",
       "  1028.09,1120.48 1028.09,125.984 \n",
       "  \"/>\n",
       "<polyline clip-path=\"url(#clip7703)\" style=\"stroke:#000000; stroke-width:2; stroke-opacity:0.1; fill:none\" points=\"\n",
       "  1411.66,1120.48 1411.66,125.984 \n",
       "  \"/>\n",
       "<polyline clip-path=\"url(#clip7703)\" style=\"stroke:#000000; stroke-width:2; stroke-opacity:0.1; fill:none\" points=\"\n",
       "  1795.23,1120.48 1795.23,125.984 \n",
       "  \"/>\n",
       "<polyline clip-path=\"url(#clip7703)\" style=\"stroke:#000000; stroke-width:2; stroke-opacity:0.1; fill:none\" points=\"\n",
       "  214.919,1010.44 1841.26,1010.44 \n",
       "  \"/>\n",
       "<polyline clip-path=\"url(#clip7703)\" style=\"stroke:#000000; stroke-width:2; stroke-opacity:0.1; fill:none\" points=\"\n",
       "  214.919,807.753 1841.26,807.753 \n",
       "  \"/>\n",
       "<polyline clip-path=\"url(#clip7703)\" style=\"stroke:#000000; stroke-width:2; stroke-opacity:0.1; fill:none\" points=\"\n",
       "  214.919,605.066 1841.26,605.066 \n",
       "  \"/>\n",
       "<polyline clip-path=\"url(#clip7703)\" style=\"stroke:#000000; stroke-width:2; stroke-opacity:0.1; fill:none\" points=\"\n",
       "  214.919,402.379 1841.26,402.379 \n",
       "  \"/>\n",
       "<polyline clip-path=\"url(#clip7703)\" style=\"stroke:#000000; stroke-width:2; stroke-opacity:0.1; fill:none\" points=\"\n",
       "  214.919,199.692 1841.26,199.692 \n",
       "  \"/>\n",
       "<polyline clip-path=\"url(#clip7701)\" style=\"stroke:#000000; stroke-width:4; stroke-opacity:1; fill:none\" points=\"\n",
       "  214.919,1120.48 1841.26,1120.48 \n",
       "  \"/>\n",
       "<polyline clip-path=\"url(#clip7701)\" style=\"stroke:#000000; stroke-width:4; stroke-opacity:1; fill:none\" points=\"\n",
       "  214.919,1120.48 214.919,125.984 \n",
       "  \"/>\n",
       "<polyline clip-path=\"url(#clip7701)\" style=\"stroke:#000000; stroke-width:4; stroke-opacity:1; fill:none\" points=\"\n",
       "  260.947,1120.48 260.947,1105.57 \n",
       "  \"/>\n",
       "<polyline clip-path=\"url(#clip7701)\" style=\"stroke:#000000; stroke-width:4; stroke-opacity:1; fill:none\" points=\"\n",
       "  644.518,1120.48 644.518,1105.57 \n",
       "  \"/>\n",
       "<polyline clip-path=\"url(#clip7701)\" style=\"stroke:#000000; stroke-width:4; stroke-opacity:1; fill:none\" points=\"\n",
       "  1028.09,1120.48 1028.09,1105.57 \n",
       "  \"/>\n",
       "<polyline clip-path=\"url(#clip7701)\" style=\"stroke:#000000; stroke-width:4; stroke-opacity:1; fill:none\" points=\"\n",
       "  1411.66,1120.48 1411.66,1105.57 \n",
       "  \"/>\n",
       "<polyline clip-path=\"url(#clip7701)\" style=\"stroke:#000000; stroke-width:4; stroke-opacity:1; fill:none\" points=\"\n",
       "  1795.23,1120.48 1795.23,1105.57 \n",
       "  \"/>\n",
       "<polyline clip-path=\"url(#clip7701)\" style=\"stroke:#000000; stroke-width:4; stroke-opacity:1; fill:none\" points=\"\n",
       "  214.919,1010.44 239.314,1010.44 \n",
       "  \"/>\n",
       "<polyline clip-path=\"url(#clip7701)\" style=\"stroke:#000000; stroke-width:4; stroke-opacity:1; fill:none\" points=\"\n",
       "  214.919,807.753 239.314,807.753 \n",
       "  \"/>\n",
       "<polyline clip-path=\"url(#clip7701)\" style=\"stroke:#000000; stroke-width:4; stroke-opacity:1; fill:none\" points=\"\n",
       "  214.919,605.066 239.314,605.066 \n",
       "  \"/>\n",
       "<polyline clip-path=\"url(#clip7701)\" style=\"stroke:#000000; stroke-width:4; stroke-opacity:1; fill:none\" points=\"\n",
       "  214.919,402.379 239.314,402.379 \n",
       "  \"/>\n",
       "<polyline clip-path=\"url(#clip7701)\" style=\"stroke:#000000; stroke-width:4; stroke-opacity:1; fill:none\" points=\"\n",
       "  214.919,199.692 239.314,199.692 \n",
       "  \"/>\n",
       "<g clip-path=\"url(#clip7701)\">\n",
       "<text style=\"fill:#000000; fill-opacity:1; font-family:Arial,Helvetica Neue,Helvetica,sans-serif; font-size:48px; text-anchor:middle;\" transform=\"rotate(0, 260.947, 1172.08)\" x=\"260.947\" y=\"1172.08\">-1.0</text>\n",
       "</g>\n",
       "<g clip-path=\"url(#clip7701)\">\n",
       "<text style=\"fill:#000000; fill-opacity:1; font-family:Arial,Helvetica Neue,Helvetica,sans-serif; font-size:48px; text-anchor:middle;\" transform=\"rotate(0, 644.518, 1172.08)\" x=\"644.518\" y=\"1172.08\">-0.5</text>\n",
       "</g>\n",
       "<g clip-path=\"url(#clip7701)\">\n",
       "<text style=\"fill:#000000; fill-opacity:1; font-family:Arial,Helvetica Neue,Helvetica,sans-serif; font-size:48px; text-anchor:middle;\" transform=\"rotate(0, 1028.09, 1172.08)\" x=\"1028.09\" y=\"1172.08\">0.0</text>\n",
       "</g>\n",
       "<g clip-path=\"url(#clip7701)\">\n",
       "<text style=\"fill:#000000; fill-opacity:1; font-family:Arial,Helvetica Neue,Helvetica,sans-serif; font-size:48px; text-anchor:middle;\" transform=\"rotate(0, 1411.66, 1172.08)\" x=\"1411.66\" y=\"1172.08\">0.5</text>\n",
       "</g>\n",
       "<g clip-path=\"url(#clip7701)\">\n",
       "<text style=\"fill:#000000; fill-opacity:1; font-family:Arial,Helvetica Neue,Helvetica,sans-serif; font-size:48px; text-anchor:middle;\" transform=\"rotate(0, 1795.23, 1172.08)\" x=\"1795.23\" y=\"1172.08\">1.0</text>\n",
       "</g>\n",
       "<g clip-path=\"url(#clip7701)\">\n",
       "<text style=\"fill:#000000; fill-opacity:1; font-family:Arial,Helvetica Neue,Helvetica,sans-serif; font-size:48px; text-anchor:end;\" transform=\"rotate(0, 195.719, 1027.94)\" x=\"195.719\" y=\"1027.94\">0.000</text>\n",
       "</g>\n",
       "<g clip-path=\"url(#clip7701)\">\n",
       "<text style=\"fill:#000000; fill-opacity:1; font-family:Arial,Helvetica Neue,Helvetica,sans-serif; font-size:48px; text-anchor:end;\" transform=\"rotate(0, 195.719, 825.253)\" x=\"195.719\" y=\"825.253\">0.025</text>\n",
       "</g>\n",
       "<g clip-path=\"url(#clip7701)\">\n",
       "<text style=\"fill:#000000; fill-opacity:1; font-family:Arial,Helvetica Neue,Helvetica,sans-serif; font-size:48px; text-anchor:end;\" transform=\"rotate(0, 195.719, 622.566)\" x=\"195.719\" y=\"622.566\">0.050</text>\n",
       "</g>\n",
       "<g clip-path=\"url(#clip7701)\">\n",
       "<text style=\"fill:#000000; fill-opacity:1; font-family:Arial,Helvetica Neue,Helvetica,sans-serif; font-size:48px; text-anchor:end;\" transform=\"rotate(0, 195.719, 419.879)\" x=\"195.719\" y=\"419.879\">0.075</text>\n",
       "</g>\n",
       "<g clip-path=\"url(#clip7701)\">\n",
       "<text style=\"fill:#000000; fill-opacity:1; font-family:Arial,Helvetica Neue,Helvetica,sans-serif; font-size:48px; text-anchor:end;\" transform=\"rotate(0, 195.719, 217.192)\" x=\"195.719\" y=\"217.192\">0.100</text>\n",
       "</g>\n",
       "<g clip-path=\"url(#clip7701)\">\n",
       "<text style=\"fill:#000000; fill-opacity:1; font-family:Arial,Helvetica Neue,Helvetica,sans-serif; font-size:84px; text-anchor:middle;\" transform=\"rotate(0, 1028.09, 73.2)\" x=\"1028.09\" y=\"73.2\">Expected utility. Where is the optimum?</text>\n",
       "</g>\n",
       "<g clip-path=\"url(#clip7701)\">\n",
       "<text style=\"fill:#000000; fill-opacity:1; font-family:Arial,Helvetica Neue,Helvetica,sans-serif; font-size:66px; text-anchor:middle;\" transform=\"rotate(0, 1028.09, 1270.4)\" x=\"1028.09\" y=\"1270.4\">weight (v) on risky asset</text>\n",
       "</g>\n",
       "<polyline clip-path=\"url(#clip7703)\" style=\"stroke:#ff0000; stroke-width:8; stroke-opacity:1; fill:none\" points=\"\n",
       "  260.947,1092.34 276.29,1063.68 291.633,1035.62 306.976,1008.14 322.319,981.229 337.661,954.881 353.004,929.084 368.347,903.83 383.69,879.109 399.033,854.912 \n",
       "  414.376,831.231 429.718,808.058 445.061,785.385 460.404,763.203 475.747,741.507 491.09,720.289 506.433,699.541 521.776,679.258 537.118,659.432 552.461,640.058 \n",
       "  567.804,621.13 583.147,602.642 598.49,584.588 613.833,566.963 629.175,549.761 644.518,532.978 659.861,516.609 675.204,500.649 690.547,485.093 705.89,469.937 \n",
       "  721.232,455.177 736.575,440.809 751.918,426.828 767.261,413.231 782.604,400.015 797.947,387.175 813.29,374.708 828.632,362.611 843.975,350.881 859.318,339.515 \n",
       "  874.661,328.509 890.004,317.861 905.347,307.568 920.689,297.628 936.032,288.037 951.375,278.794 966.718,269.897 982.061,261.342 997.404,253.128 1012.75,245.253 \n",
       "  1028.09,237.715 1043.43,230.511 1058.77,223.641 1074.12,217.103 1089.46,210.895 1104.8,205.015 1120.15,199.462 1135.49,194.235 1150.83,189.333 1166.17,184.754 \n",
       "  1181.52,180.497 1196.86,176.561 1212.2,172.946 1227.55,169.65 1242.89,166.673 1258.23,164.014 1273.57,161.673 1288.92,159.648 1304.26,157.939 1319.6,156.547 \n",
       "  1334.95,155.47 1350.29,154.708 1365.63,154.262 1380.97,154.13 1396.32,154.314 1411.66,154.813 1427,155.627 1442.35,156.757 1457.69,158.202 1473.03,159.963 \n",
       "  1488.37,162.041 1503.72,164.435 1519.06,167.147 1534.4,170.177 1549.75,173.526 1565.09,177.195 1580.43,181.184 1595.77,185.494 1611.12,190.127 1626.46,195.084 \n",
       "  1641.8,200.365 1657.15,205.972 1672.49,211.907 1687.83,218.17 1703.17,224.763 1718.52,231.689 1733.86,238.948 1749.2,246.542 1764.55,254.473 1779.89,262.744 \n",
       "  1795.23,271.356 \n",
       "  \"/>\n",
       "</svg>\n"
      ]
     },
     "execution_count": 10,
     "metadata": {},
     "output_type": "execute_result"
    }
   ],
   "source": [
    "v = range(-1,stop=1,length=101)    #try different weights on risky asset\n",
    "L = length(v)\n",
    "EUv = fill(NaN,L)\n",
    "for i = 1:L\n",
    "    EUv[i] = EUc(v[i],[0.5;0.5],[-0.3;0.4],0.1)\n",
    "end\n",
    "\n",
    "p1 = plot(v,EUv,color=:red,linewidth=2,legend=false)\n",
    "title!(\"Expected utility. Where is the optimum?\")\n",
    "xlabel!(\"weight (v) on risky asset\")"
   ]
  },
  {
   "cell_type": "code",
   "execution_count": 11,
   "metadata": {},
   "outputs": [
    {
     "name": "stdout",
     "output_type": "stream",
     "text": [
      "argmin -EUc():      0.458\n",
      "Compare with the figure\n"
     ]
    }
   ],
   "source": [
    "#minimize -EU()\n",
    "Sol = optimize(v-> -EUc(v,[0.5;0.5],[-0.3;0.4],0.1),-1,1)   #try v values between -1 and 1\n",
    "printlnPs(\"argmin -EUc(): \",Optim.minimizer(Sol))\n",
    "\n",
    "println(\"Compare with the figure\")"
   ]
  },
  {
   "cell_type": "markdown",
   "metadata": {},
   "source": [
    "# Portfolio Choice with Several Risky Assets"
   ]
  },
  {
   "cell_type": "markdown",
   "metadata": {},
   "source": [
    "This optimization problem has two risky assets and a general CRRA utility function. Numerical optimization is still easy."
   ]
  },
  {
   "cell_type": "code",
   "execution_count": 12,
   "metadata": {},
   "outputs": [
    {
     "data": {
      "text/plain": [
       "EUe"
      ]
     },
     "execution_count": 12,
     "metadata": {},
     "output_type": "execute_result"
    }
   ],
   "source": [
    "\"\"\"\n",
    "    EUe\n",
    "\n",
    "Calculate expected utility from investing into n risky assets and one riskfree asset\n",
    "\n",
    "v:  n vector (weights on the n risky assets)\n",
    "π:  S vector (S possible \"states\")\n",
    "R:  nxS matrix, each column is the n vector of returns in one of the states\n",
    "Rf: scalar, riskfree rate\n",
    "γ:  scalar, risk aversion\n",
    "\"\"\"\n",
    "function EUe(v,π,R,Rf,γ)                \n",
    "    Rp = v'R .+ (1-sum(v))*Rf           #portfolio return, row vector (different states)\n",
    "    Rp = vec(Rp)                        #turn Rp into a vector\n",
    "    EUNeg = -EU(1.0.+Rp,π,γ)            #since optimize() minimizes\n",
    "    return EUNeg\n",
    "end"
   ]
  },
  {
   "cell_type": "code",
   "execution_count": 13,
   "metadata": {},
   "outputs": [
    {
     "name": "stdout",
     "output_type": "stream",
     "text": [
      "optimal weights from max EUe():     -0.726     1.317\n"
     ]
    }
   ],
   "source": [
    "ROutComes = [-0.03 0.08 0.20;           #2 assets, 3 states\n",
    "             -0.04 0.22 0.15]           #cell[i,j] is asset i in state j\n",
    "π = [1/3;1/3;1/3]\n",
    "Rf = 0.065\n",
    "Sol = optimize(v->EUe(v,π,ROutComes,Rf,5),[-0.6;1.2])         \n",
    "printlnPs(\"optimal weights from max EUe(): \",Optim.minimizer(Sol))"
   ]
  },
  {
   "cell_type": "markdown",
   "metadata": {},
   "source": [
    "# Mean-Variance and the Telser Criterion"
   ]
  },
  {
   "cell_type": "markdown",
   "metadata": {},
   "source": [
    "Let $\\mu$ be a vector of expected returns and $\\Sigma$ be the covariance matrix of the investible asssets.\n",
    "\n",
    "The Telser criterion solves the problem\n",
    "\n",
    "$\\max_{v} \\mu_{p} \\: \\text{ subject to} \\:  \\text{VaR}_{95\\%} < 0.1$,\n",
    "\n",
    "where $\\mu_{p} = v'\\mu+(1-v)R_f$ is the expected portfolio return.\n",
    "\n",
    "If the returns are normally distributed then \n",
    "\n",
    "$\\text{VaR}_{95\\%} = -(\\mu_p - 1.64\\sigma_p)$,\n",
    "\n",
    "where $\\sigma_p = \\sqrt{v'\\Sigma v}$ is the standard deviation of the portfolio return.\n",
    "\n",
    "The figure below illustrates that the optimal portfolio is on the CLM (when the returns are normally distributed)"
   ]
  },
  {
   "cell_type": "code",
   "execution_count": 15,
   "metadata": {},
   "outputs": [
    {
     "data": {
      "text/plain": [
       "MVTangencyP"
      ]
     },
     "execution_count": 15,
     "metadata": {},
     "output_type": "execute_result"
    }
   ],
   "source": [
    "include(\"jlFiles/MvCalculations.jl\")    #functions for traditional MV frontiers"
   ]
  },
  {
   "cell_type": "code",
   "execution_count": 16,
   "metadata": {},
   "outputs": [
    {
     "name": "stdout",
     "output_type": "stream",
     "text": [
      "\n"
     ]
    }
   ],
   "source": [
    "μ = [9; 6]/100                     #means\n",
    "Σ = [ 256  0;\n",
    "      0    144]/10000\n",
    "Rf = 1/100\n",
    "\n",
    "mustar  = range(Rf,stop=0.1,length=101)\n",
    "L       = length(mustar)\n",
    "StdRp   = fill(NaN,L)\n",
    "StdRpRf = fill(NaN,L)\n",
    "for i = 1:L\n",
    "    StdRp[i]   = MVCalc(mustar[i],μ,Σ)[1]\n",
    "    StdRpRf[i] = MVCalcRf(mustar[i],μ,Σ,Rf)[1]\n",
    "end   \n",
    "\n",
    "VaRRestr = -0.1 .+ 1.64*StdRpRf\n",
    "\n",
    "println()"
   ]
  },
  {
   "cell_type": "code",
   "execution_count": 17,
   "metadata": {
    "scrolled": true
   },
   "outputs": [
    {
     "data": {
      "image/svg+xml": [
       "<?xml version=\"1.0\" encoding=\"utf-8\"?>\n",
       "<svg xmlns=\"http://www.w3.org/2000/svg\" xmlns:xlink=\"http://www.w3.org/1999/xlink\" width=\"480\" height=\"320\" viewBox=\"0 0 1920 1280\">\n",
       "<defs>\n",
       "  <clipPath id=\"clip7900\">\n",
       "    <rect x=\"0\" y=\"0\" width=\"2000\" height=\"2000\"/>\n",
       "  </clipPath>\n",
       "</defs>\n",
       "<defs>\n",
       "  <clipPath id=\"clip7901\">\n",
       "    <rect x=\"0\" y=\"0\" width=\"1920\" height=\"1280\"/>\n",
       "  </clipPath>\n",
       "</defs>\n",
       "<polygon clip-path=\"url(#clip7901)\" points=\"\n",
       "0,1280 1920,1280 1920,0 0,0 \n",
       "  \" fill=\"#ffffff\" fill-rule=\"evenodd\" fill-opacity=\"1\"/>\n",
       "<defs>\n",
       "  <clipPath id=\"clip7902\">\n",
       "    <rect x=\"384\" y=\"0\" width=\"1345\" height=\"1280\"/>\n",
       "  </clipPath>\n",
       "</defs>\n",
       "<polygon clip-path=\"url(#clip7901)\" points=\"\n",
       "211.005,1120.48 1841.26,1120.48 1841.26,125.984 211.005,125.984 \n",
       "  \" fill=\"#ffffff\" fill-rule=\"evenodd\" fill-opacity=\"1\"/>\n",
       "<defs>\n",
       "  <clipPath id=\"clip7903\">\n",
       "    <rect x=\"211\" y=\"125\" width=\"1631\" height=\"995\"/>\n",
       "  </clipPath>\n",
       "</defs>\n",
       "<polyline clip-path=\"url(#clip7903)\" style=\"stroke:#000000; stroke-width:2; stroke-opacity:0.1; fill:none\" points=\"\n",
       "  211.005,1120.48 211.005,125.984 \n",
       "  \"/>\n",
       "<polyline clip-path=\"url(#clip7903)\" style=\"stroke:#000000; stroke-width:2; stroke-opacity:0.1; fill:none\" points=\"\n",
       "  754.423,1120.48 754.423,125.984 \n",
       "  \"/>\n",
       "<polyline clip-path=\"url(#clip7903)\" style=\"stroke:#000000; stroke-width:2; stroke-opacity:0.1; fill:none\" points=\"\n",
       "  1297.84,1120.48 1297.84,125.984 \n",
       "  \"/>\n",
       "<polyline clip-path=\"url(#clip7903)\" style=\"stroke:#000000; stroke-width:2; stroke-opacity:0.1; fill:none\" points=\"\n",
       "  1841.26,1120.48 1841.26,125.984 \n",
       "  \"/>\n",
       "<polyline clip-path=\"url(#clip7903)\" style=\"stroke:#000000; stroke-width:2; stroke-opacity:0.1; fill:none\" points=\"\n",
       "  211.005,1120.48 1841.26,1120.48 \n",
       "  \"/>\n",
       "<polyline clip-path=\"url(#clip7903)\" style=\"stroke:#000000; stroke-width:2; stroke-opacity:0.1; fill:none\" points=\"\n",
       "  211.005,921.583 1841.26,921.583 \n",
       "  \"/>\n",
       "<polyline clip-path=\"url(#clip7903)\" style=\"stroke:#000000; stroke-width:2; stroke-opacity:0.1; fill:none\" points=\"\n",
       "  211.005,722.683 1841.26,722.683 \n",
       "  \"/>\n",
       "<polyline clip-path=\"url(#clip7903)\" style=\"stroke:#000000; stroke-width:2; stroke-opacity:0.1; fill:none\" points=\"\n",
       "  211.005,523.784 1841.26,523.784 \n",
       "  \"/>\n",
       "<polyline clip-path=\"url(#clip7903)\" style=\"stroke:#000000; stroke-width:2; stroke-opacity:0.1; fill:none\" points=\"\n",
       "  211.005,324.884 1841.26,324.884 \n",
       "  \"/>\n",
       "<polyline clip-path=\"url(#clip7903)\" style=\"stroke:#000000; stroke-width:2; stroke-opacity:0.1; fill:none\" points=\"\n",
       "  211.005,125.984 1841.26,125.984 \n",
       "  \"/>\n",
       "<polyline clip-path=\"url(#clip7901)\" style=\"stroke:#000000; stroke-width:4; stroke-opacity:1; fill:none\" points=\"\n",
       "  211.005,1120.48 1841.26,1120.48 \n",
       "  \"/>\n",
       "<polyline clip-path=\"url(#clip7901)\" style=\"stroke:#000000; stroke-width:4; stroke-opacity:1; fill:none\" points=\"\n",
       "  211.005,1120.48 211.005,125.984 \n",
       "  \"/>\n",
       "<polyline clip-path=\"url(#clip7901)\" style=\"stroke:#000000; stroke-width:4; stroke-opacity:1; fill:none\" points=\"\n",
       "  211.005,1120.48 211.005,1105.57 \n",
       "  \"/>\n",
       "<polyline clip-path=\"url(#clip7901)\" style=\"stroke:#000000; stroke-width:4; stroke-opacity:1; fill:none\" points=\"\n",
       "  754.423,1120.48 754.423,1105.57 \n",
       "  \"/>\n",
       "<polyline clip-path=\"url(#clip7901)\" style=\"stroke:#000000; stroke-width:4; stroke-opacity:1; fill:none\" points=\"\n",
       "  1297.84,1120.48 1297.84,1105.57 \n",
       "  \"/>\n",
       "<polyline clip-path=\"url(#clip7901)\" style=\"stroke:#000000; stroke-width:4; stroke-opacity:1; fill:none\" points=\"\n",
       "  1841.26,1120.48 1841.26,1105.57 \n",
       "  \"/>\n",
       "<polyline clip-path=\"url(#clip7901)\" style=\"stroke:#000000; stroke-width:4; stroke-opacity:1; fill:none\" points=\"\n",
       "  211.005,1120.48 235.459,1120.48 \n",
       "  \"/>\n",
       "<polyline clip-path=\"url(#clip7901)\" style=\"stroke:#000000; stroke-width:4; stroke-opacity:1; fill:none\" points=\"\n",
       "  211.005,921.583 235.459,921.583 \n",
       "  \"/>\n",
       "<polyline clip-path=\"url(#clip7901)\" style=\"stroke:#000000; stroke-width:4; stroke-opacity:1; fill:none\" points=\"\n",
       "  211.005,722.683 235.459,722.683 \n",
       "  \"/>\n",
       "<polyline clip-path=\"url(#clip7901)\" style=\"stroke:#000000; stroke-width:4; stroke-opacity:1; fill:none\" points=\"\n",
       "  211.005,523.784 235.459,523.784 \n",
       "  \"/>\n",
       "<polyline clip-path=\"url(#clip7901)\" style=\"stroke:#000000; stroke-width:4; stroke-opacity:1; fill:none\" points=\"\n",
       "  211.005,324.884 235.459,324.884 \n",
       "  \"/>\n",
       "<polyline clip-path=\"url(#clip7901)\" style=\"stroke:#000000; stroke-width:4; stroke-opacity:1; fill:none\" points=\"\n",
       "  211.005,125.984 235.459,125.984 \n",
       "  \"/>\n",
       "<g clip-path=\"url(#clip7901)\">\n",
       "<text style=\"fill:#000000; fill-opacity:1; font-family:Arial,Helvetica Neue,Helvetica,sans-serif; font-size:48px; text-anchor:middle;\" transform=\"rotate(0, 211.005, 1172.08)\" x=\"211.005\" y=\"1172.08\">0</text>\n",
       "</g>\n",
       "<g clip-path=\"url(#clip7901)\">\n",
       "<text style=\"fill:#000000; fill-opacity:1; font-family:Arial,Helvetica Neue,Helvetica,sans-serif; font-size:48px; text-anchor:middle;\" transform=\"rotate(0, 754.423, 1172.08)\" x=\"754.423\" y=\"1172.08\">5</text>\n",
       "</g>\n",
       "<g clip-path=\"url(#clip7901)\">\n",
       "<text style=\"fill:#000000; fill-opacity:1; font-family:Arial,Helvetica Neue,Helvetica,sans-serif; font-size:48px; text-anchor:middle;\" transform=\"rotate(0, 1297.84, 1172.08)\" x=\"1297.84\" y=\"1172.08\">10</text>\n",
       "</g>\n",
       "<g clip-path=\"url(#clip7901)\">\n",
       "<text style=\"fill:#000000; fill-opacity:1; font-family:Arial,Helvetica Neue,Helvetica,sans-serif; font-size:48px; text-anchor:middle;\" transform=\"rotate(0, 1841.26, 1172.08)\" x=\"1841.26\" y=\"1172.08\">15</text>\n",
       "</g>\n",
       "<g clip-path=\"url(#clip7901)\">\n",
       "<text style=\"fill:#000000; fill-opacity:1; font-family:Arial,Helvetica Neue,Helvetica,sans-serif; font-size:48px; text-anchor:end;\" transform=\"rotate(0, 191.805, 1137.98)\" x=\"191.805\" y=\"1137.98\">0</text>\n",
       "</g>\n",
       "<g clip-path=\"url(#clip7901)\">\n",
       "<text style=\"fill:#000000; fill-opacity:1; font-family:Arial,Helvetica Neue,Helvetica,sans-serif; font-size:48px; text-anchor:end;\" transform=\"rotate(0, 191.805, 939.083)\" x=\"191.805\" y=\"939.083\">2</text>\n",
       "</g>\n",
       "<g clip-path=\"url(#clip7901)\">\n",
       "<text style=\"fill:#000000; fill-opacity:1; font-family:Arial,Helvetica Neue,Helvetica,sans-serif; font-size:48px; text-anchor:end;\" transform=\"rotate(0, 191.805, 740.183)\" x=\"191.805\" y=\"740.183\">4</text>\n",
       "</g>\n",
       "<g clip-path=\"url(#clip7901)\">\n",
       "<text style=\"fill:#000000; fill-opacity:1; font-family:Arial,Helvetica Neue,Helvetica,sans-serif; font-size:48px; text-anchor:end;\" transform=\"rotate(0, 191.805, 541.284)\" x=\"191.805\" y=\"541.284\">6</text>\n",
       "</g>\n",
       "<g clip-path=\"url(#clip7901)\">\n",
       "<text style=\"fill:#000000; fill-opacity:1; font-family:Arial,Helvetica Neue,Helvetica,sans-serif; font-size:48px; text-anchor:end;\" transform=\"rotate(0, 191.805, 342.384)\" x=\"191.805\" y=\"342.384\">8</text>\n",
       "</g>\n",
       "<g clip-path=\"url(#clip7901)\">\n",
       "<text style=\"fill:#000000; fill-opacity:1; font-family:Arial,Helvetica Neue,Helvetica,sans-serif; font-size:48px; text-anchor:end;\" transform=\"rotate(0, 191.805, 143.484)\" x=\"191.805\" y=\"143.484\">10</text>\n",
       "</g>\n",
       "<g clip-path=\"url(#clip7901)\">\n",
       "<text style=\"fill:#000000; fill-opacity:1; font-family:Arial,Helvetica Neue,Helvetica,sans-serif; font-size:84px; text-anchor:middle;\" transform=\"rotate(0, 1026.13, 73.2)\" x=\"1026.13\" y=\"73.2\">Mean vs std</text>\n",
       "</g>\n",
       "<g clip-path=\"url(#clip7901)\">\n",
       "<text style=\"fill:#000000; fill-opacity:1; font-family:Arial,Helvetica Neue,Helvetica,sans-serif; font-size:66px; text-anchor:middle;\" transform=\"rotate(0, 1026.13, 1270.4)\" x=\"1026.13\" y=\"1270.4\">Std(Rp), %</text>\n",
       "</g>\n",
       "<g clip-path=\"url(#clip7901)\">\n",
       "<text style=\"fill:#000000; fill-opacity:1; font-family:Arial,Helvetica Neue,Helvetica,sans-serif; font-size:66px; text-anchor:middle;\" transform=\"rotate(-90, 57.6, 623.233)\" x=\"57.6\" y=\"623.233\">ERp, %</text>\n",
       "</g>\n",
       "<polyline clip-path=\"url(#clip7903)\" style=\"stroke:#0000ff; stroke-width:8; stroke-opacity:1; fill:none\" stroke-dasharray=\"32, 20\" points=\"\n",
       "  211.005,1021.03 226.034,1012.08 241.063,1003.13 256.091,994.181 271.12,985.231 286.149,976.28 301.178,967.33 316.206,958.379 331.235,949.429 346.264,940.478 \n",
       "  361.293,931.528 376.321,922.577 391.35,913.627 406.379,904.676 421.408,895.726 436.436,886.775 451.465,877.825 466.494,868.875 481.523,859.924 496.551,850.974 \n",
       "  511.58,842.023 526.609,833.073 541.638,824.122 556.666,815.172 571.695,806.221 586.724,797.271 601.753,788.32 616.781,779.37 631.81,770.419 646.839,761.469 \n",
       "  661.868,752.518 676.896,743.568 691.925,734.617 706.954,725.667 721.983,716.716 737.012,707.766 752.04,698.815 767.069,689.865 782.098,680.914 797.127,671.964 \n",
       "  812.155,663.013 827.184,654.063 842.213,645.112 857.242,636.162 872.27,627.211 887.299,618.261 902.328,609.31 917.357,600.36 932.385,591.409 947.414,582.459 \n",
       "  962.443,573.509 977.472,564.558 992.5,555.608 1007.53,546.657 1022.56,537.707 1037.59,528.756 1052.62,519.806 1067.64,510.855 1082.67,501.905 1097.7,492.954 \n",
       "  1112.73,484.004 1127.76,475.053 1142.79,466.103 1157.82,457.152 1172.85,448.202 1187.87,439.251 1202.9,430.301 1217.93,421.35 1232.96,412.4 1247.99,403.449 \n",
       "  1263.02,394.499 1278.05,385.548 1293.08,376.598 1308.1,367.647 1323.13,358.697 1338.16,349.746 1353.19,340.796 1368.22,331.845 1383.25,322.895 1398.28,313.944 \n",
       "  1413.31,304.994 1428.33,296.043 1443.36,287.093 1458.39,278.142 1473.42,269.192 1488.45,260.242 1503.48,251.291 1518.51,242.341 1533.54,233.39 1548.56,224.44 \n",
       "  1563.59,215.489 1578.62,206.539 1593.65,197.588 1608.68,188.638 1623.71,179.687 1638.74,170.737 1653.77,161.786 1668.79,152.836 1683.82,143.885 1698.85,134.935 \n",
       "  1713.88,125.984 \n",
       "  \"/>\n",
       "<polyline clip-path=\"url(#clip7903)\" style=\"stroke:#ff0000; stroke-width:4; stroke-opacity:1; fill:none\" points=\"\n",
       "  4738.19,1021.03 4674.76,1012.08 4611.38,1003.13 4548.06,994.181 4484.79,985.231 4421.58,976.28 4358.44,967.33 4295.36,958.379 4232.35,949.429 4169.41,940.478 \n",
       "  4106.54,931.528 4043.75,922.577 3981.05,913.627 3918.43,904.676 3855.9,895.726 3793.46,886.775 3731.13,877.825 3668.91,868.875 3606.79,859.924 3544.8,850.974 \n",
       "  3482.93,842.023 3421.19,833.073 3359.59,824.122 3298.14,815.172 3236.85,806.221 3175.72,797.271 3114.77,788.32 3054.01,779.37 2993.46,770.419 2933.12,761.469 \n",
       "  2873,752.518 2813.14,743.568 2753.53,734.617 2694.21,725.667 2635.19,716.716 2576.49,707.766 2518.15,698.815 2460.18,689.865 2402.62,680.914 2345.5,671.964 \n",
       "  2288.86,663.013 2232.73,654.063 2177.16,645.112 2122.2,636.162 2067.91,627.211 2014.34,618.261 1961.56,609.31 1909.64,600.36 1858.67,591.409 1808.73,582.459 \n",
       "  1759.93,573.509 1712.38,564.558 1666.19,555.608 1621.51,546.657 1578.48,537.707 1537.26,528.756 1498.03,519.806 1460.97,510.855 1426.28,501.905 1394.17,492.954 \n",
       "  1364.85,484.004 1338.55,475.053 1315.47,466.103 1295.84,457.152 1279.82,448.202 1267.59,439.251 1259.29,430.301 1255,421.35 1254.77,412.4 1258.61,403.449 \n",
       "  1266.47,394.499 1278.27,385.548 1293.87,376.598 1313.12,367.647 1335.82,358.697 1361.78,349.746 1390.77,340.796 1422.58,331.845 1456.99,322.895 1493.8,313.944 \n",
       "  1532.8,304.994 1573.81,296.043 1616.65,287.093 1661.15,278.142 1707.18,269.192 1754.59,260.242 1803.25,251.291 1853.07,242.341 1903.93,233.39 1955.75,224.44 \n",
       "  2008.43,215.489 2061.92,206.539 2116.14,197.588 2171.02,188.638 2226.53,179.687 2282.59,170.737 2339.18,161.786 2396.25,152.836 2453.77,143.885 2511.69,134.935 \n",
       "  2569.99,125.984 \n",
       "  \"/>\n",
       "<polyline clip-path=\"url(#clip7903)\" style=\"stroke:#000000; stroke-width:8; stroke-opacity:1; fill:none\" stroke-dasharray=\"4, 8\" points=\"\n",
       "  211.005,2114.98 226.034,2092.43 241.063,2069.87 256.091,2047.32 271.12,2024.77 286.149,2002.22 301.178,1979.66 316.206,1957.11 331.235,1934.56 346.264,1912 \n",
       "  361.293,1889.45 376.321,1866.9 391.35,1844.34 406.379,1821.79 421.408,1799.24 436.436,1776.68 451.465,1754.13 466.494,1731.58 481.523,1709.02 496.551,1686.47 \n",
       "  511.58,1663.92 526.609,1641.37 541.638,1618.81 556.666,1596.26 571.695,1573.71 586.724,1551.15 601.753,1528.6 616.781,1506.05 631.81,1483.49 646.839,1460.94 \n",
       "  661.868,1438.39 676.896,1415.83 691.925,1393.28 706.954,1370.73 721.983,1348.17 737.012,1325.62 752.04,1303.07 767.069,1280.52 782.098,1257.96 797.127,1235.41 \n",
       "  812.155,1212.86 827.184,1190.3 842.213,1167.75 857.242,1145.2 872.27,1122.64 887.299,1100.09 902.328,1077.54 917.357,1054.98 932.385,1032.43 947.414,1009.88 \n",
       "  962.443,987.325 977.472,964.772 992.5,942.218 1007.53,919.665 1022.56,897.112 1037.59,874.559 1052.62,852.006 1067.64,829.453 1082.67,806.9 1097.7,784.346 \n",
       "  1112.73,761.793 1127.76,739.24 1142.79,716.687 1157.82,694.134 1172.85,671.581 1187.87,649.028 1202.9,626.475 1217.93,603.921 1232.96,581.368 1247.99,558.815 \n",
       "  1263.02,536.262 1278.05,513.709 1293.08,491.156 1308.1,468.603 1323.13,446.05 1338.16,423.496 1353.19,400.943 1368.22,378.39 1383.25,355.837 1398.28,333.284 \n",
       "  1413.31,310.731 1428.33,288.178 1443.36,265.625 1458.39,243.071 1473.42,220.518 1488.45,197.965 1503.48,175.412 1518.51,152.859 1533.54,130.306 1548.56,107.753 \n",
       "  1563.59,85.1996 1578.62,62.6465 1593.65,40.0933 1608.68,17.5402 1623.71,-5.01292 1638.74,-27.5661 1653.77,-50.1192 1668.79,-72.6723 1683.82,-95.2254 1698.85,-117.779 \n",
       "  1713.88,-140.332 \n",
       "  \"/>\n",
       "<polygon clip-path=\"url(#clip7901)\" points=\"\n",
       "268.605,422.624 776.218,422.624 776.218,180.704 268.605,180.704 \n",
       "  \" fill=\"#ffffff\" fill-rule=\"evenodd\" fill-opacity=\"1\"/>\n",
       "<polyline clip-path=\"url(#clip7901)\" style=\"stroke:#000000; stroke-width:4; stroke-opacity:1; fill:none\" points=\"\n",
       "  268.605,422.624 776.218,422.624 776.218,180.704 268.605,180.704 268.605,422.624 \n",
       "  \"/>\n",
       "<polyline clip-path=\"url(#clip7901)\" style=\"stroke:#0000ff; stroke-width:8; stroke-opacity:1; fill:none\" stroke-dasharray=\"32, 20\" points=\"\n",
       "  287.805,241.184 403.005,241.184 \n",
       "  \"/>\n",
       "<g clip-path=\"url(#clip7901)\">\n",
       "<text style=\"fill:#000000; fill-opacity:1; font-family:Arial,Helvetica Neue,Helvetica,sans-serif; font-size:48px; text-anchor:start;\" transform=\"rotate(0, 422.205, 258.684)\" x=\"422.205\" y=\"258.684\">CML</text>\n",
       "</g>\n",
       "<polyline clip-path=\"url(#clip7901)\" style=\"stroke:#ff0000; stroke-width:4; stroke-opacity:1; fill:none\" points=\"\n",
       "  287.805,301.664 403.005,301.664 \n",
       "  \"/>\n",
       "<g clip-path=\"url(#clip7901)\">\n",
       "<text style=\"fill:#000000; fill-opacity:1; font-family:Arial,Helvetica Neue,Helvetica,sans-serif; font-size:48px; text-anchor:start;\" transform=\"rotate(0, 422.205, 319.164)\" x=\"422.205\" y=\"319.164\">MVF</text>\n",
       "</g>\n",
       "<polyline clip-path=\"url(#clip7901)\" style=\"stroke:#000000; stroke-width:8; stroke-opacity:1; fill:none\" stroke-dasharray=\"4, 8\" points=\"\n",
       "  287.805,362.144 403.005,362.144 \n",
       "  \"/>\n",
       "<g clip-path=\"url(#clip7901)\">\n",
       "<text style=\"fill:#000000; fill-opacity:1; font-family:Arial,Helvetica Neue,Helvetica,sans-serif; font-size:48px; text-anchor:start;\" transform=\"rotate(0, 422.205, 379.644)\" x=\"422.205\" y=\"379.644\">VaR restriction</text>\n",
       "</g>\n",
       "</svg>\n"
      ]
     },
     "execution_count": 17,
     "metadata": {},
     "output_type": "execute_result"
    }
   ],
   "source": [
    "p1= plot(StdRpRf*100,mustar*100,line=:dash,color=:blue,linewidth=2,label=\"CML\")\n",
    "plot!(StdRp*100,mustar*100,color=:red,label=\"MVF\")\n",
    "plot!(StdRpRf*100,VaRRestr*100,line=:dot,linewidth=2,color=:black,label=\"VaR restriction\")\n",
    "plot!(xlim=(0,15),ylim=(0,10),legend=:topleft)\n",
    "title!(\"Mean vs std\")\n",
    "xlabel!(\"Std(Rp), %\")\n",
    "ylabel!(\"ERp, %\")"
   ]
  },
  {
   "cell_type": "code",
   "execution_count": null,
   "metadata": {},
   "outputs": [],
   "source": []
  }
 ],
 "metadata": {
  "anaconda-cloud": {},
  "kernelspec": {
   "display_name": "Julia 1.0.3",
   "language": "julia",
   "name": "julia-1.0"
  },
  "language_info": {
   "file_extension": ".jl",
   "mimetype": "application/julia",
   "name": "julia",
   "version": "1.0.3"
  }
 },
 "nbformat": 4,
 "nbformat_minor": 1
}
