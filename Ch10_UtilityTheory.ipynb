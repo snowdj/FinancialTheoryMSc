{
 "cells": [
  {
   "cell_type": "markdown",
   "metadata": {},
   "source": [
    "# Load Packages"
   ]
  },
  {
   "cell_type": "code",
   "execution_count": 1,
   "metadata": {},
   "outputs": [
    {
     "data": {
      "text/plain": [
       "printlnPs (generic function with 2 methods)"
      ]
     },
     "execution_count": 1,
     "metadata": {},
     "output_type": "execute_result"
    }
   ],
   "source": [
    "using Roots, Optim\n",
    "\n",
    "#using Dates            #Julia 0.7\n",
    "using Compat, Missings  #to use 0.7 syntax in 0.6\n",
    "\n",
    "include(\"printmat.jl\")"
   ]
  },
  {
   "cell_type": "code",
   "execution_count": 2,
   "metadata": {},
   "outputs": [
    {
     "data": {
      "text/plain": [
       "Plots.GRBackend()"
      ]
     },
     "execution_count": 2,
     "metadata": {},
     "output_type": "execute_result"
    }
   ],
   "source": [
    "using Plots\n",
    "backend = \"gr\"              #\"gr\" (default), \"pyplot\" \n",
    "\n",
    "if backend == \"pyplot\"\n",
    "    pyplot(size=(600,400))\n",
    "else    \n",
    "    gr(size=(600,400))\n",
    "end"
   ]
  },
  {
   "cell_type": "markdown",
   "metadata": {},
   "source": [
    "# Utility Function"
   ]
  },
  {
   "cell_type": "markdown",
   "metadata": {},
   "source": [
    "Recall: the CRRA utility function is $U(x) = \\frac{x^{1-\\gamma}}{1-\\gamma}$"
   ]
  },
  {
   "cell_type": "code",
   "execution_count": 3,
   "metadata": {},
   "outputs": [
    {
     "data": {
      "text/plain": [
       "U (generic function with 1 method)"
      ]
     },
     "execution_count": 3,
     "metadata": {},
     "output_type": "execute_result"
    }
   ],
   "source": [
    "U(x,γ) =  x^(1-γ)/(1-γ)    #CRRA utility function, γ is the risk aversion"
   ]
  },
  {
   "cell_type": "code",
   "execution_count": 4,
   "metadata": {},
   "outputs": [
    {
     "data": {
      "image/svg+xml": [
       "<?xml version=\"1.0\" encoding=\"utf-8\"?>\n",
       "<svg xmlns=\"http://www.w3.org/2000/svg\" xmlns:xlink=\"http://www.w3.org/1999/xlink\" width=\"600\" height=\"400\" viewBox=\"0 0 600 400\">\n",
       "<defs>\n",
       "  <clipPath id=\"clip5600\">\n",
       "    <rect x=\"0\" y=\"0\" width=\"600\" height=\"400\"/>\n",
       "  </clipPath>\n",
       "</defs>\n",
       "<polygon clip-path=\"url(#clip5600)\" points=\"\n",
       "0,400 600,400 600,0 0,0 \n",
       "  \" fill=\"#ffffff\" fill-opacity=\"1\"/>\n",
       "<defs>\n",
       "  <clipPath id=\"clip5601\">\n",
       "    <rect x=\"120\" y=\"0\" width=\"421\" height=\"400\"/>\n",
       "  </clipPath>\n",
       "</defs>\n",
       "<polygon clip-path=\"url(#clip5600)\" points=\"\n",
       "47.376,360.121 580.315,360.121 580.315,31.4961 47.376,31.4961 \n",
       "  \" fill=\"#ffffff\" fill-opacity=\"1\"/>\n",
       "<defs>\n",
       "  <clipPath id=\"clip5602\">\n",
       "    <rect x=\"47\" y=\"31\" width=\"534\" height=\"330\"/>\n",
       "  </clipPath>\n",
       "</defs>\n",
       "<polyline clip-path=\"url(#clip5602)\" style=\"stroke:#000000; stroke-width:0.5; stroke-opacity:0.1; fill:none\" points=\"\n",
       "  62.4592,360.121 62.4592,31.4961 \n",
       "  \"/>\n",
       "<polyline clip-path=\"url(#clip5602)\" style=\"stroke:#000000; stroke-width:0.5; stroke-opacity:0.1; fill:none\" points=\"\n",
       "  188.152,360.121 188.152,31.4961 \n",
       "  \"/>\n",
       "<polyline clip-path=\"url(#clip5602)\" style=\"stroke:#000000; stroke-width:0.5; stroke-opacity:0.1; fill:none\" points=\"\n",
       "  313.845,360.121 313.845,31.4961 \n",
       "  \"/>\n",
       "<polyline clip-path=\"url(#clip5602)\" style=\"stroke:#000000; stroke-width:0.5; stroke-opacity:0.1; fill:none\" points=\"\n",
       "  439.539,360.121 439.539,31.4961 \n",
       "  \"/>\n",
       "<polyline clip-path=\"url(#clip5602)\" style=\"stroke:#000000; stroke-width:0.5; stroke-opacity:0.1; fill:none\" points=\"\n",
       "  565.232,360.121 565.232,31.4961 \n",
       "  \"/>\n",
       "<polyline clip-path=\"url(#clip5602)\" style=\"stroke:#000000; stroke-width:0.5; stroke-opacity:0.1; fill:none\" points=\"\n",
       "  47.376,313.617 580.315,313.617 \n",
       "  \"/>\n",
       "<polyline clip-path=\"url(#clip5602)\" style=\"stroke:#000000; stroke-width:0.5; stroke-opacity:0.1; fill:none\" points=\"\n",
       "  47.376,239.212 580.315,239.212 \n",
       "  \"/>\n",
       "<polyline clip-path=\"url(#clip5602)\" style=\"stroke:#000000; stroke-width:0.5; stroke-opacity:0.1; fill:none\" points=\"\n",
       "  47.376,164.806 580.315,164.806 \n",
       "  \"/>\n",
       "<polyline clip-path=\"url(#clip5602)\" style=\"stroke:#000000; stroke-width:0.5; stroke-opacity:0.1; fill:none\" points=\"\n",
       "  47.376,90.4005 580.315,90.4005 \n",
       "  \"/>\n",
       "<polyline clip-path=\"url(#clip5600)\" style=\"stroke:#000000; stroke-width:1; stroke-opacity:1; fill:none\" points=\"\n",
       "  47.376,360.121 580.315,360.121 \n",
       "  \"/>\n",
       "<polyline clip-path=\"url(#clip5600)\" style=\"stroke:#000000; stroke-width:1; stroke-opacity:1; fill:none\" points=\"\n",
       "  47.376,360.121 47.376,31.4961 \n",
       "  \"/>\n",
       "<polyline clip-path=\"url(#clip5600)\" style=\"stroke:#000000; stroke-width:1; stroke-opacity:1; fill:none\" points=\"\n",
       "  62.4592,360.121 62.4592,355.191 \n",
       "  \"/>\n",
       "<polyline clip-path=\"url(#clip5600)\" style=\"stroke:#000000; stroke-width:1; stroke-opacity:1; fill:none\" points=\"\n",
       "  188.152,360.121 188.152,355.191 \n",
       "  \"/>\n",
       "<polyline clip-path=\"url(#clip5600)\" style=\"stroke:#000000; stroke-width:1; stroke-opacity:1; fill:none\" points=\"\n",
       "  313.845,360.121 313.845,355.191 \n",
       "  \"/>\n",
       "<polyline clip-path=\"url(#clip5600)\" style=\"stroke:#000000; stroke-width:1; stroke-opacity:1; fill:none\" points=\"\n",
       "  439.539,360.121 439.539,355.191 \n",
       "  \"/>\n",
       "<polyline clip-path=\"url(#clip5600)\" style=\"stroke:#000000; stroke-width:1; stroke-opacity:1; fill:none\" points=\"\n",
       "  565.232,360.121 565.232,355.191 \n",
       "  \"/>\n",
       "<polyline clip-path=\"url(#clip5600)\" style=\"stroke:#000000; stroke-width:1; stroke-opacity:1; fill:none\" points=\"\n",
       "  47.376,313.617 55.3701,313.617 \n",
       "  \"/>\n",
       "<polyline clip-path=\"url(#clip5600)\" style=\"stroke:#000000; stroke-width:1; stroke-opacity:1; fill:none\" points=\"\n",
       "  47.376,239.212 55.3701,239.212 \n",
       "  \"/>\n",
       "<polyline clip-path=\"url(#clip5600)\" style=\"stroke:#000000; stroke-width:1; stroke-opacity:1; fill:none\" points=\"\n",
       "  47.376,164.806 55.3701,164.806 \n",
       "  \"/>\n",
       "<polyline clip-path=\"url(#clip5600)\" style=\"stroke:#000000; stroke-width:1; stroke-opacity:1; fill:none\" points=\"\n",
       "  47.376,90.4005 55.3701,90.4005 \n",
       "  \"/>\n",
       "<g clip-path=\"url(#clip5600)\">\n",
       "<text style=\"fill:#000000; fill-opacity:1; font-family:Arial,Helvetica Neue,Helvetica,sans-serif; font-size:12; text-anchor:middle;\" transform=\"rotate(0, 62.4592, 373.921)\" x=\"62.4592\" y=\"373.921\">0.8</text>\n",
       "</g>\n",
       "<g clip-path=\"url(#clip5600)\">\n",
       "<text style=\"fill:#000000; fill-opacity:1; font-family:Arial,Helvetica Neue,Helvetica,sans-serif; font-size:12; text-anchor:middle;\" transform=\"rotate(0, 188.152, 373.921)\" x=\"188.152\" y=\"373.921\">0.9</text>\n",
       "</g>\n",
       "<g clip-path=\"url(#clip5600)\">\n",
       "<text style=\"fill:#000000; fill-opacity:1; font-family:Arial,Helvetica Neue,Helvetica,sans-serif; font-size:12; text-anchor:middle;\" transform=\"rotate(0, 313.845, 373.921)\" x=\"313.845\" y=\"373.921\">1.0</text>\n",
       "</g>\n",
       "<g clip-path=\"url(#clip5600)\">\n",
       "<text style=\"fill:#000000; fill-opacity:1; font-family:Arial,Helvetica Neue,Helvetica,sans-serif; font-size:12; text-anchor:middle;\" transform=\"rotate(0, 439.539, 373.921)\" x=\"439.539\" y=\"373.921\">1.1</text>\n",
       "</g>\n",
       "<g clip-path=\"url(#clip5600)\">\n",
       "<text style=\"fill:#000000; fill-opacity:1; font-family:Arial,Helvetica Neue,Helvetica,sans-serif; font-size:12; text-anchor:middle;\" transform=\"rotate(0, 565.232, 373.921)\" x=\"565.232\" y=\"373.921\">1.2</text>\n",
       "</g>\n",
       "<g clip-path=\"url(#clip5600)\">\n",
       "<text style=\"fill:#000000; fill-opacity:1; font-family:Arial,Helvetica Neue,Helvetica,sans-serif; font-size:12; text-anchor:end;\" transform=\"rotate(0, 41.376, 318.117)\" x=\"41.376\" y=\"318.117\">-1.2</text>\n",
       "</g>\n",
       "<g clip-path=\"url(#clip5600)\">\n",
       "<text style=\"fill:#000000; fill-opacity:1; font-family:Arial,Helvetica Neue,Helvetica,sans-serif; font-size:12; text-anchor:end;\" transform=\"rotate(0, 41.376, 243.712)\" x=\"41.376\" y=\"243.712\">-1.1</text>\n",
       "</g>\n",
       "<g clip-path=\"url(#clip5600)\">\n",
       "<text style=\"fill:#000000; fill-opacity:1; font-family:Arial,Helvetica Neue,Helvetica,sans-serif; font-size:12; text-anchor:end;\" transform=\"rotate(0, 41.376, 169.306)\" x=\"41.376\" y=\"169.306\">-1.0</text>\n",
       "</g>\n",
       "<g clip-path=\"url(#clip5600)\">\n",
       "<text style=\"fill:#000000; fill-opacity:1; font-family:Arial,Helvetica Neue,Helvetica,sans-serif; font-size:12; text-anchor:end;\" transform=\"rotate(0, 41.376, 94.9005)\" x=\"41.376\" y=\"94.9005\">-0.9</text>\n",
       "</g>\n",
       "<g clip-path=\"url(#clip5600)\">\n",
       "<text style=\"fill:#000000; fill-opacity:1; font-family:Arial,Helvetica Neue,Helvetica,sans-serif; font-size:21; text-anchor:middle;\" transform=\"rotate(0, 313.845, 18)\" x=\"313.845\" y=\"18\">Utility function, CRRA</text>\n",
       "</g>\n",
       "<g clip-path=\"url(#clip5600)\">\n",
       "<text style=\"fill:#000000; fill-opacity:1; font-family:Arial,Helvetica Neue,Helvetica,sans-serif; font-size:16; text-anchor:middle;\" transform=\"rotate(0, 313.845, 397.6)\" x=\"313.845\" y=\"397.6\">x (wealth, consumption or portfolio return)</text>\n",
       "</g>\n",
       "<polyline clip-path=\"url(#clip5602)\" style=\"stroke:#ff0000; stroke-width:2; stroke-opacity:1; fill:none\" points=\"\n",
       "  62.4592,350.82 83.4081,331.839 104.357,313.617 125.306,296.11 146.255,279.276 167.203,263.078 188.152,247.479 209.101,232.447 230.05,217.953 250.999,203.967 \n",
       "  271.948,190.463 292.897,177.417 313.845,164.806 334.794,152.608 355.743,140.804 376.692,129.375 397.641,118.303 418.59,107.571 439.539,97.1646 460.487,87.0689 \n",
       "  481.436,77.2701 502.385,67.7553 523.334,58.5124 544.283,49.5298 565.232,40.7968 \n",
       "  \"/>\n",
       "</svg>\n"
      ]
     },
     "execution_count": 4,
     "metadata": {},
     "output_type": "execute_result"
    }
   ],
   "source": [
    "x = Compat.range(0.8,stop=1.2,length=25)\n",
    "\n",
    "plot(x,U.(x,2),color=:red,linewidth=2,legend=false)\n",
    "title!(\"Utility function, CRRA\")\n",
    "xlabel!(\"x (wealth, consumption or portfolio return)\")"
   ]
  },
  {
   "cell_type": "markdown",
   "metadata": {},
   "source": [
    "# Expected Utility"
   ]
  },
  {
   "cell_type": "markdown",
   "metadata": {},
   "source": [
    "Recall: if $\\pi_s$ is the probability of outcome $x_s$ and there are $S$ possible outcomes, then\n",
    "\n",
    "$\\text{E}U(x) = \\sum\\nolimits_{s=1}^{S} \\pi_{s}U(x_s)$"
   ]
  },
  {
   "cell_type": "code",
   "execution_count": 5,
   "metadata": {},
   "outputs": [
    {
     "data": {
      "text/plain": [
       "EU (generic function with 1 method)"
      ]
     },
     "execution_count": 5,
     "metadata": {},
     "output_type": "execute_result"
    }
   ],
   "source": [
    "EU(x,π,γ) = sum(π.*U.(x,γ))               #expected utility"
   ]
  },
  {
   "cell_type": "code",
   "execution_count": 6,
   "metadata": {},
   "outputs": [
    {
     "name": "stdout",
     "output_type": "stream",
     "text": [
      "Possible wealth levels (first row) and the corresponding utility (2nd)\n",
      "     0.850     1.150\n",
      "    -1.176    -0.870\n",
      "\n",
      "Expected wealth is:      1.000\n",
      "Expected utility:     -1.023\n"
     ]
    }
   ],
   "source": [
    "x₁ = 0.85               #possible outcomes\n",
    "x₂ = 1.15\n",
    "π₁ = 0.5                #probabilities of outcomes \n",
    "π₂ = 1 - π₁\n",
    "\n",
    "xx = [x₁      x₂     ;\n",
    "      U(x₁,2) U(x₂,2)]\n",
    "println(\"Possible wealth levels (first row) and the corresponding utility (2nd)\")\n",
    "printmat(xx)\n",
    "\n",
    "Ex = sum([π₁ π₂].*[x₁ x₂])\n",
    "printlnPs(\"Expected wealth is: \",Ex)\n",
    "\n",
    "ExpUtil = EU([x₁ x₂],[π₁ π₂],2)\n",
    "printlnPs(\"Expected utility: \",ExpUtil)"
   ]
  },
  {
   "cell_type": "code",
   "execution_count": 7,
   "metadata": {},
   "outputs": [
    {
     "data": {
      "image/svg+xml": [
       "<?xml version=\"1.0\" encoding=\"utf-8\"?>\n",
       "<svg xmlns=\"http://www.w3.org/2000/svg\" xmlns:xlink=\"http://www.w3.org/1999/xlink\" width=\"600\" height=\"400\" viewBox=\"0 0 600 400\">\n",
       "<defs>\n",
       "  <clipPath id=\"clip5800\">\n",
       "    <rect x=\"0\" y=\"0\" width=\"600\" height=\"400\"/>\n",
       "  </clipPath>\n",
       "</defs>\n",
       "<polygon clip-path=\"url(#clip5800)\" points=\"\n",
       "0,400 600,400 600,0 0,0 \n",
       "  \" fill=\"#ffffff\" fill-opacity=\"1\"/>\n",
       "<defs>\n",
       "  <clipPath id=\"clip5801\">\n",
       "    <rect x=\"120\" y=\"0\" width=\"421\" height=\"400\"/>\n",
       "  </clipPath>\n",
       "</defs>\n",
       "<polygon clip-path=\"url(#clip5800)\" points=\"\n",
       "47.376,360.121 580.315,360.121 580.315,31.4961 47.376,31.4961 \n",
       "  \" fill=\"#ffffff\" fill-opacity=\"1\"/>\n",
       "<defs>\n",
       "  <clipPath id=\"clip5802\">\n",
       "    <rect x=\"47\" y=\"31\" width=\"534\" height=\"330\"/>\n",
       "  </clipPath>\n",
       "</defs>\n",
       "<polyline clip-path=\"url(#clip5802)\" style=\"stroke:#000000; stroke-width:0.5; stroke-opacity:0.1; fill:none\" points=\"\n",
       "  47.376,360.121 47.376,31.4961 \n",
       "  \"/>\n",
       "<polyline clip-path=\"url(#clip5802)\" style=\"stroke:#000000; stroke-width:0.5; stroke-opacity:0.1; fill:none\" points=\"\n",
       "  180.611,360.121 180.611,31.4961 \n",
       "  \"/>\n",
       "<polyline clip-path=\"url(#clip5802)\" style=\"stroke:#000000; stroke-width:0.5; stroke-opacity:0.1; fill:none\" points=\"\n",
       "  313.845,360.121 313.845,31.4961 \n",
       "  \"/>\n",
       "<polyline clip-path=\"url(#clip5802)\" style=\"stroke:#000000; stroke-width:0.5; stroke-opacity:0.1; fill:none\" points=\"\n",
       "  447.08,360.121 447.08,31.4961 \n",
       "  \"/>\n",
       "<polyline clip-path=\"url(#clip5802)\" style=\"stroke:#000000; stroke-width:0.5; stroke-opacity:0.1; fill:none\" points=\"\n",
       "  47.376,360.121 580.315,360.121 \n",
       "  \"/>\n",
       "<polyline clip-path=\"url(#clip5802)\" style=\"stroke:#000000; stroke-width:0.5; stroke-opacity:0.1; fill:none\" points=\"\n",
       "  47.376,305.35 580.315,305.35 \n",
       "  \"/>\n",
       "<polyline clip-path=\"url(#clip5802)\" style=\"stroke:#000000; stroke-width:0.5; stroke-opacity:0.1; fill:none\" points=\"\n",
       "  47.376,250.579 580.315,250.579 \n",
       "  \"/>\n",
       "<polyline clip-path=\"url(#clip5802)\" style=\"stroke:#000000; stroke-width:0.5; stroke-opacity:0.1; fill:none\" points=\"\n",
       "  47.376,195.808 580.315,195.808 \n",
       "  \"/>\n",
       "<polyline clip-path=\"url(#clip5802)\" style=\"stroke:#000000; stroke-width:0.5; stroke-opacity:0.1; fill:none\" points=\"\n",
       "  47.376,141.038 580.315,141.038 \n",
       "  \"/>\n",
       "<polyline clip-path=\"url(#clip5802)\" style=\"stroke:#000000; stroke-width:0.5; stroke-opacity:0.1; fill:none\" points=\"\n",
       "  47.376,86.2668 580.315,86.2668 \n",
       "  \"/>\n",
       "<polyline clip-path=\"url(#clip5802)\" style=\"stroke:#000000; stroke-width:0.5; stroke-opacity:0.1; fill:none\" points=\"\n",
       "  47.376,31.4961 580.315,31.4961 \n",
       "  \"/>\n",
       "<polyline clip-path=\"url(#clip5800)\" style=\"stroke:#000000; stroke-width:1; stroke-opacity:1; fill:none\" points=\"\n",
       "  47.376,360.121 580.315,360.121 \n",
       "  \"/>\n",
       "<polyline clip-path=\"url(#clip5800)\" style=\"stroke:#000000; stroke-width:1; stroke-opacity:1; fill:none\" points=\"\n",
       "  47.376,360.121 47.376,31.4961 \n",
       "  \"/>\n",
       "<polyline clip-path=\"url(#clip5800)\" style=\"stroke:#000000; stroke-width:1; stroke-opacity:1; fill:none\" points=\"\n",
       "  47.376,360.121 47.376,355.191 \n",
       "  \"/>\n",
       "<polyline clip-path=\"url(#clip5800)\" style=\"stroke:#000000; stroke-width:1; stroke-opacity:1; fill:none\" points=\"\n",
       "  180.611,360.121 180.611,355.191 \n",
       "  \"/>\n",
       "<polyline clip-path=\"url(#clip5800)\" style=\"stroke:#000000; stroke-width:1; stroke-opacity:1; fill:none\" points=\"\n",
       "  313.845,360.121 313.845,355.191 \n",
       "  \"/>\n",
       "<polyline clip-path=\"url(#clip5800)\" style=\"stroke:#000000; stroke-width:1; stroke-opacity:1; fill:none\" points=\"\n",
       "  447.08,360.121 447.08,355.191 \n",
       "  \"/>\n",
       "<polyline clip-path=\"url(#clip5800)\" style=\"stroke:#000000; stroke-width:1; stroke-opacity:1; fill:none\" points=\"\n",
       "  47.376,360.121 55.3701,360.121 \n",
       "  \"/>\n",
       "<polyline clip-path=\"url(#clip5800)\" style=\"stroke:#000000; stroke-width:1; stroke-opacity:1; fill:none\" points=\"\n",
       "  47.376,305.35 55.3701,305.35 \n",
       "  \"/>\n",
       "<polyline clip-path=\"url(#clip5800)\" style=\"stroke:#000000; stroke-width:1; stroke-opacity:1; fill:none\" points=\"\n",
       "  47.376,250.579 55.3701,250.579 \n",
       "  \"/>\n",
       "<polyline clip-path=\"url(#clip5800)\" style=\"stroke:#000000; stroke-width:1; stroke-opacity:1; fill:none\" points=\"\n",
       "  47.376,195.808 55.3701,195.808 \n",
       "  \"/>\n",
       "<polyline clip-path=\"url(#clip5800)\" style=\"stroke:#000000; stroke-width:1; stroke-opacity:1; fill:none\" points=\"\n",
       "  47.376,141.038 55.3701,141.038 \n",
       "  \"/>\n",
       "<polyline clip-path=\"url(#clip5800)\" style=\"stroke:#000000; stroke-width:1; stroke-opacity:1; fill:none\" points=\"\n",
       "  47.376,86.2668 55.3701,86.2668 \n",
       "  \"/>\n",
       "<polyline clip-path=\"url(#clip5800)\" style=\"stroke:#000000; stroke-width:1; stroke-opacity:1; fill:none\" points=\"\n",
       "  47.376,31.4961 55.3701,31.4961 \n",
       "  \"/>\n",
       "<g clip-path=\"url(#clip5800)\">\n",
       "<text style=\"fill:#000000; fill-opacity:1; font-family:Arial,Helvetica Neue,Helvetica,sans-serif; font-size:12; text-anchor:middle;\" transform=\"rotate(0, 47.376, 373.921)\" x=\"47.376\" y=\"373.921\">0.8</text>\n",
       "</g>\n",
       "<g clip-path=\"url(#clip5800)\">\n",
       "<text style=\"fill:#000000; fill-opacity:1; font-family:Arial,Helvetica Neue,Helvetica,sans-serif; font-size:12; text-anchor:middle;\" transform=\"rotate(0, 180.611, 373.921)\" x=\"180.611\" y=\"373.921\">0.9</text>\n",
       "</g>\n",
       "<g clip-path=\"url(#clip5800)\">\n",
       "<text style=\"fill:#000000; fill-opacity:1; font-family:Arial,Helvetica Neue,Helvetica,sans-serif; font-size:12; text-anchor:middle;\" transform=\"rotate(0, 313.845, 373.921)\" x=\"313.845\" y=\"373.921\">1.0</text>\n",
       "</g>\n",
       "<g clip-path=\"url(#clip5800)\">\n",
       "<text style=\"fill:#000000; fill-opacity:1; font-family:Arial,Helvetica Neue,Helvetica,sans-serif; font-size:12; text-anchor:middle;\" transform=\"rotate(0, 447.08, 373.921)\" x=\"447.08\" y=\"373.921\">1.1</text>\n",
       "</g>\n",
       "<g clip-path=\"url(#clip5800)\">\n",
       "<text style=\"fill:#000000; fill-opacity:1; font-family:Arial,Helvetica Neue,Helvetica,sans-serif; font-size:12; text-anchor:end;\" transform=\"rotate(0, 41.376, 364.621)\" x=\"41.376\" y=\"364.621\">-1.3</text>\n",
       "</g>\n",
       "<g clip-path=\"url(#clip5800)\">\n",
       "<text style=\"fill:#000000; fill-opacity:1; font-family:Arial,Helvetica Neue,Helvetica,sans-serif; font-size:12; text-anchor:end;\" transform=\"rotate(0, 41.376, 309.85)\" x=\"41.376\" y=\"309.85\">-1.2</text>\n",
       "</g>\n",
       "<g clip-path=\"url(#clip5800)\">\n",
       "<text style=\"fill:#000000; fill-opacity:1; font-family:Arial,Helvetica Neue,Helvetica,sans-serif; font-size:12; text-anchor:end;\" transform=\"rotate(0, 41.376, 255.079)\" x=\"41.376\" y=\"255.079\">-1.1</text>\n",
       "</g>\n",
       "<g clip-path=\"url(#clip5800)\">\n",
       "<text style=\"fill:#000000; fill-opacity:1; font-family:Arial,Helvetica Neue,Helvetica,sans-serif; font-size:12; text-anchor:end;\" transform=\"rotate(0, 41.376, 200.308)\" x=\"41.376\" y=\"200.308\">-1.0</text>\n",
       "</g>\n",
       "<g clip-path=\"url(#clip5800)\">\n",
       "<text style=\"fill:#000000; fill-opacity:1; font-family:Arial,Helvetica Neue,Helvetica,sans-serif; font-size:12; text-anchor:end;\" transform=\"rotate(0, 41.376, 145.538)\" x=\"41.376\" y=\"145.538\">-0.9</text>\n",
       "</g>\n",
       "<g clip-path=\"url(#clip5800)\">\n",
       "<text style=\"fill:#000000; fill-opacity:1; font-family:Arial,Helvetica Neue,Helvetica,sans-serif; font-size:12; text-anchor:end;\" transform=\"rotate(0, 41.376, 90.7668)\" x=\"41.376\" y=\"90.7668\">-0.8</text>\n",
       "</g>\n",
       "<g clip-path=\"url(#clip5800)\">\n",
       "<text style=\"fill:#000000; fill-opacity:1; font-family:Arial,Helvetica Neue,Helvetica,sans-serif; font-size:12; text-anchor:end;\" transform=\"rotate(0, 41.376, 35.9961)\" x=\"41.376\" y=\"35.9961\">-0.7</text>\n",
       "</g>\n",
       "<g clip-path=\"url(#clip5800)\">\n",
       "<text style=\"fill:#000000; fill-opacity:1; font-family:Arial,Helvetica Neue,Helvetica,sans-serif; font-size:21; text-anchor:middle;\" transform=\"rotate(0, 313.845, 18)\" x=\"313.845\" y=\"18\">Utility function, CRRA</text>\n",
       "</g>\n",
       "<g clip-path=\"url(#clip5800)\">\n",
       "<text style=\"fill:#000000; fill-opacity:1; font-family:Arial,Helvetica Neue,Helvetica,sans-serif; font-size:16; text-anchor:middle;\" transform=\"rotate(0, 313.845, 397.6)\" x=\"313.845\" y=\"397.6\">x</text>\n",
       "</g>\n",
       "<polyline clip-path=\"url(#clip5802)\" style=\"stroke:#ff0000; stroke-width:2; stroke-opacity:1; fill:none\" points=\"\n",
       "  47.376,332.735 69.5818,318.763 91.7876,305.35 113.993,292.463 136.199,280.071 158.405,268.147 180.611,256.665 202.817,245.6 225.022,234.93 247.228,224.635 \n",
       "  269.434,214.695 291.64,205.092 313.845,195.808 336.051,186.83 358.257,178.14 380.463,169.727 402.669,161.577 424.874,153.677 447.08,146.017 469.286,138.585 \n",
       "  491.492,131.372 513.698,124.368 535.903,117.564 558.109,110.952 580.315,104.524 \n",
       "  \"/>\n",
       "<circle clip-path=\"url(#clip5802)\" style=\"fill:#000000; stroke:none; fill-opacity:1\" cx=\"113.993\" cy=\"292.463\" r=\"4\"/>\n",
       "<circle clip-path=\"url(#clip5802)\" style=\"fill:#008000; stroke:none; fill-opacity:1\" cx=\"113.993\" cy=\"292.463\" r=\"3\"/>\n",
       "<circle clip-path=\"url(#clip5802)\" style=\"fill:#000000; stroke:none; fill-opacity:1\" cx=\"513.698\" cy=\"124.368\" r=\"4\"/>\n",
       "<circle clip-path=\"url(#clip5802)\" style=\"fill:#008000; stroke:none; fill-opacity:1\" cx=\"513.698\" cy=\"124.368\" r=\"3\"/>\n",
       "<polygon clip-path=\"url(#clip5802)\" style=\"fill:#000000; fill-opacity:1\" points=\"\n",
       "  308.845,203.415 308.845,213.415 318.845,213.415 318.845,203.415 308.845,203.415 \n",
       "  \"/>\n",
       "<polygon clip-path=\"url(#clip5802)\" style=\"fill:#0000ff; fill-opacity:1\" points=\"\n",
       "  309.845,204.415 309.845,212.415 317.845,212.415 317.845,204.415 309.845,204.415 \n",
       "  \"/>\n",
       "<polygon clip-path=\"url(#clip5800)\" points=\"\n",
       "65.376,112.856 231.715,112.856 231.715,52.3761 65.376,52.3761 \n",
       "  \" fill=\"#ffffff\" fill-opacity=\"1\"/>\n",
       "<polyline clip-path=\"url(#clip5800)\" style=\"stroke:#000000; stroke-width:1; stroke-opacity:1; fill:none\" points=\"\n",
       "  65.376,112.856 231.715,112.856 231.715,52.3761 65.376,52.3761 65.376,112.856 \n",
       "  \"/>\n",
       "<polyline clip-path=\"url(#clip5800)\" style=\"stroke:#ff0000; stroke-width:2; stroke-opacity:1; fill:none\" points=\"\n",
       "  71.376,67.4961 107.376,67.4961 \n",
       "  \"/>\n",
       "<g clip-path=\"url(#clip5800)\">\n",
       "<text style=\"fill:#000000; fill-opacity:1; font-family:Arial,Helvetica Neue,Helvetica,sans-serif; font-size:12; text-anchor:start;\" transform=\"rotate(0, 113.376, 71.9961)\" x=\"113.376\" y=\"71.9961\">Utility fn</text>\n",
       "</g>\n",
       "<circle clip-path=\"url(#clip5800)\" style=\"fill:#000000; stroke:none; fill-opacity:1\" cx=\"92.376\" cy=\"82.6161\" r=\"6\"/>\n",
       "<circle clip-path=\"url(#clip5800)\" style=\"fill:#008000; stroke:none; fill-opacity:1\" cx=\"92.376\" cy=\"82.6161\" r=\"5\"/>\n",
       "<g clip-path=\"url(#clip5800)\">\n",
       "<text style=\"fill:#000000; fill-opacity:1; font-family:Arial,Helvetica Neue,Helvetica,sans-serif; font-size:12; text-anchor:start;\" transform=\"rotate(0, 113.376, 87.1161)\" x=\"113.376\" y=\"87.1161\">possible outcomes  </text>\n",
       "</g>\n",
       "<polygon clip-path=\"url(#clip5800)\" style=\"fill:#000000; fill-opacity:1\" points=\"\n",
       "  85.376,90.7361 85.376,104.736 99.376,104.736 99.376,90.7361 85.376,90.7361 \n",
       "  \"/>\n",
       "<polygon clip-path=\"url(#clip5800)\" style=\"fill:#0000ff; fill-opacity:1\" points=\"\n",
       "  86.376,91.7361 86.376,103.736 98.376,103.736 98.376,91.7361 86.376,91.7361 \n",
       "  \"/>\n",
       "<g clip-path=\"url(#clip5800)\">\n",
       "<text style=\"fill:#000000; fill-opacity:1; font-family:Arial,Helvetica Neue,Helvetica,sans-serif; font-size:12; text-anchor:start;\" transform=\"rotate(0, 113.376, 102.236)\" x=\"113.376\" y=\"102.236\">Expected utility </text>\n",
       "</g>\n",
       "</svg>\n"
      ]
     },
     "execution_count": 7,
     "metadata": {},
     "output_type": "execute_result"
    }
   ],
   "source": [
    "plot(x,U.(x,2),color=:red,linewidth=2,label=\"Utility fn\")\n",
    "scatter!([x₁;x₂],U.([x₁;x₂],2),color=:green,label=\"possible outcomes  \")\n",
    "scatter!([Ex],[ExpUtil],color=:blue,marker=:rect,label=\"Expected utility \")\n",
    "plot!(xlim=extrema(x),ylim=(-1.3,-0.7),legend=:topleft)\n",
    "title!(\"Utility function, CRRA\")\n",
    "xlabel!(\"x\")\n",
    "ylabel!(\"\")"
   ]
  },
  {
   "cell_type": "markdown",
   "metadata": {},
   "source": [
    "# Certainty Equivalent"
   ]
  },
  {
   "cell_type": "markdown",
   "metadata": {},
   "source": [
    "Recall: the certainty equivalent (here denoted $P$) is the sure (non-stochastic) value that solves \n",
    "\n",
    "$U(P) = \\text{E}U(x)$\n",
    "\n",
    "The code below solves for $P$ by a numerial search (actually, we could do it analytically in this case). This is applied to different values of risk aversion.\n",
    "\n",
    "Notice that the expected wealth level in this example is 1."
   ]
  },
  {
   "cell_type": "code",
   "execution_count": 8,
   "metadata": {},
   "outputs": [
    {
     "name": "stdout",
     "output_type": "stream",
     "text": [
      "risk aversion and certainly equivalent (cf. Ex = 1.0)\n",
      "     0.000     1.000\n",
      "     2.000     0.978\n",
      "     5.000     0.947\n",
      "    10.000     0.912\n",
      "    25.000     0.875\n"
     ]
    }
   ],
   "source": [
    "println(\"risk aversion and certainly equivalent (cf. Ex = $Ex)\")\n",
    "γM = [0.0001;2;5;10;25]\n",
    "for γ in γM\n",
    "    local ceq\n",
    "    ceq = find_zero(P->EU([x₁ x₂],[π₁ π₂],γ) - U(P,γ),(0.5,1.5))\n",
    "    printlnPs([γ ceq])\n",
    "end"
   ]
  },
  {
   "cell_type": "markdown",
   "metadata": {},
   "source": [
    "# Portfolio Choice with One Risky Asset"
   ]
  },
  {
   "cell_type": "markdown",
   "metadata": {},
   "source": [
    "Recall: the investor solves $\\max\\nolimits_{v}\\text{E}\\ln (1+R_{p})\\text{, with }R_{p}=vR_{1} + (1-v)R_{f}$\n",
    "\n",
    "In the example below, there are two possible outcomes for $R_{1}$ (-0.2 and 0.5) with equal probabilities.\n",
    "\n",
    "This particular problem can be solved by pen and paper, but it becomes very difficult when the number of states increase - and even worse when there are many assets. We therefore apply a numerical optimization algorithm."
   ]
  },
  {
   "cell_type": "code",
   "execution_count": 9,
   "metadata": {},
   "outputs": [
    {
     "data": {
      "text/plain": [
       "EUc"
      ]
     },
     "execution_count": 9,
     "metadata": {},
     "output_type": "execute_result"
    }
   ],
   "source": [
    "\"\"\"\n",
    "    EUc\n",
    "\n",
    "Calculate expected utility (log(Rp+1)) from investing into one risky and one riskfree asset\n",
    "\n",
    "v: scalar\n",
    "π: S vector (S possible \"states\")\n",
    "R: S vector, return of the risky asset in different states\n",
    "Rf: scalar, riskfree rate\n",
    "\"\"\"\n",
    "function EUc(v,π,Re,Rf)             #expected utility, utility fn is logarithmic\n",
    "    R  = Re .+ Rf                   \n",
    "    Rp = v*R .+ (1-v)*Rf            #portfolio return\n",
    "    EU = sum(π .* log.(1.0.+Rp))    #expected utility\n",
    "    return EU\n",
    "end"
   ]
  },
  {
   "cell_type": "code",
   "execution_count": 10,
   "metadata": {},
   "outputs": [],
   "source": [
    "v = Compat.range(-1,stop=1,length=101)    #try different weights on risky asset\n",
    "L = length(v)\n",
    "EUv = fill(NaN,L)\n",
    "for i = 1:L\n",
    "    EUv[i] = EUc(v[i],[0.5;0.5],[-0.3;0.4],0.1)\n",
    "end"
   ]
  },
  {
   "cell_type": "code",
   "execution_count": 11,
   "metadata": {},
   "outputs": [
    {
     "data": {
      "image/svg+xml": [
       "<?xml version=\"1.0\" encoding=\"utf-8\"?>\n",
       "<svg xmlns=\"http://www.w3.org/2000/svg\" xmlns:xlink=\"http://www.w3.org/1999/xlink\" width=\"600\" height=\"400\" viewBox=\"0 0 600 400\">\n",
       "<defs>\n",
       "  <clipPath id=\"clip6000\">\n",
       "    <rect x=\"0\" y=\"0\" width=\"600\" height=\"400\"/>\n",
       "  </clipPath>\n",
       "</defs>\n",
       "<polygon clip-path=\"url(#clip6000)\" points=\"\n",
       "0,400 600,400 600,0 0,0 \n",
       "  \" fill=\"#ffffff\" fill-opacity=\"1\"/>\n",
       "<defs>\n",
       "  <clipPath id=\"clip6001\">\n",
       "    <rect x=\"120\" y=\"0\" width=\"421\" height=\"400\"/>\n",
       "  </clipPath>\n",
       "</defs>\n",
       "<polygon clip-path=\"url(#clip6000)\" points=\"\n",
       "53.7297,360.121 580.315,360.121 580.315,31.4961 53.7297,31.4961 \n",
       "  \" fill=\"#ffffff\" fill-opacity=\"1\"/>\n",
       "<defs>\n",
       "  <clipPath id=\"clip6002\">\n",
       "    <rect x=\"53\" y=\"31\" width=\"528\" height=\"330\"/>\n",
       "  </clipPath>\n",
       "</defs>\n",
       "<polyline clip-path=\"url(#clip6002)\" style=\"stroke:#000000; stroke-width:0.5; stroke-opacity:0.1; fill:none\" points=\"\n",
       "  68.633,360.121 68.633,31.4961 \n",
       "  \"/>\n",
       "<polyline clip-path=\"url(#clip6002)\" style=\"stroke:#000000; stroke-width:0.5; stroke-opacity:0.1; fill:none\" points=\"\n",
       "  192.828,360.121 192.828,31.4961 \n",
       "  \"/>\n",
       "<polyline clip-path=\"url(#clip6002)\" style=\"stroke:#000000; stroke-width:0.5; stroke-opacity:0.1; fill:none\" points=\"\n",
       "  317.022,360.121 317.022,31.4961 \n",
       "  \"/>\n",
       "<polyline clip-path=\"url(#clip6002)\" style=\"stroke:#000000; stroke-width:0.5; stroke-opacity:0.1; fill:none\" points=\"\n",
       "  441.217,360.121 441.217,31.4961 \n",
       "  \"/>\n",
       "<polyline clip-path=\"url(#clip6002)\" style=\"stroke:#000000; stroke-width:0.5; stroke-opacity:0.1; fill:none\" points=\"\n",
       "  565.412,360.121 565.412,31.4961 \n",
       "  \"/>\n",
       "<polyline clip-path=\"url(#clip6002)\" style=\"stroke:#000000; stroke-width:0.5; stroke-opacity:0.1; fill:none\" points=\"\n",
       "  53.7297,323.758 580.315,323.758 \n",
       "  \"/>\n",
       "<polyline clip-path=\"url(#clip6002)\" style=\"stroke:#000000; stroke-width:0.5; stroke-opacity:0.1; fill:none\" points=\"\n",
       "  53.7297,256.781 580.315,256.781 \n",
       "  \"/>\n",
       "<polyline clip-path=\"url(#clip6002)\" style=\"stroke:#000000; stroke-width:0.5; stroke-opacity:0.1; fill:none\" points=\"\n",
       "  53.7297,189.805 580.315,189.805 \n",
       "  \"/>\n",
       "<polyline clip-path=\"url(#clip6002)\" style=\"stroke:#000000; stroke-width:0.5; stroke-opacity:0.1; fill:none\" points=\"\n",
       "  53.7297,122.829 580.315,122.829 \n",
       "  \"/>\n",
       "<polyline clip-path=\"url(#clip6002)\" style=\"stroke:#000000; stroke-width:0.5; stroke-opacity:0.1; fill:none\" points=\"\n",
       "  53.7297,55.8522 580.315,55.8522 \n",
       "  \"/>\n",
       "<polyline clip-path=\"url(#clip6000)\" style=\"stroke:#000000; stroke-width:1; stroke-opacity:1; fill:none\" points=\"\n",
       "  53.7297,360.121 580.315,360.121 \n",
       "  \"/>\n",
       "<polyline clip-path=\"url(#clip6000)\" style=\"stroke:#000000; stroke-width:1; stroke-opacity:1; fill:none\" points=\"\n",
       "  53.7297,360.121 53.7297,31.4961 \n",
       "  \"/>\n",
       "<polyline clip-path=\"url(#clip6000)\" style=\"stroke:#000000; stroke-width:1; stroke-opacity:1; fill:none\" points=\"\n",
       "  68.633,360.121 68.633,355.191 \n",
       "  \"/>\n",
       "<polyline clip-path=\"url(#clip6000)\" style=\"stroke:#000000; stroke-width:1; stroke-opacity:1; fill:none\" points=\"\n",
       "  192.828,360.121 192.828,355.191 \n",
       "  \"/>\n",
       "<polyline clip-path=\"url(#clip6000)\" style=\"stroke:#000000; stroke-width:1; stroke-opacity:1; fill:none\" points=\"\n",
       "  317.022,360.121 317.022,355.191 \n",
       "  \"/>\n",
       "<polyline clip-path=\"url(#clip6000)\" style=\"stroke:#000000; stroke-width:1; stroke-opacity:1; fill:none\" points=\"\n",
       "  441.217,360.121 441.217,355.191 \n",
       "  \"/>\n",
       "<polyline clip-path=\"url(#clip6000)\" style=\"stroke:#000000; stroke-width:1; stroke-opacity:1; fill:none\" points=\"\n",
       "  565.412,360.121 565.412,355.191 \n",
       "  \"/>\n",
       "<polyline clip-path=\"url(#clip6000)\" style=\"stroke:#000000; stroke-width:1; stroke-opacity:1; fill:none\" points=\"\n",
       "  53.7297,323.758 61.6285,323.758 \n",
       "  \"/>\n",
       "<polyline clip-path=\"url(#clip6000)\" style=\"stroke:#000000; stroke-width:1; stroke-opacity:1; fill:none\" points=\"\n",
       "  53.7297,256.781 61.6285,256.781 \n",
       "  \"/>\n",
       "<polyline clip-path=\"url(#clip6000)\" style=\"stroke:#000000; stroke-width:1; stroke-opacity:1; fill:none\" points=\"\n",
       "  53.7297,189.805 61.6285,189.805 \n",
       "  \"/>\n",
       "<polyline clip-path=\"url(#clip6000)\" style=\"stroke:#000000; stroke-width:1; stroke-opacity:1; fill:none\" points=\"\n",
       "  53.7297,122.829 61.6285,122.829 \n",
       "  \"/>\n",
       "<polyline clip-path=\"url(#clip6000)\" style=\"stroke:#000000; stroke-width:1; stroke-opacity:1; fill:none\" points=\"\n",
       "  53.7297,55.8522 61.6285,55.8522 \n",
       "  \"/>\n",
       "<g clip-path=\"url(#clip6000)\">\n",
       "<text style=\"fill:#000000; fill-opacity:1; font-family:Arial,Helvetica Neue,Helvetica,sans-serif; font-size:12; text-anchor:middle;\" transform=\"rotate(0, 68.633, 373.921)\" x=\"68.633\" y=\"373.921\">-1.0</text>\n",
       "</g>\n",
       "<g clip-path=\"url(#clip6000)\">\n",
       "<text style=\"fill:#000000; fill-opacity:1; font-family:Arial,Helvetica Neue,Helvetica,sans-serif; font-size:12; text-anchor:middle;\" transform=\"rotate(0, 192.828, 373.921)\" x=\"192.828\" y=\"373.921\">-0.5</text>\n",
       "</g>\n",
       "<g clip-path=\"url(#clip6000)\">\n",
       "<text style=\"fill:#000000; fill-opacity:1; font-family:Arial,Helvetica Neue,Helvetica,sans-serif; font-size:12; text-anchor:middle;\" transform=\"rotate(0, 317.022, 373.921)\" x=\"317.022\" y=\"373.921\">0.0</text>\n",
       "</g>\n",
       "<g clip-path=\"url(#clip6000)\">\n",
       "<text style=\"fill:#000000; fill-opacity:1; font-family:Arial,Helvetica Neue,Helvetica,sans-serif; font-size:12; text-anchor:middle;\" transform=\"rotate(0, 441.217, 373.921)\" x=\"441.217\" y=\"373.921\">0.5</text>\n",
       "</g>\n",
       "<g clip-path=\"url(#clip6000)\">\n",
       "<text style=\"fill:#000000; fill-opacity:1; font-family:Arial,Helvetica Neue,Helvetica,sans-serif; font-size:12; text-anchor:middle;\" transform=\"rotate(0, 565.412, 373.921)\" x=\"565.412\" y=\"373.921\">1.0</text>\n",
       "</g>\n",
       "<g clip-path=\"url(#clip6000)\">\n",
       "<text style=\"fill:#000000; fill-opacity:1; font-family:Arial,Helvetica Neue,Helvetica,sans-serif; font-size:12; text-anchor:end;\" transform=\"rotate(0, 47.7297, 328.258)\" x=\"47.7297\" y=\"328.258\">0.000</text>\n",
       "</g>\n",
       "<g clip-path=\"url(#clip6000)\">\n",
       "<text style=\"fill:#000000; fill-opacity:1; font-family:Arial,Helvetica Neue,Helvetica,sans-serif; font-size:12; text-anchor:end;\" transform=\"rotate(0, 47.7297, 261.281)\" x=\"47.7297\" y=\"261.281\">0.025</text>\n",
       "</g>\n",
       "<g clip-path=\"url(#clip6000)\">\n",
       "<text style=\"fill:#000000; fill-opacity:1; font-family:Arial,Helvetica Neue,Helvetica,sans-serif; font-size:12; text-anchor:end;\" transform=\"rotate(0, 47.7297, 194.305)\" x=\"47.7297\" y=\"194.305\">0.050</text>\n",
       "</g>\n",
       "<g clip-path=\"url(#clip6000)\">\n",
       "<text style=\"fill:#000000; fill-opacity:1; font-family:Arial,Helvetica Neue,Helvetica,sans-serif; font-size:12; text-anchor:end;\" transform=\"rotate(0, 47.7297, 127.329)\" x=\"47.7297\" y=\"127.329\">0.075</text>\n",
       "</g>\n",
       "<g clip-path=\"url(#clip6000)\">\n",
       "<text style=\"fill:#000000; fill-opacity:1; font-family:Arial,Helvetica Neue,Helvetica,sans-serif; font-size:12; text-anchor:end;\" transform=\"rotate(0, 47.7297, 60.3522)\" x=\"47.7297\" y=\"60.3522\">0.100</text>\n",
       "</g>\n",
       "<g clip-path=\"url(#clip6000)\">\n",
       "<text style=\"fill:#000000; fill-opacity:1; font-family:Arial,Helvetica Neue,Helvetica,sans-serif; font-size:21; text-anchor:middle;\" transform=\"rotate(0, 317.022, 18)\" x=\"317.022\" y=\"18\">Expected utility. Where is the optimum?</text>\n",
       "</g>\n",
       "<g clip-path=\"url(#clip6000)\">\n",
       "<text style=\"fill:#000000; fill-opacity:1; font-family:Arial,Helvetica Neue,Helvetica,sans-serif; font-size:16; text-anchor:middle;\" transform=\"rotate(0, 317.022, 397.6)\" x=\"317.022\" y=\"397.6\">weight (v) on risky asset</text>\n",
       "</g>\n",
       "<polyline clip-path=\"url(#clip6002)\" style=\"stroke:#ff0000; stroke-width:2; stroke-opacity:1; fill:none\" points=\"\n",
       "  68.633,350.82 73.6008,341.351 78.5686,332.078 83.5364,322.997 88.5042,314.105 93.472,305.399 98.4398,296.875 103.408,288.529 108.375,280.361 113.343,272.365 \n",
       "  118.311,264.54 123.279,256.882 128.246,249.39 133.214,242.06 138.182,234.891 143.15,227.88 148.118,221.024 153.085,214.321 158.053,207.77 163.021,201.368 \n",
       "  167.989,195.113 172.957,189.004 177.924,183.038 182.892,177.214 187.86,171.53 192.828,165.984 197.795,160.575 202.763,155.301 207.731,150.161 212.699,145.153 \n",
       "  217.667,140.275 222.634,135.527 227.602,130.908 232.57,126.415 237.538,122.047 242.506,117.805 247.473,113.685 252.441,109.688 257.409,105.812 262.377,102.056 \n",
       "  267.344,98.4189 272.312,94.9004 277.28,91.4992 282.248,88.2144 287.216,85.0453 292.183,81.991 297.151,79.0509 302.119,76.224 307.087,73.5097 312.055,70.9075 \n",
       "  317.022,68.4165 321.99,66.0363 326.958,63.7661 331.926,61.6056 336.893,59.5541 341.861,57.6111 346.829,55.7763 351.797,54.0491 356.765,52.4291 361.732,50.916 \n",
       "  366.7,49.5094 371.668,48.2089 376.636,47.0143 381.604,45.9252 386.571,44.9414 391.539,44.0628 396.507,43.289 401.475,42.6199 406.442,42.0553 411.41,41.5952 \n",
       "  416.378,41.2393 421.346,40.9876 426.314,40.8401 431.281,40.7968 436.249,40.8575 441.217,41.0223 446.185,41.2914 451.153,41.6646 456.12,42.1422 461.088,42.7241 \n",
       "  466.056,43.4107 471.024,44.2019 475.991,45.0981 480.959,46.0994 485.927,47.206 490.895,48.4183 495.863,49.7364 500.83,51.1608 505.798,52.6917 510.766,54.3295 \n",
       "  515.734,56.0746 520.702,57.9274 525.669,59.8885 530.637,61.9581 535.605,64.1369 540.573,66.4253 545.54,68.824 550.508,71.3334 555.476,73.9543 560.444,76.6873 \n",
       "  565.412,79.533 \n",
       "  \"/>\n",
       "</svg>\n"
      ]
     },
     "execution_count": 11,
     "metadata": {},
     "output_type": "execute_result"
    }
   ],
   "source": [
    "plot(v,EUv,color=:red,linewidth=2,legend=false)\n",
    "title!(\"Expected utility. Where is the optimum?\")\n",
    "xlabel!(\"weight (v) on risky asset\")"
   ]
  },
  {
   "cell_type": "code",
   "execution_count": 12,
   "metadata": {},
   "outputs": [
    {
     "name": "stdout",
     "output_type": "stream",
     "text": [
      "argmin -EUc():      0.458\n",
      "Compare with the figure\n"
     ]
    }
   ],
   "source": [
    "#minimize -EU()\n",
    "Sol = optimize(v-> -EUc(v,[0.5;0.5],[-0.3;0.4],0.1),-1,1)   #try v values between -1 and 1\n",
    "printlnPs(\"argmin -EUc(): \",Optim.minimizer(Sol))\n",
    "\n",
    "println(\"Compare with the figure\")"
   ]
  },
  {
   "cell_type": "markdown",
   "metadata": {},
   "source": [
    "# Portfolio Choice with Several Risky Assets"
   ]
  },
  {
   "cell_type": "markdown",
   "metadata": {},
   "source": [
    "This optimization problem has two risky assets and a general CRRA utility function. Numerical optimization is still easy."
   ]
  },
  {
   "cell_type": "code",
   "execution_count": 13,
   "metadata": {},
   "outputs": [
    {
     "data": {
      "text/plain": [
       "EUe"
      ]
     },
     "execution_count": 13,
     "metadata": {},
     "output_type": "execute_result"
    }
   ],
   "source": [
    "\"\"\"\n",
    "    EUe\n",
    "\n",
    "Calculate expected utility from investing into n risky assets and one riskfree asset\n",
    "\n",
    "v:  n vector (weights on the n risky assets)\n",
    "π:  S vector (S possible \"states\")\n",
    "R:  nxS matrix, each column is the n vector of returns in one of the states\n",
    "Rf: scalar, riskfree rate\n",
    "γ:  scalar, risk aversion\n",
    "\"\"\"\n",
    "function EUe(v,π,R,Rf,γ)                \n",
    "    Rp = v'R .+ (1-sum(v))*Rf           #portfolio return, row vector (different states)\n",
    "    Rp = vec(Rp)                        #turn Rp into a vector\n",
    "    EUNeg = -EU(1.0.+Rp,π,γ)            #since optimize() minimizes\n",
    "    return EUNeg\n",
    "end"
   ]
  },
  {
   "cell_type": "code",
   "execution_count": 14,
   "metadata": {},
   "outputs": [
    {
     "name": "stdout",
     "output_type": "stream",
     "text": [
      "optimal weights from max EUe():     -0.726     1.317\n"
     ]
    }
   ],
   "source": [
    "ROutComes = [-0.03 0.08 0.20;           #2 assets, 3 states\n",
    "             -0.04 0.22 0.15]           #cell[i,j] is asset i in state j\n",
    "π = [1/3;1/3;1/3]\n",
    "Rf = 0.065\n",
    "Sol = optimize(v->EUe(v,π,ROutComes,Rf,5),[-0.6;1.2])         \n",
    "printlnPs(\"optimal weights from max EUe(): \",Optim.minimizer(Sol))"
   ]
  },
  {
   "cell_type": "markdown",
   "metadata": {},
   "source": [
    "# From Chapter on Mean-Variance Analysis"
   ]
  },
  {
   "cell_type": "code",
   "execution_count": 15,
   "metadata": {},
   "outputs": [
    {
     "data": {
      "text/plain": [
       "MVCalcRf (generic function with 1 method)"
      ]
     },
     "execution_count": 15,
     "metadata": {},
     "output_type": "execute_result"
    }
   ],
   "source": [
    "function MVCalc(mustar,μ,Σ)           #calculates the std of a portfolio on MVF of risky assets\n",
    "    n    = length(μ)\n",
    "    oneV = ones(n) \n",
    "    Σ_1  = inv(Σ)\n",
    "    A    = μ'Σ_1*μ\n",
    "    B    = μ'Σ_1*oneV\n",
    "    C    = oneV'Σ_1*oneV\n",
    "    λ    = (C*mustar - B)/(A*C-B^2)\n",
    "    δ    = (A-B*mustar)/(A*C-B^2)\n",
    "    w    = Σ_1 *(μ*λ + oneV*δ)\n",
    "    StdRp = sqrt(w'Σ*w)\n",
    "    return StdRp,w\n",
    "end\n",
    "\n",
    "function MVCalcRf(mustar,μ,Σ,Rf)           #calculates the std of a portfolio on MVF\n",
    "    n   = length(μ)\n",
    "    μe  = μ .- Rf                          #excess returns            \n",
    "    Σ_1 = inv(Σ)\n",
    "    w   = (mustar-Rf)/(μe'Σ_1*μe) * Σ_1*μe\n",
    "    StdRp = sqrt(w'Σ*w)\n",
    "    return StdRp,w\n",
    "end"
   ]
  },
  {
   "cell_type": "markdown",
   "metadata": {},
   "source": [
    "# Mean-Variance and the Telser Criterion"
   ]
  },
  {
   "cell_type": "markdown",
   "metadata": {},
   "source": [
    "Let $\\mu$ be a vector of expected returns and $\\Sigma$ be the covariance matrix of the investible asssets.\n",
    "\n",
    "The Telser criterion solves the problem\n",
    "\n",
    "$\\max_{v} \\mu_{p} \\> \\text{ subject to} \\>  \\text{VaR}_{95\\%} < 0.1$,\n",
    "\n",
    "where $\\mu_{p} = v'\\mu+(1-v)R_f$ is the expected portfolio return.\n",
    "\n",
    "If the returns are normally distributed then \n",
    "\n",
    "$\\text{VaR}_{95\\%} = -(\\mu_p - 1.64\\sigma_p)$,\n",
    "\n",
    "where $\\sigma_p = \\sqrt{v'\\Sigma v}$ is the standard deviation of the portfolio return.\n",
    "\n",
    "The figure below illustrates that the optimal portfolio is on the CLM (when the returns are normally distributed)"
   ]
  },
  {
   "cell_type": "code",
   "execution_count": 16,
   "metadata": {},
   "outputs": [
    {
     "name": "stdout",
     "output_type": "stream",
     "text": [
      "\n"
     ]
    }
   ],
   "source": [
    "μ = [9; 6]/100                     #means\n",
    "Σ = [ 256  0;\n",
    "      0    144]/10000\n",
    "Rf = 1/100\n",
    "\n",
    "mustar  = Compat.range(Rf,stop=0.1,length=101)\n",
    "L       = length(mustar)\n",
    "StdRp   = fill(NaN,L)\n",
    "StdRpRf = fill(NaN,L)\n",
    "for i = 1:L\n",
    "    StdRp[i]   = MVCalc(mustar[i],μ,Σ)[1]\n",
    "    StdRpRf[i] = MVCalcRf(mustar[i],μ,Σ,Rf)[1]\n",
    "end   \n",
    "\n",
    "VaRRestr = -0.1 .+ 1.64*StdRpRf\n",
    "\n",
    "println()"
   ]
  },
  {
   "cell_type": "code",
   "execution_count": 17,
   "metadata": {
    "scrolled": true
   },
   "outputs": [
    {
     "data": {
      "image/svg+xml": [
       "<?xml version=\"1.0\" encoding=\"utf-8\"?>\n",
       "<svg xmlns=\"http://www.w3.org/2000/svg\" xmlns:xlink=\"http://www.w3.org/1999/xlink\" width=\"600\" height=\"400\" viewBox=\"0 0 600 400\">\n",
       "<defs>\n",
       "  <clipPath id=\"clip6200\">\n",
       "    <rect x=\"0\" y=\"0\" width=\"600\" height=\"400\"/>\n",
       "  </clipPath>\n",
       "</defs>\n",
       "<polygon clip-path=\"url(#clip6200)\" points=\"\n",
       "0,400 600,400 600,0 0,0 \n",
       "  \" fill=\"#ffffff\" fill-opacity=\"1\"/>\n",
       "<defs>\n",
       "  <clipPath id=\"clip6201\">\n",
       "    <rect x=\"120\" y=\"0\" width=\"421\" height=\"400\"/>\n",
       "  </clipPath>\n",
       "</defs>\n",
       "<polygon clip-path=\"url(#clip6200)\" points=\"\n",
       "52.7512,360.121 580.315,360.121 580.315,31.4961 52.7512,31.4961 \n",
       "  \" fill=\"#ffffff\" fill-opacity=\"1\"/>\n",
       "<defs>\n",
       "  <clipPath id=\"clip6202\">\n",
       "    <rect x=\"52\" y=\"31\" width=\"529\" height=\"330\"/>\n",
       "  </clipPath>\n",
       "</defs>\n",
       "<polyline clip-path=\"url(#clip6202)\" style=\"stroke:#000000; stroke-width:0.5; stroke-opacity:0.1; fill:none\" points=\"\n",
       "  52.7512,360.121 52.7512,31.4961 \n",
       "  \"/>\n",
       "<polyline clip-path=\"url(#clip6202)\" style=\"stroke:#000000; stroke-width:0.5; stroke-opacity:0.1; fill:none\" points=\"\n",
       "  228.606,360.121 228.606,31.4961 \n",
       "  \"/>\n",
       "<polyline clip-path=\"url(#clip6202)\" style=\"stroke:#000000; stroke-width:0.5; stroke-opacity:0.1; fill:none\" points=\"\n",
       "  404.46,360.121 404.46,31.4961 \n",
       "  \"/>\n",
       "<polyline clip-path=\"url(#clip6202)\" style=\"stroke:#000000; stroke-width:0.5; stroke-opacity:0.1; fill:none\" points=\"\n",
       "  580.315,360.121 580.315,31.4961 \n",
       "  \"/>\n",
       "<polyline clip-path=\"url(#clip6202)\" style=\"stroke:#000000; stroke-width:0.5; stroke-opacity:0.1; fill:none\" points=\"\n",
       "  52.7512,360.121 580.315,360.121 \n",
       "  \"/>\n",
       "<polyline clip-path=\"url(#clip6202)\" style=\"stroke:#000000; stroke-width:0.5; stroke-opacity:0.1; fill:none\" points=\"\n",
       "  52.7512,294.396 580.315,294.396 \n",
       "  \"/>\n",
       "<polyline clip-path=\"url(#clip6202)\" style=\"stroke:#000000; stroke-width:0.5; stroke-opacity:0.1; fill:none\" points=\"\n",
       "  52.7512,228.671 580.315,228.671 \n",
       "  \"/>\n",
       "<polyline clip-path=\"url(#clip6202)\" style=\"stroke:#000000; stroke-width:0.5; stroke-opacity:0.1; fill:none\" points=\"\n",
       "  52.7512,162.946 580.315,162.946 \n",
       "  \"/>\n",
       "<polyline clip-path=\"url(#clip6202)\" style=\"stroke:#000000; stroke-width:0.5; stroke-opacity:0.1; fill:none\" points=\"\n",
       "  52.7512,97.221 580.315,97.221 \n",
       "  \"/>\n",
       "<polyline clip-path=\"url(#clip6202)\" style=\"stroke:#000000; stroke-width:0.5; stroke-opacity:0.1; fill:none\" points=\"\n",
       "  52.7512,31.4961 580.315,31.4961 \n",
       "  \"/>\n",
       "<polyline clip-path=\"url(#clip6200)\" style=\"stroke:#000000; stroke-width:1; stroke-opacity:1; fill:none\" points=\"\n",
       "  52.7512,360.121 580.315,360.121 \n",
       "  \"/>\n",
       "<polyline clip-path=\"url(#clip6200)\" style=\"stroke:#000000; stroke-width:1; stroke-opacity:1; fill:none\" points=\"\n",
       "  52.7512,360.121 52.7512,31.4961 \n",
       "  \"/>\n",
       "<polyline clip-path=\"url(#clip6200)\" style=\"stroke:#000000; stroke-width:1; stroke-opacity:1; fill:none\" points=\"\n",
       "  52.7512,360.121 52.7512,355.191 \n",
       "  \"/>\n",
       "<polyline clip-path=\"url(#clip6200)\" style=\"stroke:#000000; stroke-width:1; stroke-opacity:1; fill:none\" points=\"\n",
       "  228.606,360.121 228.606,355.191 \n",
       "  \"/>\n",
       "<polyline clip-path=\"url(#clip6200)\" style=\"stroke:#000000; stroke-width:1; stroke-opacity:1; fill:none\" points=\"\n",
       "  404.46,360.121 404.46,355.191 \n",
       "  \"/>\n",
       "<polyline clip-path=\"url(#clip6200)\" style=\"stroke:#000000; stroke-width:1; stroke-opacity:1; fill:none\" points=\"\n",
       "  580.315,360.121 580.315,355.191 \n",
       "  \"/>\n",
       "<polyline clip-path=\"url(#clip6200)\" style=\"stroke:#000000; stroke-width:1; stroke-opacity:1; fill:none\" points=\"\n",
       "  52.7512,360.121 60.6647,360.121 \n",
       "  \"/>\n",
       "<polyline clip-path=\"url(#clip6200)\" style=\"stroke:#000000; stroke-width:1; stroke-opacity:1; fill:none\" points=\"\n",
       "  52.7512,294.396 60.6647,294.396 \n",
       "  \"/>\n",
       "<polyline clip-path=\"url(#clip6200)\" style=\"stroke:#000000; stroke-width:1; stroke-opacity:1; fill:none\" points=\"\n",
       "  52.7512,228.671 60.6647,228.671 \n",
       "  \"/>\n",
       "<polyline clip-path=\"url(#clip6200)\" style=\"stroke:#000000; stroke-width:1; stroke-opacity:1; fill:none\" points=\"\n",
       "  52.7512,162.946 60.6647,162.946 \n",
       "  \"/>\n",
       "<polyline clip-path=\"url(#clip6200)\" style=\"stroke:#000000; stroke-width:1; stroke-opacity:1; fill:none\" points=\"\n",
       "  52.7512,97.221 60.6647,97.221 \n",
       "  \"/>\n",
       "<polyline clip-path=\"url(#clip6200)\" style=\"stroke:#000000; stroke-width:1; stroke-opacity:1; fill:none\" points=\"\n",
       "  52.7512,31.4961 60.6647,31.4961 \n",
       "  \"/>\n",
       "<g clip-path=\"url(#clip6200)\">\n",
       "<text style=\"fill:#000000; fill-opacity:1; font-family:Arial,Helvetica Neue,Helvetica,sans-serif; font-size:12; text-anchor:middle;\" transform=\"rotate(0, 52.7512, 373.921)\" x=\"52.7512\" y=\"373.921\">0</text>\n",
       "</g>\n",
       "<g clip-path=\"url(#clip6200)\">\n",
       "<text style=\"fill:#000000; fill-opacity:1; font-family:Arial,Helvetica Neue,Helvetica,sans-serif; font-size:12; text-anchor:middle;\" transform=\"rotate(0, 228.606, 373.921)\" x=\"228.606\" y=\"373.921\">5</text>\n",
       "</g>\n",
       "<g clip-path=\"url(#clip6200)\">\n",
       "<text style=\"fill:#000000; fill-opacity:1; font-family:Arial,Helvetica Neue,Helvetica,sans-serif; font-size:12; text-anchor:middle;\" transform=\"rotate(0, 404.46, 373.921)\" x=\"404.46\" y=\"373.921\">10</text>\n",
       "</g>\n",
       "<g clip-path=\"url(#clip6200)\">\n",
       "<text style=\"fill:#000000; fill-opacity:1; font-family:Arial,Helvetica Neue,Helvetica,sans-serif; font-size:12; text-anchor:middle;\" transform=\"rotate(0, 580.315, 373.921)\" x=\"580.315\" y=\"373.921\">15</text>\n",
       "</g>\n",
       "<g clip-path=\"url(#clip6200)\">\n",
       "<text style=\"fill:#000000; fill-opacity:1; font-family:Arial,Helvetica Neue,Helvetica,sans-serif; font-size:12; text-anchor:end;\" transform=\"rotate(0, 46.7512, 364.621)\" x=\"46.7512\" y=\"364.621\">0</text>\n",
       "</g>\n",
       "<g clip-path=\"url(#clip6200)\">\n",
       "<text style=\"fill:#000000; fill-opacity:1; font-family:Arial,Helvetica Neue,Helvetica,sans-serif; font-size:12; text-anchor:end;\" transform=\"rotate(0, 46.7512, 298.896)\" x=\"46.7512\" y=\"298.896\">2</text>\n",
       "</g>\n",
       "<g clip-path=\"url(#clip6200)\">\n",
       "<text style=\"fill:#000000; fill-opacity:1; font-family:Arial,Helvetica Neue,Helvetica,sans-serif; font-size:12; text-anchor:end;\" transform=\"rotate(0, 46.7512, 233.171)\" x=\"46.7512\" y=\"233.171\">4</text>\n",
       "</g>\n",
       "<g clip-path=\"url(#clip6200)\">\n",
       "<text style=\"fill:#000000; fill-opacity:1; font-family:Arial,Helvetica Neue,Helvetica,sans-serif; font-size:12; text-anchor:end;\" transform=\"rotate(0, 46.7512, 167.446)\" x=\"46.7512\" y=\"167.446\">6</text>\n",
       "</g>\n",
       "<g clip-path=\"url(#clip6200)\">\n",
       "<text style=\"fill:#000000; fill-opacity:1; font-family:Arial,Helvetica Neue,Helvetica,sans-serif; font-size:12; text-anchor:end;\" transform=\"rotate(0, 46.7512, 101.721)\" x=\"46.7512\" y=\"101.721\">8</text>\n",
       "</g>\n",
       "<g clip-path=\"url(#clip6200)\">\n",
       "<text style=\"fill:#000000; fill-opacity:1; font-family:Arial,Helvetica Neue,Helvetica,sans-serif; font-size:12; text-anchor:end;\" transform=\"rotate(0, 46.7512, 35.9961)\" x=\"46.7512\" y=\"35.9961\">10</text>\n",
       "</g>\n",
       "<g clip-path=\"url(#clip6200)\">\n",
       "<text style=\"fill:#000000; fill-opacity:1; font-family:Arial,Helvetica Neue,Helvetica,sans-serif; font-size:21; text-anchor:middle;\" transform=\"rotate(0, 316.533, 18)\" x=\"316.533\" y=\"18\">Mean vs standard deviation (with Rf)</text>\n",
       "</g>\n",
       "<g clip-path=\"url(#clip6200)\">\n",
       "<text style=\"fill:#000000; fill-opacity:1; font-family:Arial,Helvetica Neue,Helvetica,sans-serif; font-size:16; text-anchor:middle;\" transform=\"rotate(0, 316.533, 397.6)\" x=\"316.533\" y=\"397.6\">Std(Rp), %</text>\n",
       "</g>\n",
       "<g clip-path=\"url(#clip6200)\">\n",
       "<text style=\"fill:#000000; fill-opacity:1; font-family:Arial,Helvetica Neue,Helvetica,sans-serif; font-size:16; text-anchor:middle;\" transform=\"rotate(-90, 14.4, 195.808)\" x=\"14.4\" y=\"195.808\">ERp, %</text>\n",
       "</g>\n",
       "<polyline clip-path=\"url(#clip6202)\" style=\"stroke:#ff0000; stroke-width:2; stroke-opacity:1; fill:none\" points=\"\n",
       "  52.7512,327.258 57.6147,324.301 62.4781,321.343 67.3415,318.385 72.205,315.428 77.0684,312.47 81.9318,309.512 86.7952,306.555 91.6587,303.597 96.5221,300.64 \n",
       "  101.386,297.682 106.249,294.724 111.112,291.767 115.976,288.809 120.839,285.851 125.703,282.894 130.566,279.936 135.43,276.979 140.293,274.021 145.156,271.063 \n",
       "  150.02,268.106 154.883,265.148 159.747,262.191 164.61,259.233 169.474,256.275 174.337,253.318 179.2,250.36 184.064,247.402 188.927,244.445 193.791,241.487 \n",
       "  198.654,238.53 203.518,235.572 208.381,232.614 213.244,229.657 218.108,226.699 222.971,223.741 227.835,220.784 232.698,217.826 237.562,214.869 242.425,211.911 \n",
       "  247.288,208.953 252.152,205.996 257.015,203.038 261.879,200.08 266.742,197.123 271.606,194.165 276.469,191.208 281.332,188.25 286.196,185.292 291.059,182.335 \n",
       "  295.923,179.377 300.786,176.42 305.65,173.462 310.513,170.504 315.376,167.547 320.24,164.589 325.103,161.631 329.967,158.674 334.83,155.716 339.694,152.759 \n",
       "  344.557,149.801 349.42,146.843 354.284,143.886 359.147,140.928 364.011,137.97 368.874,135.013 373.737,132.055 378.601,129.098 383.464,126.14 388.328,123.182 \n",
       "  393.191,120.225 398.055,117.267 402.918,114.309 407.781,111.352 412.645,108.394 417.508,105.437 422.372,102.479 427.235,99.5214 432.099,96.5637 436.962,93.6061 \n",
       "  441.825,90.6485 446.689,87.6909 451.552,84.7332 456.416,81.7756 461.279,78.818 466.143,75.8604 471.006,72.9028 475.869,69.9451 480.733,66.9875 485.596,64.0299 \n",
       "  490.46,61.0723 495.323,58.1147 500.187,55.157 505.05,52.1994 509.913,49.2418 514.777,46.2842 519.64,43.3265 524.504,40.3689 529.367,37.4113 534.231,34.4537 \n",
       "  539.094,31.4961 \n",
       "  \"/>\n",
       "<polyline clip-path=\"url(#clip6202)\" style=\"stroke:#008000; stroke-width:2; stroke-opacity:1; fill:none\" points=\"\n",
       "  1517.78,327.258 1497.26,324.301 1476.75,321.343 1456.26,318.385 1435.78,315.428 1415.33,312.47 1394.89,309.512 1374.48,306.555 1354.09,303.597 1333.72,300.64 \n",
       "  1313.38,297.682 1293.06,294.724 1272.77,291.767 1252.5,288.809 1232.27,285.851 1212.06,282.894 1191.89,279.936 1171.76,276.979 1151.66,274.021 1131.59,271.063 \n",
       "  1111.57,268.106 1091.59,265.148 1071.66,262.191 1051.77,259.233 1031.94,256.275 1012.16,253.318 992.434,250.36 972.772,247.402 953.175,244.445 933.648,241.487 \n",
       "  914.195,238.53 894.822,235.572 875.534,232.614 856.336,229.657 837.237,226.699 818.243,223.741 799.362,220.784 780.603,217.826 761.976,214.869 743.491,211.911 \n",
       "  725.161,208.953 706.997,205.996 689.015,203.038 671.231,200.08 653.661,197.123 636.325,194.165 619.244,191.208 602.444,188.25 585.949,185.292 569.789,182.335 \n",
       "  553.997,179.377 538.608,176.42 523.662,173.462 509.203,170.504 495.278,167.547 481.939,164.589 469.242,161.631 457.249,158.674 446.023,155.716 435.632,152.759 \n",
       "  426.145,149.801 417.633,146.843 410.167,143.886 403.811,140.928 398.628,137.97 394.672,135.013 391.984,132.055 390.595,129.098 390.522,126.14 391.765,123.182 \n",
       "  394.31,120.225 398.127,117.267 403.176,114.309 409.404,111.352 416.751,108.394 425.15,105.437 434.532,102.479 444.826,99.5214 455.963,96.5637 467.874,93.6061 \n",
       "  480.495,90.6485 493.766,87.6909 507.628,84.7332 522.031,81.7756 536.925,78.818 552.266,75.8604 568.015,72.9028 584.136,69.9451 600.595,66.9875 617.363,64.0299 \n",
       "  634.414,61.0723 651.722,58.1147 669.267,55.157 687.029,52.1994 704.99,49.2418 723.134,46.2842 741.447,43.3265 759.915,40.3689 778.527,37.4113 797.271,34.4537 \n",
       "  816.139,31.4961 \n",
       "  \"/>\n",
       "<polyline clip-path=\"url(#clip6202)\" style=\"stroke:#0000ff; stroke-width:1; stroke-opacity:1; fill:none\" stroke-dasharray=\"8, 5\" points=\"\n",
       "  52.7512,688.745 57.6147,681.293 62.4781,673.84 67.3415,666.388 72.205,658.935 77.0684,651.483 81.9318,644.03 86.7952,636.578 91.6587,629.125 96.5221,621.673 \n",
       "  101.386,614.22 106.249,606.768 111.112,599.315 115.976,591.863 120.839,584.41 125.703,576.958 130.566,569.505 135.43,562.053 140.293,554.6 145.156,547.147 \n",
       "  150.02,539.695 154.883,532.242 159.747,524.79 164.61,517.337 169.474,509.885 174.337,502.432 179.2,494.98 184.064,487.527 188.927,480.075 193.791,472.622 \n",
       "  198.654,465.17 203.518,457.717 208.381,450.265 213.244,442.812 218.108,435.36 222.971,427.907 227.835,420.455 232.698,413.002 237.562,405.55 242.425,398.097 \n",
       "  247.288,390.645 252.152,383.192 257.015,375.74 261.879,368.287 266.742,360.835 271.606,353.382 276.469,345.93 281.332,338.477 286.196,331.025 291.059,323.572 \n",
       "  295.923,316.12 300.786,308.667 305.65,301.215 310.513,293.762 315.376,286.31 320.24,278.857 325.103,271.405 329.967,263.952 334.83,256.499 339.694,249.047 \n",
       "  344.557,241.594 349.42,234.142 354.284,226.689 359.147,219.237 364.011,211.784 368.874,204.332 373.737,196.879 378.601,189.427 383.464,181.974 388.328,174.522 \n",
       "  393.191,167.069 398.055,159.617 402.918,152.164 407.781,144.712 412.645,137.259 417.508,129.807 422.372,122.354 427.235,114.902 432.099,107.449 436.962,99.9967 \n",
       "  441.825,92.5442 446.689,85.0917 451.552,77.6392 456.416,70.1867 461.279,62.7341 466.143,55.2816 471.006,47.8291 475.869,40.3766 480.733,32.9241 485.596,25.4716 \n",
       "  490.46,18.0191 495.323,10.5666 500.187,3.11405 505.05,-4.33847 509.913,-11.791 514.777,-19.2435 519.64,-26.696 524.504,-34.1485 529.367,-41.601 534.231,-49.0535 \n",
       "  539.094,-56.5061 \n",
       "  \"/>\n",
       "<polygon clip-path=\"url(#clip6200)\" points=\"\n",
       "70.7512,112.856 209.654,112.856 209.654,52.3761 70.7512,52.3761 \n",
       "  \" fill=\"#ffffff\" fill-opacity=\"1\"/>\n",
       "<polyline clip-path=\"url(#clip6200)\" style=\"stroke:#000000; stroke-width:1; stroke-opacity:1; fill:none\" points=\"\n",
       "  70.7512,112.856 209.654,112.856 209.654,52.3761 70.7512,52.3761 70.7512,112.856 \n",
       "  \"/>\n",
       "<polyline clip-path=\"url(#clip6200)\" style=\"stroke:#ff0000; stroke-width:2; stroke-opacity:1; fill:none\" points=\"\n",
       "  76.7512,67.4961 112.751,67.4961 \n",
       "  \"/>\n",
       "<g clip-path=\"url(#clip6200)\">\n",
       "<text style=\"fill:#000000; fill-opacity:1; font-family:Arial,Helvetica Neue,Helvetica,sans-serif; font-size:12; text-anchor:start;\" transform=\"rotate(0, 118.751, 71.9961)\" x=\"118.751\" y=\"71.9961\">CML</text>\n",
       "</g>\n",
       "<polyline clip-path=\"url(#clip6200)\" style=\"stroke:#008000; stroke-width:2; stroke-opacity:1; fill:none\" points=\"\n",
       "  76.7512,82.6161 112.751,82.6161 \n",
       "  \"/>\n",
       "<g clip-path=\"url(#clip6200)\">\n",
       "<text style=\"fill:#000000; fill-opacity:1; font-family:Arial,Helvetica Neue,Helvetica,sans-serif; font-size:12; text-anchor:start;\" transform=\"rotate(0, 118.751, 87.1161)\" x=\"118.751\" y=\"87.1161\">MVF</text>\n",
       "</g>\n",
       "<polyline clip-path=\"url(#clip6200)\" style=\"stroke:#0000ff; stroke-width:1; stroke-opacity:1; fill:none\" stroke-dasharray=\"8, 5\" points=\"\n",
       "  76.7512,97.7361 112.751,97.7361 \n",
       "  \"/>\n",
       "<g clip-path=\"url(#clip6200)\">\n",
       "<text style=\"fill:#000000; fill-opacity:1; font-family:Arial,Helvetica Neue,Helvetica,sans-serif; font-size:12; text-anchor:start;\" transform=\"rotate(0, 118.751, 102.236)\" x=\"118.751\" y=\"102.236\">VaR restriction</text>\n",
       "</g>\n",
       "</svg>\n"
      ]
     },
     "execution_count": 17,
     "metadata": {},
     "output_type": "execute_result"
    }
   ],
   "source": [
    "plot(StdRpRf*100,mustar*100,color=:red,linewidth=2,label=\"CML\")\n",
    "plot!(StdRp*100,mustar*100,color=:green,linewidth=2,label=\"MVF\")\n",
    "plot!(StdRpRf*100,VaRRestr*100,line=:dash,color=:blue,label=\"VaR restriction\")\n",
    "plot!(xlim=(0,15),ylim=(0,10),legend=:topleft)\n",
    "title!(\"Mean vs standard deviation (with Rf)\")\n",
    "xlabel!(\"Std(Rp), %\")\n",
    "ylabel!(\"ERp, %\")"
   ]
  },
  {
   "cell_type": "code",
   "execution_count": null,
   "metadata": {},
   "outputs": [],
   "source": []
  }
 ],
 "metadata": {
  "anaconda-cloud": {},
  "kernelspec": {
   "display_name": "Julia 0.6.4",
   "language": "julia",
   "name": "julia-0.6"
  },
  "language_info": {
   "file_extension": ".jl",
   "mimetype": "application/julia",
   "name": "julia",
   "version": "0.6.4"
  }
 },
 "nbformat": 4,
 "nbformat_minor": 1
}
