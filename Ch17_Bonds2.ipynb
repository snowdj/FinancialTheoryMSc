{
 "cells": [
  {
   "cell_type": "markdown",
   "metadata": {},
   "source": [
    "# Load Packages"
   ]
  },
  {
   "cell_type": "code",
   "execution_count": 1,
   "metadata": {},
   "outputs": [
    {
     "data": {
      "text/plain": [
       "println4Ps (generic function with 2 methods)"
      ]
     },
     "execution_count": 1,
     "metadata": {},
     "output_type": "execute_result"
    }
   ],
   "source": [
    "using Dates, Roots\n",
    "\n",
    "include(\"jlFiles/printmat.jl\")\n",
    "include(\"jlFiles/printTable.jl\")"
   ]
  },
  {
   "cell_type": "code",
   "execution_count": 2,
   "metadata": {},
   "outputs": [],
   "source": [
    "using Plots\n",
    "backend = \"gr\"              #\"gr\" (default), \"pyplot\" \n",
    "\n",
    "if backend == \"pyplot\"\n",
    "    pyplot(size=(600,400))\n",
    "else    \n",
    "    gr(size=(480,320))\n",
    "    default(fmt = :svg)\n",
    "end"
   ]
  },
  {
   "cell_type": "markdown",
   "metadata": {},
   "source": [
    "## From Chapter on Bonds 1\n",
    "\n",
    "The file included below contains the function `BondPrice3(Y,cf,m)` which calculates the present value of a cash flow stream."
   ]
  },
  {
   "cell_type": "code",
   "execution_count": 3,
   "metadata": {},
   "outputs": [
    {
     "data": {
      "text/plain": [
       "BondPrice3"
      ]
     },
     "execution_count": 3,
     "metadata": {},
     "output_type": "execute_result"
    }
   ],
   "source": [
    "include(\"jlFiles/BondCalculations.jl\")"
   ]
  },
  {
   "cell_type": "markdown",
   "metadata": {},
   "source": [
    "# Value of a Liability after a Sudden Interest Rate Change\n",
    "\n",
    "The calculations below assume that the yield curve is flat, but that it can shift up or down. This assumption helps us connect to the classical literature on duration hedging.\n",
    "\n",
    "The initial values are indicated by subscript $_0$ and the values after the interest rate change by the subscript $_1$. It is assumed that the change is very sudden, so the time to cash flows are (virtually) the same before and after.\n",
    "\n",
    "The next cell sets up the cash flow for a liability that pays 0.2 each year for the next 10 years. The value of the liability is calculated at an initial interest rate ($\\theta_0$) and at a new interest rate ($\\theta_1$)."
   ]
  },
  {
   "cell_type": "code",
   "execution_count": 4,
   "metadata": {
    "scrolled": true
   },
   "outputs": [
    {
     "name": "stdout",
     "output_type": "stream",
     "text": [
      "As θ changes from θ₀=0.05 to θ₁=0.03: \n",
      "                    \n",
      "P₀             1.544\n",
      "P₁             1.706\n",
      "ΔP/P₀          0.105\n",
      "\n",
      "Notice that the liability is worth more at the lower interest rate\n"
     ]
    }
   ],
   "source": [
    "θ₀ = 0.05                   #initial interest rate\n",
    "θ₁ = 0.03                   #interest rate after sudden change\n",
    "\n",
    "cf = fill(0.2,10)           #cash flow of liability\n",
    "m  = 1:10                   #time periods of the cash flows\n",
    "\n",
    "P₀ = BondPrice3(θ₀,cf,m)     \n",
    "P₁ = BondPrice3(θ₁,cf,m)     \n",
    "R = (P₁ - P₀)/P₀\n",
    "\n",
    "println(\"As θ changes from θ₀=$θ₀ to θ₁=$θ₁: \")\n",
    "xy = [P₀, P₁, R]\n",
    "printTable(xy,[\" \"],[\"P₀\";\"P₁\";\"ΔP/P₀\"],15)\n",
    "\n",
    "println(\"Notice that the liability is worth more at the lower interest rate\")"
   ]
  },
  {
   "cell_type": "markdown",
   "metadata": {},
   "source": [
    "# Macaulay's Duration\n",
    "\n",
    "$D^M = \\sum_{k=1}^{K} m_{k}\\frac{cf_{k}}{\\left(  1+\\theta\\right)  ^{m_{k}}P}$\n",
    "\n",
    "A first-order Taylor approximation gives\n",
    "\n",
    "$\\frac{\\Delta P}{P} = -D^M \\times \\frac{\\Delta \\theta}{1+\\theta}$ "
   ]
  },
  {
   "cell_type": "code",
   "execution_count": 5,
   "metadata": {},
   "outputs": [
    {
     "data": {
      "text/plain": [
       "BondDuration"
      ]
     },
     "execution_count": 5,
     "metadata": {},
     "output_type": "execute_result"
    }
   ],
   "source": [
    "\"\"\"\n",
    "    BondDuration(P,cf,m,ytm)\n",
    "\n",
    "Caclulate Macaulays (bond) duration measure.\n",
    "\n",
    "P:   scalar, bond price\n",
    "cf:  scalar or K vector of cash flows\n",
    "m:   K vector of times of cash flows\n",
    "ytm: scalar, yield to maturity\n",
    "\"\"\"\n",
    "function BondDuration(P,cf,m,ytm)\n",
    "    cdisc   = cf.*m./((1+ytm).^(m.+1))      #c/(1+y)^2 + 2c/(1+y)^3 + ...\n",
    "    D       = sum(cdisc)                    #Duration, row vector\n",
    "    Da      = D/P                           #adjusted duration\n",
    "    Dmac    = D*(1+ytm)/P                   #Macaulays duration\n",
    "    return Dmac\n",
    "end"
   ]
  },
  {
   "cell_type": "code",
   "execution_count": 6,
   "metadata": {},
   "outputs": [
    {
     "name": "stdout",
     "output_type": "stream",
     "text": [
      "Macaulay's duration      5.099\n",
      "\n",
      "Exact and approximate relative price change (as the interest changes): \n",
      "     0.105     0.097\n"
     ]
    }
   ],
   "source": [
    "Dmac    = BondDuration(P₀,cf,m,θ₀)\n",
    "\n",
    "printlnPs(\"Macaulay's duration \",Dmac)\n",
    "\n",
    "Δθ       = θ₁ - θ₀\n",
    "R_approx = -Dmac*Δθ/(1+θ₀)\n",
    "\n",
    "println(\"\\nExact and approximate relative price change (as the interest changes): \")\n",
    "printlnPs([R R_approx])"
   ]
  },
  {
   "cell_type": "markdown",
   "metadata": {},
   "source": [
    "# Hedging a Liability Stream\n",
    "\n",
    "We are short one $L$ bond, which is worth $P_L$. To hedge that we buy $h$ units of bond $H$. The balance is put on a money market account $M$ to make the initial value of the portfolio zero ($V=0$)\n",
    "\n",
    "$V=hP_{H}+M-P_{L}$\n",
    "\n",
    "Over a short time interval, the change in the portfolio value is\n",
    "\n",
    "$\\Delta V=h\\Delta P_{H}-\\Delta P_{L}$.\n",
    "\n",
    "In the cells below, we assume that the yield curve is flat, so $\\theta_{H} = \\theta_{L}$ both before and after the change."
   ]
  },
  {
   "cell_type": "code",
   "execution_count": 7,
   "metadata": {},
   "outputs": [
    {
     "name": "stdout",
     "output_type": "stream",
     "text": [
      "Value of liability at interest rates 0.05 and 0.03:      1.544     1.706\n",
      "\n",
      "Macaulay's duration of the liability:      5.099\n"
     ]
    }
   ],
   "source": [
    "PL₀ = P₀        #just switching notation: this is the value of the liability\n",
    "PL₁ = P₁        \n",
    "\n",
    "printlnPs(\"Value of liability at interest rates $θ₀ and $θ₁: \",[PL₀ PL₁])\n",
    "\n",
    "printlnPs(\"\\nMacaulay's duration of the liability: \",Dmac)"
   ]
  },
  {
   "cell_type": "markdown",
   "metadata": {},
   "source": [
    "## Duration Matching\n",
    "\n",
    "Choose a hedge bond with the same duration as the liability and invest equally much into each.\n",
    "\n",
    "This is a special case of the naive hedging where $D_{L}^{M}=D_{H}$. Clearly, this gives $\\frac{\\Delta V}{P_{L}}\\approx 0$."
   ]
  },
  {
   "cell_type": "code",
   "execution_count": 8,
   "metadata": {},
   "outputs": [
    {
     "name": "stdout",
     "output_type": "stream",
     "text": [
      "Hedge bond: a zero coupon bond with m=5.1 and face value of 1\n",
      "                        \n",
      "PL₀                1.544\n",
      "PH₀                0.780\n",
      "h                  1.981\n",
      "Dur(liability)     5.099\n",
      "Dur(hedge)         5.099\n",
      "Return            -0.002\n",
      "\n",
      "Notice, the duration matching gives return of -0.2%. Close to zero.\n"
     ]
    }
   ],
   "source": [
    "printlnPs(\"Hedge bond: a zero coupon bond with m=$(round(Dmac,digits=2)) and face value of 1\")\n",
    "\n",
    "PH₀ = BondPrice3(θ₀,1,Dmac)       \n",
    "PH₁ = BondPrice3(θ₁,1,Dmac)      \n",
    "h = PL₀/PH₀\n",
    "\n",
    "ΔV = h*(PH₁-PH₀) - (PL₁-PL₀)\n",
    "R  = ΔV/PL₀\n",
    "\n",
    "xy = [PL₀;PH₀;h;Dmac;Dmac;R]\n",
    "printTable(xy,[\" \"],[\"PL₀\";\"PH₀\";\"h\";\"Dur(liability)\";\"Dur(hedge)\";\"Return\"])\n",
    "\n",
    "println(\"Notice, the duration matching gives return of $(round(R*100,digits=1))%. Close to zero.\")"
   ]
  },
  {
   "cell_type": "markdown",
   "metadata": {},
   "source": [
    "## Naive Hedging\n",
    "\n",
    "The \"naive\" hedging invests the same amount in the hedge bond as the value of the liability, that is, $hP_{H}=P_{L}$ so $h=P_{L}/P_{H}$. This means that the money market account is not used ($M=0$).\n",
    "\n",
    "It can be shown that\n",
    "\n",
    "$\\frac{\\Delta V}{P_{L}}\\approx\\left(  D_{L}^{M}-D_{H}^{M}\\right)  \\times\n",
    "\\frac{\\Delta\\theta}{1+\\theta}$.\n",
    "\n",
    "If $D_{L}>D_{H}$, and $\\Delta\\theta<0$ (as in the example below), then we will lose money."
   ]
  },
  {
   "cell_type": "code",
   "execution_count": 9,
   "metadata": {},
   "outputs": [
    {
     "name": "stdout",
     "output_type": "stream",
     "text": [
      "Hedge bond: zero coupon bond with m=3 and face value of 1\n",
      "                        \n",
      "PL₀                1.544\n",
      "PH₀                0.864\n",
      "h                  1.788\n",
      "Dur(liability)     5.099\n",
      "Dur(hedge)         3.000\n",
      "Return            -0.045\n",
      "\n",
      "Notice, the naive hedge gives a return of -4.5%\n"
     ]
    }
   ],
   "source": [
    "mH = 3                     #mH year bill is used as hedge bond\n",
    "\n",
    "printlnPs(\"Hedge bond: zero coupon bond with m=$mH and face value of 1\")\n",
    "\n",
    "PH₀ = BondPrice3(θ₀,1,mH)             \n",
    "PH₁ = BondPrice3(θ₁,1,mH)      \n",
    "\n",
    "h = PL₀/PH₀\n",
    "\n",
    "ΔV = h*(PH₁-PH₀) - (PL₁-PL₀)\n",
    "R  = ΔV/PL₀\n",
    "\n",
    "xy = [PL₀;PH₀;h;Dmac;mH;R]\n",
    "printTable(xy,[\" \"],[\"PL₀\";\"PH₀\";\"h\";\"Dur(liability)\";\"Dur(hedge)\";\"Return\"])\n",
    "\n",
    "println(\"Notice, the naive hedge gives a return of $(round(R*100,digits=1))%\")"
   ]
  },
  {
   "cell_type": "markdown",
   "metadata": {},
   "source": [
    "## Illustrating the Problem with the Naive Hedging\n",
    "\n",
    "by plotting the value of the liability ($P_L$) and of the hedge bond position ($hP_H$) at different interest rates."
   ]
  },
  {
   "cell_type": "code",
   "execution_count": 10,
   "metadata": {},
   "outputs": [],
   "source": [
    "θ = 0:0.01:0.1\n",
    "\n",
    "(PL,PH) = (fill(NaN,length(θ)),fill(NaN,length(θ)))\n",
    "for i = 1:length(θ)\n",
    "    PL[i] = BondPrice3(θ[i],cf,m)  \n",
    "    PH[i] = BondPrice3(θ[i],1,mH)\n",
    "end"
   ]
  },
  {
   "cell_type": "code",
   "execution_count": 11,
   "metadata": {},
   "outputs": [
    {
     "data": {
      "image/svg+xml": [
       "<?xml version=\"1.0\" encoding=\"utf-8\"?>\n",
       "<svg xmlns=\"http://www.w3.org/2000/svg\" xmlns:xlink=\"http://www.w3.org/1999/xlink\" width=\"480\" height=\"320\" viewBox=\"0 0 1920 1280\">\n",
       "<defs>\n",
       "  <clipPath id=\"clip5900\">\n",
       "    <rect x=\"0\" y=\"0\" width=\"2000\" height=\"2000\"/>\n",
       "  </clipPath>\n",
       "</defs>\n",
       "<defs>\n",
       "  <clipPath id=\"clip5901\">\n",
       "    <rect x=\"0\" y=\"0\" width=\"1920\" height=\"1280\"/>\n",
       "  </clipPath>\n",
       "</defs>\n",
       "<polygon clip-path=\"url(#clip5901)\" points=\"\n",
       "0,1280 1920,1280 1920,0 0,0 \n",
       "  \" fill=\"#ffffff\" fill-opacity=\"1\"/>\n",
       "<defs>\n",
       "  <clipPath id=\"clip5902\">\n",
       "    <rect x=\"384\" y=\"0\" width=\"1345\" height=\"1280\"/>\n",
       "  </clipPath>\n",
       "</defs>\n",
       "<polygon clip-path=\"url(#clip5901)\" points=\"\n",
       "224.386,1120.48 1841.26,1120.48 1841.26,125.984 224.386,125.984 \n",
       "  \" fill=\"#ffffff\" fill-opacity=\"1\"/>\n",
       "<defs>\n",
       "  <clipPath id=\"clip5903\">\n",
       "    <rect x=\"224\" y=\"125\" width=\"1618\" height=\"995\"/>\n",
       "  </clipPath>\n",
       "</defs>\n",
       "<polyline clip-path=\"url(#clip5903)\" style=\"stroke:#000000; stroke-width:2; stroke-opacity:0.1; fill:none\" points=\"\n",
       "  270.147,1120.48 270.147,125.984 \n",
       "  \"/>\n",
       "<polyline clip-path=\"url(#clip5903)\" style=\"stroke:#000000; stroke-width:2; stroke-opacity:0.1; fill:none\" points=\"\n",
       "  651.485,1120.48 651.485,125.984 \n",
       "  \"/>\n",
       "<polyline clip-path=\"url(#clip5903)\" style=\"stroke:#000000; stroke-width:2; stroke-opacity:0.1; fill:none\" points=\"\n",
       "  1032.82,1120.48 1032.82,125.984 \n",
       "  \"/>\n",
       "<polyline clip-path=\"url(#clip5903)\" style=\"stroke:#000000; stroke-width:2; stroke-opacity:0.1; fill:none\" points=\"\n",
       "  1414.16,1120.48 1414.16,125.984 \n",
       "  \"/>\n",
       "<polyline clip-path=\"url(#clip5903)\" style=\"stroke:#000000; stroke-width:2; stroke-opacity:0.1; fill:none\" points=\"\n",
       "  1795.5,1120.48 1795.5,125.984 \n",
       "  \"/>\n",
       "<polyline clip-path=\"url(#clip5903)\" style=\"stroke:#000000; stroke-width:2; stroke-opacity:0.1; fill:none\" points=\"\n",
       "  224.386,884.17 1841.26,884.17 \n",
       "  \"/>\n",
       "<polyline clip-path=\"url(#clip5903)\" style=\"stroke:#000000; stroke-width:2; stroke-opacity:0.1; fill:none\" points=\"\n",
       "  224.386,640.823 1841.26,640.823 \n",
       "  \"/>\n",
       "<polyline clip-path=\"url(#clip5903)\" style=\"stroke:#000000; stroke-width:2; stroke-opacity:0.1; fill:none\" points=\"\n",
       "  224.386,397.477 1841.26,397.477 \n",
       "  \"/>\n",
       "<polyline clip-path=\"url(#clip5903)\" style=\"stroke:#000000; stroke-width:2; stroke-opacity:0.1; fill:none\" points=\"\n",
       "  224.386,154.13 1841.26,154.13 \n",
       "  \"/>\n",
       "<polyline clip-path=\"url(#clip5901)\" style=\"stroke:#000000; stroke-width:4; stroke-opacity:1; fill:none\" points=\"\n",
       "  224.386,1120.48 1841.26,1120.48 \n",
       "  \"/>\n",
       "<polyline clip-path=\"url(#clip5901)\" style=\"stroke:#000000; stroke-width:4; stroke-opacity:1; fill:none\" points=\"\n",
       "  224.386,1120.48 224.386,125.984 \n",
       "  \"/>\n",
       "<polyline clip-path=\"url(#clip5901)\" style=\"stroke:#000000; stroke-width:4; stroke-opacity:1; fill:none\" points=\"\n",
       "  270.147,1120.48 270.147,1105.57 \n",
       "  \"/>\n",
       "<polyline clip-path=\"url(#clip5901)\" style=\"stroke:#000000; stroke-width:4; stroke-opacity:1; fill:none\" points=\"\n",
       "  651.485,1120.48 651.485,1105.57 \n",
       "  \"/>\n",
       "<polyline clip-path=\"url(#clip5901)\" style=\"stroke:#000000; stroke-width:4; stroke-opacity:1; fill:none\" points=\"\n",
       "  1032.82,1120.48 1032.82,1105.57 \n",
       "  \"/>\n",
       "<polyline clip-path=\"url(#clip5901)\" style=\"stroke:#000000; stroke-width:4; stroke-opacity:1; fill:none\" points=\"\n",
       "  1414.16,1120.48 1414.16,1105.57 \n",
       "  \"/>\n",
       "<polyline clip-path=\"url(#clip5901)\" style=\"stroke:#000000; stroke-width:4; stroke-opacity:1; fill:none\" points=\"\n",
       "  1795.5,1120.48 1795.5,1105.57 \n",
       "  \"/>\n",
       "<polyline clip-path=\"url(#clip5901)\" style=\"stroke:#000000; stroke-width:4; stroke-opacity:1; fill:none\" points=\"\n",
       "  224.386,884.17 248.639,884.17 \n",
       "  \"/>\n",
       "<polyline clip-path=\"url(#clip5901)\" style=\"stroke:#000000; stroke-width:4; stroke-opacity:1; fill:none\" points=\"\n",
       "  224.386,640.823 248.639,640.823 \n",
       "  \"/>\n",
       "<polyline clip-path=\"url(#clip5901)\" style=\"stroke:#000000; stroke-width:4; stroke-opacity:1; fill:none\" points=\"\n",
       "  224.386,397.477 248.639,397.477 \n",
       "  \"/>\n",
       "<polyline clip-path=\"url(#clip5901)\" style=\"stroke:#000000; stroke-width:4; stroke-opacity:1; fill:none\" points=\"\n",
       "  224.386,154.13 248.639,154.13 \n",
       "  \"/>\n",
       "<g clip-path=\"url(#clip5901)\">\n",
       "<text style=\"fill:#000000; fill-opacity:1; font-family:Arial,Helvetica Neue,Helvetica,sans-serif; font-size:48px; text-anchor:middle;\" transform=\"rotate(0, 270.147, 1172.08)\" x=\"270.147\" y=\"1172.08\">0.000</text>\n",
       "</g>\n",
       "<g clip-path=\"url(#clip5901)\">\n",
       "<text style=\"fill:#000000; fill-opacity:1; font-family:Arial,Helvetica Neue,Helvetica,sans-serif; font-size:48px; text-anchor:middle;\" transform=\"rotate(0, 651.485, 1172.08)\" x=\"651.485\" y=\"1172.08\">0.025</text>\n",
       "</g>\n",
       "<g clip-path=\"url(#clip5901)\">\n",
       "<text style=\"fill:#000000; fill-opacity:1; font-family:Arial,Helvetica Neue,Helvetica,sans-serif; font-size:48px; text-anchor:middle;\" transform=\"rotate(0, 1032.82, 1172.08)\" x=\"1032.82\" y=\"1172.08\">0.050</text>\n",
       "</g>\n",
       "<g clip-path=\"url(#clip5901)\">\n",
       "<text style=\"fill:#000000; fill-opacity:1; font-family:Arial,Helvetica Neue,Helvetica,sans-serif; font-size:48px; text-anchor:middle;\" transform=\"rotate(0, 1414.16, 1172.08)\" x=\"1414.16\" y=\"1172.08\">0.075</text>\n",
       "</g>\n",
       "<g clip-path=\"url(#clip5901)\">\n",
       "<text style=\"fill:#000000; fill-opacity:1; font-family:Arial,Helvetica Neue,Helvetica,sans-serif; font-size:48px; text-anchor:middle;\" transform=\"rotate(0, 1795.5, 1172.08)\" x=\"1795.5\" y=\"1172.08\">0.100</text>\n",
       "</g>\n",
       "<g clip-path=\"url(#clip5901)\">\n",
       "<text style=\"fill:#000000; fill-opacity:1; font-family:Arial,Helvetica Neue,Helvetica,sans-serif; font-size:48px; text-anchor:end;\" transform=\"rotate(0, 205.186, 901.67)\" x=\"205.186\" y=\"901.67\">1.4</text>\n",
       "</g>\n",
       "<g clip-path=\"url(#clip5901)\">\n",
       "<text style=\"fill:#000000; fill-opacity:1; font-family:Arial,Helvetica Neue,Helvetica,sans-serif; font-size:48px; text-anchor:end;\" transform=\"rotate(0, 205.186, 658.323)\" x=\"205.186\" y=\"658.323\">1.6</text>\n",
       "</g>\n",
       "<g clip-path=\"url(#clip5901)\">\n",
       "<text style=\"fill:#000000; fill-opacity:1; font-family:Arial,Helvetica Neue,Helvetica,sans-serif; font-size:48px; text-anchor:end;\" transform=\"rotate(0, 205.186, 414.977)\" x=\"205.186\" y=\"414.977\">1.8</text>\n",
       "</g>\n",
       "<g clip-path=\"url(#clip5901)\">\n",
       "<text style=\"fill:#000000; fill-opacity:1; font-family:Arial,Helvetica Neue,Helvetica,sans-serif; font-size:48px; text-anchor:end;\" transform=\"rotate(0, 205.186, 171.63)\" x=\"205.186\" y=\"171.63\">2.0</text>\n",
       "</g>\n",
       "<g clip-path=\"url(#clip5901)\">\n",
       "<text style=\"fill:#000000; fill-opacity:1; font-family:Arial,Helvetica Neue,Helvetica,sans-serif; font-size:84px; text-anchor:middle;\" transform=\"rotate(0, 1032.82, 73.2)\" x=\"1032.82\" y=\"73.2\">Naive hedging</text>\n",
       "</g>\n",
       "<g clip-path=\"url(#clip5901)\">\n",
       "<text style=\"fill:#000000; fill-opacity:1; font-family:Arial,Helvetica Neue,Helvetica,sans-serif; font-size:66px; text-anchor:middle;\" transform=\"rotate(0, 1032.82, 1270.4)\" x=\"1032.82\" y=\"1270.4\">Interest rate</text>\n",
       "</g>\n",
       "<g clip-path=\"url(#clip5901)\">\n",
       "<text style=\"fill:#000000; fill-opacity:1; font-family:Arial,Helvetica Neue,Helvetica,sans-serif; font-size:66px; text-anchor:middle;\" transform=\"rotate(-90, 57.6, 623.233)\" x=\"57.6\" y=\"623.233\">Value of position</text>\n",
       "</g>\n",
       "<polyline clip-path=\"url(#clip5903)\" style=\"stroke:#ff0000; stroke-width:4; stroke-opacity:1; fill:none\" points=\"\n",
       "  270.147,154.13 422.682,282.787 575.217,401.715 727.752,511.8 880.288,613.837 1032.82,708.538 1185.36,796.544 1337.89,878.431 1490.43,954.721 1642.96,1025.88 \n",
       "  1795.5,1092.34 \n",
       "  \"/>\n",
       "<polyline clip-path=\"url(#clip5903)\" style=\"stroke:#008000; stroke-width:4; stroke-opacity:1; fill:none\" stroke-dasharray=\"16, 10\" points=\"\n",
       "  270.147,412.352 422.682,476.325 575.217,537.815 727.752,596.939 880.288,653.812 1032.82,708.538 1185.36,761.219 1337.89,811.949 1490.43,860.817 1642.96,907.908 \n",
       "  1795.5,953.303 \n",
       "  \"/>\n",
       "<polygon clip-path=\"url(#clip5901)\" points=\"\n",
       "1147.48,362.144 1783.66,362.144 1783.66,180.704 1147.48,180.704 \n",
       "  \" fill=\"#ffffff\" fill-opacity=\"1\"/>\n",
       "<polyline clip-path=\"url(#clip5901)\" style=\"stroke:#000000; stroke-width:4; stroke-opacity:1; fill:none\" points=\"\n",
       "  1147.48,362.144 1783.66,362.144 1783.66,180.704 1147.48,180.704 1147.48,362.144 \n",
       "  \"/>\n",
       "<polyline clip-path=\"url(#clip5901)\" style=\"stroke:#ff0000; stroke-width:4; stroke-opacity:1; fill:none\" points=\"\n",
       "  1166.68,241.184 1281.88,241.184 \n",
       "  \"/>\n",
       "<g clip-path=\"url(#clip5901)\">\n",
       "<text style=\"fill:#000000; fill-opacity:1; font-family:Arial,Helvetica Neue,Helvetica,sans-serif; font-size:48px; text-anchor:start;\" transform=\"rotate(0, 1301.08, 258.684)\" x=\"1301.08\" y=\"258.684\">liability</text>\n",
       "</g>\n",
       "<polyline clip-path=\"url(#clip5901)\" style=\"stroke:#008000; stroke-width:4; stroke-opacity:1; fill:none\" stroke-dasharray=\"16, 10\" points=\"\n",
       "  1166.68,301.664 1281.88,301.664 \n",
       "  \"/>\n",
       "<g clip-path=\"url(#clip5901)\">\n",
       "<text style=\"fill:#000000; fill-opacity:1; font-family:Arial,Helvetica Neue,Helvetica,sans-serif; font-size:48px; text-anchor:start;\" transform=\"rotate(0, 1301.08, 319.164)\" x=\"1301.08\" y=\"319.164\">h * hedge bond price</text>\n",
       "</g>\n",
       "<g clip-path=\"url(#clip5901)\">\n",
       "<text style=\"fill:#000000; fill-opacity:1; font-family:Arial,Helvetica Neue,Helvetica,sans-serif; font-size:48px; text-anchor:start;\" transform=\"rotate(0, 346.414, 875.75)\" x=\"346.414\" y=\"875.75\">In our example, the interest rates </text>\n",
       "</g>\n",
       "<g clip-path=\"url(#clip5901)\">\n",
       "<text style=\"fill:#000000; fill-opacity:1; font-family:Arial,Helvetica Neue,Helvetica,sans-serif; font-size:48px; text-anchor:start;\" transform=\"rotate(0, 346.414, 927.59)\" x=\"346.414\" y=\"927.59\">are 0.05 (before) and 0.03 (after)</text>\n",
       "</g>\n",
       "</svg>\n"
      ]
     },
     "execution_count": 11,
     "metadata": {},
     "output_type": "execute_result"
    }
   ],
   "source": [
    "p1 = plot(θ,PL,color=:red,label=\"liability\")\n",
    "plot!(θ,h*PH,color=:green,line=:dash,label=\"h * hedge bond price\")\n",
    "title!(\"Naive hedging\")\n",
    "xlabel!(\"Interest rate\")\n",
    "ylabel!(\"Value of position\")\n",
    "annotate!(0.005,1.4,text(\"In our example, the interest rates \\nare $θ₀ (before) and $θ₁ (after)\",8,:left))"
   ]
  },
  {
   "cell_type": "markdown",
   "metadata": {},
   "source": [
    "## Duration Hedging\n",
    "\n",
    "When $D_{L}^{M}\\neq D_{H}$, we adjust the hedge ratio $h$ to compensate for the difference in duration. In particular, set \n",
    "\n",
    "$h =\\frac{D_{L}^{M}}{D_{H}^{M}}\\times\\frac{P_{L}}{P_{H}}$. \n",
    "\n",
    "The balance $(P_L-hP_H)$ is kept on a money market account ($M$).\n",
    "\n",
    "It can be shown that this gives an (approximate) hedge."
   ]
  },
  {
   "cell_type": "code",
   "execution_count": 12,
   "metadata": {},
   "outputs": [
    {
     "name": "stdout",
     "output_type": "stream",
     "text": [
      "Hedge bond: zero coupon bond with m=3 and face value of 1\n",
      "                        \n",
      "PL₀                1.544\n",
      "PH₀                0.864\n",
      "h                  3.039\n",
      "Dur(liability)     5.099\n",
      "Dur(hedge)         3.000\n",
      "M                 -1.081\n",
      "Return            -0.004\n",
      "\n",
      "Notice, the duration hedging gives return of -0.4%. Close to zero.\n"
     ]
    }
   ],
   "source": [
    "printlnPs(\"Hedge bond: zero coupon bond with m=$mH and face value of 1\")\n",
    "\n",
    "PH₀ = BondPrice3(θ₀,1,mH)             \n",
    "PH₁ = BondPrice3(θ₁,1,mH)      \n",
    "h = Dmac/mH * PL₀/PH₀\n",
    "M = PL₀ - h*PH₀               #on money market account\n",
    "\n",
    "ΔV = h*(PH₁-PH₀) - (PL₁-PL₀)\n",
    "R  = ΔV/PL₀\n",
    "\n",
    "xy = [PL₀;PH₀;h;Dmac;mH;M;R]\n",
    "printTable(xy,[\" \"],[\"PL₀\";\"PH₀\";\"h\";\"Dur(liability)\";\"Dur(hedge)\";\"M\";\"Return\"])\n",
    "\n",
    "println(\"Notice, the duration hedging gives return of $(round(R*100,digits=1))%. Close to zero.\")"
   ]
  },
  {
   "cell_type": "markdown",
   "metadata": {},
   "source": [
    "## Convexity (extra)\n",
    "\n",
    "A second-order Taylor approximation gives that \n",
    "\n",
    "$\n",
    "\\frac{\\Delta P}{P}\\approx-D^{M}\\times\\frac{\\Delta\\theta}{1+\\theta}+\\frac{1}{2}C\\times(\\Delta\\theta)^{2}, \n",
    "$\n",
    "\n",
    "where \n",
    "$\n",
    "C = \\frac{1}{P} \\frac{d^{2}P}{d\\theta^{2}}\n",
    "$. \n",
    "\n",
    "The function below calculates $C$."
   ]
  },
  {
   "cell_type": "code",
   "execution_count": 13,
   "metadata": {},
   "outputs": [
    {
     "data": {
      "text/plain": [
       "BondConvexity (generic function with 1 method)"
      ]
     },
     "execution_count": 13,
     "metadata": {},
     "output_type": "execute_result"
    }
   ],
   "source": [
    "function BondConvexity(P,cf,m,ytm)\n",
    "    cdisc   = cf.*m.*(m.+1)./((1+ytm).^(m.+2)) \n",
    "    C       = sum(cdisc)/P                    \n",
    "    return C\n",
    "end"
   ]
  },
  {
   "cell_type": "code",
   "execution_count": 14,
   "metadata": {},
   "outputs": [
    {
     "name": "stdout",
     "output_type": "stream",
     "text": [
      "                    \n",
      "C             35.602\n",
      "Δθ            -0.020\n",
      "0.5*C*Δθ^2     0.007\n",
      "\n",
      "Compare the magnitude to ΔPH/PH:      0.059\n"
     ]
    }
   ],
   "source": [
    "C = BondConvexity(P₀,cf,m,θ₀)\n",
    "\n",
    "xy = [C;Δθ;0.5*C*Δθ^2]\n",
    "printTable(xy,[\" \"],[\"C\";\"Δθ\";\"0.5*C*Δθ^2\"])\n",
    "\n",
    "printlnPs(\"Compare the magnitude to ΔPH/PH: \",(PH₁-PH₀)/PH₀)"
   ]
  },
  {
   "cell_type": "code",
   "execution_count": null,
   "metadata": {},
   "outputs": [],
   "source": []
  }
 ],
 "metadata": {
  "anaconda-cloud": {},
  "kernelspec": {
   "display_name": "Julia 1.0.1",
   "language": "julia",
   "name": "julia-1.0"
  },
  "language_info": {
   "file_extension": ".jl",
   "mimetype": "application/julia",
   "name": "julia",
   "version": "1.0.1"
  }
 },
 "nbformat": 4,
 "nbformat_minor": 1
}
